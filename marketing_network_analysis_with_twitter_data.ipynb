{
  "cells": [
    {
      "cell_type": "markdown",
      "id": "7a340ae9-70ee-4371-8685-7dd62733b0d8",
      "metadata": {
        "id": "7a340ae9-70ee-4371-8685-7dd62733b0d8"
      },
      "source": [
        "# Introduction\n",
        "## Importing Libraries"
      ]
    },
    {
      "cell_type": "code",
      "execution_count": 1,
      "id": "cb90b70a-48f5-4dcb-9fab-20c7694393e5",
      "metadata": {
        "colab": {
          "base_uri": "https://localhost:8080/"
        },
        "id": "cb90b70a-48f5-4dcb-9fab-20c7694393e5",
        "outputId": "0c613368-1e6f-4c15-8945-0ec8f4868466"
      },
      "outputs": [
        {
          "output_type": "stream",
          "name": "stdout",
          "text": [
            "[-] Importing packages...\n"
          ]
        }
      ],
      "source": [
        "print('[-] Importing packages...')\n",
        "# File Connection and File Manipulation\n",
        "import os\n",
        "import pickle\n",
        "import gzip\n",
        "import json\n",
        "# Basic Data Science Toolkits\n",
        "import pandas as pd\n",
        "import numpy as np\n",
        "import math\n",
        "import random\n",
        "import time\n",
        "import re\n",
        "import itertools\n",
        "import datetime\n",
        "# Basic Data Vizualization\n",
        "import seaborn as sns\n",
        "import matplotlib.pyplot as plt\n",
        "import networkx as nx\n",
        "# Text Preprocessing(other)\n",
        "import string\n",
        "import nltk"
      ]
    },
    {
      "cell_type": "code",
      "execution_count": 2,
      "id": "5e78440d-533e-41bd-ab86-c5df377758c2",
      "metadata": {
        "colab": {
          "base_uri": "https://localhost:8080/"
        },
        "id": "5e78440d-533e-41bd-ab86-c5df377758c2",
        "outputId": "73656ed6-b6f7-4b69-d76d-173f39654a76"
      },
      "outputs": [
        {
          "output_type": "stream",
          "name": "stdout",
          "text": [
            "[-] Importing packages...\n",
            "Collecting pyvis\n",
            "  Downloading pyvis-0.3.2-py3-none-any.whl (756 kB)\n",
            "\u001b[2K     \u001b[90m━━━━━━━━━━━━━━━━━━━━━━━━━━━━━━━━━━━━━━━━\u001b[0m \u001b[32m756.0/756.0 kB\u001b[0m \u001b[31m8.1 MB/s\u001b[0m eta \u001b[36m0:00:00\u001b[0m\n",
            "\u001b[?25hRequirement already satisfied: ipython>=5.3.0 in /usr/local/lib/python3.10/dist-packages (from pyvis) (7.34.0)\n",
            "Requirement already satisfied: jinja2>=2.9.6 in /usr/local/lib/python3.10/dist-packages (from pyvis) (3.1.3)\n",
            "Requirement already satisfied: jsonpickle>=1.4.1 in /usr/local/lib/python3.10/dist-packages (from pyvis) (3.0.3)\n",
            "Requirement already satisfied: networkx>=1.11 in /usr/local/lib/python3.10/dist-packages (from pyvis) (3.2.1)\n",
            "Requirement already satisfied: setuptools>=18.5 in /usr/local/lib/python3.10/dist-packages (from ipython>=5.3.0->pyvis) (67.7.2)\n",
            "Collecting jedi>=0.16 (from ipython>=5.3.0->pyvis)\n",
            "  Downloading jedi-0.19.1-py2.py3-none-any.whl (1.6 MB)\n",
            "\u001b[2K     \u001b[90m━━━━━━━━━━━━━━━━━━━━━━━━━━━━━━━━━━━━━━━━\u001b[0m \u001b[32m1.6/1.6 MB\u001b[0m \u001b[31m35.5 MB/s\u001b[0m eta \u001b[36m0:00:00\u001b[0m\n",
            "\u001b[?25hRequirement already satisfied: decorator in /usr/local/lib/python3.10/dist-packages (from ipython>=5.3.0->pyvis) (4.4.2)\n",
            "Requirement already satisfied: pickleshare in /usr/local/lib/python3.10/dist-packages (from ipython>=5.3.0->pyvis) (0.7.5)\n",
            "Requirement already satisfied: traitlets>=4.2 in /usr/local/lib/python3.10/dist-packages (from ipython>=5.3.0->pyvis) (5.7.1)\n",
            "Requirement already satisfied: prompt-toolkit!=3.0.0,!=3.0.1,<3.1.0,>=2.0.0 in /usr/local/lib/python3.10/dist-packages (from ipython>=5.3.0->pyvis) (3.0.43)\n",
            "Requirement already satisfied: pygments in /usr/local/lib/python3.10/dist-packages (from ipython>=5.3.0->pyvis) (2.16.1)\n",
            "Requirement already satisfied: backcall in /usr/local/lib/python3.10/dist-packages (from ipython>=5.3.0->pyvis) (0.2.0)\n",
            "Requirement already satisfied: matplotlib-inline in /usr/local/lib/python3.10/dist-packages (from ipython>=5.3.0->pyvis) (0.1.6)\n",
            "Requirement already satisfied: pexpect>4.3 in /usr/local/lib/python3.10/dist-packages (from ipython>=5.3.0->pyvis) (4.9.0)\n",
            "Requirement already satisfied: MarkupSafe>=2.0 in /usr/local/lib/python3.10/dist-packages (from jinja2>=2.9.6->pyvis) (2.1.5)\n",
            "Requirement already satisfied: parso<0.9.0,>=0.8.3 in /usr/local/lib/python3.10/dist-packages (from jedi>=0.16->ipython>=5.3.0->pyvis) (0.8.3)\n",
            "Requirement already satisfied: ptyprocess>=0.5 in /usr/local/lib/python3.10/dist-packages (from pexpect>4.3->ipython>=5.3.0->pyvis) (0.7.0)\n",
            "Requirement already satisfied: wcwidth in /usr/local/lib/python3.10/dist-packages (from prompt-toolkit!=3.0.0,!=3.0.1,<3.1.0,>=2.0.0->ipython>=5.3.0->pyvis) (0.2.13)\n",
            "Installing collected packages: jedi, pyvis\n",
            "Successfully installed jedi-0.19.1 pyvis-0.3.2\n"
          ]
        }
      ],
      "source": [
        "print('[-] Importing packages...')\n",
        "try:\n",
        "  import pyvis\n",
        "  from pyvis.network import Network\n",
        "except:\n",
        "  !pip install pyvis\n",
        "  import pyvis\n",
        "  from pyvis.network import Network"
      ]
    },
    {
      "cell_type": "code",
      "execution_count": 3,
      "id": "2b8df8c0-d45c-4d97-aba8-1701bbfdc7eb",
      "metadata": {
        "colab": {
          "base_uri": "https://localhost:8080/"
        },
        "id": "2b8df8c0-d45c-4d97-aba8-1701bbfdc7eb",
        "outputId": "dadb5fc0-9516-4d52-8278-0f727aa09463"
      },
      "outputs": [
        {
          "output_type": "stream",
          "name": "stderr",
          "text": [
            "[nltk_data] Downloading package punkt to /root/nltk_data...\n",
            "[nltk_data]   Unzipping tokenizers/punkt.zip.\n",
            "[nltk_data] Downloading package stopwords to /root/nltk_data...\n",
            "[nltk_data]   Unzipping corpora/stopwords.zip.\n",
            "[nltk_data] Downloading package wordnet to /root/nltk_data...\n",
            "[nltk_data] Downloading package averaged_perceptron_tagger to\n",
            "[nltk_data]     /root/nltk_data...\n",
            "[nltk_data]   Unzipping taggers/averaged_perceptron_tagger.zip.\n"
          ]
        },
        {
          "output_type": "execute_result",
          "data": {
            "text/plain": [
              "True"
            ]
          },
          "metadata": {},
          "execution_count": 3
        }
      ],
      "source": [
        "#Download required corpus based data to nltk package\n",
        "nltk.download(\"punkt\")\n",
        "nltk.download(\"stopwords\")\n",
        "nltk.download(\"wordnet\")\n",
        "nltk.download(\"averaged_perceptron_tagger\")"
      ]
    },
    {
      "cell_type": "markdown",
      "id": "406836ac-7f17-47e9-b5b5-a2ac34b4082b",
      "metadata": {
        "id": "406836ac-7f17-47e9-b5b5-a2ac34b4082b"
      },
      "source": [
        "## Set Global Variables"
      ]
    },
    {
      "cell_type": "code",
      "execution_count": 4,
      "id": "f1a6dd73-d579-4169-8b7f-dcad3144a79a",
      "metadata": {
        "id": "f1a6dd73-d579-4169-8b7f-dcad3144a79a"
      },
      "outputs": [],
      "source": [
        "gDEBUG = True"
      ]
    },
    {
      "cell_type": "markdown",
      "id": "a8d361fd-e1df-404f-970c-177d3f859a9f",
      "metadata": {
        "id": "a8d361fd-e1df-404f-970c-177d3f859a9f"
      },
      "source": [
        "## Verify GPU runtime"
      ]
    },
    {
      "cell_type": "code",
      "execution_count": 5,
      "id": "62b42d7b-7005-45fd-8bf4-e0791cd5e9b0",
      "metadata": {
        "colab": {
          "base_uri": "https://localhost:8080/"
        },
        "id": "62b42d7b-7005-45fd-8bf4-e0791cd5e9b0",
        "outputId": "f1a33d73-76e0-4125-9b74-8af7f7f73ec2"
      },
      "outputs": [
        {
          "output_type": "stream",
          "name": "stdout",
          "text": [
            "/bin/bash: line 1: nvidia-smi: command not found\n"
          ]
        }
      ],
      "source": [
        "#see the GPU assigned\n",
        "gpu_info = !nvidia-smi\n",
        "gpu_info = '\\n'.join(gpu_info)\n",
        "if gpu_info.find('failed') >= 0:\n",
        "  print('Not connected to a GPU')\n",
        "else:\n",
        "  print(gpu_info)"
      ]
    },
    {
      "cell_type": "markdown",
      "id": "b520847f-de9c-4601-bc87-215e96f30a77",
      "metadata": {
        "id": "b520847f-de9c-4601-bc87-215e96f30a77"
      },
      "source": [
        "## Set Up Directories"
      ]
    },
    {
      "cell_type": "code",
      "execution_count": 8,
      "id": "529bccc8-7afb-4f00-8320-e14ce382f752",
      "metadata": {
        "colab": {
          "base_uri": "https://localhost:8080/"
        },
        "id": "529bccc8-7afb-4f00-8320-e14ce382f752",
        "outputId": "0c5f8c3a-ef45-413a-d4ef-f7ca30cd7399"
      },
      "outputs": [
        {
          "output_type": "stream",
          "name": "stdout",
          "text": [
            "Drive already mounted at /content/drive/; to attempt to forcibly remount, call drive.mount(\"/content/drive/\", force_remount=True).\n"
          ]
        }
      ],
      "source": [
        "## Mount Google Drive\n",
        "from google.colab import drive\n",
        "drive.mount('/content/drive/')"
      ]
    },
    {
      "cell_type": "code",
      "source": [],
      "metadata": {
        "colab": {
          "base_uri": "https://localhost:8080/"
        },
        "id": "ho89-JWUCxwd",
        "outputId": "48385897-8c5a-4665-d544-12628d3ef19e"
      },
      "id": "ho89-JWUCxwd",
      "execution_count": 10,
      "outputs": [
        {
          "output_type": "stream",
          "name": "stdout",
          "text": [
            " drive\t'Network Analysis'   sample_data\n"
          ]
        }
      ]
    },
    {
      "cell_type": "code",
      "execution_count": 14,
      "id": "0c2860ce-3615-4732-8b15-d40434ac3d2a",
      "metadata": {
        "colab": {
          "base_uri": "https://localhost:8080/"
        },
        "id": "0c2860ce-3615-4732-8b15-d40434ac3d2a",
        "outputId": "b4bd316f-ca53-4ce6-8c36-d03cfa5bacdb"
      },
      "outputs": [
        {
          "output_type": "stream",
          "name": "stdout",
          "text": [
            "The data directory is created!\n",
            "The evaluation directory is created!\n",
            "The model directory is created!\n"
          ]
        }
      ],
      "source": [
        "ROOT_DIR = \"/content/drive/MyDrive/Network Analysis\"\n",
        "DATA_DIR = \"%s/data\" % ROOT_DIR\n",
        "EVAL_DIR = \"%s/evaluation\" % ROOT_DIR\n",
        "MODEL_DIR = \"%s/models\" % ROOT_DIR\n",
        "\n",
        "#Create missing directories, if they don't exist\n",
        "if not os.path.exists(DATA_DIR):\n",
        "    # Create a new directory because it does not exist\n",
        "    os.makedirs(DATA_DIR)\n",
        "    print(\"The data directory is created!\")\n",
        "if not os.path.exists(EVAL_DIR):\n",
        "    # Create a new directory because it does not exist\n",
        "    os.makedirs(EVAL_DIR)\n",
        "    print(\"The evaluation directory is created!\")\n",
        "if not os.path.exists(MODEL_DIR):\n",
        "    # Create a new directory because it does not exist\n",
        "    os.makedirs(MODEL_DIR)\n",
        "    print(\"The model directory is created!\")"
      ]
    },
    {
      "cell_type": "markdown",
      "id": "b00cb6b5-6c1c-4411-831e-09fdeeb98bad",
      "metadata": {
        "id": "b00cb6b5-6c1c-4411-831e-09fdeeb98bad"
      },
      "source": [
        "# Loading the Data\n",
        "## Downloading the Data"
      ]
    },
    {
      "cell_type": "code",
      "execution_count": null,
      "id": "1d94465f-9fcb-4cc3-bef3-ef5545750655",
      "metadata": {
        "id": "1d94465f-9fcb-4cc3-bef3-ef5545750655"
      },
      "outputs": [],
      "source": [
        "#link would be expired by the time of the grading. It's just here to show how it could be done.\n",
        "#import urllib.request\n",
        "#url = 'https://d3c33hcgiwev3.cloudfront.net/Rylguh2DR_CpYLodg0fwQQ_1199ff1bd63f4163bc4de1e7806c70f1_nikelululemonadidas_tweets.jsonl.gz?Expires=1712102400&Signature=i9uv4cAI6bDpP2tP3nODY~qmBSPEt~ywYmy6H0i9CIjG2siek56an3vNbEzUC8BESaVtb-sjqQAALUtjHeyTEANAs8dnUXs~vISoeH7FydUKZYO5rJAjO2Xj~NxYRBt1e78rUILA4ZPP2LWWbrvxpOBW-yNBWu19KAH8nk74DrM_&Key-Pair-Id=APKAJLTNE6QMUY6HBC5A'\n",
        "#filename = './data/nikelululemonadidas_tweets.jsonl.gz'\n",
        "#urllib.request.urlretrieve(url, filename)"
      ]
    },
    {
      "cell_type": "markdown",
      "id": "3570c649-1f0e-4594-9125-b483e40584a5",
      "metadata": {
        "id": "3570c649-1f0e-4594-9125-b483e40584a5"
      },
      "source": [
        "## Basic Inspection and Sanity Check"
      ]
    },
    {
      "cell_type": "code",
      "execution_count": 15,
      "id": "5438f523-0f45-407b-8266-fe916056150e",
      "metadata": {
        "colab": {
          "base_uri": "https://localhost:8080/"
        },
        "id": "5438f523-0f45-407b-8266-fe916056150e",
        "outputId": "2aaa7dab-f926-481e-d073-278053bdb157"
      },
      "outputs": [
        {
          "output_type": "stream",
          "name": "stdout",
          "text": [
            "tweet 0 : #ad The Nike Women's Air More Uptempo 96 'White/Opti Yellow' is now available via @footlocker! |$160| #SneakerScouts @Nike https://t.co/5lAq7b2ffU https://t.co/wmjxIcsheP \n",
            "\n",
            "tweet 2 : Proof @LaserShip is stealing. I work from home and have a ring doorbell. @wsoctv @Nike @wcnc @wbtv @bbb_us https://t.co/9o3stezjgs \n",
            "\n",
            "tweet 3 : RT @pyleaks: *LEAK ALERT*: The next Supreme x @Nike collab for Spring 2022 will feature the Nike Shox Ride 2.\n",
            "The duo will be dropping 3 co… \n",
            "\n",
            "tweet 4 : RT @SneakerScouts: #ad The Space Jam x Nike LeBron 18 Low 'Sylvester vs. Tweety' is now available via @snipes_usa! |$160| #SneakerScouts @K… \n",
            "\n"
          ]
        }
      ],
      "source": [
        "LIMIT = 5\n",
        "tweet_file_path = '%s/nikelululemonadidas_tweets.jsonl.gz' % DATA_DIR\n",
        "with gzip.open(tweet_file_path) as f:\n",
        "    for i, line in enumerate(f):\n",
        "        if i >= LIMIT:\n",
        "            break\n",
        "        tweet = json.loads(line)\n",
        "        text = tweet.get(\"full_text\") or tweet.get(\"text\")\n",
        "        if \"nike\" in text.lower():\n",
        "            print('tweet', i,':', text, '\\n')"
      ]
    },
    {
      "cell_type": "code",
      "execution_count": 16,
      "id": "92c20b69-8fbb-4278-a64b-f04d792f1621",
      "metadata": {
        "colab": {
          "base_uri": "https://localhost:8080/"
        },
        "id": "92c20b69-8fbb-4278-a64b-f04d792f1621",
        "outputId": "37df563a-ca4a-485d-d754-4be90c4decfc"
      },
      "outputs": [
        {
          "output_type": "execute_result",
          "data": {
            "text/plain": [
              "{'created_at': 'Fri Oct 01 06:22:08 +0000 2021',\n",
              " 'id': 1443823529296867300,\n",
              " 'id_str': '1443823529296867350',\n",
              " 'full_text': \"RT @SneakerScouts: #ad The Space Jam x Nike LeBron 18 Low 'Sylvester vs. Tweety' is now available via @snipes_usa! |$160| #SneakerScouts @K…\",\n",
              " 'truncated': False,\n",
              " 'display_text_range': [0, 140],\n",
              " 'entities': {'hashtags': [{'text': 'ad', 'indices': [19, 22]},\n",
              "   {'text': 'SneakerScouts', 'indices': [122, 136]}],\n",
              "  'symbols': [],\n",
              "  'user_mentions': [{'screen_name': 'SneakerScouts',\n",
              "    'name': '#SneakerScouts',\n",
              "    'id': 792182745942233100,\n",
              "    'id_str': '792182745942233089',\n",
              "    'indices': [3, 17]},\n",
              "   {'screen_name': 'snipes_usa',\n",
              "    'name': 'SNIPES_USA',\n",
              "    'id': 83606701,\n",
              "    'id_str': '83606701',\n",
              "    'indices': [102, 113]}],\n",
              "  'urls': []},\n",
              " 'source': '<a href=\"https://mobile.twitter.com\" rel=\"nofollow\">Twitter Web App</a>',\n",
              " 'in_reply_to_status_id': None,\n",
              " 'in_reply_to_status_id_str': None,\n",
              " 'in_reply_to_user_id': None,\n",
              " 'in_reply_to_user_id_str': None,\n",
              " 'in_reply_to_screen_name': None,\n",
              " 'user': {'id': 792182745942233100,\n",
              "  'id_str': '792182745942233089',\n",
              "  'name': '#SneakerScouts',\n",
              "  'screen_name': 'SneakerScouts',\n",
              "  'location': '',\n",
              "  'description': 'The #1 source for sneaker news, release dates, sales, and general information! info@SneakerScouts.com  #SneakerScouts',\n",
              "  'url': 'https://t.co/YBERhCCwh7',\n",
              "  'entities': {'url': {'urls': [{'url': 'https://t.co/YBERhCCwh7',\n",
              "      'expanded_url': 'http://www.SneakerScouts.com',\n",
              "      'display_url': 'SneakerScouts.com',\n",
              "      'indices': [0, 23]}]},\n",
              "   'description': {'urls': []}},\n",
              "  'protected': False,\n",
              "  'followers_count': 18262,\n",
              "  'friends_count': 6397,\n",
              "  'listed_count': 82,\n",
              "  'created_at': 'Sat Oct 29 01:54:19 +0000 2016',\n",
              "  'favourites_count': 169294,\n",
              "  'utc_offset': None,\n",
              "  'time_zone': None,\n",
              "  'geo_enabled': False,\n",
              "  'verified': False,\n",
              "  'statuses_count': 301804,\n",
              "  'lang': None,\n",
              "  'contributors_enabled': False,\n",
              "  'is_translator': False,\n",
              "  'is_translation_enabled': False,\n",
              "  'profile_background_color': '000000',\n",
              "  'profile_background_image_url': 'http://abs.twimg.com/images/themes/theme1/bg.png',\n",
              "  'profile_background_image_url_https': 'https://abs.twimg.com/images/themes/theme1/bg.png',\n",
              "  'profile_background_tile': False,\n",
              "  'profile_image_url': 'http://pbs.twimg.com/profile_images/971422898886868992/K3R78VcP_normal.jpg',\n",
              "  'profile_image_url_https': 'https://pbs.twimg.com/profile_images/971422898886868992/K3R78VcP_normal.jpg',\n",
              "  'profile_banner_url': 'https://pbs.twimg.com/profile_banners/792182745942233089/1540175194',\n",
              "  'profile_link_color': '000000',\n",
              "  'profile_sidebar_border_color': '000000',\n",
              "  'profile_sidebar_fill_color': '000000',\n",
              "  'profile_text_color': '000000',\n",
              "  'profile_use_background_image': False,\n",
              "  'has_extended_profile': False,\n",
              "  'default_profile': False,\n",
              "  'default_profile_image': False,\n",
              "  'following': False,\n",
              "  'follow_request_sent': False,\n",
              "  'notifications': False,\n",
              "  'translator_type': 'none',\n",
              "  'withheld_in_countries': []},\n",
              " 'geo': None,\n",
              " 'coordinates': None,\n",
              " 'place': None,\n",
              " 'contributors': None,\n",
              " 'retweeted_status': {'created_at': 'Thu Sep 30 16:10:08 +0000 2021',\n",
              "  'id': 1443609113901080600,\n",
              "  'id_str': '1443609113901080576',\n",
              "  'full_text': \"#ad The Space Jam x Nike LeBron 18 Low 'Sylvester vs. Tweety' is now available via @snipes_usa! |$160| #SneakerScouts @KingJames @Nike https://t.co/JmXLCWSQB0 https://t.co/qt9BezGxQA\",\n",
              "  'truncated': False,\n",
              "  'display_text_range': [0, 158],\n",
              "  'entities': {'hashtags': [{'text': 'ad', 'indices': [0, 3]},\n",
              "    {'text': 'SneakerScouts', 'indices': [103, 117]}],\n",
              "   'symbols': [],\n",
              "   'user_mentions': [{'screen_name': 'snipes_usa',\n",
              "     'name': 'SNIPES_USA',\n",
              "     'id': 83606701,\n",
              "     'id_str': '83606701',\n",
              "     'indices': [83, 94]},\n",
              "    {'screen_name': 'KingJames',\n",
              "     'name': 'LeBron James',\n",
              "     'id': 23083404,\n",
              "     'id_str': '23083404',\n",
              "     'indices': [118, 128]},\n",
              "    {'screen_name': 'Nike',\n",
              "     'name': 'Nike',\n",
              "     'id': 415859364,\n",
              "     'id_str': '415859364',\n",
              "     'indices': [129, 134]}],\n",
              "   'urls': [{'url': 'https://t.co/JmXLCWSQB0',\n",
              "     'expanded_url': 'https://www.snipesusa.com/lebron-18-low--sylvester-vs-tweety--nike-usa-multi-cv7562-103-1000093902.html?ranMID=39800&ranEAID=zAJE4hSbGa4&ranSiteID=zAJE4hSbGa4-7XC2P.2wCMbckrmfYXeCMQ&utm_source=linkshare&utm_medium=affiliate&utm_campaign=zAJE4hSbGa4&utm_term=10&utm_content=1&siteID=zAJE4hSbGa4-7XC2P.2wCMbckrmfYXeCMQ&utm_campaign=%23SneakerScouts',\n",
              "     'display_url': 'snipesusa.com/lebron-18-low-…',\n",
              "     'indices': [135, 158]}],\n",
              "   'media': [{'id': 1443609112017784800,\n",
              "     'id_str': '1443609112017784836',\n",
              "     'indices': [159, 182],\n",
              "     'media_url': 'http://pbs.twimg.com/media/FAi61rxWUAQ_mE6.png',\n",
              "     'media_url_https': 'https://pbs.twimg.com/media/FAi61rxWUAQ_mE6.png',\n",
              "     'url': 'https://t.co/qt9BezGxQA',\n",
              "     'display_url': 'pic.twitter.com/qt9BezGxQA',\n",
              "     'expanded_url': 'https://twitter.com/SneakerScouts/status/1443609113901080576/photo/1',\n",
              "     'type': 'photo',\n",
              "     'sizes': {'small': {'w': 604, 'h': 680, 'resize': 'fit'},\n",
              "      'large': {'w': 640, 'h': 720, 'resize': 'fit'},\n",
              "      'medium': {'w': 640, 'h': 720, 'resize': 'fit'},\n",
              "      'thumb': {'w': 150, 'h': 150, 'resize': 'crop'}}}]},\n",
              "  'extended_entities': {'media': [{'id': 1443609112017784800,\n",
              "     'id_str': '1443609112017784836',\n",
              "     'indices': [159, 182],\n",
              "     'media_url': 'http://pbs.twimg.com/media/FAi61rxWUAQ_mE6.png',\n",
              "     'media_url_https': 'https://pbs.twimg.com/media/FAi61rxWUAQ_mE6.png',\n",
              "     'url': 'https://t.co/qt9BezGxQA',\n",
              "     'display_url': 'pic.twitter.com/qt9BezGxQA',\n",
              "     'expanded_url': 'https://twitter.com/SneakerScouts/status/1443609113901080576/photo/1',\n",
              "     'type': 'photo',\n",
              "     'sizes': {'small': {'w': 604, 'h': 680, 'resize': 'fit'},\n",
              "      'large': {'w': 640, 'h': 720, 'resize': 'fit'},\n",
              "      'medium': {'w': 640, 'h': 720, 'resize': 'fit'},\n",
              "      'thumb': {'w': 150, 'h': 150, 'resize': 'crop'}}},\n",
              "    {'id': 1443609112055632000,\n",
              "     'id_str': '1443609112055631874',\n",
              "     'indices': [159, 182],\n",
              "     'media_url': 'http://pbs.twimg.com/media/FAi61r6X0AIFRSV.png',\n",
              "     'media_url_https': 'https://pbs.twimg.com/media/FAi61r6X0AIFRSV.png',\n",
              "     'url': 'https://t.co/qt9BezGxQA',\n",
              "     'display_url': 'pic.twitter.com/qt9BezGxQA',\n",
              "     'expanded_url': 'https://twitter.com/SneakerScouts/status/1443609113901080576/photo/1',\n",
              "     'type': 'photo',\n",
              "     'sizes': {'medium': {'w': 640, 'h': 720, 'resize': 'fit'},\n",
              "      'thumb': {'w': 150, 'h': 150, 'resize': 'crop'},\n",
              "      'small': {'w': 604, 'h': 680, 'resize': 'fit'},\n",
              "      'large': {'w': 640, 'h': 720, 'resize': 'fit'}}},\n",
              "    {'id': 1443609112084992000,\n",
              "     'id_str': '1443609112084992009',\n",
              "     'indices': [159, 182],\n",
              "     'media_url': 'http://pbs.twimg.com/media/FAi61sBX0Aksqg1.png',\n",
              "     'media_url_https': 'https://pbs.twimg.com/media/FAi61sBX0Aksqg1.png',\n",
              "     'url': 'https://t.co/qt9BezGxQA',\n",
              "     'display_url': 'pic.twitter.com/qt9BezGxQA',\n",
              "     'expanded_url': 'https://twitter.com/SneakerScouts/status/1443609113901080576/photo/1',\n",
              "     'type': 'photo',\n",
              "     'sizes': {'medium': {'w': 640, 'h': 720, 'resize': 'fit'},\n",
              "      'small': {'w': 604, 'h': 680, 'resize': 'fit'},\n",
              "      'thumb': {'w': 150, 'h': 150, 'resize': 'crop'},\n",
              "      'large': {'w': 640, 'h': 720, 'resize': 'fit'}}},\n",
              "    {'id': 1443609111485206500,\n",
              "     'id_str': '1443609111485206535',\n",
              "     'indices': [159, 182],\n",
              "     'media_url': 'http://pbs.twimg.com/media/FAi61pyX0AcihlU.png',\n",
              "     'media_url_https': 'https://pbs.twimg.com/media/FAi61pyX0AcihlU.png',\n",
              "     'url': 'https://t.co/qt9BezGxQA',\n",
              "     'display_url': 'pic.twitter.com/qt9BezGxQA',\n",
              "     'expanded_url': 'https://twitter.com/SneakerScouts/status/1443609113901080576/photo/1',\n",
              "     'type': 'photo',\n",
              "     'sizes': {'small': {'w': 604, 'h': 680, 'resize': 'fit'},\n",
              "      'large': {'w': 640, 'h': 720, 'resize': 'fit'},\n",
              "      'medium': {'w': 640, 'h': 720, 'resize': 'fit'},\n",
              "      'thumb': {'w': 150, 'h': 150, 'resize': 'crop'}}}]},\n",
              "  'source': '<a href=\"https://www.hootsuite.com\" rel=\"nofollow\">Hootsuite Inc.</a>',\n",
              "  'in_reply_to_status_id': None,\n",
              "  'in_reply_to_status_id_str': None,\n",
              "  'in_reply_to_user_id': None,\n",
              "  'in_reply_to_user_id_str': None,\n",
              "  'in_reply_to_screen_name': None,\n",
              "  'user': {'id': 792182745942233100,\n",
              "   'id_str': '792182745942233089',\n",
              "   'name': '#SneakerScouts',\n",
              "   'screen_name': 'SneakerScouts',\n",
              "   'location': '',\n",
              "   'description': 'The #1 source for sneaker news, release dates, sales, and general information! info@SneakerScouts.com  #SneakerScouts',\n",
              "   'url': 'https://t.co/YBERhCCwh7',\n",
              "   'entities': {'url': {'urls': [{'url': 'https://t.co/YBERhCCwh7',\n",
              "       'expanded_url': 'http://www.SneakerScouts.com',\n",
              "       'display_url': 'SneakerScouts.com',\n",
              "       'indices': [0, 23]}]},\n",
              "    'description': {'urls': []}},\n",
              "   'protected': False,\n",
              "   'followers_count': 18262,\n",
              "   'friends_count': 6397,\n",
              "   'listed_count': 82,\n",
              "   'created_at': 'Sat Oct 29 01:54:19 +0000 2016',\n",
              "   'favourites_count': 169294,\n",
              "   'utc_offset': None,\n",
              "   'time_zone': None,\n",
              "   'geo_enabled': False,\n",
              "   'verified': False,\n",
              "   'statuses_count': 301804,\n",
              "   'lang': None,\n",
              "   'contributors_enabled': False,\n",
              "   'is_translator': False,\n",
              "   'is_translation_enabled': False,\n",
              "   'profile_background_color': '000000',\n",
              "   'profile_background_image_url': 'http://abs.twimg.com/images/themes/theme1/bg.png',\n",
              "   'profile_background_image_url_https': 'https://abs.twimg.com/images/themes/theme1/bg.png',\n",
              "   'profile_background_tile': False,\n",
              "   'profile_image_url': 'http://pbs.twimg.com/profile_images/971422898886868992/K3R78VcP_normal.jpg',\n",
              "   'profile_image_url_https': 'https://pbs.twimg.com/profile_images/971422898886868992/K3R78VcP_normal.jpg',\n",
              "   'profile_banner_url': 'https://pbs.twimg.com/profile_banners/792182745942233089/1540175194',\n",
              "   'profile_link_color': '000000',\n",
              "   'profile_sidebar_border_color': '000000',\n",
              "   'profile_sidebar_fill_color': '000000',\n",
              "   'profile_text_color': '000000',\n",
              "   'profile_use_background_image': False,\n",
              "   'has_extended_profile': False,\n",
              "   'default_profile': False,\n",
              "   'default_profile_image': False,\n",
              "   'following': False,\n",
              "   'follow_request_sent': False,\n",
              "   'notifications': False,\n",
              "   'translator_type': 'none',\n",
              "   'withheld_in_countries': []},\n",
              "  'geo': None,\n",
              "  'coordinates': None,\n",
              "  'place': None,\n",
              "  'contributors': None,\n",
              "  'is_quote_status': False,\n",
              "  'retweet_count': 3,\n",
              "  'favorite_count': 6,\n",
              "  'favorited': False,\n",
              "  'retweeted': False,\n",
              "  'possibly_sensitive': False,\n",
              "  'lang': 'en'},\n",
              " 'is_quote_status': False,\n",
              " 'retweet_count': 3,\n",
              " 'favorite_count': 0,\n",
              " 'favorited': False,\n",
              " 'retweeted': False,\n",
              " 'lang': 'en'}"
            ]
          },
          "metadata": {},
          "execution_count": 16
        }
      ],
      "source": [
        "tweet"
      ]
    },
    {
      "cell_type": "markdown",
      "id": "502b978e-7c10-470f-beed-3b620826c630",
      "metadata": {
        "id": "502b978e-7c10-470f-beed-3b620826c630"
      },
      "source": [
        "# Create a Mention Network\n",
        "## Load the Corpus of Tweets"
      ]
    },
    {
      "cell_type": "code",
      "execution_count": 17,
      "id": "ced64b97-90ff-4c28-9f6b-e6a6e67fe888",
      "metadata": {
        "id": "ced64b97-90ff-4c28-9f6b-e6a6e67fe888"
      },
      "outputs": [],
      "source": [
        "## Load the Product Data\n",
        "##this assigns the filename we're trying to load in to a string variable\n",
        "tweet_file_path = '%s/nikelululemonadidas_tweets.jsonl.gz' % DATA_DIR\n",
        "json_file = gzip.open(tweet_file_path, 'r')"
      ]
    },
    {
      "cell_type": "markdown",
      "id": "5d254a86-50ac-43c9-957b-ce2542de8257",
      "metadata": {
        "id": "5d254a86-50ac-43c9-957b-ce2542de8257"
      },
      "source": [
        "## Create a List of Unique Users"
      ]
    },
    {
      "cell_type": "code",
      "execution_count": 18,
      "id": "51a72203-020a-4862-bbdf-3e6fc7ee7698",
      "metadata": {
        "colab": {
          "base_uri": "https://localhost:8080/"
        },
        "id": "51a72203-020a-4862-bbdf-3e6fc7ee7698",
        "outputId": "780a4759-68a4-4b97-8efe-ac427ff664b2"
      },
      "outputs": [
        {
          "output_type": "stream",
          "name": "stdout",
          "text": [
            "0 tweets iterated\n",
            "10000 tweets iterated\n",
            "20000 tweets iterated\n",
            "30000 tweets iterated\n",
            "40000 tweets iterated\n",
            "50000 tweets iterated\n",
            "60000 tweets iterated\n",
            "70000 tweets iterated\n",
            "80000 tweets iterated\n",
            "90000 tweets iterated\n",
            "100000 tweets iterated\n",
            "110000 tweets iterated\n",
            "120000 tweets iterated\n",
            "130000 tweets iterated\n",
            "140000 tweets iterated\n",
            "150000 tweets iterated\n",
            "160000 tweets iterated\n",
            "170000 tweets iterated\n",
            "175077 total Tweets processed\n"
          ]
        }
      ],
      "source": [
        "# Identify unique users in the mention network\n",
        "unique_users = {}\n",
        "\n",
        "#iterate through each row in the twitter corpus and extract twitter users\n",
        "for i, atweet in enumerate(json_file):\n",
        "    if i % 10000 == 0: # Show a periodic status\n",
        "      print(\"%s tweets iterated\" % i)\n",
        "    tweet_json = json.loads(atweet)\n",
        "    user_who_tweeted = tweet_json['user']['screen_name']\n",
        "    id_who_tweeted = tweet_json['user']['id']\n",
        "    follower_count = tweet_json['user']['followers_count']\n",
        "    if id_who_tweeted in unique_users:\n",
        "      unique_users[id_who_tweeted]['tweet_count'] += 1\n",
        "      if unique_users[id_who_tweeted]['followers_count'] == 0:\n",
        "        unique_users[id_who_tweeted]['followers_count'] = follower_count\n",
        "    if id_who_tweeted not in unique_users:\n",
        "      unique_users[id_who_tweeted] = {}\n",
        "      unique_users[id_who_tweeted]['tweet_count'] = 1\n",
        "      unique_users[id_who_tweeted]['mention_count'] = 0\n",
        "      unique_users[id_who_tweeted]['id'] = id_who_tweeted\n",
        "      unique_users[id_who_tweeted]['followers_count'] = follower_count\n",
        "      unique_users[id_who_tweeted]['screen_name'] = user_who_tweeted.lower()\n",
        "    #add in the mentioned users as well\n",
        "    users_mentioned = tweet_json['entities']['user_mentions']\n",
        "    #if the tweet netions other users in the tweet\n",
        "    if len(users_mentioned) > 0:\n",
        "      # iterate through each mention in the tweet\n",
        "      for user_mentioned in users_mentioned:\n",
        "        #extract details about user\n",
        "        screen_name_mentioned = user_mentioned['screen_name']\n",
        "        id_mentioned = user_mentioned['id']\n",
        "        #if in the list, increase the mention count\n",
        "        if id_mentioned in unique_users:\n",
        "          unique_users[id_mentioned]['mention_count'] += 1\n",
        "        #extract details about the metioned users in the tweet\n",
        "        if id_mentioned not in unique_users:\n",
        "          unique_users[id_mentioned] = {}\n",
        "          unique_users[id_mentioned]['tweet_count'] = 0\n",
        "          unique_users[id_mentioned]['mention_count'] = 1\n",
        "          unique_users[id_mentioned]['id'] = id_mentioned\n",
        "          unique_users[id_mentioned]['followers_count'] = 0\n",
        "          unique_users[id_mentioned]['screen_name'] = screen_name_mentioned.lower()\n",
        "\n",
        "print(f\"{i} total Tweets processed\")"
      ]
    },
    {
      "cell_type": "code",
      "execution_count": 19,
      "id": "517ea4f5-9da7-4995-9690-8642aabbce89",
      "metadata": {
        "colab": {
          "base_uri": "https://localhost:8080/"
        },
        "id": "517ea4f5-9da7-4995-9690-8642aabbce89",
        "outputId": "38951ea9-836b-45e0-df71-4968847cefbf"
      },
      "outputs": [
        {
          "output_type": "stream",
          "name": "stdout",
          "text": [
            "there are 131663 total users in the mention network.\n"
          ]
        }
      ],
      "source": [
        "#print the number of unique users in the corpus\n",
        "print('there are', len(unique_users), 'total users in the mention network.')"
      ]
    },
    {
      "cell_type": "markdown",
      "id": "41deef96-3779-468f-a054-7131ca07511e",
      "metadata": {
        "id": "41deef96-3779-468f-a054-7131ca07511e"
      },
      "source": [
        "## Create User Filter List"
      ]
    },
    {
      "cell_type": "code",
      "execution_count": 20,
      "id": "b33432e6-7b8a-49fa-ab80-ce4877355385",
      "metadata": {
        "colab": {
          "base_uri": "https://localhost:8080/"
        },
        "id": "b33432e6-7b8a-49fa-ab80-ce4877355385",
        "outputId": "b7316fc5-3551-4c63-e529-ab67af06b14f"
      },
      "outputs": [
        {
          "output_type": "stream",
          "name": "stdout",
          "text": [
            "id: 415859364 \tscreen_name: nike\n",
            "id: 300114634 \tscreen_name: adidas\n",
            "id: 16252784 \tscreen_name: lululemon\n",
            "198\n"
          ]
        }
      ],
      "source": [
        "users_to_include = set()\n",
        "# if any user has more than 2 tweets\n",
        "min_tweet_count = 2\n",
        "# if any user has more than 2500 followers\n",
        "min_followers_count = 100000\n",
        "# create a list of brand users\n",
        "brand_users = ['nike', 'lululemon', 'adidas']\n",
        "\n",
        "# a set is a unique list\n",
        "user_count = 0\n",
        "\n",
        "#iterate through the list of unique users and filter down the list\n",
        "for auser in unique_users:\n",
        "  if unique_users[auser]['screen_name'] in brand_users:\n",
        "      print('id:', auser, '\\tscreen_name:', unique_users[auser]['screen_name'])\n",
        "      user_count += 1\n",
        "      users_to_include.add(auser)\n",
        "  elif unique_users[auser]['tweet_count'] >= min_tweet_count:\n",
        "    if unique_users[auser]['followers_count'] >= min_followers_count:\n",
        "      user_count += 1\n",
        "      users_to_include.add(auser)\n",
        "print(len(users_to_include))"
      ]
    },
    {
      "cell_type": "code",
      "execution_count": 21,
      "id": "a2646272-6f74-48c3-800a-085af72175e6",
      "metadata": {
        "colab": {
          "base_uri": "https://localhost:8080/"
        },
        "id": "a2646272-6f74-48c3-800a-085af72175e6",
        "outputId": "401e5ef4-ba07-4bb6-8035-4978ca6f5a03"
      },
      "outputs": [
        {
          "output_type": "stream",
          "name": "stdout",
          "text": [
            "there are 198 users to include in the final mention network.\n",
            "0.15% of the total users are included in the mention network.\n"
          ]
        }
      ],
      "source": [
        "#print the number of unique users to include in the graph\n",
        "print('there are', len(users_to_include), 'users to include in the final mention network.')\n",
        "pct_of_total = round(len(users_to_include) / len(unique_users),4) * 100\n",
        "print(f\"{pct_of_total}% of the total users are included in the mention network.\")"
      ]
    },
    {
      "cell_type": "code",
      "execution_count": 22,
      "id": "d08a5cd6-1939-4560-aaf0-d01ad0c52042",
      "metadata": {
        "colab": {
          "base_uri": "https://localhost:8080/"
        },
        "id": "d08a5cd6-1939-4560-aaf0-d01ad0c52042",
        "outputId": "2b7e0e6d-3c11-4e66-c83e-2c81f5d0d524"
      },
      "outputs": [
        {
          "output_type": "stream",
          "name": "stdout",
          "text": [
            "Nike: {'tweet_count': 0, 'mention_count': 120125, 'id': 415859364, 'followers_count': 0, 'screen_name': 'nike'}\n",
            "Adidas: {'tweet_count': 3, 'mention_count': 36654, 'id': 300114634, 'followers_count': 4082910, 'screen_name': 'adidas'}\n",
            "Lululemon: {'tweet_count': 0, 'mention_count': 6294, 'id': 16252784, 'followers_count': 0, 'screen_name': 'lululemon'}\n"
          ]
        }
      ],
      "source": [
        "#print the word counts for the major brands\n",
        "print(\"Nike:\", unique_users[415859364])\n",
        "print(\"Adidas:\", unique_users[300114634])\n",
        "print(\"Lululemon:\", unique_users[16252784])"
      ]
    },
    {
      "cell_type": "markdown",
      "id": "bb7de950-1afd-412e-890c-1fce7c1f0455",
      "metadata": {
        "id": "bb7de950-1afd-412e-890c-1fce7c1f0455"
      },
      "source": [
        "## Setting Up Helper Functions for Analysis"
      ]
    },
    {
      "cell_type": "code",
      "execution_count": 23,
      "id": "3f36892f-4998-4158-9e33-77bc48ed322d",
      "metadata": {
        "id": "3f36892f-4998-4158-9e33-77bc48ed322d"
      },
      "outputs": [],
      "source": [
        "def graph_summary_stats(G, title='Graph Summary'):\n",
        "  #display a summary of the graph object created\n",
        "  #nx.info(G)\n",
        "  # https://networkx.org/documentation/stable/reference/functions.html\n",
        "  print('----------------------------------------')\n",
        "  print('#####', title, '#####')\n",
        "  print('number of nodes:', nx.number_of_nodes(G))\n",
        "  print('number of edges:', nx.number_of_edges(G))\n",
        "  print()\n",
        "  print('nodes:', nx.nodes(G))\n",
        "  print()\n",
        "  if G.has_node('adidas'):\n",
        "    print('neighbors of adidas:', list(nx.all_neighbors(G, 'adidas')))\n",
        "  if G.has_node('nike'):\n",
        "    print('neighbors of nike:', list(nx.all_neighbors(G, 'nike')))\n",
        "  if G.has_node('lululemon'):\n",
        "   print('neighbors of lululemon:', list(nx.all_neighbors(G, 'lululemon')))\n",
        "  print('----------------------------------------\\n')"
      ]
    },
    {
      "cell_type": "code",
      "execution_count": 24,
      "id": "0e13b6d6-bd49-430f-beae-ef0d4b602f14",
      "metadata": {
        "id": "0e13b6d6-bd49-430f-beae-ef0d4b602f14"
      },
      "outputs": [],
      "source": [
        "#function to plot the graph object and write to png\n",
        "def plot_graph(G, file_path='temp_file', use_edge_weight=True, plot_size='large'):\n",
        "  #define node colors\n",
        "  default_color = 'blue'\n",
        "  highlight_color = 'red'\n",
        "  brand_users = ['nike', 'lululemon', 'adidas']\n",
        "  node_colors = [highlight_color if node in brand_users else default_color for node in G.nodes()]\n",
        "\n",
        "  #set plot size for drawing\n",
        "  if plot_size == 'medium-large':\n",
        "    p_figsize = (150, 150)\n",
        "    p_font_size = 20\n",
        "    p_edge_width_scale = 2\n",
        "    p_node_size = 5000\n",
        "    p_arrow_size = 50\n",
        "    p_k = None\n",
        "  if plot_size == 'medium':\n",
        "    p_figsize = (25, 25)\n",
        "    p_font_size = 12\n",
        "    p_edge_width_scale = 2\n",
        "    p_node_size = 3000\n",
        "    p_arrow_size = 50\n",
        "    p_k = None\n",
        "  elif plot_size == 'small':\n",
        "    p_figsize = (50, 50)\n",
        "    p_font_size = 20\n",
        "    p_edge_width_scale = 2\n",
        "    p_node_size = 30000\n",
        "    p_arrow_size = 100\n",
        "    p_k = None\n",
        "  elif plot_size == 'x-small':\n",
        "    p_figsize = (12, 12)\n",
        "    p_font_size = 20\n",
        "    p_edge_width_scale = 2\n",
        "    p_node_size = 5000\n",
        "    p_arrow_size = 100\n",
        "    p_k = None\n",
        "  else: #plot_size == 'large'\n",
        "    p_figsize = (300, 300)\n",
        "    p_font_size = 20\n",
        "    p_edge_width_scale = 2\n",
        "    p_node_size = 3000\n",
        "    p_arrow_size = 100\n",
        "    p_k = None\n",
        "\n",
        "  #generate a spring layout for the graph\n",
        "  positions = nx.spring_layout(G, k=p_k)\n",
        "\n",
        "  #extract edge weights for drawing\n",
        "  if use_edge_weight == True:\n",
        "    p_edge_weights = p_edge_width_scale*[G[u][v]['weight'] for u, v in G.edges()]\n",
        "  else:\n",
        "    p_edge_weights = p_edge_width_scale\n",
        "\n",
        "  #create a figure and adjust the size of the figure\n",
        "  fig, ax = plt.subplots(1, 1, figsize=p_figsize)\n",
        "  #draw the graph of the network\n",
        "  nx.draw_networkx(G, pos=positions, ax=ax, node_color=node_colors,\n",
        "                   font_color=\"#FFFFFF\", font_size=p_font_size,\n",
        "                   node_size=p_node_size, width=p_edge_weights,\n",
        "                   arrows=True, arrowsize=p_arrow_size)\n",
        "  #save the graph to a file\n",
        "  print_file_path = '%s/%s.png' % (MODEL_DIR,file_path)\n",
        "  plt.savefig(print_file_path, format='PNG')\n",
        "  plt.close('all')"
      ]
    },
    {
      "cell_type": "code",
      "execution_count": 25,
      "id": "64eb5296-26bf-46e0-9135-237648995ef7",
      "metadata": {
        "id": "64eb5296-26bf-46e0-9135-237648995ef7"
      },
      "outputs": [],
      "source": [
        "def focus_edges(G, brand_nodes = None, weight_min = None, weight_max = None):\n",
        "  # Filter based on a list of brand nodes to focus\n",
        "  if brand_nodes != None:\n",
        "    # Filter edges based on the weight threshold\n",
        "    filtered_edges = [(u, v) for u, v in G.edges() if u in brand_nodes or v in brand_nodes]\n",
        "    # Create a subgraph based on the filtered edges\n",
        "    G = G.edge_subgraph(filtered_edges)\n",
        "  # Filter based on weight threshold\n",
        "  if weight_min != None:\n",
        "    # Filter edges based on the weight threshold\n",
        "    filtered_edges = [(u, v) for u, v, d in G.edges(data=True) if d['weight'] >= weight_min]\n",
        "    # Create a subgraph based on the filtered edges\n",
        "    G = G.edge_subgraph(filtered_edges)\n",
        "  if weight_max != None:\n",
        "    # Filter edges based on the weight threshold\n",
        "    filtered_edges = [(u, v) for u, v, d in G.edges(data=True) if d['weight'] <= weight_max]\n",
        "    # Create a subgraph based on the filtered edges\n",
        "    G = G.edge_subgraph(filtered_edges)\n",
        "  # Return the filtered subgraph\n",
        "  return G"
      ]
    },
    {
      "cell_type": "markdown",
      "id": "6947bce0-d6fa-48f3-a258-edd0dcf1bae9",
      "metadata": {
        "id": "6947bce0-d6fa-48f3-a258-edd0dcf1bae9"
      },
      "source": [
        "## Create a Graph Object"
      ]
    },
    {
      "cell_type": "code",
      "execution_count": 26,
      "id": "e71a4340-3071-4c17-b626-585383e43ea0",
      "metadata": {
        "id": "e71a4340-3071-4c17-b626-585383e43ea0"
      },
      "outputs": [],
      "source": [
        "## Load the Product Data\n",
        "##this assigns the filename we're trying to load in to a string variable\n",
        "tweet_file_path = '%s/nikelululemonadidas_tweets.jsonl.gz' % DATA_DIR\n",
        "json_file = gzip.open(tweet_file_path, 'r')"
      ]
    },
    {
      "cell_type": "code",
      "execution_count": 27,
      "id": "4910d8f6-3fda-46a4-ac85-f986a719cf0e",
      "metadata": {
        "id": "4910d8f6-3fda-46a4-ac85-f986a719cf0e"
      },
      "outputs": [],
      "source": [
        "#create a blank graph object\n",
        "MEN_Graph = nx.DiGraph()"
      ]
    },
    {
      "cell_type": "code",
      "execution_count": 28,
      "id": "d98e143b-2c6b-4577-8bac-3d9059f577a2",
      "metadata": {
        "colab": {
          "base_uri": "https://localhost:8080/"
        },
        "id": "d98e143b-2c6b-4577-8bac-3d9059f577a2",
        "outputId": "24397524-5b94-4e9c-94c3-2b6fcea296c7"
      },
      "outputs": [
        {
          "output_type": "stream",
          "name": "stdout",
          "text": [
            "0 tweets iterated\n",
            "10000 tweets iterated\n",
            "20000 tweets iterated\n",
            "30000 tweets iterated\n",
            "40000 tweets iterated\n",
            "50000 tweets iterated\n",
            "60000 tweets iterated\n",
            "70000 tweets iterated\n",
            "80000 tweets iterated\n",
            "90000 tweets iterated\n",
            "100000 tweets iterated\n",
            "110000 tweets iterated\n",
            "120000 tweets iterated\n",
            "130000 tweets iterated\n",
            "140000 tweets iterated\n",
            "150000 tweets iterated\n",
            "160000 tweets iterated\n",
            "170000 tweets iterated\n",
            "175077 total tweets processed\n"
          ]
        }
      ],
      "source": [
        "# Identify unique users in the mention network\n",
        "for i, atweet in enumerate(json_file):\n",
        "    #provide an update on processing progress\n",
        "    if i % 10000 == 0:\n",
        "      print(\"%s tweets iterated\" % i)\n",
        "    #load a line of the twitter corpus\n",
        "    tweet_json = json.loads(atweet)\n",
        "    #extract details from the tweet\n",
        "    user_who_tweeted = tweet_json['user']['screen_name'].lower()\n",
        "    id_who_tweeted = tweet_json['user']['id']\n",
        "    follower_count = tweet_json['user']['followers_count']\n",
        "    #check if the user id is in the list to include\n",
        "    if id_who_tweeted in users_to_include:\n",
        "      users = tweet_json['entities']['user_mentions']\n",
        "      #if the tweet netions other users in the tweet\n",
        "      if len(users) > 0:\n",
        "          # iterate through each mention in the tweet\n",
        "          for auser in users:\n",
        "              #extract details about the metioned users in the tweet\n",
        "              screen_name = auser['screen_name'].lower()\n",
        "              mention_id = auser['id']\n",
        "              #if the mentioned user is on the list to included\n",
        "              if mention_id in users_to_include:\n",
        "                if user_who_tweeted != screen_name:\n",
        "                  #add an edge to the graph\n",
        "                  if MEN_Graph.has_edge(user_who_tweeted, screen_name):\n",
        "                    # If the edge exists, increment its weight\n",
        "                    MEN_Graph[user_who_tweeted][screen_name]['weight'] += 1\n",
        "                  else:\n",
        "                    # If the edge doesn't exist, add it with weight=1\n",
        "                    MEN_Graph.add_edge(user_who_tweeted, screen_name, weight=1)\n",
        "print(f\"{i} total tweets processed\")"
      ]
    },
    {
      "cell_type": "code",
      "execution_count": 29,
      "id": "c2a9041b-b031-405a-b913-f95a2ceba434",
      "metadata": {
        "colab": {
          "base_uri": "https://localhost:8080/"
        },
        "id": "c2a9041b-b031-405a-b913-f95a2ceba434",
        "outputId": "e9972f48-e083-4c24-8c14-25e4cdfbeaff"
      },
      "outputs": [
        {
          "output_type": "stream",
          "name": "stdout",
          "text": [
            "----------------------------------------\n",
            "##### Graph Summary #####\n",
            "number of nodes: 194\n",
            "number of edges: 339\n",
            "\n",
            "nodes: ['kiganyi_', 'adidas', 'undefeatedinc', 'uniwatch', 'nike', 'atari_jones', 'adidasoriginals', 'solefed', 'jumpman23', 'bajabiri', 'golfdigest', 'lululemon', 'jonahlupton', 'nikestore', 'jermainedupri', 'finishline', 'wwd', 'hiphopwired', 'xboxwire', 'aarongreenberg', 'xbox', 'xboxp3', 'predsnhl', 'lakings', 'dashiexp', 'fastcompany', 'reignofapril', 'nrarmour', 'sbjsbd', 'barcaacademy', 'khou', 'oakley', 'marshablackburn', 'senrickscott', 'schuh', 'dezeen', 'lebatardshow', 'billiejeanking', 'barrysanders', 'complex', 'brooksrunning', 'adidasrunning', 'wiedenkennedy', 'bottom2thatop', 'candace_parker', 'snkr_twitr', 'katgraham', 'joshog', 'adweek', 'kingjames', 'jamesgunn', 'pomklementieff', 'loyalty360', 'jasonlacanfora', 'kohls', '7newsdc', 'realrclark25', 'adidashoops', 'wnba', 'barondavis', 'metropolismag', 'legiqn', 'fatkiddeals', 'jack_p', 'nyctsubway', 'nikebasketball', 'slamonline', 'rga', 'stockx', 'gladstein', 'msmelchen', 'sproutsocial', 'orioles', 'natbrunell', 'fousey', 'okayplayer', 'sacramentokings', 'yahoofinance', 'enesfreedom', 'redsteeze', 'sethamandel', 'slimjim', 'tengbiao', 'hughhewitt', 'muslimmatters', 'nedryun', 'ericmmatheny', 'lifeatpurdue', 'epochtimes', 'suns', 'donaldjtrumpjr', 'joshrogin', 'yesnicksearcy', 'highsnobiety', 'lasparks', 'realunogame', 'giannis_an34', 'deezefi', 'mrleonardkim', 'evankirstel', 'mattel', 'reebok', 'pennstatefball', 'stevedeaceshow', 'girlsintech', 'uoregon', 'mystic7', 'ericpmusselman', 'qrich', 'cointelegraph', 'houstondynamo', 'threadreaderapp', 'prestonpysh', 'rwang0', 'tandfn', 'thebussypleaser', 'techinsider', 'jdofficial', 'xlr8r', 'onsoranje', 'liekemartens1', 'knvb', 'realshellyannfp', 'kicksdeals', 'lafc', 'thegrovela', 'lagalaxy', 'adamsconsulting', 'coindesk', 'adidasfootball', 'spicer', 'kieraplease', 'jkylebass', 'kfile', 'sportsiren', 'nicekicks', 'scottwarner18', 'complexstyle', 'tinashe', 'rosgo21', 'roblox', 'bloxy_news', 'insideroblox', 'atmos_usa', 'nwsl', 'adamjacksonsf', 'novambb', 'solomonyue', 'angelaruggiero', 'bauerhockey', 'jenniferwalcott', 'road_2_ft_worth', 'vampybitme', 'iamwellandgood', 'tropofarmer', 'boredelonmusk', 'mattsteffanina', 'mediapost', 'brooklynnets', 'vidcon', 'uninterrupted', 'hunterheather', 'misstabstevens', 'chainlinkgod', '1djfirstclass', 'chsommers', 'tonipayne', 'cowhercbs', 'detroitpistons', 'cory_shoff', 'usa_lacrosse', 'xxxcrypt0', 'ijustine', 'hackapreneur', 'burgerking', 'namecheap', 'campaignbrands', 'elmaaelmoo', 'colethereum', 'nebraskancrypto', 'vaynermedia', 'schmittnyc', 'mpinoe', 'seanmdav', 'hunterw', 'realvision', 'reallisariley', 'rexchapman', 'qiasomar', 'kingofthecrane', 'cnbc', 'ericvdunn', 'trustlessstate', 'lopp']\n",
            "\n",
            "neighbors of adidas: ['kiganyi_', 'undefeatedinc', 'atari_jones', 'bajabiri', 'jermainedupri', 'xboxwire', 'aarongreenberg', 'xboxp3', 'lakings', 'dashiexp', 'xbox', 'wwd', 'hiphopwired', 'billiejeanking', 'complex', 'bottom2thatop', 'katgraham', 'jamesgunn', 'pomklementieff', 'loyalty360', 'kohls', 'uniwatch', 'adidashoops', 'metropolismag', 'adidasrunning', 'legiqn', 'fatkiddeals', 'jack_p', 'nyctsubway', 'snkr_twitr', 'stockx', 'adweek', 'houstondynamo', 'reebok', 'finishline', 'sbjsbd', 'techinsider', 'kicksdeals', 'lafc', 'lagalaxy', 'adidasfootball', 'spicer', 'kfile', 'sportsiren', 'highsnobiety', 'nicekicks', 'adidasoriginals', 'coindesk', 'jenniferwalcott', 'thebussypleaser', 'vampybitme', 'tropofarmer', 'boredelonmusk', 'mattsteffanina', 'brooklynnets', 'hunterheather', 'jdofficial', 'misstabstevens', 'complexstyle', 'chainlinkgod', 'wnba', 'tonipayne', 'predsnhl', 'slamonline', 'schuh', 'xxxcrypt0', 'candace_parker', 'burgerking', 'namecheap', 'iamwellandgood', 'deezefi', 'dezeen', 'hunterw', 'cointelegraph', 'ericvdunn', 'burgerking', 'xbox', 'nike']\n",
            "neighbors of nike: ['uniwatch', 'solefed', 'nikestore', 'undefeatedinc', 'finishline', 'wwd', 'hiphopwired', 'fastcompany', 'reignofapril', 'nrarmour', 'sbjsbd', 'barcaacademy', 'marshablackburn', 'senrickscott', 'schuh', 'dezeen', 'lebatardshow', 'barrysanders', 'brooksrunning', 'wiedenkennedy', 'snkr_twitr', 'jumpman23', 'kingjames', 'jasonlacanfora', '7newsdc', 'barondavis', 'nikebasketball', 'slamonline', 'rga', 'msmelchen', 'sproutsocial', 'orioles', 'natbrunell', 'fousey', 'okayplayer', 'sacramentokings', 'realrclark25', 'enesfreedom', 'redsteeze', 'sethamandel', 'slimjim', 'tengbiao', 'gladstein', 'hughhewitt', 'muslimmatters', 'nedryun', 'ericmmatheny', 'lifeatpurdue', 'epochtimes', 'suns', 'donaldjtrumpjr', 'joshrogin', 'yesnicksearcy', 'highsnobiety', 'lasparks', 'realunogame', 'mrleonardkim', 'evankirstel', 'mattel', 'reebok', 'pennstatefball', 'stevedeaceshow', 'girlsintech', 'uoregon', 'ericpmusselman', 'qrich', 'wnba', 'cointelegraph', 'threadreaderapp', 'prestonpysh', 'rwang0', 'tandfn', 'thebussypleaser', 'techinsider', 'jdofficial', 'xlr8r', 'onsoranje', 'knvb', 'liekemartens1', 'realshellyannfp', 'thegrovela', 'adamsconsulting', 'coindesk', 'giannis_an34', 'kieraplease', 'jkylebass', 'khou', 'scottwarner18', 'kicksdeals', 'nicekicks', 'complexstyle', 'rosgo21', 'roblox', 'bloxy_news', 'insideroblox', 'nwsl', 'adamjacksonsf', 'novambb', 'solomonyue', 'angelaruggiero', 'boredelonmusk', 'vidcon', 'uninterrupted', '1djfirstclass', 'chsommers', 'tonipayne', 'cowhercbs', 'detroitpistons', 'cory_shoff', 'usa_lacrosse', 'hackapreneur', 'tropofarmer', 'burgerking', 'deezefi', 'namecheap', 'mattsteffanina', 'campaignbrands', 'elmaaelmoo', 'mediapost', 'adidas', 'colethereum', 'nebraskancrypto', 'vaynermedia', 'tinashe', 'schmittnyc', 'mpinoe', 'seanmdav', 'realvision', 'xxxcrypt0', 'ijustine', 'bajabiri', 'rexchapman', 'qiasomar', 'kingofthecrane', 'trustlessstate', 'lopp']\n",
            "neighbors of lululemon: ['golfdigest', 'jonahlupton', 'predsnhl', 'khou', 'oakley', 'brooksrunning', 'joshog', 'adweek', 'realrclark25', 'yahoofinance', 'uniwatch', 'deezefi', 'mrleonardkim', 'mystic7', 'evankirstel', 'bauerhockey', 'thegrovela', 'road_2_ft_worth', 'iamwellandgood', 'mediapost', 'ijustine', 'reallisariley', 'wwd', 'cnbc']\n",
            "----------------------------------------\n",
            "\n"
          ]
        }
      ],
      "source": [
        "graph_summary_stats(G = MEN_Graph)"
      ]
    },
    {
      "cell_type": "markdown",
      "id": "0764154a-6746-4379-875d-df49eaafe507",
      "metadata": {
        "id": "0764154a-6746-4379-875d-df49eaafe507"
      },
      "source": [
        "## Create Subgraphs for Analysis"
      ]
    },
    {
      "cell_type": "code",
      "execution_count": 30,
      "id": "3e169e10-7f74-4683-84cc-f2df6f5ea142",
      "metadata": {
        "id": "3e169e10-7f74-4683-84cc-f2df6f5ea142"
      },
      "outputs": [],
      "source": [
        "##### Shared Sets of Node Intersetions #####\n",
        "\n",
        "# Define key nodes\n",
        "key_nodes_all = ['nike', 'lululemon', 'adidas']\n",
        "key_nodes_nl = ['nike', 'lululemon']\n",
        "key_nodes_na = ['nike', 'adidas']\n",
        "key_nodes_al = ['adidas', 'lululemon']\n",
        "\n",
        "# Find neighbors of the key nodes by themselves\n",
        "neighbors_sets_n = set(nx.all_neighbors(MEN_Graph, 'nike'))\n",
        "neighbors_sets_a = set(nx.all_neighbors(MEN_Graph, 'adidas'))\n",
        "neighbors_sets_l = set(nx.all_neighbors(MEN_Graph, 'lululemon'))\n",
        "\n",
        "# Find neighbors of the key nodes\n",
        "neighbors_sets_all = [set(nx.all_neighbors(MEN_Graph, node)) for node in key_nodes_all]\n",
        "neighbors_sets_nl = [set(nx.all_neighbors(MEN_Graph, node)) for node in key_nodes_nl]\n",
        "neighbors_sets_na = [set(nx.all_neighbors(MEN_Graph, node)) for node in key_nodes_na]\n",
        "neighbors_sets_al = [set(nx.all_neighbors(MEN_Graph, node)) for node in key_nodes_al]\n",
        "\n",
        "# Intersect the sets to get nodes connected to all key nodes\n",
        "common_neighbors_all = set.intersection(*neighbors_sets_all)\n",
        "\n",
        "# Intersect the sets to get nodes connected to only 2 key nodes\n",
        "\n",
        "common_neighbors_nl = set.intersection(*neighbors_sets_nl) - common_neighbors_all - set(key_nodes_al)\n",
        "common_neighbors_na = set.intersection(*neighbors_sets_na) - common_neighbors_all - set(key_nodes_nl)\n",
        "common_neighbors_al = set.intersection(*neighbors_sets_al) - common_neighbors_all - set(key_nodes_na)\n",
        "\n",
        "# Get nodes connected to any one of the key nodes but not all of them\n",
        "union_neighbors = set.union(*neighbors_sets_all)\n",
        "\n",
        "# Get nodes connected to only 1 brand\n",
        "exclusive_neighbors = (union_neighbors - common_neighbors_all\n",
        "                       - common_neighbors_nl - common_neighbors_na - common_neighbors_al)\n",
        "\n",
        "# Get nodes connected to each specific brand\n",
        "exclusive_neighbors_n = neighbors_sets_n - common_neighbors_all - common_neighbors_nl - common_neighbors_na - set(key_nodes_al)\n",
        "exclusive_neighbors_a = neighbors_sets_a - common_neighbors_all - common_neighbors_na - common_neighbors_nl - set(key_nodes_nl)\n",
        "exclusive_neighbors_l = neighbors_sets_l - common_neighbors_all - common_neighbors_nl - common_neighbors_al - set(key_nodes_na)"
      ]
    },
    {
      "cell_type": "code",
      "execution_count": 31,
      "id": "195fb91e-93f3-49ef-8eca-4e23e3f1889d",
      "metadata": {
        "colab": {
          "base_uri": "https://localhost:8080/"
        },
        "id": "195fb91e-93f3-49ef-8eca-4e23e3f1889d",
        "outputId": "b99c35fe-37ac-4b0e-9575-aebbda4b155f"
      },
      "outputs": [
        {
          "output_type": "stream",
          "name": "stdout",
          "text": [
            "----------------------------------------\n",
            "##### Bridging to All Brands Nodes #####\n",
            "number of nodes: 6\n",
            "number of edges: 10\n",
            "\n",
            "nodes: ['deezefi', 'adidas', 'uniwatch', 'nike', 'wwd', 'lululemon']\n",
            "\n",
            "neighbors of adidas: ['wwd', 'uniwatch', 'deezefi', 'nike']\n",
            "neighbors of nike: ['uniwatch', 'wwd', 'deezefi', 'adidas']\n",
            "neighbors of lululemon: ['uniwatch', 'deezefi', 'wwd']\n",
            "----------------------------------------\n",
            "\n",
            "----------------------------------------\n",
            "##### Nike to Adidas Bridges #####\n",
            "number of nodes: 29\n",
            "number of edges: 57\n",
            "\n",
            "nodes: ['boredelonmusk', 'mattsteffanina', 'undefeatedinc', 'wnba', 'complexstyle', 'schuh', 'slamonline', 'reebok', 'adidas', 'techinsider', 'dezeen', 'cointelegraph', 'finishline', 'namecheap', 'snkr_twitr', 'kicksdeals', 'sbjsbd', 'nike', 'nicekicks', 'xxxcrypt0', 'coindesk', 'jdofficial', 'tropofarmer', 'bajabiri', 'tonipayne', 'burgerking', 'highsnobiety', 'hiphopwired', 'thebussypleaser']\n",
            "\n",
            "neighbors of adidas: ['undefeatedinc', 'bajabiri', 'hiphopwired', 'snkr_twitr', 'reebok', 'finishline', 'sbjsbd', 'techinsider', 'kicksdeals', 'highsnobiety', 'nicekicks', 'coindesk', 'thebussypleaser', 'tropofarmer', 'boredelonmusk', 'mattsteffanina', 'jdofficial', 'complexstyle', 'wnba', 'tonipayne', 'slamonline', 'schuh', 'xxxcrypt0', 'burgerking', 'namecheap', 'dezeen', 'cointelegraph', 'burgerking', 'nike']\n",
            "neighbors of nike: ['undefeatedinc', 'finishline', 'hiphopwired', 'sbjsbd', 'schuh', 'dezeen', 'snkr_twitr', 'slamonline', 'highsnobiety', 'reebok', 'wnba', 'cointelegraph', 'thebussypleaser', 'techinsider', 'jdofficial', 'coindesk', 'kicksdeals', 'nicekicks', 'complexstyle', 'boredelonmusk', 'tonipayne', 'tropofarmer', 'burgerking', 'namecheap', 'mattsteffanina', 'adidas', 'xxxcrypt0', 'bajabiri']\n",
            "----------------------------------------\n",
            "\n",
            "----------------------------------------\n",
            "##### Nike to Lululemon Bridges #####\n",
            "number of nodes: 10\n",
            "number of edges: 16\n",
            "\n",
            "nodes: ['ijustine', 'realrclark25', 'mrleonardkim', 'brooksrunning', 'mediapost', 'nike', 'thegrovela', 'lululemon', 'evankirstel', 'khou']\n",
            "\n",
            "neighbors of nike: ['brooksrunning', 'realrclark25', 'mrleonardkim', 'evankirstel', 'thegrovela', 'khou', 'mediapost', 'ijustine']\n",
            "neighbors of lululemon: ['khou', 'brooksrunning', 'realrclark25', 'mrleonardkim', 'evankirstel', 'thegrovela', 'mediapost', 'ijustine']\n",
            "----------------------------------------\n",
            "\n",
            "----------------------------------------\n",
            "##### Adidas to Lululemon Bridges #####\n",
            "number of nodes: 5\n",
            "number of edges: 6\n",
            "\n",
            "nodes: ['adidas', 'iamwellandgood', 'adweek', 'lululemon', 'predsnhl']\n",
            "\n",
            "neighbors of adidas: ['adweek', 'predsnhl', 'iamwellandgood']\n",
            "neighbors of lululemon: ['predsnhl', 'adweek', 'iamwellandgood']\n",
            "----------------------------------------\n",
            "\n"
          ]
        }
      ],
      "source": [
        "##### Bridging to All Brands Nodes #####\n",
        "# Create a subgraph\n",
        "nodes_to_keep = list(common_neighbors_all) + key_nodes_all\n",
        "MEN_Graph_bridge_3 = MEN_Graph.subgraph(nodes_to_keep)\n",
        "#display a summary of the subgraph\n",
        "graph_summary_stats(G = MEN_Graph_bridge_3, title='Bridging to All Brands Nodes')\n",
        "\n",
        "##### Nike to Adidas Bridges #####\n",
        "# Create a subgraph\n",
        "nodes_to_keep = list(common_neighbors_na) + key_nodes_na\n",
        "MEN_Graph_bridge_na = MEN_Graph.subgraph(nodes_to_keep)\n",
        "#display a summary of the subgraph\n",
        "graph_summary_stats(G = MEN_Graph_bridge_na, title='Nike to Adidas Bridges')\n",
        "\n",
        "##### Nike to Lululemon Bridges #####\n",
        "# Create a subgraph\n",
        "nodes_to_keep = list(common_neighbors_nl) + key_nodes_nl\n",
        "MEN_Graph_bridge_nl = MEN_Graph.subgraph(nodes_to_keep)\n",
        "#display a summary of the subgraph\n",
        "graph_summary_stats(G = MEN_Graph_bridge_nl, title='Nike to Lululemon Bridges')\n",
        "\n",
        "##### Adidas to Lululemon Bridges #####\n",
        "# Create a subgraph\n",
        "nodes_to_keep = list(common_neighbors_al) + key_nodes_al\n",
        "MEN_Graph_bridge_al = MEN_Graph.subgraph(nodes_to_keep)\n",
        "#display a summary of the subgraph\n",
        "graph_summary_stats(G = MEN_Graph_bridge_al, title='Adidas to Lululemon Bridges')"
      ]
    },
    {
      "cell_type": "code",
      "execution_count": 32,
      "id": "b4b5293e-64e7-43a7-b8dc-3546fdebdfbd",
      "metadata": {
        "colab": {
          "base_uri": "https://localhost:8080/"
        },
        "id": "b4b5293e-64e7-43a7-b8dc-3546fdebdfbd",
        "outputId": "2912a097-044b-4bbd-9b9d-e0d37450e3fb"
      },
      "outputs": [
        {
          "output_type": "stream",
          "name": "stdout",
          "text": [
            "----------------------------------------\n",
            "##### Exclusive Nodes: Unique to Only 1 Brand #####\n",
            "number of nodes: 152\n",
            "number of edges: 212\n",
            "\n",
            "nodes: ['kiganyi_', 'adidas', 'nike', 'atari_jones', 'adidasoriginals', 'solefed', 'jumpman23', 'golfdigest', 'lululemon', 'jonahlupton', 'nikestore', 'jermainedupri', 'xboxwire', 'aarongreenberg', 'xbox', 'xboxp3', 'lakings', 'dashiexp', 'fastcompany', 'reignofapril', 'nrarmour', 'barcaacademy', 'oakley', 'marshablackburn', 'senrickscott', 'lebatardshow', 'billiejeanking', 'barrysanders', 'complex', 'adidasrunning', 'wiedenkennedy', 'bottom2thatop', 'candace_parker', 'katgraham', 'joshog', 'kingjames', 'jamesgunn', 'pomklementieff', 'loyalty360', 'jasonlacanfora', 'kohls', '7newsdc', 'adidashoops', 'barondavis', 'metropolismag', 'legiqn', 'fatkiddeals', 'jack_p', 'nyctsubway', 'nikebasketball', 'rga', 'stockx', 'gladstein', 'msmelchen', 'sproutsocial', 'orioles', 'natbrunell', 'fousey', 'okayplayer', 'sacramentokings', 'yahoofinance', 'enesfreedom', 'redsteeze', 'sethamandel', 'slimjim', 'tengbiao', 'hughhewitt', 'muslimmatters', 'nedryun', 'ericmmatheny', 'lifeatpurdue', 'epochtimes', 'suns', 'donaldjtrumpjr', 'joshrogin', 'yesnicksearcy', 'lasparks', 'realunogame', 'giannis_an34', 'mattel', 'pennstatefball', 'stevedeaceshow', 'girlsintech', 'uoregon', 'mystic7', 'ericpmusselman', 'qrich', 'houstondynamo', 'threadreaderapp', 'prestonpysh', 'rwang0', 'tandfn', 'xlr8r', 'onsoranje', 'liekemartens1', 'knvb', 'realshellyannfp', 'lafc', 'lagalaxy', 'adamsconsulting', 'adidasfootball', 'spicer', 'kieraplease', 'jkylebass', 'kfile', 'sportsiren', 'scottwarner18', 'tinashe', 'rosgo21', 'roblox', 'bloxy_news', 'insideroblox', 'nwsl', 'adamjacksonsf', 'novambb', 'solomonyue', 'angelaruggiero', 'bauerhockey', 'jenniferwalcott', 'road_2_ft_worth', 'vampybitme', 'brooklynnets', 'vidcon', 'uninterrupted', 'hunterheather', 'misstabstevens', 'chainlinkgod', '1djfirstclass', 'chsommers', 'cowhercbs', 'detroitpistons', 'cory_shoff', 'usa_lacrosse', 'hackapreneur', 'campaignbrands', 'elmaaelmoo', 'colethereum', 'nebraskancrypto', 'vaynermedia', 'schmittnyc', 'mpinoe', 'seanmdav', 'hunterw', 'realvision', 'reallisariley', 'rexchapman', 'qiasomar', 'kingofthecrane', 'cnbc', 'ericvdunn', 'trustlessstate', 'lopp']\n",
            "\n",
            "neighbors of adidas: ['kiganyi_', 'atari_jones', 'jermainedupri', 'xboxwire', 'aarongreenberg', 'xboxp3', 'lakings', 'dashiexp', 'xbox', 'billiejeanking', 'complex', 'bottom2thatop', 'katgraham', 'jamesgunn', 'pomklementieff', 'loyalty360', 'kohls', 'adidashoops', 'metropolismag', 'adidasrunning', 'legiqn', 'fatkiddeals', 'jack_p', 'nyctsubway', 'stockx', 'houstondynamo', 'lafc', 'lagalaxy', 'adidasfootball', 'spicer', 'kfile', 'sportsiren', 'adidasoriginals', 'jenniferwalcott', 'vampybitme', 'brooklynnets', 'hunterheather', 'misstabstevens', 'chainlinkgod', 'candace_parker', 'hunterw', 'ericvdunn', 'xbox', 'nike']\n",
            "neighbors of nike: ['solefed', 'nikestore', 'fastcompany', 'reignofapril', 'nrarmour', 'barcaacademy', 'marshablackburn', 'senrickscott', 'lebatardshow', 'barrysanders', 'wiedenkennedy', 'jumpman23', 'kingjames', 'jasonlacanfora', '7newsdc', 'barondavis', 'nikebasketball', 'rga', 'msmelchen', 'sproutsocial', 'orioles', 'natbrunell', 'fousey', 'okayplayer', 'sacramentokings', 'enesfreedom', 'redsteeze', 'sethamandel', 'slimjim', 'tengbiao', 'gladstein', 'hughhewitt', 'muslimmatters', 'nedryun', 'ericmmatheny', 'lifeatpurdue', 'epochtimes', 'suns', 'donaldjtrumpjr', 'joshrogin', 'yesnicksearcy', 'lasparks', 'realunogame', 'mattel', 'pennstatefball', 'stevedeaceshow', 'girlsintech', 'uoregon', 'ericpmusselman', 'qrich', 'threadreaderapp', 'prestonpysh', 'rwang0', 'tandfn', 'xlr8r', 'onsoranje', 'knvb', 'liekemartens1', 'realshellyannfp', 'adamsconsulting', 'giannis_an34', 'kieraplease', 'jkylebass', 'scottwarner18', 'rosgo21', 'roblox', 'bloxy_news', 'insideroblox', 'nwsl', 'adamjacksonsf', 'novambb', 'solomonyue', 'angelaruggiero', 'vidcon', 'uninterrupted', '1djfirstclass', 'chsommers', 'cowhercbs', 'detroitpistons', 'cory_shoff', 'usa_lacrosse', 'hackapreneur', 'campaignbrands', 'elmaaelmoo', 'adidas', 'colethereum', 'nebraskancrypto', 'vaynermedia', 'tinashe', 'schmittnyc', 'mpinoe', 'seanmdav', 'realvision', 'rexchapman', 'qiasomar', 'kingofthecrane', 'trustlessstate', 'lopp']\n",
            "neighbors of lululemon: ['golfdigest', 'jonahlupton', 'oakley', 'joshog', 'yahoofinance', 'mystic7', 'bauerhockey', 'road_2_ft_worth', 'reallisariley', 'cnbc']\n",
            "----------------------------------------\n",
            "\n",
            "----------------------------------------\n",
            "##### Exclusive Nodes for Nike #####\n",
            "number of nodes: 98\n",
            "number of edges: 128\n",
            "\n",
            "nodes: ['nike', 'solefed', 'jumpman23', 'nikestore', 'fastcompany', 'reignofapril', 'nrarmour', 'barcaacademy', 'marshablackburn', 'senrickscott', 'lebatardshow', 'barrysanders', 'wiedenkennedy', 'kingjames', 'jasonlacanfora', '7newsdc', 'barondavis', 'nikebasketball', 'rga', 'gladstein', 'msmelchen', 'sproutsocial', 'orioles', 'natbrunell', 'fousey', 'okayplayer', 'sacramentokings', 'enesfreedom', 'redsteeze', 'sethamandel', 'slimjim', 'tengbiao', 'hughhewitt', 'muslimmatters', 'nedryun', 'ericmmatheny', 'lifeatpurdue', 'epochtimes', 'suns', 'donaldjtrumpjr', 'joshrogin', 'yesnicksearcy', 'lasparks', 'realunogame', 'giannis_an34', 'mattel', 'pennstatefball', 'stevedeaceshow', 'girlsintech', 'uoregon', 'ericpmusselman', 'qrich', 'threadreaderapp', 'prestonpysh', 'rwang0', 'tandfn', 'xlr8r', 'onsoranje', 'liekemartens1', 'knvb', 'realshellyannfp', 'adamsconsulting', 'kieraplease', 'jkylebass', 'scottwarner18', 'tinashe', 'rosgo21', 'roblox', 'bloxy_news', 'insideroblox', 'nwsl', 'adamjacksonsf', 'novambb', 'solomonyue', 'angelaruggiero', 'vidcon', 'uninterrupted', '1djfirstclass', 'chsommers', 'cowhercbs', 'detroitpistons', 'cory_shoff', 'usa_lacrosse', 'hackapreneur', 'campaignbrands', 'elmaaelmoo', 'colethereum', 'nebraskancrypto', 'vaynermedia', 'schmittnyc', 'mpinoe', 'seanmdav', 'realvision', 'rexchapman', 'qiasomar', 'kingofthecrane', 'trustlessstate', 'lopp']\n",
            "\n",
            "neighbors of nike: ['solefed', 'nikestore', 'fastcompany', 'reignofapril', 'nrarmour', 'barcaacademy', 'marshablackburn', 'senrickscott', 'lebatardshow', 'barrysanders', 'wiedenkennedy', 'jumpman23', 'kingjames', 'jasonlacanfora', '7newsdc', 'barondavis', 'nikebasketball', 'rga', 'msmelchen', 'sproutsocial', 'orioles', 'natbrunell', 'fousey', 'okayplayer', 'sacramentokings', 'enesfreedom', 'redsteeze', 'sethamandel', 'slimjim', 'tengbiao', 'gladstein', 'hughhewitt', 'muslimmatters', 'nedryun', 'ericmmatheny', 'lifeatpurdue', 'epochtimes', 'suns', 'donaldjtrumpjr', 'joshrogin', 'yesnicksearcy', 'lasparks', 'realunogame', 'mattel', 'pennstatefball', 'stevedeaceshow', 'girlsintech', 'uoregon', 'ericpmusselman', 'qrich', 'threadreaderapp', 'prestonpysh', 'rwang0', 'tandfn', 'xlr8r', 'onsoranje', 'knvb', 'liekemartens1', 'realshellyannfp', 'adamsconsulting', 'giannis_an34', 'kieraplease', 'jkylebass', 'scottwarner18', 'rosgo21', 'roblox', 'bloxy_news', 'insideroblox', 'nwsl', 'adamjacksonsf', 'novambb', 'solomonyue', 'angelaruggiero', 'vidcon', 'uninterrupted', '1djfirstclass', 'chsommers', 'cowhercbs', 'detroitpistons', 'cory_shoff', 'usa_lacrosse', 'hackapreneur', 'campaignbrands', 'elmaaelmoo', 'colethereum', 'nebraskancrypto', 'vaynermedia', 'tinashe', 'schmittnyc', 'mpinoe', 'seanmdav', 'realvision', 'rexchapman', 'qiasomar', 'kingofthecrane', 'trustlessstate', 'lopp']\n",
            "----------------------------------------\n",
            "\n",
            "----------------------------------------\n",
            "##### Exclusive Nodes for Adidas #####\n",
            "number of nodes: 46\n",
            "number of edges: 72\n",
            "\n",
            "nodes: ['katgraham', 'sportsiren', 'candace_parker', 'kfile', 'adweek', 'lakings', 'adidasfootball', 'vampybitme', 'spicer', 'loyalty360', 'ericvdunn', 'hunterw', 'xboxp3', 'xboxwire', 'stockx', 'misstabstevens', 'adidas', 'chainlinkgod', 'xbox', 'pomklementieff', 'aarongreenberg', 'kiganyi_', 'dashiexp', 'jermainedupri', 'adidashoops', 'fatkiddeals', 'houstondynamo', 'jack_p', 'lafc', 'complex', 'bottom2thatop', 'jenniferwalcott', 'iamwellandgood', 'legiqn', 'jamesgunn', 'adidasoriginals', 'hunterheather', 'metropolismag', 'atari_jones', 'nyctsubway', 'brooklynnets', 'lagalaxy', 'adidasrunning', 'kohls', 'predsnhl', 'billiejeanking']\n",
            "\n",
            "neighbors of adidas: ['kiganyi_', 'atari_jones', 'jermainedupri', 'xboxwire', 'aarongreenberg', 'xboxp3', 'lakings', 'dashiexp', 'xbox', 'billiejeanking', 'complex', 'bottom2thatop', 'katgraham', 'jamesgunn', 'pomklementieff', 'loyalty360', 'kohls', 'adidashoops', 'metropolismag', 'adidasrunning', 'legiqn', 'fatkiddeals', 'jack_p', 'nyctsubway', 'stockx', 'adweek', 'houstondynamo', 'lafc', 'lagalaxy', 'adidasfootball', 'spicer', 'kfile', 'sportsiren', 'adidasoriginals', 'jenniferwalcott', 'vampybitme', 'brooklynnets', 'hunterheather', 'misstabstevens', 'chainlinkgod', 'predsnhl', 'candace_parker', 'iamwellandgood', 'hunterw', 'ericvdunn', 'xbox']\n",
            "----------------------------------------\n",
            "\n",
            "----------------------------------------\n",
            "##### Exclusive Nodes for Lululemon #####\n",
            "number of nodes: 11\n",
            "number of edges: 10\n",
            "\n",
            "nodes: ['oakley', 'lululemon', 'bauerhockey', 'cnbc', 'golfdigest', 'yahoofinance', 'road_2_ft_worth', 'mystic7', 'reallisariley', 'jonahlupton', 'joshog']\n",
            "\n",
            "neighbors of lululemon: ['golfdigest', 'jonahlupton', 'oakley', 'joshog', 'yahoofinance', 'mystic7', 'bauerhockey', 'road_2_ft_worth', 'reallisariley', 'cnbc']\n",
            "----------------------------------------\n",
            "\n"
          ]
        }
      ],
      "source": [
        "##### Exclusive Nodes: Unique to Only 1 Brand #####\n",
        "\n",
        "# Create a subgraph\n",
        "nodes_to_keep_exc = list(exclusive_neighbors) + key_nodes_all\n",
        "MEN_Graph_exc = MEN_Graph.subgraph(nodes_to_keep_exc)\n",
        "\n",
        "#filter the graph edges to focus on influential to brands\n",
        "#MEN_Graph_exc = focus_edges(G = MEN_Graph_exc, brand_nodes = key_nodes_all, weight_min = 3)\n",
        "\n",
        "#display a summary of the subgraph\n",
        "graph_summary_stats(G = MEN_Graph_exc, title='Exclusive Nodes: Unique to Only 1 Brand')\n",
        "\n",
        "# Create a subgraph\n",
        "MEN_Graph_exc_n = MEN_Graph.subgraph(list(exclusive_neighbors_n) + ['nike'])\n",
        "MEN_Graph_exc_a = MEN_Graph.subgraph(list(exclusive_neighbors_a) + ['adidas'])\n",
        "MEN_Graph_exc_l = MEN_Graph.subgraph(list(exclusive_neighbors_l) + ['lululemon'])\n",
        "\n",
        "#filter the graph edges to focus on influential to brands\n",
        "#MEN_Graph_exc_n = focus_edges(G = MEN_Graph_exc_n, brand_nodes = key_nodes_all, weight_min = 3)\n",
        "#MEN_Graph_exc_a = focus_edges(G = MEN_Graph_exc_a, brand_nodes = key_nodes_all, weight_min = 3)\n",
        "\n",
        "#display a summary of the subgraph\n",
        "graph_summary_stats(G = MEN_Graph_exc_n, title='Exclusive Nodes for Nike')\n",
        "graph_summary_stats(G = MEN_Graph_exc_a, title='Exclusive Nodes for Adidas')\n",
        "graph_summary_stats(G = MEN_Graph_exc_l, title='Exclusive Nodes for Lululemon')"
      ]
    },
    {
      "cell_type": "markdown",
      "id": "3d81b15f-a2a9-4518-abf4-f55a8a259882",
      "metadata": {
        "id": "3d81b15f-a2a9-4518-abf4-f55a8a259882"
      },
      "source": [
        "## Ploting All the Graphs"
      ]
    },
    {
      "cell_type": "code",
      "execution_count": 33,
      "id": "616e5099-d029-4dd0-b679-b1371709ec59",
      "metadata": {
        "id": "616e5099-d029-4dd0-b679-b1371709ec59"
      },
      "outputs": [],
      "source": [
        "#plot the baseline graph\n",
        "plot_graph(G = MEN_Graph, file_path='01_00_mention_network', plot_size='large')"
      ]
    },
    {
      "cell_type": "code",
      "execution_count": 34,
      "id": "d99aa0c1-9b5c-4c88-ad4f-3719f696bf29",
      "metadata": {
        "id": "d99aa0c1-9b5c-4c88-ad4f-3719f696bf29"
      },
      "outputs": [],
      "source": [
        "#plot the graph\n",
        "plot_graph(G = MEN_Graph_bridge_3, file_path='02_01_mention_network_bridge_all_3', plot_size='small')\n",
        "\n",
        "#plot the graph\n",
        "plot_graph(G = MEN_Graph_bridge_na, file_path='02_02_mention_network_bridge_nike_adidas', plot_size='small')\n",
        "\n",
        "#plot the graph\n",
        "plot_graph(G = MEN_Graph_bridge_nl, file_path='02_03_mention_network_bridge_nike_lululemon', plot_size='small')\n",
        "\n",
        "#plot the graph\n",
        "plot_graph(G = MEN_Graph_bridge_al, file_path='02_04_mention_network_bridge_adidas_lululemon', plot_size='small')\n",
        ""
      ]
    },
    {
      "cell_type": "code",
      "execution_count": 35,
      "id": "bfc24e94-7380-4ad8-aac4-7b71edc0c470",
      "metadata": {
        "id": "bfc24e94-7380-4ad8-aac4-7b71edc0c470"
      },
      "outputs": [],
      "source": [
        "#plot the exclusive node graph\n",
        "plot_graph(G = MEN_Graph_exc, file_path='03_01_mention_network_exclusive', plot_size='medium')\n",
        "\n",
        "#plot the graph\n",
        "plot_graph(G = MEN_Graph_exc_n, file_path='03_02_mention_network_exclusive_to_nike', plot_size='small')\n",
        "\n",
        "#plot the graph\n",
        "plot_graph(G = MEN_Graph_exc_a, file_path='03_03_mention_network_exclusive_to_adidas', plot_size='small')\n",
        "\n",
        "#plot the graph\n",
        "plot_graph(G = MEN_Graph_exc_l, file_path='03_04_mention_network_exclusive_to_lulu', plot_size='small')"
      ]
    },
    {
      "cell_type": "markdown",
      "id": "2fa9a8d5-199d-49bf-b7ba-b7761d37a10b",
      "metadata": {
        "id": "2fa9a8d5-199d-49bf-b7ba-b7761d37a10b"
      },
      "source": [
        "# Create a Semantic Network\n",
        "## Data Preparation Functions for NLP"
      ]
    },
    {
      "cell_type": "code",
      "execution_count": 36,
      "id": "b8c4c1e1-bb2f-4148-b91b-616c08749bb5",
      "metadata": {
        "id": "b8c4c1e1-bb2f-4148-b91b-616c08749bb5"
      },
      "outputs": [],
      "source": [
        "TWEET_TOKENIZER = nltk.TweetTokenizer().tokenize\n",
        "WORD_TOKENIZER = nltk.tokenize.word_tokenize\n",
        "\n",
        "#Removing urls\n",
        "def remove_links(tokens):\n",
        "    \"\"\"Removes http/s links from the tokens.\n",
        "\n",
        "    This simple implementation assumes links have been kept intact as whole\n",
        "    tokens. E.g. the way the Tweet Tokenizer works.\n",
        "    \"\"\"\n",
        "    return [ t for t in tokens\n",
        "            if not t.startswith(\"http://\")\n",
        "            and not t.startswith(\"https://\")\n",
        "        ]\n",
        "\n",
        "#Extracting contextual words from a sentence\n",
        "# tokenizing is taking out all the words in a sentence and turning it into tokens/words\n",
        "def tokenize(text, lowercase=True, tweet=False):\n",
        "    \"\"\"Tokenize the text. By default, also normalizes text to lowercase.\n",
        "    Optionally uses the Tweet Tokenizer.\n",
        "    \"\"\"\n",
        "    if lowercase:\n",
        "        text = text.lower()\n",
        "    if tweet:\n",
        "        return TWEET_TOKENIZER(text)\n",
        "    else:\n",
        "        return WORD_TOKENIZER(text)\n",
        "\n",
        "STEMMER = nltk.PorterStemmer()\n",
        "\n",
        "#stem - peaches : peach : reduce the number of repeated words\n",
        "def stem(tokens):\n",
        "    \"\"\"Stem the tokens. I.e., remove morphological affixes and\n",
        "    normalize to standardized stem forms.\n",
        "\n",
        "    Has the side effective of producing \"unnatural\" forms due to\n",
        "    stemming standards. E.g. quickly becomes quickli\n",
        "    \"\"\"\n",
        "    return [ STEMMER.stem(token) for token in tokens ]\n",
        "\n",
        "LEMMATIZER = nltk.WordNetLemmatizer()\n",
        "\n",
        "# feature reduction. taking words and getting their roots and graphing only the root words\n",
        "def lemmatize(tokens):\n",
        "    \"\"\"Lemmatize the tokens.\n",
        "\n",
        "    Retains more natural word forms than stemming, but assumes all\n",
        "    tokens are nouns unless tokens are passed as (word, pos) tuples.\n",
        "    \"\"\"\n",
        "    lemmas = []\n",
        "    for token in tokens:\n",
        "        if isinstance(token, str):\n",
        "            lemmas.append(LEMMATIZER.lemmatize(token)) # treats token like a noun\n",
        "        else: # assume a tuple of (word, pos)\n",
        "            lemmas.append(LEMMATIZER.lemmatize(*token))\n",
        "    return lemmas\n",
        "\n",
        "# feature reduction. taking words and removing any stopwords\n",
        "def remove_stopwords(tokens, stopwords=None):\n",
        "    \"\"\"Remove stopwords, i.e. words that we don't want as part of our\n",
        "    analysis. Defaults to the default set of nltk english stopwords.\n",
        "    \"\"\"\n",
        "    if stopwords is None:\n",
        "        stopwords = nltk.corpus.stopwords.words(\"english\")\n",
        "    return [ token for token in tokens if token not in stopwords]\n",
        "\n",
        "#inputs a list of tokens and returns a list of unpunctuated tokens/words\n",
        "def remove_punctuation(tokens,\n",
        "                       strip_mentions=False,\n",
        "                       strip_hashtags=False,\n",
        "                       strict=False):\n",
        "    \"\"\"Remove punctuation from a list of tokens.\n",
        "\n",
        "    Has some specialized options for dealing with Tweets:\n",
        "\n",
        "    strip_mentions=True will strip the @ off of @ mentions\n",
        "    strip_hashtags=True will strip the # from hashtags\n",
        "\n",
        "    strict=True will remove all punctuation from all tokens, not merely\n",
        "    just tokens that are punctuation per se.\n",
        "    \"\"\"\n",
        "    tokens = [t for t in tokens if t not in string.punctuation]\n",
        "    if strip_mentions:\n",
        "        tokens = [t.lstrip('@') for t in tokens]\n",
        "    if strip_hashtags:\n",
        "        tokens = [t.lstrip('#') for t in tokens]\n",
        "    if strict:\n",
        "        cleaned = []\n",
        "        for t in tokens:\n",
        "            cleaned.append(\n",
        "                t.translate(str.maketrans('', '', string.punctuation)).strip())\n",
        "        tokens = [t for t in cleaned if t]\n",
        "    return tokens\n",
        "\n",
        "#remove single charecter words\n",
        "def remove_single_words(tokens):\n",
        "  goodwords = []\n",
        "  for a_feature in tokens:\n",
        "    if len(a_feature) > 1:\n",
        "      goodwords.append(a_feature)\n",
        "  return goodwords"
      ]
    },
    {
      "cell_type": "code",
      "source": [
        "def filter_part_of_speech(tokens, tagger=nltk.tag.PerceptronTagger().tag, parts_of_speech=None):\n",
        "  # tokenize text\n",
        "  words = tokens\n",
        "  tags = tagger(words)\n",
        "  tokens = []\n",
        "  # iterate through all the tags and count\n",
        "  for tag in tags:\n",
        "      if parts_of_speech is None or tag[1] in parts_of_speech:\n",
        "        if tag[0] not in tokens:\n",
        "          tokens.append(tag[0])\n",
        "  return tokens"
      ],
      "metadata": {
        "id": "n8BszKI3Eq1C"
      },
      "id": "n8BszKI3Eq1C",
      "execution_count": 37,
      "outputs": []
    },
    {
      "cell_type": "code",
      "source": [
        "def data_prep(text):\n",
        "    #natural language pre processing : clean the tweet\n",
        "    tokens = tokenize(text, lowercase=True, tweet=True)\n",
        "    #POS List https://www.ling.upenn.edu/courses/Fall_2003/ling001/penn_treebank_pos.html\n",
        "    tokens = filter_part_of_speech(tokens, parts_of_speech=['NNP', 'NN', 'NNS', 'NNPS', # Nouns of all types\n",
        "                                                            'JJ', 'JJR', 'JJS', # Adjectives of all types\n",
        "                                                            'VB', 'VBD', 'VBG', 'VBN', 'VBP', 'VBZ']) #Verbs of all types\n",
        "    tokens = remove_links(tokens)\n",
        "    tokens = remove_stopwords(tokens, stopwords=stopwords_set)\n",
        "    tokens = remove_punctuation(tokens, strip_mentions=True, strip_hashtags=True)\n",
        "    tokens = lemmatize(tokens)\n",
        "    tokens = remove_single_words(tokens)\n",
        "    #return the processed tokens\n",
        "    return tokens"
      ],
      "metadata": {
        "id": "V-Id9sthFFgW"
      },
      "id": "V-Id9sthFFgW",
      "execution_count": 38,
      "outputs": []
    },
    {
      "cell_type": "markdown",
      "source": [
        "## Load the Corpus of the Tweets"
      ],
      "metadata": {
        "id": "CDDMw_Y8FKb1"
      },
      "id": "CDDMw_Y8FKb1"
    },
    {
      "cell_type": "code",
      "source": [
        "## Load the Product Data\n",
        "##this assigns the filename we're trying to load in to a string variable\n",
        "tweet_file_path = '%s/nikelululemonadidas_tweets.jsonl.gz' % DATA_DIR\n",
        "json_file = gzip.open(tweet_file_path, 'r')"
      ],
      "metadata": {
        "id": "vpdFcYIeFJsF"
      },
      "id": "vpdFcYIeFJsF",
      "execution_count": 39,
      "outputs": []
    },
    {
      "cell_type": "markdown",
      "source": [
        "## Create List of Unique Words"
      ],
      "metadata": {
        "id": "uQNeSr6IFas4"
      },
      "id": "uQNeSr6IFas4"
    },
    {
      "cell_type": "code",
      "source": [
        "# expand the list of stopwords to use\n",
        "stopwords_set = set(nltk.corpus.stopwords.words(\"english\"))\n",
        "stopwords_set.add('rt')\n",
        "stopwords_set.add(\"'s\")\n",
        "stopwords_set.add('...')\n",
        "stopwords_set.add('..')\n",
        "stopwords_set.add(':/')"
      ],
      "metadata": {
        "id": "g2qAxPCGFaAw"
      },
      "id": "g2qAxPCGFaAw",
      "execution_count": 40,
      "outputs": []
    },
    {
      "cell_type": "code",
      "source": [
        "unique_words = {}\n",
        "\n",
        "#iterate through all tweets in the corpus\n",
        "for i, line in enumerate(json_file):\n",
        "    if i % 10000 == 0: # Show a periodic status\n",
        "      print(\"%s tweets iterated\" % i)\n",
        "    #load a single tweet and its text\n",
        "          # convert the json list to a dict\n",
        "    if not isinstance(line, dict):\n",
        "        tweet_json = json.loads(line)\n",
        "    else:\n",
        "        tweet_json = line\n",
        "    # get the text from the tweet\n",
        "    text = tweet_json.get(\"full_text\") or tweet_json.get(\"text\")\n",
        "    #natural language pre processing : clean the tweet\n",
        "    tokens = data_prep(text)\n",
        "    # iterate through the tokens, summerize, and count\n",
        "    for aword in tokens:\n",
        "        if aword in unique_words:\n",
        "            unique_words[aword] += 1\n",
        "        if aword not in unique_words:\n",
        "            unique_words[aword] = 1\n",
        "print(f\"{i} total tweets processed\")"
      ],
      "metadata": {
        "colab": {
          "base_uri": "https://localhost:8080/"
        },
        "id": "kVYzEMISFiXJ",
        "outputId": "0ff4386e-371e-454f-ac3d-ed1a7e3e3e63"
      },
      "id": "kVYzEMISFiXJ",
      "execution_count": 41,
      "outputs": [
        {
          "output_type": "stream",
          "name": "stdout",
          "text": [
            "0 tweets iterated\n",
            "10000 tweets iterated\n",
            "20000 tweets iterated\n",
            "30000 tweets iterated\n",
            "40000 tweets iterated\n",
            "50000 tweets iterated\n",
            "60000 tweets iterated\n",
            "70000 tweets iterated\n",
            "80000 tweets iterated\n",
            "90000 tweets iterated\n",
            "100000 tweets iterated\n",
            "110000 tweets iterated\n",
            "120000 tweets iterated\n",
            "130000 tweets iterated\n",
            "140000 tweets iterated\n",
            "150000 tweets iterated\n",
            "160000 tweets iterated\n",
            "170000 tweets iterated\n",
            "175077 total tweets processed\n"
          ]
        }
      ]
    },
    {
      "cell_type": "code",
      "source": [
        "#print the number of unique words in the corpus\n",
        "print('there are', len(unique_words), 'total words in the sematic network.')"
      ],
      "metadata": {
        "colab": {
          "base_uri": "https://localhost:8080/"
        },
        "id": "Me07Xdq3Fl3A",
        "outputId": "278f165d-5dda-4039-919d-e18fc1bd27a2"
      },
      "id": "Me07Xdq3Fl3A",
      "execution_count": 42,
      "outputs": [
        {
          "output_type": "stream",
          "name": "stdout",
          "text": [
            "there are 78327 total words in the sematic network.\n"
          ]
        }
      ]
    },
    {
      "cell_type": "markdown",
      "source": [
        "## Create Word Filter List"
      ],
      "metadata": {
        "id": "i0qcGx18Foje"
      },
      "id": "i0qcGx18Foje"
    },
    {
      "cell_type": "code",
      "source": [
        "#create a sorted list of words\n",
        "sorted_counts = sorted(unique_words.items(), key=lambda item: item[1], reverse=True)\n",
        "sorted_words = [word for word, count in sorted_counts]\n",
        "#print the top 10 words in the unique word list\n",
        "sorted_words[:10]"
      ],
      "metadata": {
        "colab": {
          "base_uri": "https://localhost:8080/"
        },
        "id": "FRybLonCFs0N",
        "outputId": "635da7f8-0a3a-4c91-f7f2-2734f967ed07"
      },
      "id": "FRybLonCFs0N",
      "execution_count": 43,
      "outputs": [
        {
          "output_type": "execute_result",
          "data": {
            "text/plain": [
              "['nike',\n",
              " 'adidas',\n",
              " 'sneakerscouts',\n",
              " 'eneskanter',\n",
              " 'xbox',\n",
              " 'available',\n",
              " 'day',\n",
              " 'air',\n",
              " 'china',\n",
              " 'kingjames']"
            ]
          },
          "metadata": {},
          "execution_count": 43
        }
      ]
    },
    {
      "cell_type": "code",
      "source": [
        "#print the word counts for the major brands\n",
        "print(\"Nike:\", unique_words[\"nike\"])\n",
        "print(\"Adidas:\", unique_words[\"adidas\"])\n",
        "print(\"Lululemon:\", unique_words[\"lululemon\"])"
      ],
      "metadata": {
        "colab": {
          "base_uri": "https://localhost:8080/"
        },
        "id": "v1ehoDlNFww5",
        "outputId": "3c039d3f-9784-4396-8e5b-66f6e043d307"
      },
      "id": "v1ehoDlNFww5",
      "execution_count": 44,
      "outputs": [
        {
          "output_type": "stream",
          "name": "stdout",
          "text": [
            "Nike: 102691\n",
            "Adidas: 36256\n",
            "Lululemon: 6226\n"
          ]
        }
      ]
    },
    {
      "cell_type": "code",
      "source": [
        "#select the top N words to include in the sematic graph\n",
        "brand_users = ['nike', 'lululemon', 'adidas']\n",
        "N = 300\n",
        "top_terms = list(set(sorted_words[:N] + brand_users))\n",
        "print('the top terms to include in the graph:\\n', top_terms)"
      ],
      "metadata": {
        "colab": {
          "base_uri": "https://localhost:8080/"
        },
        "id": "flNRXLzjFyTj",
        "outputId": "661f47df-5cde-4c85-8248-650ea7bf3e57"
      },
      "id": "flNRXLzjFyTj",
      "execution_count": 45,
      "outputs": [
        {
          "output_type": "stream",
          "name": "stdout",
          "text": [
            "the top terms to include in the graph:\n",
            " ['boredapeyc', 'running', 'ene', 'better', 'shit', 'new', 'mean', 'eneskanter', 'nikebasketball', 'app', 'adidasfballus', 'max', 'family', 'night', 'sport', 'innovation', 'community', 'put', \"abloh's\", 'heartbroken', 'chance', 'think', 'metaverse', 'call', 'bro', 'find', 'xbox', 'dunk', 'last', 'grey', 'see', 'blazer', 'start', 'give', 'hey', 'footlocker', 'season', 'course', 'stop', 'phil', 'celtic', 'kick', 'nothing', 'using', 'part', 'proud', 'giving', 'campaign', 'maybes', 'ht', 'wear', 'damn', 'money', 'ronwyden', 'team', 'blue', 'brilliant', 'excited', 'fly', 'launch', 'time', \"we're\", 'nicekicks', 'plane', 'pair', 'done', 'love', 'adidasoriginals', 'sure', 'right', 'favorite', 'baseball', 'keep', 'em', 'red', 'nba', 'solefed', 'nikesb', 'business', 'available', 'se', 'icon', 'good', 'cnn', 'deal', 'story', 'congrats', 'service', 'size', 'much', 'bought', 'centre', 'fuck', 'man', 'care', 'kit', 'passing', 'xboxsweepstakes', 'try', 'pack', 'play', 'next', 'nft', 'order', 'thing', 'donovan', 'customer', 'use', 'finishline', 'prize', 'happy', 'life', 'high', 'black', 'issue', 'need', 'fedex', 'someone', 'got', 'bring', 'lol', 'listen', 'trying', 'roblox', 'true', 'let', 'cool', 'turn', 'run', 'nfl', 'big', 'vapormax', 'slavery', 'mitchell', 'generation', 'product', 'thanks', 'month', 'theestallion', 'change', 'buy', 'feel', 'jumpman23', 'ebay', 'making', 'sneakerscouts', 'said', 'make', 'thank', 'tell', 'best', 'inspire', 'win', 'sneaker', 'michael', 'jordan', \"i'm\", 'giannis_an34', 'kingjames', 'drop', 'point', 'went', 'year', 'modern', 'kid', 'want', 'gonna', 'http', 'adidas', 'hyperkin', 'logo', 'send', 'follow', 'impossibleisnothing', 'ya', 'report', 'austinekeler', 'date', 'check', 'help', 'book', 'wearing', 'gear', 'scctradingcards', 'topps', 'china', 'going', 'take', 'today', 'many', 'watch', 'nike', 'say', 'knight', 'atmos_usa', 'way', 'coming', 'james', 'game', 'first', 'looking', 'dick', 'force', 'company', 'rtfktstudios', 'friend', 'store', 'ticket', 'guy', 'owner', 'nice', 'top', 'future', 'nikestore', 'christmas', 'release', 'people', 'wait', 'yardrunner', 'labor', 'partnership', 'nikenyc', 'week', 'lebron', 'purple', 'get', 'space', 'brand', 'lfc', 'go', 'kanter', 'great', 'kaya_alexander5', 'world', 'nba_newyork', 'work', 'package', 'made', 'flyknit', 'fashion', \"women's\", 'girl', 'news', 'anything', 'show', 'exclusive', 'white', 'welcome', 'lot', 'please', 'virgil', 'something', 'everyone', 'day', 'amazing', 'athlete', 'snkrs', 'sneakeradmirals', 'snkr_twitr', 'jersey', 'shoe', 'dear', 'ad', 'know', 'come', 'player', 'woman', 'support', 'low', 'including', 'link', 'fan', 'congratulation', 'thee', 'instagram', 'forced', 'lexxdaturtle', 'real', 'hit', 'chose', 'name', 'graduation', 'stay', 'card', 'enduyghurforcedlabor', 'hope', 'air', 'lasership', 'getting', 'slave', 'one', 'pink', 'crazy', \"let's\", 'look', 'amazon', 'lululemon', 'inspired', 'number', 'snipes_usa']\n"
          ]
        }
      ]
    },
    {
      "cell_type": "code",
      "source": [
        "words_to_include = set()\n",
        "#play with this number to get around 1000 words\n",
        "min_word_count = 300\n",
        "\n",
        "# a set is a unique list\n",
        "word_count = 0\n",
        "\n",
        "#iterate through the list of unique users and filter down the list\n",
        "for aword in unique_words:\n",
        "    if unique_words[aword] >= min_word_count:\n",
        "        word_count += 1\n",
        "        words_to_include.add(aword)\n",
        "print(len(words_to_include))"
      ],
      "metadata": {
        "colab": {
          "base_uri": "https://localhost:8080/"
        },
        "id": "LwEwoAPVF1B5",
        "outputId": "2462361e-58b9-452d-d261-66f977f0bccc"
      },
      "id": "LwEwoAPVF1B5",
      "execution_count": 46,
      "outputs": [
        {
          "output_type": "stream",
          "name": "stdout",
          "text": [
            "770\n"
          ]
        }
      ]
    },
    {
      "cell_type": "code",
      "source": [
        "#print the number of unique users to include in the graph\n",
        "print('there are', len(words_to_include), 'words to include in the final semantic network.')\n",
        "pct_of_total = round(len(words_to_include) / len(unique_words),4) * 100\n",
        "print(f\"{pct_of_total}% of the total users are included in the mention network.\")"
      ],
      "metadata": {
        "colab": {
          "base_uri": "https://localhost:8080/"
        },
        "id": "6JoLKsuCF4zc",
        "outputId": "b9954f2d-8e6f-4430-d138-897e2edea3a2"
      },
      "id": "6JoLKsuCF4zc",
      "execution_count": 47,
      "outputs": [
        {
          "output_type": "stream",
          "name": "stdout",
          "text": [
            "there are 770 words to include in the final semantic network.\n",
            "0.98% of the total users are included in the mention network.\n"
          ]
        }
      ]
    },
    {
      "cell_type": "markdown",
      "source": [
        "## Create the Semantic Graph Object"
      ],
      "metadata": {
        "id": "BtAm2xIgGBMg"
      },
      "id": "BtAm2xIgGBMg"
    },
    {
      "cell_type": "code",
      "source": [
        "## Load the Product Data\n",
        "##this assigns the filename we're trying to load in to a string variable\n",
        "tweet_file_path = '%s/nikelululemonadidas_tweets.jsonl.gz' % DATA_DIR\n",
        "json_file = gzip.open(tweet_file_path, 'r')"
      ],
      "metadata": {
        "id": "CUUpPjc2GCYc"
      },
      "id": "CUUpPjc2GCYc",
      "execution_count": 48,
      "outputs": []
    },
    {
      "cell_type": "code",
      "source": [
        "#create a blank graph object\n",
        "SEM_Graph = nx.Graph()"
      ],
      "metadata": {
        "id": "tk0d-8YHGG9P"
      },
      "id": "tk0d-8YHGG9P",
      "execution_count": 49,
      "outputs": []
    },
    {
      "cell_type": "code",
      "source": [
        "# Identify unique users in the semantic network\n",
        "for i, line in enumerate(json_file):\n",
        "    #provide an update on processing progress\n",
        "    if i % 10000 == 0: # Show a periodic status\n",
        "      print(\"%s tweets iterated\" % i)\n",
        "    #load a single tweet and its text\n",
        "          # convert the json list to a dict\n",
        "    if not isinstance(line, dict):\n",
        "        tweet_json = json.loads(line)\n",
        "    else:\n",
        "        tweet_json = line\n",
        "    # get the text from the tweet\n",
        "    text = tweet_json.get(\"full_text\") or tweet_json.get(\"text\")\n",
        "    #natural language pre processing : clean the tweet\n",
        "    tokens = data_prep(text)\n",
        "    #reduce the tweet to terms in the 1000 word network and add the\n",
        "    nodes = [t for t in tokens if t in top_terms]\n",
        "    if len(nodes) > 0:\n",
        "      # term relationships to the graph\n",
        "      cooccurrences = itertools.combinations(nodes, 2)\n",
        "      #peek under the hood at what is being added to the graph\n",
        "      if i % 10000 == 0:\n",
        "          print(\"\\nJust a glimpse so you can see what the cooccurrences for a tweet look like:\")\n",
        "          cooccurrences = list(cooccurrences)\n",
        "          print(cooccurrences,'\\n')\n",
        "      #iterate through all the combinations\n",
        "      for c in cooccurrences:\n",
        "        if c[0] != c[1]:\n",
        "          #add the tuples of words as edges to the graph\n",
        "          if SEM_Graph.has_edge(c[0], c[1]):\n",
        "            # If the edge exists, increment its weight\n",
        "            SEM_Graph[c[0]][c[1]]['weight'] += 1\n",
        "          else:\n",
        "            # If the edge doesn't exist, add it with weight=1\n",
        "            SEM_Graph.add_edge(c[0], c[1], weight=1)\n",
        "print(f\"{i} total tweets processed\")"
      ],
      "metadata": {
        "colab": {
          "base_uri": "https://localhost:8080/"
        },
        "id": "pg_d6r1_GJDs",
        "outputId": "7093552b-a6b9-417e-9ba0-2f6510656c91"
      },
      "id": "pg_d6r1_GJDs",
      "execution_count": 50,
      "outputs": [
        {
          "output_type": "stream",
          "name": "stdout",
          "text": [
            "0 tweets iterated\n",
            "\n",
            "Just a glimpse so you can see what the cooccurrences for a tweet look like:\n",
            "[('nike', \"women's\"), ('nike', 'air'), ('nike', 'white'), ('nike', 'available'), ('nike', 'footlocker'), ('nike', 'sneakerscouts'), ('nike', 'nike'), (\"women's\", 'air'), (\"women's\", 'white'), (\"women's\", 'available'), (\"women's\", 'footlocker'), (\"women's\", 'sneakerscouts'), (\"women's\", 'nike'), ('air', 'white'), ('air', 'available'), ('air', 'footlocker'), ('air', 'sneakerscouts'), ('air', 'nike'), ('white', 'available'), ('white', 'footlocker'), ('white', 'sneakerscouts'), ('white', 'nike'), ('available', 'footlocker'), ('available', 'sneakerscouts'), ('available', 'nike'), ('footlocker', 'sneakerscouts'), ('footlocker', 'nike'), ('sneakerscouts', 'nike')] \n",
            "\n",
            "10000 tweets iterated\n",
            "\n",
            "Just a glimpse so you can see what the cooccurrences for a tweet look like:\n",
            "[('nike', 'order'), ('nike', 'look'), ('nike', 'someone'), ('order', 'look'), ('order', 'someone'), ('look', 'someone')] \n",
            "\n",
            "20000 tweets iterated\n",
            "\n",
            "Just a glimpse so you can see what the cooccurrences for a tweet look like:\n",
            "[('austinekeler', 'adidas')] \n",
            "\n",
            "30000 tweets iterated\n",
            "\n",
            "Just a glimpse so you can see what the cooccurrences for a tweet look like:\n",
            "[('xbox', 'adidas'), ('xbox', 'hyperkin'), ('xbox', 'xboxsweepstakes'), ('adidas', 'hyperkin'), ('adidas', 'xboxsweepstakes'), ('hyperkin', 'xboxsweepstakes')] \n",
            "\n",
            "40000 tweets iterated\n",
            "\n",
            "Just a glimpse so you can see what the cooccurrences for a tweet look like:\n",
            "[('xbox', 'icon'), ('xbox', 'adidas'), ('xbox', 'xbox'), ('xbox', 'follow'), ('xbox', 'xboxsweepstakes'), ('xbox', 'chance'), ('xbox', 'win'), ('xbox', 'exclusive'), ('xbox', 'kit'), ('xbox', 'including'), ('icon', 'adidas'), ('icon', 'xbox'), ('icon', 'follow'), ('icon', 'xboxsweepstakes'), ('icon', 'chance'), ('icon', 'win'), ('icon', 'exclusive'), ('icon', 'kit'), ('icon', 'including'), ('adidas', 'xbox'), ('adidas', 'follow'), ('adidas', 'xboxsweepstakes'), ('adidas', 'chance'), ('adidas', 'win'), ('adidas', 'exclusive'), ('adidas', 'kit'), ('adidas', 'including'), ('xbox', 'follow'), ('xbox', 'xboxsweepstakes'), ('xbox', 'chance'), ('xbox', 'win'), ('xbox', 'exclusive'), ('xbox', 'kit'), ('xbox', 'including'), ('follow', 'xboxsweepstakes'), ('follow', 'chance'), ('follow', 'win'), ('follow', 'exclusive'), ('follow', 'kit'), ('follow', 'including'), ('xboxsweepstakes', 'chance'), ('xboxsweepstakes', 'win'), ('xboxsweepstakes', 'exclusive'), ('xboxsweepstakes', 'kit'), ('xboxsweepstakes', 'including'), ('chance', 'win'), ('chance', 'exclusive'), ('chance', 'kit'), ('chance', 'including'), ('win', 'exclusive'), ('win', 'kit'), ('win', 'including'), ('exclusive', 'kit'), ('exclusive', 'including'), ('kit', 'including')] \n",
            "\n",
            "50000 tweets iterated\n",
            "\n",
            "Just a glimpse so you can see what the cooccurrences for a tweet look like:\n",
            "[('eneskanter', 'dear'), ('eneskanter', 'stop'), ('eneskanter', 'modern'), ('eneskanter', 'day'), ('eneskanter', 'slavery'), ('eneskanter', 'enduyghurforcedlabor'), ('dear', 'stop'), ('dear', 'modern'), ('dear', 'day'), ('dear', 'slavery'), ('dear', 'enduyghurforcedlabor'), ('stop', 'modern'), ('stop', 'day'), ('stop', 'slavery'), ('stop', 'enduyghurforcedlabor'), ('modern', 'day'), ('modern', 'slavery'), ('modern', 'enduyghurforcedlabor'), ('day', 'slavery'), ('day', 'enduyghurforcedlabor'), ('slavery', 'enduyghurforcedlabor')] \n",
            "\n",
            "60000 tweets iterated\n",
            "\n",
            "Just a glimpse so you can see what the cooccurrences for a tweet look like:\n",
            "[('eneskanter', 'owner'), ('eneskanter', 'nike'), ('eneskanter', 'phil'), ('eneskanter', 'knight'), ('eneskanter', 'book'), ('eneskanter', 'plane'), ('eneskanter', 'ticket'), ('eneskanter', \"let's\"), ('eneskanter', 'fly'), ('eneskanter', 'china'), ('eneskanter', 'try'), ('owner', 'nike'), ('owner', 'phil'), ('owner', 'knight'), ('owner', 'book'), ('owner', 'plane'), ('owner', 'ticket'), ('owner', \"let's\"), ('owner', 'fly'), ('owner', 'china'), ('owner', 'try'), ('nike', 'phil'), ('nike', 'knight'), ('nike', 'book'), ('nike', 'plane'), ('nike', 'ticket'), ('nike', \"let's\"), ('nike', 'fly'), ('nike', 'china'), ('nike', 'try'), ('phil', 'knight'), ('phil', 'book'), ('phil', 'plane'), ('phil', 'ticket'), ('phil', \"let's\"), ('phil', 'fly'), ('phil', 'china'), ('phil', 'try'), ('knight', 'book'), ('knight', 'plane'), ('knight', 'ticket'), ('knight', \"let's\"), ('knight', 'fly'), ('knight', 'china'), ('knight', 'try'), ('book', 'plane'), ('book', 'ticket'), ('book', \"let's\"), ('book', 'fly'), ('book', 'china'), ('book', 'try'), ('plane', 'ticket'), ('plane', \"let's\"), ('plane', 'fly'), ('plane', 'china'), ('plane', 'try'), ('ticket', \"let's\"), ('ticket', 'fly'), ('ticket', 'china'), ('ticket', 'try'), (\"let's\", 'fly'), (\"let's\", 'china'), (\"let's\", 'try'), ('fly', 'china'), ('fly', 'try'), ('china', 'try')] \n",
            "\n",
            "70000 tweets iterated\n",
            "\n",
            "Just a glimpse so you can see what the cooccurrences for a tweet look like:\n",
            "[('sneakerscouts', 'ad'), ('sneakerscouts', 'nike'), ('sneakerscouts', 'air'), ('sneakerscouts', 'force'), ('sneakerscouts', 'available'), ('sneakerscouts', 'finishline'), ('sneakerscouts', 'sneakerscouts'), ('sneakerscouts', 'nike'), ('ad', 'nike'), ('ad', 'air'), ('ad', 'force'), ('ad', 'available'), ('ad', 'finishline'), ('ad', 'sneakerscouts'), ('ad', 'nike'), ('nike', 'air'), ('nike', 'force'), ('nike', 'available'), ('nike', 'finishline'), ('nike', 'sneakerscouts'), ('nike', 'nike'), ('air', 'force'), ('air', 'available'), ('air', 'finishline'), ('air', 'sneakerscouts'), ('air', 'nike'), ('force', 'available'), ('force', 'finishline'), ('force', 'sneakerscouts'), ('force', 'nike'), ('available', 'finishline'), ('available', 'sneakerscouts'), ('available', 'nike'), ('finishline', 'sneakerscouts'), ('finishline', 'nike'), ('sneakerscouts', 'nike')] \n",
            "\n",
            "80000 tweets iterated\n",
            "\n",
            "Just a glimpse so you can see what the cooccurrences for a tweet look like:\n",
            "[('sneakerscouts', 'ad'), ('sneakerscouts', 'nike'), ('sneakerscouts', \"women's\"), ('sneakerscouts', 'air'), ('sneakerscouts', 'vapormax'), ('sneakerscouts', 'red'), ('sneakerscouts', 'white'), ('sneakerscouts', 'available'), ('sneakerscouts', 'footlocker'), ('sneakerscouts', 'sneakerscouts'), ('sneakerscouts', 'nike'), ('sneakerscouts', 'http'), ('ad', 'nike'), ('ad', \"women's\"), ('ad', 'air'), ('ad', 'vapormax'), ('ad', 'red'), ('ad', 'white'), ('ad', 'available'), ('ad', 'footlocker'), ('ad', 'sneakerscouts'), ('ad', 'nike'), ('ad', 'http'), ('nike', \"women's\"), ('nike', 'air'), ('nike', 'vapormax'), ('nike', 'red'), ('nike', 'white'), ('nike', 'available'), ('nike', 'footlocker'), ('nike', 'sneakerscouts'), ('nike', 'nike'), ('nike', 'http'), (\"women's\", 'air'), (\"women's\", 'vapormax'), (\"women's\", 'red'), (\"women's\", 'white'), (\"women's\", 'available'), (\"women's\", 'footlocker'), (\"women's\", 'sneakerscouts'), (\"women's\", 'nike'), (\"women's\", 'http'), ('air', 'vapormax'), ('air', 'red'), ('air', 'white'), ('air', 'available'), ('air', 'footlocker'), ('air', 'sneakerscouts'), ('air', 'nike'), ('air', 'http'), ('vapormax', 'red'), ('vapormax', 'white'), ('vapormax', 'available'), ('vapormax', 'footlocker'), ('vapormax', 'sneakerscouts'), ('vapormax', 'nike'), ('vapormax', 'http'), ('red', 'white'), ('red', 'available'), ('red', 'footlocker'), ('red', 'sneakerscouts'), ('red', 'nike'), ('red', 'http'), ('white', 'available'), ('white', 'footlocker'), ('white', 'sneakerscouts'), ('white', 'nike'), ('white', 'http'), ('available', 'footlocker'), ('available', 'sneakerscouts'), ('available', 'nike'), ('available', 'http'), ('footlocker', 'sneakerscouts'), ('footlocker', 'nike'), ('footlocker', 'http'), ('sneakerscouts', 'nike'), ('sneakerscouts', 'http'), ('nike', 'http')] \n",
            "\n",
            "90000 tweets iterated\n",
            "\n",
            "Just a glimpse so you can see what the cooccurrences for a tweet look like:\n",
            "[('nike', 'woman'), ('nike', 'team'), ('nike', 'get'), ('woman', 'team'), ('woman', 'get'), ('team', 'get')] \n",
            "\n",
            "100000 tweets iterated\n",
            "\n",
            "Just a glimpse so you can see what the cooccurrences for a tweet look like:\n",
            "[('nike', 'partnership'), ('nike', 'deal'), ('partnership', 'deal')] \n",
            "\n",
            "110000 tweets iterated\n",
            "\n",
            "Just a glimpse so you can see what the cooccurrences for a tweet look like:\n",
            "[('get', 'show'), ('get', 'happy'), ('get', 'nike'), ('get', 'kid'), ('show', 'happy'), ('show', 'nike'), ('show', 'kid'), ('happy', 'nike'), ('happy', 'kid'), ('nike', 'kid')] \n",
            "\n",
            "120000 tweets iterated\n",
            "\n",
            "Just a glimpse so you can see what the cooccurrences for a tweet look like:\n",
            "[('kingjames', 'slavery'), ('kingjames', 'china'), ('kingjames', 'lebron'), ('slavery', 'china'), ('slavery', 'lebron'), ('china', 'lebron')] \n",
            "\n",
            "130000 tweets iterated\n",
            "\n",
            "Just a glimpse so you can see what the cooccurrences for a tweet look like:\n",
            "[('nike', 'air'), ('nike', 'vapormax'), ('nike', 'flyknit'), ('nike', 'logo'), ('nike', 'pack'), ('nike', 'available'), ('nike', 'finishline'), ('nike', 'sneakerscouts'), ('nike', 'nike'), ('air', 'vapormax'), ('air', 'flyknit'), ('air', 'logo'), ('air', 'pack'), ('air', 'available'), ('air', 'finishline'), ('air', 'sneakerscouts'), ('air', 'nike'), ('vapormax', 'flyknit'), ('vapormax', 'logo'), ('vapormax', 'pack'), ('vapormax', 'available'), ('vapormax', 'finishline'), ('vapormax', 'sneakerscouts'), ('vapormax', 'nike'), ('flyknit', 'logo'), ('flyknit', 'pack'), ('flyknit', 'available'), ('flyknit', 'finishline'), ('flyknit', 'sneakerscouts'), ('flyknit', 'nike'), ('logo', 'pack'), ('logo', 'available'), ('logo', 'finishline'), ('logo', 'sneakerscouts'), ('logo', 'nike'), ('pack', 'available'), ('pack', 'finishline'), ('pack', 'sneakerscouts'), ('pack', 'nike'), ('available', 'finishline'), ('available', 'sneakerscouts'), ('available', 'nike'), ('finishline', 'sneakerscouts'), ('finishline', 'nike'), ('sneakerscouts', 'nike')] \n",
            "\n",
            "140000 tweets iterated\n",
            "\n",
            "Just a glimpse so you can see what the cooccurrences for a tweet look like:\n",
            "[('nike', 'jumpman23'), ('nike', 'hit'), ('nike', 'put'), ('nike', 'cool'), ('nike', 'grey'), ('nike', 'snkrs'), ('nike', 'app'), ('nike', 'give'), ('nike', 'come'), ('nike', 'better'), ('nike', 'way'), ('nike', 'get'), ('nike', 'pair'), ('nike', 'order'), ('jumpman23', 'hit'), ('jumpman23', 'put'), ('jumpman23', 'cool'), ('jumpman23', 'grey'), ('jumpman23', 'snkrs'), ('jumpman23', 'app'), ('jumpman23', 'give'), ('jumpman23', 'come'), ('jumpman23', 'better'), ('jumpman23', 'way'), ('jumpman23', 'get'), ('jumpman23', 'pair'), ('jumpman23', 'order'), ('hit', 'put'), ('hit', 'cool'), ('hit', 'grey'), ('hit', 'snkrs'), ('hit', 'app'), ('hit', 'give'), ('hit', 'come'), ('hit', 'better'), ('hit', 'way'), ('hit', 'get'), ('hit', 'pair'), ('hit', 'order'), ('put', 'cool'), ('put', 'grey'), ('put', 'snkrs'), ('put', 'app'), ('put', 'give'), ('put', 'come'), ('put', 'better'), ('put', 'way'), ('put', 'get'), ('put', 'pair'), ('put', 'order'), ('cool', 'grey'), ('cool', 'snkrs'), ('cool', 'app'), ('cool', 'give'), ('cool', 'come'), ('cool', 'better'), ('cool', 'way'), ('cool', 'get'), ('cool', 'pair'), ('cool', 'order'), ('grey', 'snkrs'), ('grey', 'app'), ('grey', 'give'), ('grey', 'come'), ('grey', 'better'), ('grey', 'way'), ('grey', 'get'), ('grey', 'pair'), ('grey', 'order'), ('snkrs', 'app'), ('snkrs', 'give'), ('snkrs', 'come'), ('snkrs', 'better'), ('snkrs', 'way'), ('snkrs', 'get'), ('snkrs', 'pair'), ('snkrs', 'order'), ('app', 'give'), ('app', 'come'), ('app', 'better'), ('app', 'way'), ('app', 'get'), ('app', 'pair'), ('app', 'order'), ('give', 'come'), ('give', 'better'), ('give', 'way'), ('give', 'get'), ('give', 'pair'), ('give', 'order'), ('come', 'better'), ('come', 'way'), ('come', 'get'), ('come', 'pair'), ('come', 'order'), ('better', 'way'), ('better', 'get'), ('better', 'pair'), ('better', 'order'), ('way', 'get'), ('way', 'pair'), ('way', 'order'), ('get', 'pair'), ('get', 'order'), ('pair', 'order')] \n",
            "\n",
            "150000 tweets iterated\n",
            "160000 tweets iterated\n",
            "\n",
            "Just a glimpse so you can see what the cooccurrences for a tweet look like:\n",
            "[('gear', 'nike'), ('gear', 'jumpman23'), ('gear', 'nike'), ('nike', 'jumpman23'), ('nike', 'nike'), ('jumpman23', 'nike')] \n",
            "\n",
            "170000 tweets iterated\n",
            "\n",
            "Just a glimpse so you can see what the cooccurrences for a tweet look like:\n",
            "[('adidas', 'win'), ('adidas', 'dunk'), ('adidas', 'lol'), ('adidas', 'think'), ('adidas', 'donovan'), ('adidas', 'done'), ('adidas', 'take'), ('adidas', 'anything'), ('win', 'dunk'), ('win', 'lol'), ('win', 'think'), ('win', 'donovan'), ('win', 'done'), ('win', 'take'), ('win', 'anything'), ('dunk', 'lol'), ('dunk', 'think'), ('dunk', 'donovan'), ('dunk', 'done'), ('dunk', 'take'), ('dunk', 'anything'), ('lol', 'think'), ('lol', 'donovan'), ('lol', 'done'), ('lol', 'take'), ('lol', 'anything'), ('think', 'donovan'), ('think', 'done'), ('think', 'take'), ('think', 'anything'), ('donovan', 'done'), ('donovan', 'take'), ('donovan', 'anything'), ('done', 'take'), ('done', 'anything'), ('take', 'anything')] \n",
            "\n",
            "175077 total tweets processed\n"
          ]
        }
      ]
    },
    {
      "cell_type": "code",
      "source": [
        "#display a summary of the graph object created\n",
        "graph_summary_stats(G = SEM_Graph)"
      ],
      "metadata": {
        "colab": {
          "base_uri": "https://localhost:8080/"
        },
        "id": "X6acPGkXGMMZ",
        "outputId": "dbcb6d79-210c-479b-f723-92c0070ca792"
      },
      "id": "X6acPGkXGMMZ",
      "execution_count": 51,
      "outputs": [
        {
          "output_type": "stream",
          "name": "stdout",
          "text": [
            "----------------------------------------\n",
            "##### Graph Summary #####\n",
            "number of nodes: 300\n",
            "number of edges: 33553\n",
            "\n",
            "nodes: ['nike', \"women's\", 'air', 'white', 'available', 'footlocker', 'sneakerscouts', 'adidas', 'lasership', 'work', 'next', 'ad', 'space', 'low', 'snipes_usa', 'snkrs', 'get', 'nikebasketball', 'partnership', 'team', 'release', 'jordan', 'real', 'support', 'friend', 'family', 'kaya_alexander5', 'nikestore', 'sneakeradmirals', 'pair', 'lot', 'wait', 'game', 'jumpman23', 'cnn', 'instagram', 'ebay', 'amazon', 'business', 'max', 'ht', 'dunk', 'adidasoriginals', 'look', 'wearing', 'say', 'drop', 'time', 'vapormax', 'flyknit', 'finishline', 'much', 'people', 'nicekicks', 'snkr_twitr', 'good', 'sport', 'week', 'take', 'black', 'lol', 'think', 'care', 'deal', 'run', 'company', 'win', 'guy', 'see', 'way', 'keep', 'play', 'top', 'going', 'year', 'thank', 'great', 'getting', 'show', 'making', 'want', 'kingjames', 'start', 'blazer', 'red', 'need', 'jersey', 'sneaker', 'day', 'date', 'fashion', 'know', 'thanks', 'something', 'trying', 'issue', 'let', 'make', 'sure', 'love', 'buy', 'everyone', 'theestallion', 'thee', 'app', 'go', 'shoe', 'part', 'grey', 'hey', 'cool', 'exclusive', 'got', 'brand', 'new', 'customer', 'bought', 'blue', 'month', 'turn', 'please', 'use', 'package', 'put', 'lululemon', 'happy', \"we're\", 'giving', 'store', 'running', 'force', 'thing', \"i'm\", 'woman', 'service', 'night', 'gonna', 'first', 'help', 'change', 'bro', 'best', 'right', 'order', 'congrats', 'se', 'gear', 'http', 'season', 'one', 'kit', 'lfc', 'looking', 'man', 'many', 'size', 'last', 'chance', 'said', 'tell', 'campaign', 'link', 'story', 'today', 'nikenyc', 'girl', 'point', 'stay', 'em', 'hit', 'nice', 'product', 'stop', 'adidasfballus', 'shit', 'money', 'fly', 'atmos_usa', 'ticket', 'dick', 'big', 'pink', 'find', 'lebron', 'james', 'athlete', 'kick', 'fan', 'wear', 'check', 'icon', 'follow', 'done', 'community', 'try', 'amazing', 'life', 'send', 'favorite', 'congratulation', 'feel', 'crazy', 'world', 'bring', 'christmas', 'report', 'high', 'forced', 'watch', 'made', 'modern', 'phil', 'knight', 'name', 'welcome', 'slave', 'labor', 'number', 'innovation', 'mean', 'come', 'better', 'purple', 'fedex', 'logo', 'pack', 'give', 'card', 'true', 'hope', 'fuck', 'future', 'passing', 'someone', 'lexxdaturtle', 'damn', 'kid', 'prize', 'nfl', 'chose', 'nothing', 'player', \"let's\", 'dear', 'course', 'using', 'book', 'nikesb', 'ya', 'nft', 'anything', 'call', 'went', 'coming', 'solefed', 'excited', 'china', 'listen', 'michael', 'nba', 'celtic', 'proud', 'including', 'launch', 'impossibleisnothing', 'xbox', 'inspire', 'slavery', 'inspired', 'news', 'owner', 'brilliant', 'baseball', 'metaverse', 'centre', 'giannis_an34', 'roblox', 'donovan', 'mitchell', 'austinekeler', 'yardrunner', 'generation', 'heartbroken', 'xboxsweepstakes', 'hyperkin', 'plane', 'eneskanter', 'kanter', 'rtfktstudios', 'ene', 'enduyghurforcedlabor', 'boredapeyc', 'graduation', 'scctradingcards', 'topps', 'virgil', \"abloh's\", 'nba_newyork', 'ronwyden', 'maybes']\n",
            "\n",
            "neighbors of adidas: ['available', 'partnership', 'nike', 'real', 'get', 'support', 'friend', 'family', 'adidasoriginals', 'look', 'wearing', 'say', 'drop', 'much', 'people', 'lol', 'deal', 'black', 'run', 'company', 'thank', 'great', 'team', 'getting', 'red', 'need', 'jersey', 'start', 'know', 'play', 'bought', 'pair', 'blue', 'month', 'please', 'next', 'sneaker', 'love', 'new', 'grey', 'year', 'thanks', 'service', 'shoe', 'keep', 'night', 'gonna', 'right', 'brand', 'make', 'sure', 'gear', 'see', 'got', 'one', 'good', 'day', 'top', 'trying', 'tell', 'let', 'think', 'today', 'way', 'snkr_twitr', 'adidasfballus', \"we're\", 'em', 'want', 'man', 'show', 'first', 'athlete', 'size', 'check', 'icon', 'done', 'kit', 'follow', 'instagram', 'http', 'try', 'amazing', 'help', 'life', 'fan', 'order', 'wait', 'work', 'watch', 'looking', 'fly', 'season', 'modern', 'time', 'store', 'win', 'point', 'world', 'better', 'hey', 'going', 'big', 'welcome', 'many', \"i'm\", 'hope', 'take', 'care', 'find', 'white', 'give', 'future', 'passing', 'guy', 'girl', 'card', 'prize', 'nice', 'feel', \"women's\", 'lasership', 'package', 'customer', 'money', 'nft', 'favorite', 'sport', 'bring', 'happy', 'last', 'everyone', 'put', 'excited', \"let's\", 'buy', 'stop', 'something', 'thing', 'made', 'player', 'high', 'app', 'china', 'campaign', 'ad', 'snipes_usa', 'running', 'release', 'bro', 'stay', 'using', 'kick', 'impossibleisnothing', 'best', 'jumpman23', 'nfl', 'nba', 'said', 'wear', 'product', 'game', 'pack', 'send', 'kid', 'mean', 'shit', 'someone', 'crazy', 'cool', 'week', 'part', 'come', 'call', 'inspire', 'congrats', 'use', 'lot', 'go', 'change', 'nothing', 'name', 'anything', 'exclusive', 'went', 'congratulation', 'turn', 'amazon', 'proud', 'number', 'damn', 'true', 'giving', 'link', 'course', 'nikebasketball', 'woman', 'fedex', 'nikestore', 'owner', 'date', 'low', 'making', 'business', 'pink', 'footlocker', 'story', 'xbox', 'news', 'community', 'book', 'innovation', 'brilliant', 'report', 'sneakeradmirals', 'chose', 'nikenyc', 'issue', 'lululemon', 'james', 'fuck', 'ebay', 'coming', 'inspired', 'launch', 'ticket', 'nicekicks', 'including', 'air', 'logo', 'jordan', 'force', 'fashion', 'michael', 'hit', 'slave', 'labor', 'dear', 'purple', 'space', 'chance', 'forced', 'baseball', 'dick', 'theestallion', 'cnn', 'max', 'christmas', 'snkrs', 'dunk', 'knight', 'phil', 'ya', 'donovan', 'mitchell', 'austinekeler', 'atmos_usa', 'solefed', 'generation', 'kingjames', 'se', 'xboxsweepstakes', 'hyperkin', 'roblox', 'plane', 'lexxdaturtle', 'finishline', 'celtic', 'blazer', 'heartbroken', 'ht', 'eneskanter', 'nikesb', 'kanter', 'giannis_an34', 'lfc', 'topps', 'listen', 'boredapeyc', 'centre', 'lebron', 'metaverse', 'flyknit', 'rtfktstudios', 'kaya_alexander5', 'scctradingcards', 'thee', 'graduation', 'slavery', 'maybes']\n",
            "neighbors of nike: [\"women's\", 'air', 'white', 'available', 'footlocker', 'sneakerscouts', 'lasership', 'work', 'next', 'snkrs', 'get', 'nikebasketball', 'partnership', 'adidas', 'team', 'release', 'jordan', 'lot', 'wait', 'cnn', 'instagram', 'ebay', 'amazon', 'business', 'ad', 'max', 'snipes_usa', 'ht', 'dunk', 'time', 'vapormax', 'flyknit', 'finishline', 'jumpman23', 'sneakeradmirals', 'nicekicks', 'snkr_twitr', 'look', 'good', 'black', 'think', 'people', 'care', 'win', 'guy', 'see', 'way', 'keep', 'play', 'say', 'top', 'going', 'year', 'show', 'making', 'want', 'space', 'low', 'kingjames', 'start', 'blazer', 'getting', 'thanks', 'something', 'trying', 'issue', 'go', 'shoe', 'part', 'support', 'grey', 'turn', 'new', 'use', 'company', 'package', 'put', 'week', 'know', 'thing', \"i'm\", 'woman', 'day', 'red', 'let', 'order', 'congrats', 'customer', 'force', 'se', 'happy', 'http', 'season', 'lol', 'store', 'kit', 'lfc', 'real', 'game', 'jersey', 'man', 'many', 'pair', 'size', 'last', 'chance', 'said', 'please', 'app', 'nikenyc', 'girl', 'point', 'blue', 'night', 'love', 'today', 'make', 'money', 'take', 'link', 'right', 'atmos_usa', 'great', 'nikestore', 'dick', 'sure', 'brand', 'pink', 'need', 'stop', 'giving', 'kick', 'buy', 'sport', 'story', 'check', 'sneaker', 'thank', 'got', 'send', 'favorite', 'product', 'world', 'bring', 'christmas', 'report', 'high', 'forced', 'best', 'made', 'big', 'phil', 'knight', 'athlete', 'name', 'much', 'kaya_alexander5', 'welcome', 'slave', 'labor', 'number', 'innovation', 'mean', 'come', 'em', 'lebron', 'run', 'purple', 'fan', 'fedex', 'help', 'bro', 'service', 'logo', 'pack', 'true', 'watch', 'looking', 'give', 'fuck', 'shit', 'tell', 'campaign', 'lexxdaturtle', 'gonna', 'community', 'one', 'nice', 'damn', 'amazing', 'month', 'done', 'theestallion', 'player', 'nothing', 'fashion', 'follow', 'gear', 'nfl', 'first', 'icon', 'book', 'cool', 'nikesb', 'bought', 'try', 'wearing', 'anything', 'call', 'feel', 'deal', 'hit', \"we're\", 'life', 'hey', 'wear', 'went', 'better', 'coming', 'solefed', 'kid', 'excited', 'change', 'everyone', 'china', 'crazy', 'find', 'running', 'modern', 'listen', 'michael', 'nba', 'celtic', 'including', 'someone', 'hope', 'future', 'launch', 'exclusive', 'course', 'family', 'using', 'drop', 'xbox', 'dear', 'friend', 'stay', 'thee', 'date', 'card', 'congratulation', 'inspire', 'james', 'prize', 'inspired', \"let's\", 'news', 'ya', 'owner', 'brilliant', 'adidasoriginals', 'baseball', 'nft', 'proud', 'fly', 'lululemon', 'passing', 'slavery', 'giannis_an34', 'ticket', 'metaverse', 'roblox', 'yardrunner', 'heartbroken', 'chose', 'centre', 'hyperkin', 'xboxsweepstakes', 'mitchell', 'eneskanter', 'kanter', 'rtfktstudios', 'ene', 'plane', 'enduyghurforcedlabor', 'boredapeyc', 'generation', 'impossibleisnothing', 'scctradingcards', 'topps', 'virgil', 'graduation', \"abloh's\", 'adidasfballus', 'nba_newyork', 'ronwyden']\n",
            "neighbors of lululemon: ['thank', 'happy', 'let', 'week', 'great', 'nice', 'running', 'thanks', 'top', 'follow', 'congratulation', 'feel', 'please', 'make', 'brand', 'fashion', 'hey', 'order', 'life', 'new', 'got', 'good', 'friend', 'put', 'everyone', 'love', 'need', 'give', 'card', 'buy', 'day', 'try', 'store', 'get', 'know', 'best', 'thing', 'customer', 'service', 'said', 'run', 'size', 'pair', 'one', 'find', 'something', 'product', 'way', 'app', 'keep', 'lol', 'course', 'wearing', 'business', 'see', 'stay', 'made', 'time', 'season', \"i'm\", 'guy', 'think', 'ya', 'chance', 'pack', 'favorite', 'deal', 'space', 'force', 'look', 'show', 'package', 'say', 'help', 'kid', 'tell', 'mean', 'many', 'work', 'take', 'shoe', 'coming', 'come', 'gear', 'hit', 'people', 'man', 'team', 'last', 'night', 'going', 'right', 'fan', 'money', 'point', 'real', 'better', 'lot', 'year', 'want', 'stop', 'community', 'getting', 'hope', 'family', 'send', 'pink', 'go', 'call', 'amazing', 'world', 'today', 'high', 'check', \"we're\", 'kick', 'change', 'woman', 'wear', 'company', 'first', 'wait', 'next', 'excited', 'ticket', 'part', 'using', 'including', 'release', 'nothing', 'anything', 'gonna', 'use', 'news', 'campaign', 'name', 'start', 'someone', 'trying', 'support', 'done', 'went', 'sure', 'china', 'bought', 'game', 'blazer', \"women's\", 'white', 'black', 'grey', 'partnership', 'much', 'turn', 'cool', 'adidas', 'jumpman23', 'girl', 'ad', 'looking', 'nike', 'number', 'damn', 'athlete', 'prize', 'care', 'report', 'big', 'shit', 'adidasoriginals', 'sport', 'proud', 'fedex', 'james', 'welcome', 'month', 'available', 'launch', 'blue', 'making', 'story', 'giving', 'date', 'inspired', 'issue', 'inspire', 'centre', 'link', 'dear', 'true', 'fly', 'book', 'drop', 'win', 'congrats', 'play', 'watch', 'instagram', 'exclusive', 'future', 'crazy', 'bring', 'knight', 'owner', 'fuck', 'nba', 'nfl', 'amazon', 'nft', 'logo', 'christmas', 'listen', 'plane', 'nikestore', 'jordan', 'player', 'slavery', 'air', 'nicekicks', 'ht', 'low', 'bro', 'red', 'kit', 'brilliant', 'jersey', 'modern', 'http', 'celtic', 'footlocker', 'innovation', 'forced', 'labor', 'sneaker', \"let's\", 'max', 'em', 'metaverse', 'dick', 'generation', 'nikenyc', 'atmos_usa', 'sneakeradmirals', 'snkr_twitr', 'ebay', 'baseball', 'purple', 'thee']\n",
            "----------------------------------------\n",
            "\n"
          ]
        }
      ]
    },
    {
      "cell_type": "code",
      "source": [
        "#extract edge weights\n",
        "hist_data_edge_weights = [SEM_Graph[u][v]['weight'] for u, v in SEM_Graph.edges()]\n",
        "\n",
        "#determine bin edges based on desired bin width\n",
        "bin_width = 50\n",
        "min_edge_weight = min(hist_data_edge_weights)\n",
        "max_edge_weight = max(hist_data_edge_weights)\n",
        "bins = np.arange(min_edge_weight, max_edge_weight + bin_width, bin_width)\n",
        "\n",
        "#plot histogram\n",
        "plt.hist(hist_data_edge_weights, bins=bins, color='blue', edgecolor='black', alpha=0.7)\n",
        "plt.title('Histogram of Edge Weights')\n",
        "plt.xlabel('Weight')\n",
        "plt.ylabel('Number of Edges')\n",
        "plt.show()"
      ],
      "metadata": {
        "colab": {
          "base_uri": "https://localhost:8080/",
          "height": 472
        },
        "id": "VbNkgfcjGSm5",
        "outputId": "0d4c7017-e388-470d-ddbd-e5230f2ce89c"
      },
      "id": "VbNkgfcjGSm5",
      "execution_count": 52,
      "outputs": [
        {
          "output_type": "display_data",
          "data": {
            "text/plain": [
              "<Figure size 640x480 with 1 Axes>"
            ],
            "image/png": "[encoded data removed]"
          },
          "metadata": {}
        }
      ]
    },
    {
      "cell_type": "code",
      "source": [
        "SEM_Graph_clean = focus_edges(G = SEM_Graph, weight_min = 10)"
      ],
      "metadata": {
        "id": "65Od5-I0IMjU"
      },
      "id": "65Od5-I0IMjU",
      "execution_count": 55,
      "outputs": []
    },
    {
      "cell_type": "code",
      "source": [
        "#display a summary of the graph object created\n",
        "graph_summary_stats(G = SEM_Graph_clean)"
      ],
      "metadata": {
        "colab": {
          "base_uri": "https://localhost:8080/"
        },
        "id": "belIg_9FINzM",
        "outputId": "8e0a1602-f735-4cbe-fcd7-f67b200ea662"
      },
      "id": "belIg_9FINzM",
      "execution_count": 56,
      "outputs": [
        {
          "output_type": "stream",
          "name": "stdout",
          "text": [
            "----------------------------------------\n",
            "##### Graph Summary #####\n",
            "number of nodes: 300\n",
            "number of edges: 15411\n",
            "\n",
            "nodes: ['nike', \"women's\", 'air', 'white', 'available', 'footlocker', 'sneakerscouts', 'adidas', 'lasership', 'work', 'next', 'ad', 'space', 'low', 'snipes_usa', 'snkrs', 'get', 'nikebasketball', 'partnership', 'team', 'release', 'jordan', 'real', 'support', 'friend', 'family', 'kaya_alexander5', 'nikestore', 'sneakeradmirals', 'pair', 'lot', 'wait', 'game', 'jumpman23', 'cnn', 'instagram', 'ebay', 'amazon', 'business', 'max', 'ht', 'dunk', 'adidasoriginals', 'look', 'wearing', 'say', 'drop', 'time', 'vapormax', 'flyknit', 'finishline', 'much', 'people', 'nicekicks', 'snkr_twitr', 'good', 'sport', 'week', 'take', 'black', 'lol', 'think', 'care', 'deal', 'run', 'company', 'win', 'guy', 'see', 'way', 'keep', 'play', 'top', 'going', 'year', 'thank', 'great', 'getting', 'show', 'making', 'want', 'kingjames', 'start', 'blazer', 'red', 'need', 'jersey', 'sneaker', 'day', 'date', 'fashion', 'know', 'thanks', 'something', 'trying', 'issue', 'let', 'make', 'sure', 'love', 'buy', 'everyone', 'theestallion', 'thee', 'app', 'go', 'shoe', 'part', 'grey', 'hey', 'cool', 'exclusive', 'got', 'brand', 'new', 'customer', 'bought', 'blue', 'month', 'turn', 'please', 'use', 'package', 'put', 'lululemon', 'happy', \"we're\", 'giving', 'store', 'running', 'force', 'thing', \"i'm\", 'woman', 'service', 'night', 'gonna', 'first', 'help', 'change', 'bro', 'best', 'right', 'order', 'congrats', 'se', 'gear', 'http', 'season', 'one', 'kit', 'lfc', 'looking', 'man', 'many', 'size', 'last', 'chance', 'said', 'tell', 'campaign', 'link', 'story', 'today', 'nikenyc', 'girl', 'point', 'stay', 'em', 'hit', 'nice', 'product', 'stop', 'adidasfballus', 'shit', 'money', 'fly', 'atmos_usa', 'ticket', 'dick', 'big', 'pink', 'find', 'lebron', 'james', 'athlete', 'kick', 'fan', 'wear', 'check', 'icon', 'follow', 'done', 'community', 'try', 'amazing', 'life', 'send', 'favorite', 'congratulation', 'feel', 'crazy', 'world', 'bring', 'christmas', 'report', 'high', 'forced', 'watch', 'made', 'modern', 'phil', 'knight', 'name', 'welcome', 'slave', 'labor', 'number', 'innovation', 'mean', 'come', 'better', 'purple', 'fedex', 'logo', 'pack', 'give', 'card', 'true', 'hope', 'fuck', 'future', 'passing', 'someone', 'lexxdaturtle', 'damn', 'kid', 'prize', 'nfl', 'chose', 'nothing', 'player', \"let's\", 'dear', 'course', 'using', 'book', 'nikesb', 'ya', 'nft', 'anything', 'call', 'went', 'coming', 'solefed', 'excited', 'china', 'listen', 'michael', 'nba', 'celtic', 'proud', 'including', 'launch', 'impossibleisnothing', 'xbox', 'inspire', 'slavery', 'inspired', 'news', 'owner', 'brilliant', 'baseball', 'metaverse', 'centre', 'giannis_an34', 'roblox', 'donovan', 'mitchell', 'austinekeler', 'yardrunner', 'generation', 'heartbroken', 'xboxsweepstakes', 'hyperkin', 'plane', 'eneskanter', 'kanter', 'rtfktstudios', 'ene', 'enduyghurforcedlabor', 'boredapeyc', 'graduation', 'scctradingcards', 'topps', 'virgil', \"abloh's\", 'nba_newyork', 'ronwyden', 'maybes']\n",
            "\n",
            "neighbors of adidas: ['available', 'partnership', 'nike', 'real', 'get', 'support', 'friend', 'family', 'adidasoriginals', 'look', 'wearing', 'say', 'drop', 'much', 'people', 'lol', 'deal', 'black', 'run', 'company', 'thank', 'great', 'team', 'getting', 'red', 'need', 'jersey', 'start', 'know', 'play', 'bought', 'pair', 'blue', 'month', 'please', 'next', 'sneaker', 'love', 'new', 'grey', 'year', 'thanks', 'service', 'shoe', 'keep', 'night', 'gonna', 'right', 'brand', 'make', 'sure', 'gear', 'see', 'got', 'one', 'good', 'day', 'top', 'trying', 'tell', 'let', 'think', 'today', 'way', 'snkr_twitr', 'adidasfballus', \"we're\", 'em', 'want', 'man', 'show', 'first', 'athlete', 'size', 'check', 'icon', 'done', 'kit', 'follow', 'instagram', 'http', 'try', 'amazing', 'help', 'life', 'fan', 'order', 'wait', 'work', 'watch', 'looking', 'fly', 'season', 'time', 'store', 'win', 'point', 'world', 'better', 'hey', 'going', 'big', 'welcome', 'many', \"i'm\", 'hope', 'take', 'care', 'find', 'white', 'give', 'future', 'passing', 'guy', 'girl', 'card', 'prize', 'nice', 'feel', \"women's\", 'lasership', 'package', 'customer', 'money', 'nft', 'favorite', 'sport', 'bring', 'happy', 'last', 'everyone', 'put', 'excited', \"let's\", 'buy', 'stop', 'something', 'thing', 'made', 'player', 'high', 'app', 'china', 'campaign', 'ad', 'running', 'release', 'bro', 'stay', 'using', 'kick', 'impossibleisnothing', 'best', 'jumpman23', 'nfl', 'nba', 'said', 'wear', 'product', 'game', 'pack', 'send', 'kid', 'mean', 'shit', 'someone', 'crazy', 'cool', 'week', 'part', 'come', 'call', 'inspire', 'congrats', 'use', 'lot', 'go', 'change', 'nothing', 'name', 'anything', 'exclusive', 'went', 'congratulation', 'turn', 'amazon', 'proud', 'number', 'damn', 'true', 'giving', 'link', 'course', 'nikebasketball', 'woman', 'fedex', 'nikestore', 'owner', 'date', 'low', 'making', 'business', 'pink', 'footlocker', 'story', 'xbox', 'news', 'community', 'book', 'innovation', 'report', 'sneakeradmirals', 'chose', 'issue', 'james', 'fuck', 'ebay', 'coming', 'inspired', 'launch', 'ticket', 'nicekicks', 'including', 'air', 'logo', 'jordan', 'force', 'fashion', 'michael', 'hit', 'slave', 'labor', 'dear', 'space', 'chance', 'baseball', 'dick', 'christmas', 'snkrs', 'dunk', 'ya', 'donovan', 'mitchell', 'austinekeler', 'atmos_usa', 'solefed', 'generation', 'kingjames', 'xboxsweepstakes', 'hyperkin', 'roblox', 'lexxdaturtle', 'finishline', 'ht', 'eneskanter', 'nikesb', 'giannis_an34', 'lfc', 'topps', 'listen', 'boredapeyc', 'metaverse', 'rtfktstudios', 'kaya_alexander5', 'maybes']\n",
            "neighbors of nike: [\"women's\", 'air', 'white', 'available', 'footlocker', 'sneakerscouts', 'lasership', 'work', 'next', 'snkrs', 'get', 'nikebasketball', 'partnership', 'adidas', 'team', 'release', 'jordan', 'lot', 'wait', 'cnn', 'instagram', 'ebay', 'amazon', 'business', 'ad', 'max', 'snipes_usa', 'ht', 'dunk', 'time', 'vapormax', 'flyknit', 'finishline', 'jumpman23', 'sneakeradmirals', 'nicekicks', 'snkr_twitr', 'look', 'good', 'black', 'think', 'people', 'care', 'win', 'guy', 'see', 'way', 'keep', 'play', 'say', 'top', 'going', 'year', 'show', 'making', 'want', 'space', 'low', 'kingjames', 'start', 'blazer', 'getting', 'thanks', 'something', 'trying', 'issue', 'go', 'shoe', 'part', 'support', 'grey', 'turn', 'new', 'use', 'company', 'package', 'put', 'week', 'know', 'thing', \"i'm\", 'woman', 'day', 'red', 'let', 'order', 'congrats', 'customer', 'force', 'se', 'happy', 'http', 'season', 'lol', 'store', 'kit', 'lfc', 'real', 'game', 'jersey', 'man', 'many', 'pair', 'size', 'last', 'chance', 'said', 'please', 'app', 'nikenyc', 'girl', 'point', 'blue', 'night', 'love', 'today', 'make', 'money', 'take', 'link', 'right', 'atmos_usa', 'great', 'nikestore', 'dick', 'sure', 'brand', 'pink', 'need', 'stop', 'giving', 'kick', 'buy', 'sport', 'story', 'check', 'sneaker', 'thank', 'got', 'send', 'favorite', 'product', 'world', 'bring', 'christmas', 'report', 'high', 'forced', 'best', 'made', 'big', 'phil', 'knight', 'athlete', 'name', 'much', 'kaya_alexander5', 'welcome', 'slave', 'labor', 'number', 'innovation', 'mean', 'come', 'em', 'lebron', 'run', 'purple', 'fan', 'fedex', 'help', 'bro', 'service', 'logo', 'pack', 'true', 'watch', 'looking', 'give', 'fuck', 'shit', 'tell', 'campaign', 'lexxdaturtle', 'gonna', 'community', 'one', 'nice', 'damn', 'amazing', 'month', 'done', 'theestallion', 'player', 'nothing', 'fashion', 'follow', 'gear', 'nfl', 'first', 'icon', 'book', 'cool', 'nikesb', 'bought', 'try', 'wearing', 'anything', 'call', 'feel', 'deal', 'hit', \"we're\", 'life', 'hey', 'wear', 'went', 'better', 'coming', 'solefed', 'kid', 'excited', 'change', 'everyone', 'china', 'crazy', 'find', 'running', 'modern', 'listen', 'michael', 'nba', 'celtic', 'including', 'someone', 'hope', 'future', 'launch', 'exclusive', 'course', 'family', 'using', 'drop', 'xbox', 'dear', 'friend', 'stay', 'thee', 'date', 'card', 'congratulation', 'inspire', 'james', 'prize', 'inspired', \"let's\", 'news', 'ya', 'owner', 'brilliant', 'adidasoriginals', 'baseball', 'nft', 'proud', 'fly', 'lululemon', 'passing', 'slavery', 'giannis_an34', 'ticket', 'metaverse', 'roblox', 'yardrunner', 'heartbroken', 'chose', 'centre', 'eneskanter', 'kanter', 'rtfktstudios', 'ene', 'plane', 'enduyghurforcedlabor', 'boredapeyc', 'generation', 'scctradingcards', 'topps', 'virgil', 'graduation', \"abloh's\", 'nba_newyork', 'ronwyden']\n",
            "neighbors of lululemon: ['thank', 'happy', 'let', 'week', 'great', 'nice', 'running', 'thanks', 'top', 'follow', 'congratulation', 'feel', 'please', 'make', 'brand', 'fashion', 'hey', 'order', 'life', 'new', 'got', 'good', 'friend', 'put', 'everyone', 'love', 'need', 'give', 'card', 'buy', 'day', 'try', 'store', 'get', 'know', 'best', 'thing', 'customer', 'service', 'said', 'run', 'size', 'pair', 'one', 'find', 'something', 'product', 'way', 'keep', 'lol', 'wearing', 'business', 'see', 'stay', 'made', 'time', 'season', \"i'm\", 'guy', 'think', 'chance', 'pack', 'favorite', 'deal', 'space', 'look', 'show', 'package', 'say', 'help', 'kid', 'tell', 'mean', 'many', 'work', 'take', 'shoe', 'coming', 'come', 'gear', 'hit', 'people', 'man', 'team', 'last', 'night', 'going', 'right', 'fan', 'money', 'point', 'real', 'better', 'lot', 'year', 'want', 'stop', 'community', 'getting', 'hope', 'family', 'send', 'go', 'call', 'amazing', 'world', 'today', 'high', 'check', \"we're\", 'change', 'woman', 'wear', 'company', 'first', 'wait', 'next', 'excited', 'part', 'using', 'including', 'nothing', 'anything', 'gonna', 'use', 'news', 'name', 'start', 'someone', 'trying', 'support', 'done', 'went', 'sure', 'china', 'bought', 'game', 'white', 'black', 'partnership', 'much', 'turn', 'cool', 'jumpman23', 'girl', 'ad', 'looking', 'nike', 'number', 'damn', 'athlete', 'care', 'report', 'big', 'shit', 'sport', 'proud', 'fedex', 'welcome', 'month', 'available', 'launch', 'making', 'story', 'giving', 'issue', 'link', 'dear', 'true', 'book', 'drop', 'win', 'congrats', 'watch', 'future', 'crazy', 'bring', 'nba', 'nfl', 'amazon', 'nft', 'logo', 'christmas', 'plane', 'low', 'bro', 'red', 'kit', 'generation']\n",
            "----------------------------------------\n",
            "\n"
          ]
        }
      ]
    },
    {
      "cell_type": "code",
      "source": [
        "#extract edge weights\n",
        "hist_data_edge_weights = [SEM_Graph_clean[u][v]['weight'] for u, v in SEM_Graph_clean.edges()]\n",
        "\n",
        "#plot histogram\n",
        "plt.hist(hist_data_edge_weights, bins=bins, color='blue', edgecolor='black', alpha=0.7)\n",
        "plt.title('Histogram of Edge Weights')\n",
        "plt.xlabel('Weight')\n",
        "plt.ylabel('Number of Edges')\n",
        "plt.show()"
      ],
      "metadata": {
        "colab": {
          "base_uri": "https://localhost:8080/",
          "height": 472
        },
        "id": "6HqsNyD9IS9k",
        "outputId": "95369ac3-0768-4285-dd9c-40f171b0686a"
      },
      "id": "6HqsNyD9IS9k",
      "execution_count": 57,
      "outputs": [
        {
          "output_type": "display_data",
          "data": {
            "text/plain": [
              "<Figure size 640x480 with 1 Axes>"
            ],
            "image/png": "[encoded data removed]"
          },
          "metadata": {}
        }
      ]
    },
    {
      "cell_type": "markdown",
      "source": [
        "## Create Subgraphs for Analysis"
      ],
      "metadata": {
        "id": "N9PuOig6IlKm"
      },
      "id": "N9PuOig6IlKm"
    },
    {
      "cell_type": "code",
      "source": [
        "##### Shared Sets of Node Intersetions #####\n",
        "\n",
        "# Define key nodes\n",
        "key_nodes_all = ['nike', 'lululemon', 'adidas']\n",
        "key_nodes_nl = ['nike', 'lululemon']\n",
        "key_nodes_na = ['nike', 'adidas']\n",
        "key_nodes_al = ['adidas', 'lululemon']\n",
        "\n",
        "# Find neighbors of the key nodes by themselves\n",
        "neighbors_sets_n = set(nx.all_neighbors(SEM_Graph_clean, 'nike'))\n",
        "neighbors_sets_a = set(nx.all_neighbors(SEM_Graph_clean, 'adidas'))\n",
        "neighbors_sets_l = set(nx.all_neighbors(SEM_Graph_clean, 'lululemon'))\n",
        "\n",
        "# Find neighbors of the key nodes\n",
        "neighbors_sets_all = [set(nx.all_neighbors(SEM_Graph_clean, node)) for node in key_nodes_all]\n",
        "neighbors_sets_nl = [set(nx.all_neighbors(SEM_Graph_clean, node)) for node in key_nodes_nl]\n",
        "neighbors_sets_na = [set(nx.all_neighbors(SEM_Graph_clean, node)) for node in key_nodes_na]\n",
        "neighbors_sets_al = [set(nx.all_neighbors(SEM_Graph_clean, node)) for node in key_nodes_al]\n",
        "\n",
        "# Intersect the sets to get nodes connected to all key nodes\n",
        "common_neighbors_all = set.intersection(*neighbors_sets_all)\n",
        "\n",
        "# Intersect the sets to get nodes connected to only 2 key nodes\n",
        "\n",
        "common_neighbors_nl = set.intersection(*neighbors_sets_nl) - common_neighbors_all - set(key_nodes_al)\n",
        "common_neighbors_na = set.intersection(*neighbors_sets_na) - common_neighbors_all - set(key_nodes_nl)\n",
        "common_neighbors_al = set.intersection(*neighbors_sets_al) - common_neighbors_all - set(key_nodes_na)\n",
        "\n",
        "# Get nodes connected to any one of the key nodes but not all of them\n",
        "union_neighbors = set.union(*neighbors_sets_all)\n",
        "\n",
        "# Get nodes connected to only 1 brand\n",
        "exclusive_neighbors = (union_neighbors - common_neighbors_all\n",
        "                       - common_neighbors_nl - common_neighbors_na - common_neighbors_al)\n",
        "\n",
        "# Get nodes connected to each specific brand\n",
        "exclusive_neighbors_n = neighbors_sets_n - common_neighbors_all - common_neighbors_nl - common_neighbors_na - set(key_nodes_al)\n",
        "exclusive_neighbors_a = neighbors_sets_a - common_neighbors_all - common_neighbors_na - common_neighbors_nl - set(key_nodes_nl)\n",
        "exclusive_neighbors_l = neighbors_sets_l - common_neighbors_all - common_neighbors_nl - common_neighbors_al - set(key_nodes_na)"
      ],
      "metadata": {
        "id": "J2cgVZ3HIkqu"
      },
      "id": "J2cgVZ3HIkqu",
      "execution_count": 58,
      "outputs": []
    },
    {
      "cell_type": "code",
      "source": [
        "##### Bridging to All Brands Nodes #####\n",
        "# Create a subgraph\n",
        "nodes_to_keep = list(common_neighbors_all) + key_nodes_all\n",
        "SEM_Graph_bridge_3 = focus_edges(G=SEM_Graph_clean, weight_min=125).subgraph(nodes_to_keep)\n",
        "#display a summary of the subgraph\n",
        "graph_summary_stats(G = SEM_Graph_bridge_3, title='Bridging to All Brands Nodes')\n",
        "\n",
        "##### Nike to Adidas Bridges #####\n",
        "# Create a subgraph\n",
        "nodes_to_keep = list(common_neighbors_na) + key_nodes_na\n",
        "SEM_Graph_bridge_na = SEM_Graph_clean.subgraph(nodes_to_keep)\n",
        "#SEM_Graph_bridge_na = focus_edges(G = SEM_Graph_bridge_na, weight_min = 1000)\n",
        "#display a summary of the subgraph\n",
        "graph_summary_stats(G = SEM_Graph_bridge_na, title='Nike to Adidas Bridges')\n",
        "\n",
        "##### Nike to Lululemon Bridges #####\n",
        "# Create a subgraph\n",
        "nodes_to_keep = list(common_neighbors_nl) + key_nodes_nl\n",
        "SEM_Graph_bridge_nl = SEM_Graph_clean.subgraph(nodes_to_keep)\n",
        "#display a summary of the subgraph\n",
        "graph_summary_stats(G = SEM_Graph_bridge_nl, title='Nike to Lululemon Bridges')\n",
        "\n",
        "##### Adidas to Lululemon Bridges #####\n",
        "# Create a subgraph\n",
        "nodes_to_keep = list(common_neighbors_al) + key_nodes_al\n",
        "SEM_Graph_bridge_al = SEM_Graph_clean.subgraph(nodes_to_keep)\n",
        "#display a summary of the subgraph\n",
        "graph_summary_stats(G = SEM_Graph_bridge_al, title='Adidas to Lululemon Bridges')"
      ],
      "metadata": {
        "colab": {
          "base_uri": "https://localhost:8080/"
        },
        "id": "s3AdHI4nIqh9",
        "outputId": "dc98692d-6c17-475d-e054-7e975d63244e"
      },
      "id": "s3AdHI4nIqh9",
      "execution_count": 59,
      "outputs": [
        {
          "output_type": "stream",
          "name": "stdout",
          "text": [
            "----------------------------------------\n",
            "##### Bridging to All Brands Nodes #####\n",
            "number of nodes: 190\n",
            "number of edges: 781\n",
            "\n",
            "nodes: ['nike', 'white', 'available', 'adidas', 'work', 'next', 'ad', 'space', 'low', 'get', 'partnership', 'team', 'real', 'support', 'friend', 'family', 'pair', 'lot', 'wait', 'game', 'jumpman23', 'amazon', 'business', 'look', 'wearing', 'say', 'drop', 'time', 'much', 'people', 'good', 'sport', 'week', 'take', 'black', 'lol', 'think', 'care', 'deal', 'run', 'company', 'win', 'guy', 'see', 'way', 'keep', 'top', 'going', 'year', 'thank', 'great', 'getting', 'show', 'making', 'want', 'start', 'red', 'need', 'day', 'fashion', 'know', 'thanks', 'something', 'trying', 'issue', 'let', 'make', 'sure', 'love', 'buy', 'everyone', 'go', 'shoe', 'part', 'hey', 'cool', 'got', 'brand', 'new', 'customer', 'bought', 'month', 'turn', 'please', 'use', 'package', 'put', 'lululemon', 'happy', \"we're\", 'giving', 'store', 'running', 'thing', \"i'm\", 'woman', 'service', 'night', 'gonna', 'first', 'help', 'change', 'bro', 'best', 'right', 'order', 'congrats', 'gear', 'season', 'one', 'kit', 'looking', 'man', 'many', 'size', 'last', 'chance', 'said', 'tell', 'link', 'story', 'today', 'girl', 'point', 'stay', 'hit', 'nice', 'product', 'stop', 'shit', 'money', 'big', 'find', 'athlete', 'fan', 'wear', 'check', 'follow', 'done', 'community', 'try', 'amazing', 'life', 'send', 'favorite', 'congratulation', 'feel', 'crazy', 'world', 'bring', 'christmas', 'report', 'high', 'watch', 'made', 'name', 'welcome', 'number', 'mean', 'come', 'better', 'fedex', 'logo', 'pack', 'give', 'card', 'true', 'hope', 'future', 'someone', 'damn', 'kid', 'nfl', 'nothing', 'dear', 'using', 'book', 'nft', 'anything', 'call', 'went', 'coming', 'excited', 'china', 'nba', 'proud', 'including', 'launch', 'news', 'generation']\n",
            "\n",
            "neighbors of adidas: ['available', 'partnership', 'nike', 'real', 'get', 'support', 'friend', 'family', 'look', 'wearing', 'say', 'drop', 'much', 'people', 'lol', 'deal', 'black', 'run', 'company', 'thank', 'great', 'team', 'getting', 'need', 'start', 'know', 'pair', 'month', 'please', 'next', 'love', 'new', 'year', 'thanks', 'service', 'shoe', 'keep', 'gonna', 'right', 'brand', 'make', 'sure', 'gear', 'see', 'got', 'one', 'good', 'day', 'top', 'trying', 'let', 'think', 'today', 'way', 'want', 'man', 'show', 'first', 'size', 'check', 'kit', 'follow', 'amazing', 'help', 'life', 'fan', 'order', 'wait', 'work', 'looking', 'season', 'time', 'store', 'win', 'point', 'world', 'better', 'hey', 'going', 'big', 'many', \"i'm\", 'hope', 'take', 'find', 'white', 'give', 'guy', 'card', 'nice', 'package', 'customer', 'money', 'nft', 'sport', 'happy', 'last', 'everyone', 'put', 'excited', 'buy', 'stop', 'something', 'thing', 'made', 'ad', 'running', 'stay', 'best', 'jumpman23', 'nfl', 'nba', 'wear', 'product', 'game', 'send', 'shit', 'crazy', 'cool', 'week', 'come', 'call', 'congrats', 'use', 'go', 'nothing', 'anything', 'went', 'amazon', 'number', 'fedex', 'making', 'news', 'community', 'including', 'fashion', 'chance', 'christmas', 'generation']\n",
            "neighbors of nike: ['white', 'available', 'work', 'next', 'get', 'partnership', 'adidas', 'team', 'lot', 'wait', 'amazon', 'business', 'ad', 'time', 'jumpman23', 'look', 'good', 'black', 'think', 'people', 'care', 'win', 'guy', 'see', 'way', 'keep', 'say', 'top', 'going', 'year', 'show', 'making', 'want', 'space', 'low', 'start', 'getting', 'thanks', 'something', 'trying', 'issue', 'go', 'shoe', 'part', 'support', 'turn', 'new', 'use', 'company', 'package', 'put', 'week', 'know', 'thing', \"i'm\", 'woman', 'day', 'red', 'let', 'order', 'congrats', 'customer', 'happy', 'season', 'lol', 'store', 'real', 'game', 'man', 'many', 'pair', 'size', 'last', 'chance', 'said', 'please', 'girl', 'point', 'night', 'love', 'today', 'make', 'money', 'take', 'link', 'right', 'great', 'sure', 'brand', 'need', 'stop', 'giving', 'buy', 'sport', 'story', 'check', 'thank', 'got', 'send', 'favorite', 'product', 'world', 'bring', 'christmas', 'report', 'high', 'best', 'made', 'big', 'athlete', 'name', 'much', 'welcome', 'number', 'mean', 'come', 'run', 'fan', 'fedex', 'help', 'bro', 'service', 'logo', 'pack', 'true', 'watch', 'looking', 'give', 'shit', 'tell', 'gonna', 'community', 'one', 'nice', 'damn', 'amazing', 'month', 'done', 'nothing', 'fashion', 'follow', 'gear', 'nfl', 'first', 'book', 'cool', 'bought', 'try', 'wearing', 'anything', 'call', 'feel', 'deal', 'hit', \"we're\", 'life', 'hey', 'wear', 'went', 'better', 'coming', 'kid', 'excited', 'change', 'everyone', 'china', 'crazy', 'find', 'running', 'nba', 'including', 'someone', 'hope', 'future', 'launch', 'family', 'using', 'drop', 'dear', 'friend', 'stay', 'card', 'congratulation', 'news', 'nft', 'proud', 'generation']\n",
            "neighbors of lululemon: ['thank', 'great', 'thanks', 'please', 'make', 'brand', 'order', 'new', 'got', 'good', 'love', 'need', 'day', 'store', 'get', 'know', 'best', 'customer', 'service', 'see', 'time', 'look', 'work', 'take', 'team', 'year', 'want', 'go', 'today', 'company', 'first', 'excited']\n",
            "----------------------------------------\n",
            "\n",
            "----------------------------------------\n",
            "##### Nike to Adidas Bridges #####\n",
            "number of nodes: 71\n",
            "number of edges: 591\n",
            "\n",
            "nodes: ['nikestore', 'boredapeyc', 'release', 'icon', 'labor', 'nikebasketball', 'inspire', 'eneskanter', 'app', 'sneaker', 'michael', 'jordan', 'giannis_an34', 'innovation', 'kingjames', 'fuck', 'lfc', 'passing', 'kaya_alexander5', 'metaverse', 'http', 'adidas', 'xbox', 'dunk', 'grey', 'play', \"women's\", 'footlocker', 'course', 'exclusive', 'kick', 'prize', 'finishline', 'ya', 'date', 'campaign', 'ht', 'topps', 'roblox', 'listen', 'snkrs', 'sneakeradmirals', 'blue', 'jersey', 'snkr_twitr', 'player', 'fly', 'james', 'nicekicks', 'atmos_usa', 'nike', 'instagram', 'adidasoriginals', 'lexxdaturtle', 'dick', 'force', 'rtfktstudios', 'chose', 'baseball', 'em', 'pink', 'ticket', 'lasership', 'air', 'inspired', 'slave', 'solefed', 'nikesb', 'owner', 'ebay', \"let's\"]\n",
            "\n",
            "neighbors of adidas: ['nike', 'adidasoriginals', 'jersey', 'play', 'blue', 'sneaker', 'grey', 'snkr_twitr', 'em', 'icon', 'instagram', 'http', 'fly', 'passing', 'prize', \"women's\", 'lasership', \"let's\", 'player', 'app', 'campaign', 'release', 'kick', 'inspire', 'exclusive', 'course', 'nikebasketball', 'nikestore', 'owner', 'date', 'pink', 'footlocker', 'xbox', 'innovation', 'sneakeradmirals', 'chose', 'james', 'fuck', 'ebay', 'inspired', 'ticket', 'nicekicks', 'air', 'jordan', 'force', 'michael', 'slave', 'labor', 'baseball', 'dick', 'snkrs', 'dunk', 'ya', 'atmos_usa', 'solefed', 'kingjames', 'roblox', 'lexxdaturtle', 'finishline', 'ht', 'eneskanter', 'nikesb', 'giannis_an34', 'lfc', 'topps', 'listen', 'boredapeyc', 'metaverse', 'rtfktstudios', 'kaya_alexander5']\n",
            "neighbors of nike: [\"women's\", 'air', 'footlocker', 'lasership', 'snkrs', 'nikebasketball', 'adidas', 'release', 'jordan', 'instagram', 'ebay', 'ht', 'dunk', 'finishline', 'sneakeradmirals', 'nicekicks', 'snkr_twitr', 'play', 'kingjames', 'grey', 'force', 'http', 'lfc', 'jersey', 'app', 'blue', 'atmos_usa', 'nikestore', 'dick', 'pink', 'kick', 'sneaker', 'kaya_alexander5', 'slave', 'labor', 'innovation', 'em', 'fuck', 'campaign', 'lexxdaturtle', 'player', 'icon', 'nikesb', 'solefed', 'listen', 'michael', 'exclusive', 'course', 'xbox', 'date', 'inspire', 'james', 'prize', 'inspired', \"let's\", 'ya', 'owner', 'adidasoriginals', 'baseball', 'fly', 'passing', 'giannis_an34', 'ticket', 'metaverse', 'roblox', 'chose', 'eneskanter', 'rtfktstudios', 'boredapeyc', 'topps']\n",
            "----------------------------------------\n",
            "\n",
            "----------------------------------------\n",
            "##### Nike to Lululemon Bridges #####\n",
            "number of nodes: 3\n",
            "number of edges: 3\n",
            "\n",
            "nodes: ['lululemon', 'nike', 'plane']\n",
            "\n",
            "neighbors of nike: ['lululemon', 'plane']\n",
            "neighbors of lululemon: ['nike', 'plane']\n",
            "----------------------------------------\n",
            "\n",
            "----------------------------------------\n",
            "##### Adidas to Lululemon Bridges #####\n",
            "number of nodes: 2\n",
            "number of edges: 0\n",
            "\n",
            "nodes: ['lululemon', 'adidas']\n",
            "\n",
            "neighbors of adidas: []\n",
            "neighbors of lululemon: []\n",
            "----------------------------------------\n",
            "\n"
          ]
        }
      ]
    },
    {
      "cell_type": "code",
      "source": [
        "##### Exclusive Nodes: Unique to Only 1 Brand #####\n",
        "\n",
        "# Create a subgraph\n",
        "nodes_to_keep_exc = list(exclusive_neighbors) + key_nodes_all\n",
        "SEM_Graph_exc = SEM_Graph_clean.subgraph(nodes_to_keep_exc)\n",
        "\n",
        "#display a summary of the subgraph\n",
        "graph_summary_stats(G = SEM_Graph_exc, title='Exclusive Nodes: Unique to Only 1 Brand')\n",
        "\n",
        "# Create a subgraph\n",
        "SEM_Graph_exc_n = SEM_Graph_clean.subgraph(list(exclusive_neighbors_n) + ['nike'])\n",
        "SEM_Graph_exc_a = SEM_Graph_clean.subgraph(list(exclusive_neighbors_a) + ['adidas'])\n",
        "SEM_Graph_exc_l = SEM_Graph_clean.subgraph(list(exclusive_neighbors_l) + ['lululemon'])\n",
        "\n",
        "#filter the graph edges to focus on influential to brands\n",
        "#SEM_Graph_exc_n = focus_edges(G = SEM_Graph_exc_n, weight_min = 125)\n",
        "#SEM_Graph_exc_a = focus_edges(G = SEM_Graph_exc_a, weight_min = 125)\n",
        "\n",
        "#display a summary of the subgraph\n",
        "graph_summary_stats(G = SEM_Graph_exc_n, title='Exclusive Nodes for Nike')\n",
        "graph_summary_stats(G = SEM_Graph_exc_a, title='Exclusive Nodes for Adidas')\n",
        "graph_summary_stats(G = SEM_Graph_exc_l, title='Exclusive Nodes for Lululemon')"
      ],
      "metadata": {
        "colab": {
          "base_uri": "https://localhost:8080/"
        },
        "id": "tcwxOMoeIwq4",
        "outputId": "09283c67-43e5-4850-c58c-241d852f945e"
      },
      "id": "tcwxOMoeIwq4",
      "execution_count": 60,
      "outputs": [
        {
          "output_type": "stream",
          "name": "stdout",
          "text": [
            "----------------------------------------\n",
            "##### Exclusive Nodes: Unique to Only 1 Brand #####\n",
            "number of nodes: 43\n",
            "number of edges: 113\n",
            "\n",
            "nodes: ['se', 'ene', 'yardrunner', 'nikenyc', 'cnn', 'adidasfballus', 'max', 'lebron', 'purple', 'centre', \"abloh's\", 'heartbroken', 'modern', 'kanter', 'xboxsweepstakes', 'adidas', 'hyperkin', 'nba_newyork', 'flyknit', 'blazer', 'donovan', 'phil', 'impossibleisnothing', 'celtic', 'virgil', 'austinekeler', 'maybes', 'scctradingcards', 'ronwyden', 'brilliant', 'forced', 'nike', 'knight', 'thee', 'vapormax', 'slavery', 'mitchell', 'graduation', 'theestallion', 'enduyghurforcedlabor', 'lululemon', 'sneakerscouts', 'snipes_usa']\n",
            "\n",
            "neighbors of adidas: ['nike', 'adidasfballus', 'impossibleisnothing', 'donovan', 'mitchell', 'austinekeler', 'xboxsweepstakes', 'hyperkin', 'maybes']\n",
            "neighbors of nike: ['sneakerscouts', 'adidas', 'cnn', 'max', 'snipes_usa', 'vapormax', 'flyknit', 'blazer', 'se', 'nikenyc', 'forced', 'phil', 'knight', 'lebron', 'purple', 'theestallion', 'modern', 'celtic', 'thee', 'brilliant', 'lululemon', 'slavery', 'yardrunner', 'heartbroken', 'centre', 'kanter', 'ene', 'enduyghurforcedlabor', 'scctradingcards', 'virgil', 'graduation', \"abloh's\", 'nba_newyork', 'ronwyden']\n",
            "neighbors of lululemon: ['nike']\n",
            "----------------------------------------\n",
            "\n",
            "----------------------------------------\n",
            "##### Exclusive Nodes for Nike #####\n",
            "number of nodes: 33\n",
            "number of edges: 95\n",
            "\n",
            "nodes: ['se', 'ene', 'yardrunner', 'nikenyc', 'cnn', 'max', 'lebron', 'purple', 'centre', \"abloh's\", 'heartbroken', 'modern', 'kanter', 'nba_newyork', 'flyknit', 'blazer', 'phil', 'celtic', 'virgil', 'scctradingcards', 'ronwyden', 'brilliant', 'forced', 'nike', 'knight', 'thee', 'vapormax', 'slavery', 'graduation', 'theestallion', 'enduyghurforcedlabor', 'sneakerscouts', 'snipes_usa']\n",
            "\n",
            "neighbors of nike: ['sneakerscouts', 'cnn', 'max', 'snipes_usa', 'vapormax', 'flyknit', 'blazer', 'se', 'nikenyc', 'forced', 'phil', 'knight', 'lebron', 'purple', 'theestallion', 'modern', 'celtic', 'thee', 'brilliant', 'slavery', 'yardrunner', 'heartbroken', 'centre', 'kanter', 'ene', 'enduyghurforcedlabor', 'scctradingcards', 'virgil', 'graduation', \"abloh's\", 'nba_newyork', 'ronwyden']\n",
            "----------------------------------------\n",
            "\n",
            "----------------------------------------\n",
            "##### Exclusive Nodes for Adidas #####\n",
            "number of nodes: 9\n",
            "number of edges: 16\n",
            "\n",
            "nodes: ['maybes', 'mitchell', 'xboxsweepstakes', 'adidas', 'hyperkin', 'adidasfballus', 'donovan', 'impossibleisnothing', 'austinekeler']\n",
            "\n",
            "neighbors of adidas: ['adidasfballus', 'impossibleisnothing', 'donovan', 'mitchell', 'austinekeler', 'xboxsweepstakes', 'hyperkin', 'maybes']\n",
            "----------------------------------------\n",
            "\n",
            "----------------------------------------\n",
            "##### Exclusive Nodes for Lululemon #####\n",
            "number of nodes: 1\n",
            "number of edges: 0\n",
            "\n",
            "nodes: ['lululemon']\n",
            "\n",
            "neighbors of lululemon: []\n",
            "----------------------------------------\n",
            "\n"
          ]
        }
      ]
    },
    {
      "cell_type": "markdown",
      "source": [
        "## Plot All the Graphs"
      ],
      "metadata": {
        "id": "iHHl54KeI3DI"
      },
      "id": "iHHl54KeI3DI"
    },
    {
      "cell_type": "code",
      "source": [
        "#plot the baseline graph\n",
        "plot_graph(G = SEM_Graph_clean, file_path='04_01_semantic_network', use_edge_weight=False, plot_size='large')"
      ],
      "metadata": {
        "id": "NFrVYqGTI2ro"
      },
      "id": "NFrVYqGTI2ro",
      "execution_count": 61,
      "outputs": []
    },
    {
      "cell_type": "code",
      "source": [
        "#plot the graph\n",
        "plot_graph(G = SEM_Graph_bridge_3, file_path='05_01_semantic_network_bridge_all_3', use_edge_weight=False, plot_size='medium')\n",
        "\n",
        "#plot the graph\n",
        "plot_graph(G = SEM_Graph_bridge_na, file_path='05_02_semantic_network_bridge_nike_adidas', use_edge_weight=False, plot_size='small')\n",
        "\n",
        "#plot the graph\n",
        "plot_graph(G = SEM_Graph_bridge_nl, file_path='05_03_semantic_network_bridge_nike_lululemon', use_edge_weight=False, plot_size='small')\n",
        "\n",
        "#plot the graph\n",
        "plot_graph(G = SEM_Graph_bridge_al, file_path='05_04_semantic_network_bridge_adidas_lululemon', use_edge_weight=False, plot_size='small')"
      ],
      "metadata": {
        "id": "2GcS8treI0JR"
      },
      "id": "2GcS8treI0JR",
      "execution_count": 62,
      "outputs": []
    },
    {
      "cell_type": "code",
      "source": [
        "#plot the exclusive node graph\n",
        "plot_graph(G = SEM_Graph_exc, file_path='06_01_semantic_network_exclusive', use_edge_weight=False, plot_size='small')\n",
        "\n",
        "#plot the graph\n",
        "plot_graph(G = SEM_Graph_exc_n, file_path='06_02_semantic_network_exclusive_to_nike', use_edge_weight=False, plot_size='small')\n",
        "\n",
        "#plot the graph\n",
        "plot_graph(G = SEM_Graph_exc_a, file_path='06_03_semantic_network_exclusive_to_adidas', use_edge_weight=False, plot_size='small')\n",
        "\n",
        "#plot the graph\n",
        "plot_graph(G = SEM_Graph_exc_l, file_path='06_04_semantic_network_exclusive_to_lulu', use_edge_weight=False, plot_size='small')"
      ],
      "metadata": {
        "id": "E92yqWYAJBF1"
      },
      "id": "E92yqWYAJBF1",
      "execution_count": 63,
      "outputs": []
    },
    {
      "cell_type": "markdown",
      "source": [
        "## Graph with Pyvis"
      ],
      "metadata": {
        "id": "o-gkKi8aJFak"
      },
      "id": "o-gkKi8aJFak"
    },
    {
      "cell_type": "code",
      "source": [
        "#https://pyvis.readthedocs.io/en/latest/tutorial.html\n",
        "# create a network model in pyviz\n",
        "nt = Network(height=\"600px\", width=\"100%\", directed=True, notebook=True, layout='force_atlas_2based', cdn_resources='remote')\n",
        "# populates the nodes and edges data structures\n",
        "nt.from_nx(MEN_Graph)\n",
        "nt.show_buttons(filter_=['physics'])\n",
        "nt.show('nx.html')\n",
        "from IPython.core.display import display, HTML\n",
        "display(HTML('nx.html'))"
      ],
      "metadata": {
        "colab": {
          "base_uri": "https://localhost:8080/",
          "height": 1000
        },
        "id": "zUAF408EJHrt",
        "outputId": "72bb5904-fb83-4ad2-a281-c3a4f3db6655"
      },
      "id": "zUAF408EJHrt",
      "execution_count": 65,
      "outputs": [
        {
          "output_type": "stream",
          "name": "stdout",
          "text": [
            "nx.html\n"
          ]
        },
        {
          "output_type": "display_data",
          "data": {
            "text/plain": [
              "<IPython.core.display.HTML object>"
            ],
            "text/html": [
              "<html>\n",
              "    <head>\n",
              "        <meta charset=\"utf-8\">\n",
              "        \n",
              "            <script>function neighbourhoodHighlight(params) {\n",
              "  // console.log(\"in nieghbourhoodhighlight\");\n",
              "  allNodes = nodes.get({ returnType: \"Object\" });\n",
              "  // originalNodes = JSON.parse(JSON.stringify(allNodes));\n",
              "  // if something is selected:\n",
              "  if (params.nodes.length > 0) {\n",
              "    highlightActive = true;\n",
              "    var i, j;\n",
              "    var selectedNode = params.nodes[0];\n",
              "    var degrees = 2;\n",
              "\n",
              "    // mark all nodes as hard to read.\n",
              "    for (let nodeId in allNodes) {\n",
              "      // nodeColors[nodeId] = allNodes[nodeId].color;\n",
              "      allNodes[nodeId].color = \"rgba(200,200,200,0.5)\";\n",
              "      if (allNodes[nodeId].hiddenLabel === undefined) {\n",
              "        allNodes[nodeId].hiddenLabel = allNodes[nodeId].label;\n",
              "        allNodes[nodeId].label = undefined;\n",
              "      }\n",
              "    }\n",
              "    var connectedNodes = network.getConnectedNodes(selectedNode);\n",
              "    var allConnectedNodes = [];\n",
              "\n",
              "    // get the second degree nodes\n",
              "    for (i = 1; i < degrees; i++) {\n",
              "      for (j = 0; j < connectedNodes.length; j++) {\n",
              "        allConnectedNodes = allConnectedNodes.concat(\n",
              "          network.getConnectedNodes(connectedNodes[j])\n",
              "        );\n",
              "      }\n",
              "    }\n",
              "\n",
              "    // all second degree nodes get a different color and their label back\n",
              "    for (i = 0; i < allConnectedNodes.length; i++) {\n",
              "      // allNodes[allConnectedNodes[i]].color = \"pink\";\n",
              "      allNodes[allConnectedNodes[i]].color = \"rgba(150,150,150,0.75)\";\n",
              "      if (allNodes[allConnectedNodes[i]].hiddenLabel !== undefined) {\n",
              "        allNodes[allConnectedNodes[i]].label =\n",
              "          allNodes[allConnectedNodes[i]].hiddenLabel;\n",
              "        allNodes[allConnectedNodes[i]].hiddenLabel = undefined;\n",
              "      }\n",
              "    }\n",
              "\n",
              "    // all first degree nodes get their own color and their label back\n",
              "    for (i = 0; i < connectedNodes.length; i++) {\n",
              "      // allNodes[connectedNodes[i]].color = undefined;\n",
              "      allNodes[connectedNodes[i]].color = nodeColors[connectedNodes[i]];\n",
              "      if (allNodes[connectedNodes[i]].hiddenLabel !== undefined) {\n",
              "        allNodes[connectedNodes[i]].label =\n",
              "          allNodes[connectedNodes[i]].hiddenLabel;\n",
              "        allNodes[connectedNodes[i]].hiddenLabel = undefined;\n",
              "      }\n",
              "    }\n",
              "\n",
              "    // the main node gets its own color and its label back.\n",
              "    // allNodes[selectedNode].color = undefined;\n",
              "    allNodes[selectedNode].color = nodeColors[selectedNode];\n",
              "    if (allNodes[selectedNode].hiddenLabel !== undefined) {\n",
              "      allNodes[selectedNode].label = allNodes[selectedNode].hiddenLabel;\n",
              "      allNodes[selectedNode].hiddenLabel = undefined;\n",
              "    }\n",
              "  } else if (highlightActive === true) {\n",
              "    // console.log(\"highlightActive was true\");\n",
              "    // reset all nodes\n",
              "    for (let nodeId in allNodes) {\n",
              "      // allNodes[nodeId].color = \"purple\";\n",
              "      allNodes[nodeId].color = nodeColors[nodeId];\n",
              "      // delete allNodes[nodeId].color;\n",
              "      if (allNodes[nodeId].hiddenLabel !== undefined) {\n",
              "        allNodes[nodeId].label = allNodes[nodeId].hiddenLabel;\n",
              "        allNodes[nodeId].hiddenLabel = undefined;\n",
              "      }\n",
              "    }\n",
              "    highlightActive = false;\n",
              "  }\n",
              "\n",
              "  // transform the object into an array\n",
              "  var updateArray = [];\n",
              "  if (params.nodes.length > 0) {\n",
              "    for (let nodeId in allNodes) {\n",
              "      if (allNodes.hasOwnProperty(nodeId)) {\n",
              "        // console.log(allNodes[nodeId]);\n",
              "        updateArray.push(allNodes[nodeId]);\n",
              "      }\n",
              "    }\n",
              "    nodes.update(updateArray);\n",
              "  } else {\n",
              "    // console.log(\"Nothing was selected\");\n",
              "    for (let nodeId in allNodes) {\n",
              "      if (allNodes.hasOwnProperty(nodeId)) {\n",
              "        // console.log(allNodes[nodeId]);\n",
              "        // allNodes[nodeId].color = {};\n",
              "        updateArray.push(allNodes[nodeId]);\n",
              "      }\n",
              "    }\n",
              "    nodes.update(updateArray);\n",
              "  }\n",
              "}\n",
              "\n",
              "function filterHighlight(params) {\n",
              "  allNodes = nodes.get({ returnType: \"Object\" });\n",
              "  // if something is selected:\n",
              "  if (params.nodes.length > 0) {\n",
              "    filterActive = true;\n",
              "    let selectedNodes = params.nodes;\n",
              "\n",
              "    // hiding all nodes and saving the label\n",
              "    for (let nodeId in allNodes) {\n",
              "      allNodes[nodeId].hidden = true;\n",
              "      if (allNodes[nodeId].savedLabel === undefined) {\n",
              "        allNodes[nodeId].savedLabel = allNodes[nodeId].label;\n",
              "        allNodes[nodeId].label = undefined;\n",
              "      }\n",
              "    }\n",
              "\n",
              "    for (let i=0; i < selectedNodes.length; i++) {\n",
              "      allNodes[selectedNodes[i]].hidden = false;\n",
              "      if (allNodes[selectedNodes[i]].savedLabel !== undefined) {\n",
              "        allNodes[selectedNodes[i]].label = allNodes[selectedNodes[i]].savedLabel;\n",
              "        allNodes[selectedNodes[i]].savedLabel = undefined;\n",
              "      }\n",
              "    }\n",
              "\n",
              "  } else if (filterActive === true) {\n",
              "    // reset all nodes\n",
              "    for (let nodeId in allNodes) {\n",
              "      allNodes[nodeId].hidden = false;\n",
              "      if (allNodes[nodeId].savedLabel !== undefined) {\n",
              "        allNodes[nodeId].label = allNodes[nodeId].savedLabel;\n",
              "        allNodes[nodeId].savedLabel = undefined;\n",
              "      }\n",
              "    }\n",
              "    filterActive = false;\n",
              "  }\n",
              "\n",
              "  // transform the object into an array\n",
              "  var updateArray = [];\n",
              "  if (params.nodes.length > 0) {\n",
              "    for (let nodeId in allNodes) {\n",
              "      if (allNodes.hasOwnProperty(nodeId)) {\n",
              "        updateArray.push(allNodes[nodeId]);\n",
              "      }\n",
              "    }\n",
              "    nodes.update(updateArray);\n",
              "  } else {\n",
              "    for (let nodeId in allNodes) {\n",
              "      if (allNodes.hasOwnProperty(nodeId)) {\n",
              "        updateArray.push(allNodes[nodeId]);\n",
              "      }\n",
              "    }\n",
              "    nodes.update(updateArray);\n",
              "  }\n",
              "}\n",
              "\n",
              "function selectNode(nodes) {\n",
              "  network.selectNodes(nodes);\n",
              "  neighbourhoodHighlight({ nodes: nodes });\n",
              "  return nodes;\n",
              "}\n",
              "\n",
              "function selectNodes(nodes) {\n",
              "  network.selectNodes(nodes);\n",
              "  filterHighlight({nodes: nodes});\n",
              "  return nodes;\n",
              "}\n",
              "\n",
              "function highlightFilter(filter) {\n",
              "  let selectedNodes = []\n",
              "  let selectedProp = filter['property']\n",
              "  if (filter['item'] === 'node') {\n",
              "    let allNodes = nodes.get({ returnType: \"Object\" });\n",
              "    for (let nodeId in allNodes) {\n",
              "      if (allNodes[nodeId][selectedProp] && filter['value'].includes((allNodes[nodeId][selectedProp]).toString())) {\n",
              "        selectedNodes.push(nodeId)\n",
              "      }\n",
              "    }\n",
              "  }\n",
              "  else if (filter['item'] === 'edge'){\n",
              "    let allEdges = edges.get({returnType: 'object'});\n",
              "    // check if the selected property exists for selected edge and select the nodes connected to the edge\n",
              "    for (let edge in allEdges) {\n",
              "      if (allEdges[edge][selectedProp] && filter['value'].includes((allEdges[edge][selectedProp]).toString())) {\n",
              "        selectedNodes.push(allEdges[edge]['from'])\n",
              "        selectedNodes.push(allEdges[edge]['to'])\n",
              "      }\n",
              "    }\n",
              "  }\n",
              "  selectNodes(selectedNodes)\n",
              "}</script>\n",
              "            <link rel=\"stylesheet\" href=\"https://cdnjs.cloudflare.com/ajax/libs/vis-network/9.1.2/dist/dist/vis-network.min.css\" integrity=\"sha512-WgxfT5LWjfszlPHXRmBWHkV2eceiWTOBvrKCNbdgDYTHrT2AeLCGbF4sZlZw3UMN3WtL0tGUoIAKsu8mllg/XA==\" crossorigin=\"anonymous\" referrerpolicy=\"no-referrer\" />\n",
              "            <script src=\"https://cdnjs.cloudflare.com/ajax/libs/vis-network/9.1.2/dist/vis-network.min.js\" integrity=\"sha512-LnvoEWDFrqGHlHmDD2101OrLcbsfkrzoSpvtSQtxK3RMnRV0eOkhhBN2dXHKRrUU8p2DGRTk35n4O8nWSVe1mQ==\" crossorigin=\"anonymous\" referrerpolicy=\"no-referrer\"></script>\n",
              "            \n",
              "            \n",
              "            \n",
              "            \n",
              "            \n",
              "            \n",
              "\n",
              "        \n",
              "<center>\n",
              "<h1></h1>\n",
              "</center>\n",
              "\n",
              "<!-- <link rel=\"stylesheet\" href=\"../node_modules/vis/dist/vis.min.css\" type=\"text/css\" />\n",
              "<script type=\"text/javascript\" src=\"../node_modules/vis/dist/vis.js\"> </script>-->\n",
              "        <link\n",
              "          href=\"https://cdn.jsdelivr.net/npm/bootstrap@5.0.0-beta3/dist/css/bootstrap.min.css\"\n",
              "          rel=\"stylesheet\"\n",
              "          integrity=\"sha384-eOJMYsd53ii+scO/bJGFsiCZc+5NDVN2yr8+0RDqr0Ql0h+rP48ckxlpbzKgwra6\"\n",
              "          crossorigin=\"anonymous\"\n",
              "        />\n",
              "        <script\n",
              "          src=\"https://cdn.jsdelivr.net/npm/bootstrap@5.0.0-beta3/dist/js/bootstrap.bundle.min.js\"\n",
              "          integrity=\"sha384-JEW9xMcG8R+pH31jmWH6WWP0WintQrMb4s7ZOdauHnUtxwoG2vI5DkLtS3qm9Ekf\"\n",
              "          crossorigin=\"anonymous\"\n",
              "        ></script>\n",
              "\n",
              "\n",
              "        <center>\n",
              "          <h1></h1>\n",
              "        </center>\n",
              "        <style type=\"text/css\">\n",
              "\n",
              "             #mynetwork {\n",
              "                 width: 100%;\n",
              "                 height: 600px;\n",
              "                 background-color: #ffffff;\n",
              "                 border: 1px solid lightgray;\n",
              "                 position: relative;\n",
              "                 float: left;\n",
              "             }\n",
              "\n",
              "             \n",
              "             #loadingBar {\n",
              "                 position:absolute;\n",
              "                 top:0px;\n",
              "                 left:0px;\n",
              "                 width: 100%;\n",
              "                 height: 600px;\n",
              "                 background-color:rgba(200,200,200,0.8);\n",
              "                 -webkit-transition: all 0.5s ease;\n",
              "                 -moz-transition: all 0.5s ease;\n",
              "                 -ms-transition: all 0.5s ease;\n",
              "                 -o-transition: all 0.5s ease;\n",
              "                 transition: all 0.5s ease;\n",
              "                 opacity:1;\n",
              "             }\n",
              "\n",
              "             #bar {\n",
              "                 position:absolute;\n",
              "                 top:0px;\n",
              "                 left:0px;\n",
              "                 width:20px;\n",
              "                 height:20px;\n",
              "                 margin:auto auto auto auto;\n",
              "                 border-radius:11px;\n",
              "                 border:2px solid rgba(30,30,30,0.05);\n",
              "                 background: rgb(0, 173, 246); /* Old browsers */\n",
              "                 box-shadow: 2px 0px 4px rgba(0,0,0,0.4);\n",
              "             }\n",
              "\n",
              "             #border {\n",
              "                 position:absolute;\n",
              "                 top:10px;\n",
              "                 left:10px;\n",
              "                 width:500px;\n",
              "                 height:23px;\n",
              "                 margin:auto auto auto auto;\n",
              "                 box-shadow: 0px 0px 4px rgba(0,0,0,0.2);\n",
              "                 border-radius:10px;\n",
              "             }\n",
              "\n",
              "             #text {\n",
              "                 position:absolute;\n",
              "                 top:8px;\n",
              "                 left:530px;\n",
              "                 width:30px;\n",
              "                 height:50px;\n",
              "                 margin:auto auto auto auto;\n",
              "                 font-size:22px;\n",
              "                 color: #000000;\n",
              "             }\n",
              "\n",
              "             div.outerBorder {\n",
              "                 position:relative;\n",
              "                 top:400px;\n",
              "                 width:600px;\n",
              "                 height:44px;\n",
              "                 margin:auto auto auto auto;\n",
              "                 border:8px solid rgba(0,0,0,0.1);\n",
              "                 background: rgb(252,252,252); /* Old browsers */\n",
              "                 background: -moz-linear-gradient(top,  rgba(252,252,252,1) 0%, rgba(237,237,237,1) 100%); /* FF3.6+ */\n",
              "                 background: -webkit-gradient(linear, left top, left bottom, color-stop(0%,rgba(252,252,252,1)), color-stop(100%,rgba(237,237,237,1))); /* Chrome,Safari4+ */\n",
              "                 background: -webkit-linear-gradient(top,  rgba(252,252,252,1) 0%,rgba(237,237,237,1) 100%); /* Chrome10+,Safari5.1+ */\n",
              "                 background: -o-linear-gradient(top,  rgba(252,252,252,1) 0%,rgba(237,237,237,1) 100%); /* Opera 11.10+ */\n",
              "                 background: -ms-linear-gradient(top,  rgba(252,252,252,1) 0%,rgba(237,237,237,1) 100%); /* IE10+ */\n",
              "                 background: linear-gradient(to bottom,  rgba(252,252,252,1) 0%,rgba(237,237,237,1) 100%); /* W3C */\n",
              "                 filter: progid:DXImageTransform.Microsoft.gradient( startColorstr='#fcfcfc', endColorstr='#ededed',GradientType=0 ); /* IE6-9 */\n",
              "                 border-radius:72px;\n",
              "                 box-shadow: 0px 0px 10px rgba(0,0,0,0.2);\n",
              "             }\n",
              "             \n",
              "\n",
              "             \n",
              "             #config {\n",
              "                 float: left;\n",
              "                 width: 400px;\n",
              "                 height: 600px;\n",
              "             }\n",
              "             \n",
              "\n",
              "             \n",
              "        </style>\n",
              "    </head>\n",
              "\n",
              "\n",
              "    <body>\n",
              "        <div class=\"card\" style=\"width: 100%\">\n",
              "            \n",
              "            \n",
              "            <div id=\"mynetwork\" class=\"card-body\"></div>\n",
              "        </div>\n",
              "\n",
              "        \n",
              "            <div id=\"loadingBar\">\n",
              "              <div class=\"outerBorder\">\n",
              "                <div id=\"text\">0%</div>\n",
              "                <div id=\"border\">\n",
              "                  <div id=\"bar\"></div>\n",
              "                </div>\n",
              "              </div>\n",
              "            </div>\n",
              "        \n",
              "        \n",
              "            <div id=\"config\"></div>\n",
              "        \n",
              "\n",
              "        <script type=\"text/javascript\">\n",
              "\n",
              "              // initialize global variables.\n",
              "              var edges;\n",
              "              var nodes;\n",
              "              var allNodes;\n",
              "              var allEdges;\n",
              "              var nodeColors;\n",
              "              var originalNodes;\n",
              "              var network;\n",
              "              var container;\n",
              "              var options, data;\n",
              "              var filter = {\n",
              "                  item : '',\n",
              "                  property : '',\n",
              "                  value : []\n",
              "              };\n",
              "\n",
              "              \n",
              "\n",
              "              \n",
              "\n",
              "              // This method is responsible for drawing the graph, returns the drawn network\n",
              "              function drawGraph() {\n",
              "                  var container = document.getElementById('mynetwork');\n",
              "\n",
              "                  \n",
              "\n",
              "                  // parsing and collecting nodes and edges from the python\n",
              "                  nodes = new vis.DataSet([{\"color\": \"#97c2fc\", \"id\": \"kiganyi_\", \"label\": \"kiganyi_\", \"shape\": \"dot\", \"size\": 10}, {\"color\": \"#97c2fc\", \"id\": \"adidas\", \"label\": \"adidas\", \"shape\": \"dot\", \"size\": 10}, {\"color\": \"#97c2fc\", \"id\": \"bajabiri\", \"label\": \"bajabiri\", \"shape\": \"dot\", \"size\": 10}, {\"color\": \"#97c2fc\", \"id\": \"burgerking\", \"label\": \"burgerking\", \"shape\": \"dot\", \"size\": 10}, {\"color\": \"#97c2fc\", \"id\": \"xbox\", \"label\": \"xbox\", \"shape\": \"dot\", \"size\": 10}, {\"color\": \"#97c2fc\", \"id\": \"nike\", \"label\": \"nike\", \"shape\": \"dot\", \"size\": 10}, {\"color\": \"#97c2fc\", \"id\": \"undefeatedinc\", \"label\": \"undefeatedinc\", \"shape\": \"dot\", \"size\": 10}, {\"color\": \"#97c2fc\", \"id\": \"uniwatch\", \"label\": \"uniwatch\", \"shape\": \"dot\", \"size\": 10}, {\"color\": \"#97c2fc\", \"id\": \"lakings\", \"label\": \"lakings\", \"shape\": \"dot\", \"size\": 10}, {\"color\": \"#97c2fc\", \"id\": \"lululemon\", \"label\": \"lululemon\", \"shape\": \"dot\", \"size\": 10}, {\"color\": \"#97c2fc\", \"id\": \"sacramentokings\", \"label\": \"sacramentokings\", \"shape\": \"dot\", \"size\": 10}, {\"color\": \"#97c2fc\", \"id\": \"atari_jones\", \"label\": \"atari_jones\", \"shape\": \"dot\", \"size\": 10}, {\"color\": \"#97c2fc\", \"id\": \"adidasoriginals\", \"label\": \"adidasoriginals\", \"shape\": \"dot\", \"size\": 10}, {\"color\": \"#97c2fc\", \"id\": \"solefed\", \"label\": \"solefed\", \"shape\": \"dot\", \"size\": 10}, {\"color\": \"#97c2fc\", \"id\": \"jumpman23\", \"label\": \"jumpman23\", \"shape\": \"dot\", \"size\": 10}, {\"color\": \"#97c2fc\", \"id\": \"nikestore\", \"label\": \"nikestore\", \"shape\": \"dot\", \"size\": 10}, {\"color\": \"#97c2fc\", \"id\": \"snkr_twitr\", \"label\": \"snkr_twitr\", \"shape\": \"dot\", \"size\": 10}, {\"color\": \"#97c2fc\", \"id\": \"golfdigest\", \"label\": \"golfdigest\", \"shape\": \"dot\", \"size\": 10}, {\"color\": \"#97c2fc\", \"id\": \"jonahlupton\", \"label\": \"jonahlupton\", \"shape\": \"dot\", \"size\": 10}, {\"color\": \"#97c2fc\", \"id\": \"roblox\", \"label\": \"roblox\", \"shape\": \"dot\", \"size\": 10}, {\"color\": \"#97c2fc\", \"id\": \"jermainedupri\", \"label\": \"jermainedupri\", \"shape\": \"dot\", \"size\": 10}, {\"color\": \"#97c2fc\", \"id\": \"finishline\", \"label\": \"finishline\", \"shape\": \"dot\", \"size\": 10}, {\"color\": \"#97c2fc\", \"id\": \"wwd\", \"label\": \"wwd\", \"shape\": \"dot\", \"size\": 10}, {\"color\": \"#97c2fc\", \"id\": \"hiphopwired\", \"label\": \"hiphopwired\", \"shape\": \"dot\", \"size\": 10}, {\"color\": \"#97c2fc\", \"id\": \"xboxwire\", \"label\": \"xboxwire\", \"shape\": \"dot\", \"size\": 10}, {\"color\": \"#97c2fc\", \"id\": \"aarongreenberg\", \"label\": \"aarongreenberg\", \"shape\": \"dot\", \"size\": 10}, {\"color\": \"#97c2fc\", \"id\": \"stockx\", \"label\": \"stockx\", \"shape\": \"dot\", \"size\": 10}, {\"color\": \"#97c2fc\", \"id\": \"xboxp3\", \"label\": \"xboxp3\", \"shape\": \"dot\", \"size\": 10}, {\"color\": \"#97c2fc\", \"id\": \"predsnhl\", \"label\": \"predsnhl\", \"shape\": \"dot\", \"size\": 10}, {\"color\": \"#97c2fc\", \"id\": \"dashiexp\", \"label\": \"dashiexp\", \"shape\": \"dot\", \"size\": 10}, {\"color\": \"#97c2fc\", \"id\": \"fastcompany\", \"label\": \"fastcompany\", \"shape\": \"dot\", \"size\": 10}, {\"color\": \"#97c2fc\", \"id\": \"lifeatpurdue\", \"label\": \"lifeatpurdue\", \"shape\": \"dot\", \"size\": 10}, {\"color\": \"#97c2fc\", \"id\": \"reignofapril\", \"label\": \"reignofapril\", \"shape\": \"dot\", \"size\": 10}, {\"color\": \"#97c2fc\", \"id\": \"nrarmour\", \"label\": \"nrarmour\", \"shape\": \"dot\", \"size\": 10}, {\"color\": \"#97c2fc\", \"id\": \"nwsl\", \"label\": \"nwsl\", \"shape\": \"dot\", \"size\": 10}, {\"color\": \"#97c2fc\", \"id\": \"sbjsbd\", \"label\": \"sbjsbd\", \"shape\": \"dot\", \"size\": 10}, {\"color\": \"#97c2fc\", \"id\": \"mpinoe\", \"label\": \"mpinoe\", \"shape\": \"dot\", \"size\": 10}, {\"color\": \"#97c2fc\", \"id\": \"barcaacademy\", \"label\": \"barcaacademy\", \"shape\": \"dot\", \"size\": 10}, {\"color\": \"#97c2fc\", \"id\": \"khou\", \"label\": \"khou\", \"shape\": \"dot\", \"size\": 10}, {\"color\": \"#97c2fc\", \"id\": \"oakley\", \"label\": \"oakley\", \"shape\": \"dot\", \"size\": 10}, {\"color\": \"#97c2fc\", \"id\": \"marshablackburn\", \"label\": \"marshablackburn\", \"shape\": \"dot\", \"size\": 10}, {\"color\": \"#97c2fc\", \"id\": \"senrickscott\", \"label\": \"senrickscott\", \"shape\": \"dot\", \"size\": 10}, {\"color\": \"#97c2fc\", \"id\": \"schuh\", \"label\": \"schuh\", \"shape\": \"dot\", \"size\": 10}, {\"color\": \"#97c2fc\", \"id\": \"dezeen\", \"label\": \"dezeen\", \"shape\": \"dot\", \"size\": 10}, {\"color\": \"#97c2fc\", \"id\": \"lebatardshow\", \"label\": \"lebatardshow\", \"shape\": \"dot\", \"size\": 10}, {\"color\": \"#97c2fc\", \"id\": \"billiejeanking\", \"label\": \"billiejeanking\", \"shape\": \"dot\", \"size\": 10}, {\"color\": \"#97c2fc\", \"id\": \"barrysanders\", \"label\": \"barrysanders\", \"shape\": \"dot\", \"size\": 10}, {\"color\": \"#97c2fc\", \"id\": \"complex\", \"label\": \"complex\", \"shape\": \"dot\", \"size\": 10}, {\"color\": \"#97c2fc\", \"id\": \"complexstyle\", \"label\": \"complexstyle\", \"shape\": \"dot\", \"size\": 10}, {\"color\": \"#97c2fc\", \"id\": \"tinashe\", \"label\": \"tinashe\", \"shape\": \"dot\", \"size\": 10}, {\"color\": \"#97c2fc\", \"id\": \"brooksrunning\", \"label\": \"brooksrunning\", \"shape\": \"dot\", \"size\": 10}, {\"color\": \"#97c2fc\", \"id\": \"adidasrunning\", \"label\": \"adidasrunning\", \"shape\": \"dot\", \"size\": 10}, {\"color\": \"#97c2fc\", \"id\": \"wiedenkennedy\", \"label\": \"wiedenkennedy\", \"shape\": \"dot\", \"size\": 10}, {\"color\": \"#97c2fc\", \"id\": \"bottom2thatop\", \"label\": \"bottom2thatop\", \"shape\": \"dot\", \"size\": 10}, {\"color\": \"#97c2fc\", \"id\": \"candace_parker\", \"label\": \"candace_parker\", \"shape\": \"dot\", \"size\": 10}, {\"color\": \"#97c2fc\", \"id\": \"nicekicks\", \"label\": \"nicekicks\", \"shape\": \"dot\", \"size\": 10}, {\"color\": \"#97c2fc\", \"id\": \"katgraham\", \"label\": \"katgraham\", \"shape\": \"dot\", \"size\": 10}, {\"color\": \"#97c2fc\", \"id\": \"joshog\", \"label\": \"joshog\", \"shape\": \"dot\", \"size\": 10}, {\"color\": \"#97c2fc\", \"id\": \"adweek\", \"label\": \"adweek\", \"shape\": \"dot\", \"size\": 10}, {\"color\": \"#97c2fc\", \"id\": \"kingjames\", \"label\": \"kingjames\", \"shape\": \"dot\", \"size\": 10}, {\"color\": \"#97c2fc\", \"id\": \"uninterrupted\", \"label\": \"uninterrupted\", \"shape\": \"dot\", \"size\": 10}, {\"color\": \"#97c2fc\", \"id\": \"jamesgunn\", \"label\": \"jamesgunn\", \"shape\": \"dot\", \"size\": 10}, {\"color\": \"#97c2fc\", \"id\": \"pomklementieff\", \"label\": \"pomklementieff\", \"shape\": \"dot\", \"size\": 10}, {\"color\": \"#97c2fc\", \"id\": \"loyalty360\", \"label\": \"loyalty360\", \"shape\": \"dot\", \"size\": 10}, {\"color\": \"#97c2fc\", \"id\": \"jasonlacanfora\", \"label\": \"jasonlacanfora\", \"shape\": \"dot\", \"size\": 10}, {\"color\": \"#97c2fc\", \"id\": \"orioles\", \"label\": \"orioles\", \"shape\": \"dot\", \"size\": 10}, {\"color\": \"#97c2fc\", \"id\": \"kohls\", \"label\": \"kohls\", \"shape\": \"dot\", \"size\": 10}, {\"color\": \"#97c2fc\", \"id\": \"7newsdc\", \"label\": \"7newsdc\", \"shape\": \"dot\", \"size\": 10}, {\"color\": \"#97c2fc\", \"id\": \"realrclark25\", \"label\": \"realrclark25\", \"shape\": \"dot\", \"size\": 10}, {\"color\": \"#97c2fc\", \"id\": \"adidashoops\", \"label\": \"adidashoops\", \"shape\": \"dot\", \"size\": 10}, {\"color\": \"#97c2fc\", \"id\": \"wnba\", \"label\": \"wnba\", \"shape\": \"dot\", \"size\": 10}, {\"color\": \"#97c2fc\", \"id\": \"barondavis\", \"label\": \"barondavis\", \"shape\": \"dot\", \"size\": 10}, {\"color\": \"#97c2fc\", \"id\": \"metropolismag\", \"label\": \"metropolismag\", \"shape\": \"dot\", \"size\": 10}, {\"color\": \"#97c2fc\", \"id\": \"legiqn\", \"label\": \"legiqn\", \"shape\": \"dot\", \"size\": 10}, {\"color\": \"#97c2fc\", \"id\": \"fatkiddeals\", \"label\": \"fatkiddeals\", \"shape\": \"dot\", \"size\": 10}, {\"color\": \"#97c2fc\", \"id\": \"jack_p\", \"label\": \"jack_p\", \"shape\": \"dot\", \"size\": 10}, {\"color\": \"#97c2fc\", \"id\": \"nyctsubway\", \"label\": \"nyctsubway\", \"shape\": \"dot\", \"size\": 10}, {\"color\": \"#97c2fc\", \"id\": \"nikebasketball\", \"label\": \"nikebasketball\", \"shape\": \"dot\", \"size\": 10}, {\"color\": \"#97c2fc\", \"id\": \"giannis_an34\", \"label\": \"giannis_an34\", \"shape\": \"dot\", \"size\": 10}, {\"color\": \"#97c2fc\", \"id\": \"slamonline\", \"label\": \"slamonline\", \"shape\": \"dot\", \"size\": 10}, {\"color\": \"#97c2fc\", \"id\": \"rga\", \"label\": \"rga\", \"shape\": \"dot\", \"size\": 10}, {\"color\": \"#97c2fc\", \"id\": \"gladstein\", \"label\": \"gladstein\", \"shape\": \"dot\", \"size\": 10}, {\"color\": \"#97c2fc\", \"id\": \"msmelchen\", \"label\": \"msmelchen\", \"shape\": \"dot\", \"size\": 10}, {\"color\": \"#97c2fc\", \"id\": \"sproutsocial\", \"label\": \"sproutsocial\", \"shape\": \"dot\", \"size\": 10}, {\"color\": \"#97c2fc\", \"id\": \"natbrunell\", \"label\": \"natbrunell\", \"shape\": \"dot\", \"size\": 10}, {\"color\": \"#97c2fc\", \"id\": \"fousey\", \"label\": \"fousey\", \"shape\": \"dot\", \"size\": 10}, {\"color\": \"#97c2fc\", \"id\": \"okayplayer\", \"label\": \"okayplayer\", \"shape\": \"dot\", \"size\": 10}, {\"color\": \"#97c2fc\", \"id\": \"yahoofinance\", \"label\": \"yahoofinance\", \"shape\": \"dot\", \"size\": 10}, {\"color\": \"#97c2fc\", \"id\": \"enesfreedom\", \"label\": \"enesfreedom\", \"shape\": \"dot\", \"size\": 10}, {\"color\": \"#97c2fc\", \"id\": \"redsteeze\", \"label\": \"redsteeze\", \"shape\": \"dot\", \"size\": 10}, {\"color\": \"#97c2fc\", \"id\": \"sethamandel\", \"label\": \"sethamandel\", \"shape\": \"dot\", \"size\": 10}, {\"color\": \"#97c2fc\", \"id\": \"slimjim\", \"label\": \"slimjim\", \"shape\": \"dot\", \"size\": 10}, {\"color\": \"#97c2fc\", \"id\": \"tengbiao\", \"label\": \"tengbiao\", \"shape\": \"dot\", \"size\": 10}, {\"color\": \"#97c2fc\", \"id\": \"hughhewitt\", \"label\": \"hughhewitt\", \"shape\": \"dot\", \"size\": 10}, {\"color\": \"#97c2fc\", \"id\": \"muslimmatters\", \"label\": \"muslimmatters\", \"shape\": \"dot\", \"size\": 10}, {\"color\": \"#97c2fc\", \"id\": \"nedryun\", \"label\": \"nedryun\", \"shape\": \"dot\", \"size\": 10}, {\"color\": \"#97c2fc\", \"id\": \"ericmmatheny\", \"label\": \"ericmmatheny\", \"shape\": \"dot\", \"size\": 10}, {\"color\": \"#97c2fc\", \"id\": \"epochtimes\", \"label\": \"epochtimes\", \"shape\": \"dot\", \"size\": 10}, {\"color\": \"#97c2fc\", \"id\": \"suns\", \"label\": \"suns\", \"shape\": \"dot\", \"size\": 10}, {\"color\": \"#97c2fc\", \"id\": \"donaldjtrumpjr\", \"label\": \"donaldjtrumpjr\", \"shape\": \"dot\", \"size\": 10}, {\"color\": \"#97c2fc\", \"id\": \"joshrogin\", \"label\": \"joshrogin\", \"shape\": \"dot\", \"size\": 10}, {\"color\": \"#97c2fc\", \"id\": \"yesnicksearcy\", \"label\": \"yesnicksearcy\", \"shape\": \"dot\", \"size\": 10}, {\"color\": \"#97c2fc\", \"id\": \"highsnobiety\", \"label\": \"highsnobiety\", \"shape\": \"dot\", \"size\": 10}, {\"color\": \"#97c2fc\", \"id\": \"lasparks\", \"label\": \"lasparks\", \"shape\": \"dot\", \"size\": 10}, {\"color\": \"#97c2fc\", \"id\": \"realunogame\", \"label\": \"realunogame\", \"shape\": \"dot\", \"size\": 10}, {\"color\": \"#97c2fc\", \"id\": \"deezefi\", \"label\": \"deezefi\", \"shape\": \"dot\", \"size\": 10}, {\"color\": \"#97c2fc\", \"id\": \"tropofarmer\", \"label\": \"tropofarmer\", \"shape\": \"dot\", \"size\": 10}, {\"color\": \"#97c2fc\", \"id\": \"mrleonardkim\", \"label\": \"mrleonardkim\", \"shape\": \"dot\", \"size\": 10}, {\"color\": \"#97c2fc\", \"id\": \"evankirstel\", \"label\": \"evankirstel\", \"shape\": \"dot\", \"size\": 10}, {\"color\": \"#97c2fc\", \"id\": \"mattel\", \"label\": \"mattel\", \"shape\": \"dot\", \"size\": 10}, {\"color\": \"#97c2fc\", \"id\": \"reebok\", \"label\": \"reebok\", \"shape\": \"dot\", \"size\": 10}, {\"color\": \"#97c2fc\", \"id\": \"pennstatefball\", \"label\": \"pennstatefball\", \"shape\": \"dot\", \"size\": 10}, {\"color\": \"#97c2fc\", \"id\": \"stevedeaceshow\", \"label\": \"stevedeaceshow\", \"shape\": \"dot\", \"size\": 10}, {\"color\": \"#97c2fc\", \"id\": \"girlsintech\", \"label\": \"girlsintech\", \"shape\": \"dot\", \"size\": 10}, {\"color\": \"#97c2fc\", \"id\": \"uoregon\", \"label\": \"uoregon\", \"shape\": \"dot\", \"size\": 10}, {\"color\": \"#97c2fc\", \"id\": \"mystic7\", \"label\": \"mystic7\", \"shape\": \"dot\", \"size\": 10}, {\"color\": \"#97c2fc\", \"id\": \"ericpmusselman\", \"label\": \"ericpmusselman\", \"shape\": \"dot\", \"size\": 10}, {\"color\": \"#97c2fc\", \"id\": \"qrich\", \"label\": \"qrich\", \"shape\": \"dot\", \"size\": 10}, {\"color\": \"#97c2fc\", \"id\": \"cointelegraph\", \"label\": \"cointelegraph\", \"shape\": \"dot\", \"size\": 10}, {\"color\": \"#97c2fc\", \"id\": \"houstondynamo\", \"label\": \"houstondynamo\", \"shape\": \"dot\", \"size\": 10}, {\"color\": \"#97c2fc\", \"id\": \"threadreaderapp\", \"label\": \"threadreaderapp\", \"shape\": \"dot\", \"size\": 10}, {\"color\": \"#97c2fc\", \"id\": \"prestonpysh\", \"label\": \"prestonpysh\", \"shape\": \"dot\", \"size\": 10}, {\"color\": \"#97c2fc\", \"id\": \"rwang0\", \"label\": \"rwang0\", \"shape\": \"dot\", \"size\": 10}, {\"color\": \"#97c2fc\", \"id\": \"tandfn\", \"label\": \"tandfn\", \"shape\": \"dot\", \"size\": 10}, {\"color\": \"#97c2fc\", \"id\": \"thebussypleaser\", \"label\": \"thebussypleaser\", \"shape\": \"dot\", \"size\": 10}, {\"color\": \"#97c2fc\", \"id\": \"techinsider\", \"label\": \"techinsider\", \"shape\": \"dot\", \"size\": 10}, {\"color\": \"#97c2fc\", \"id\": \"jdofficial\", \"label\": \"jdofficial\", \"shape\": \"dot\", \"size\": 10}, {\"color\": \"#97c2fc\", \"id\": \"xlr8r\", \"label\": \"xlr8r\", \"shape\": \"dot\", \"size\": 10}, {\"color\": \"#97c2fc\", \"id\": \"onsoranje\", \"label\": \"onsoranje\", \"shape\": \"dot\", \"size\": 10}, {\"color\": \"#97c2fc\", \"id\": \"liekemartens1\", \"label\": \"liekemartens1\", \"shape\": \"dot\", \"size\": 10}, {\"color\": \"#97c2fc\", \"id\": \"knvb\", \"label\": \"knvb\", \"shape\": \"dot\", \"size\": 10}, {\"color\": \"#97c2fc\", \"id\": \"realshellyannfp\", \"label\": \"realshellyannfp\", \"shape\": \"dot\", \"size\": 10}, {\"color\": \"#97c2fc\", \"id\": \"kicksdeals\", \"label\": \"kicksdeals\", \"shape\": \"dot\", \"size\": 10}, {\"color\": \"#97c2fc\", \"id\": \"lafc\", \"label\": \"lafc\", \"shape\": \"dot\", \"size\": 10}, {\"color\": \"#97c2fc\", \"id\": \"thegrovela\", \"label\": \"thegrovela\", \"shape\": \"dot\", \"size\": 10}, {\"color\": \"#97c2fc\", \"id\": \"lagalaxy\", \"label\": \"lagalaxy\", \"shape\": \"dot\", \"size\": 10}, {\"color\": \"#97c2fc\", \"id\": \"adamsconsulting\", \"label\": \"adamsconsulting\", \"shape\": \"dot\", \"size\": 10}, {\"color\": \"#97c2fc\", \"id\": \"coindesk\", \"label\": \"coindesk\", \"shape\": \"dot\", \"size\": 10}, {\"color\": \"#97c2fc\", \"id\": \"adidasfootball\", \"label\": \"adidasfootball\", \"shape\": \"dot\", \"size\": 10}, {\"color\": \"#97c2fc\", \"id\": \"spicer\", \"label\": \"spicer\", \"shape\": \"dot\", \"size\": 10}, {\"color\": \"#97c2fc\", \"id\": \"kieraplease\", \"label\": \"kieraplease\", \"shape\": \"dot\", \"size\": 10}, {\"color\": \"#97c2fc\", \"id\": \"jkylebass\", \"label\": \"jkylebass\", \"shape\": \"dot\", \"size\": 10}, {\"color\": \"#97c2fc\", \"id\": \"kfile\", \"label\": \"kfile\", \"shape\": \"dot\", \"size\": 10}, {\"color\": \"#97c2fc\", \"id\": \"sportsiren\", \"label\": \"sportsiren\", \"shape\": \"dot\", \"size\": 10}, {\"color\": \"#97c2fc\", \"id\": \"scottwarner18\", \"label\": \"scottwarner18\", \"shape\": \"dot\", \"size\": 10}, {\"color\": \"#97c2fc\", \"id\": \"rosgo21\", \"label\": \"rosgo21\", \"shape\": \"dot\", \"size\": 10}, {\"color\": \"#97c2fc\", \"id\": \"bloxy_news\", \"label\": \"bloxy_news\", \"shape\": \"dot\", \"size\": 10}, {\"color\": \"#97c2fc\", \"id\": \"insideroblox\", \"label\": \"insideroblox\", \"shape\": \"dot\", \"size\": 10}, {\"color\": \"#97c2fc\", \"id\": \"atmos_usa\", \"label\": \"atmos_usa\", \"shape\": \"dot\", \"size\": 10}, {\"color\": \"#97c2fc\", \"id\": \"adamjacksonsf\", \"label\": \"adamjacksonsf\", \"shape\": \"dot\", \"size\": 10}, {\"color\": \"#97c2fc\", \"id\": \"novambb\", \"label\": \"novambb\", \"shape\": \"dot\", \"size\": 10}, {\"color\": \"#97c2fc\", \"id\": \"solomonyue\", \"label\": \"solomonyue\", \"shape\": \"dot\", \"size\": 10}, {\"color\": \"#97c2fc\", \"id\": \"angelaruggiero\", \"label\": \"angelaruggiero\", \"shape\": \"dot\", \"size\": 10}, {\"color\": \"#97c2fc\", \"id\": \"bauerhockey\", \"label\": \"bauerhockey\", \"shape\": \"dot\", \"size\": 10}, {\"color\": \"#97c2fc\", \"id\": \"jenniferwalcott\", \"label\": \"jenniferwalcott\", \"shape\": \"dot\", \"size\": 10}, {\"color\": \"#97c2fc\", \"id\": \"road_2_ft_worth\", \"label\": \"road_2_ft_worth\", \"shape\": \"dot\", \"size\": 10}, {\"color\": \"#97c2fc\", \"id\": \"vampybitme\", \"label\": \"vampybitme\", \"shape\": \"dot\", \"size\": 10}, {\"color\": \"#97c2fc\", \"id\": \"iamwellandgood\", \"label\": \"iamwellandgood\", \"shape\": \"dot\", \"size\": 10}, {\"color\": \"#97c2fc\", \"id\": \"boredelonmusk\", \"label\": \"boredelonmusk\", \"shape\": \"dot\", \"size\": 10}, {\"color\": \"#97c2fc\", \"id\": \"mattsteffanina\", \"label\": \"mattsteffanina\", \"shape\": \"dot\", \"size\": 10}, {\"color\": \"#97c2fc\", \"id\": \"mediapost\", \"label\": \"mediapost\", \"shape\": \"dot\", \"size\": 10}, {\"color\": \"#97c2fc\", \"id\": \"brooklynnets\", \"label\": \"brooklynnets\", \"shape\": \"dot\", \"size\": 10}, {\"color\": \"#97c2fc\", \"id\": \"vidcon\", \"label\": \"vidcon\", \"shape\": \"dot\", \"size\": 10}, {\"color\": \"#97c2fc\", \"id\": \"hunterheather\", \"label\": \"hunterheather\", \"shape\": \"dot\", \"size\": 10}, {\"color\": \"#97c2fc\", \"id\": \"misstabstevens\", \"label\": \"misstabstevens\", \"shape\": \"dot\", \"size\": 10}, {\"color\": \"#97c2fc\", \"id\": \"chainlinkgod\", \"label\": \"chainlinkgod\", \"shape\": \"dot\", \"size\": 10}, {\"color\": \"#97c2fc\", \"id\": \"1djfirstclass\", \"label\": \"1djfirstclass\", \"shape\": \"dot\", \"size\": 10}, {\"color\": \"#97c2fc\", \"id\": \"chsommers\", \"label\": \"chsommers\", \"shape\": \"dot\", \"size\": 10}, {\"color\": \"#97c2fc\", \"id\": \"tonipayne\", \"label\": \"tonipayne\", \"shape\": \"dot\", \"size\": 10}, {\"color\": \"#97c2fc\", \"id\": \"cowhercbs\", \"label\": \"cowhercbs\", \"shape\": \"dot\", \"size\": 10}, {\"color\": \"#97c2fc\", \"id\": \"detroitpistons\", \"label\": \"detroitpistons\", \"shape\": \"dot\", \"size\": 10}, {\"color\": \"#97c2fc\", \"id\": \"cory_shoff\", \"label\": \"cory_shoff\", \"shape\": \"dot\", \"size\": 10}, {\"color\": \"#97c2fc\", \"id\": \"usa_lacrosse\", \"label\": \"usa_lacrosse\", \"shape\": \"dot\", \"size\": 10}, {\"color\": \"#97c2fc\", \"id\": \"xxxcrypt0\", \"label\": \"xxxcrypt0\", \"shape\": \"dot\", \"size\": 10}, {\"color\": \"#97c2fc\", \"id\": \"ijustine\", \"label\": \"ijustine\", \"shape\": \"dot\", \"size\": 10}, {\"color\": \"#97c2fc\", \"id\": \"hackapreneur\", \"label\": \"hackapreneur\", \"shape\": \"dot\", \"size\": 10}, {\"color\": \"#97c2fc\", \"id\": \"namecheap\", \"label\": \"namecheap\", \"shape\": \"dot\", \"size\": 10}, {\"color\": \"#97c2fc\", \"id\": \"campaignbrands\", \"label\": \"campaignbrands\", \"shape\": \"dot\", \"size\": 10}, {\"color\": \"#97c2fc\", \"id\": \"elmaaelmoo\", \"label\": \"elmaaelmoo\", \"shape\": \"dot\", \"size\": 10}, {\"color\": \"#97c2fc\", \"id\": \"colethereum\", \"label\": \"colethereum\", \"shape\": \"dot\", \"size\": 10}, {\"color\": \"#97c2fc\", \"id\": \"nebraskancrypto\", \"label\": \"nebraskancrypto\", \"shape\": \"dot\", \"size\": 10}, {\"color\": \"#97c2fc\", \"id\": \"vaynermedia\", \"label\": \"vaynermedia\", \"shape\": \"dot\", \"size\": 10}, {\"color\": \"#97c2fc\", \"id\": \"schmittnyc\", \"label\": \"schmittnyc\", \"shape\": \"dot\", \"size\": 10}, {\"color\": \"#97c2fc\", \"id\": \"seanmdav\", \"label\": \"seanmdav\", \"shape\": \"dot\", \"size\": 10}, {\"color\": \"#97c2fc\", \"id\": \"hunterw\", \"label\": \"hunterw\", \"shape\": \"dot\", \"size\": 10}, {\"color\": \"#97c2fc\", \"id\": \"realvision\", \"label\": \"realvision\", \"shape\": \"dot\", \"size\": 10}, {\"color\": \"#97c2fc\", \"id\": \"reallisariley\", \"label\": \"reallisariley\", \"shape\": \"dot\", \"size\": 10}, {\"color\": \"#97c2fc\", \"id\": \"rexchapman\", \"label\": \"rexchapman\", \"shape\": \"dot\", \"size\": 10}, {\"color\": \"#97c2fc\", \"id\": \"qiasomar\", \"label\": \"qiasomar\", \"shape\": \"dot\", \"size\": 10}, {\"color\": \"#97c2fc\", \"id\": \"kingofthecrane\", \"label\": \"kingofthecrane\", \"shape\": \"dot\", \"size\": 10}, {\"color\": \"#97c2fc\", \"id\": \"cnbc\", \"label\": \"cnbc\", \"shape\": \"dot\", \"size\": 10}, {\"color\": \"#97c2fc\", \"id\": \"ericvdunn\", \"label\": \"ericvdunn\", \"shape\": \"dot\", \"size\": 10}, {\"color\": \"#97c2fc\", \"id\": \"trustlessstate\", \"label\": \"trustlessstate\", \"shape\": \"dot\", \"size\": 10}, {\"color\": \"#97c2fc\", \"id\": \"lopp\", \"label\": \"lopp\", \"shape\": \"dot\", \"size\": 10}]);\n",
              "                  edges = new vis.DataSet([{\"arrows\": \"to\", \"from\": \"kiganyi_\", \"to\": \"adidas\", \"width\": 1}, {\"arrows\": \"to\", \"from\": \"kiganyi_\", \"to\": \"bajabiri\", \"width\": 1}, {\"arrows\": \"to\", \"from\": \"adidas\", \"to\": \"burgerking\", \"width\": 1}, {\"arrows\": \"to\", \"from\": \"adidas\", \"to\": \"xbox\", \"width\": 1}, {\"arrows\": \"to\", \"from\": \"adidas\", \"to\": \"nike\", \"width\": 1}, {\"arrows\": \"to\", \"from\": \"undefeatedinc\", \"to\": \"adidas\", \"width\": 1}, {\"arrows\": \"to\", \"from\": \"undefeatedinc\", \"to\": \"nike\", \"width\": 1}, {\"arrows\": \"to\", \"from\": \"uniwatch\", \"to\": \"nike\", \"width\": 1}, {\"arrows\": \"to\", \"from\": \"uniwatch\", \"to\": \"lakings\", \"width\": 1}, {\"arrows\": \"to\", \"from\": \"uniwatch\", \"to\": \"adidas\", \"width\": 1}, {\"arrows\": \"to\", \"from\": \"uniwatch\", \"to\": \"lululemon\", \"width\": 1}, {\"arrows\": \"to\", \"from\": \"uniwatch\", \"to\": \"sacramentokings\", \"width\": 1}, {\"arrows\": \"to\", \"from\": \"atari_jones\", \"to\": \"adidasoriginals\", \"width\": 1}, {\"arrows\": \"to\", \"from\": \"atari_jones\", \"to\": \"adidas\", \"width\": 1}, {\"arrows\": \"to\", \"from\": \"adidasoriginals\", \"to\": \"adidas\", \"width\": 1}, {\"arrows\": \"to\", \"from\": \"solefed\", \"to\": \"jumpman23\", \"width\": 1}, {\"arrows\": \"to\", \"from\": \"solefed\", \"to\": \"nike\", \"width\": 1}, {\"arrows\": \"to\", \"from\": \"solefed\", \"to\": \"nikestore\", \"width\": 1}, {\"arrows\": \"to\", \"from\": \"solefed\", \"to\": \"snkr_twitr\", \"width\": 1}, {\"arrows\": \"to\", \"from\": \"jumpman23\", \"to\": \"nike\", \"width\": 1}, {\"arrows\": \"to\", \"from\": \"bajabiri\", \"to\": \"adidas\", \"width\": 1}, {\"arrows\": \"to\", \"from\": \"bajabiri\", \"to\": \"nike\", \"width\": 1}, {\"arrows\": \"to\", \"from\": \"golfdigest\", \"to\": \"lululemon\", \"width\": 1}, {\"arrows\": \"to\", \"from\": \"jonahlupton\", \"to\": \"lululemon\", \"width\": 1}, {\"arrows\": \"to\", \"from\": \"nikestore\", \"to\": \"nike\", \"width\": 1}, {\"arrows\": \"to\", \"from\": \"nikestore\", \"to\": \"roblox\", \"width\": 1}, {\"arrows\": \"to\", \"from\": \"nikestore\", \"to\": \"jumpman23\", \"width\": 1}, {\"arrows\": \"to\", \"from\": \"jermainedupri\", \"to\": \"adidas\", \"width\": 1}, {\"arrows\": \"to\", \"from\": \"finishline\", \"to\": \"nike\", \"width\": 1}, {\"arrows\": \"to\", \"from\": \"finishline\", \"to\": \"adidas\", \"width\": 1}, {\"arrows\": \"to\", \"from\": \"wwd\", \"to\": \"nike\", \"width\": 1}, {\"arrows\": \"to\", \"from\": \"wwd\", \"to\": \"adidas\", \"width\": 1}, {\"arrows\": \"to\", \"from\": \"wwd\", \"to\": \"lululemon\", \"width\": 1}, {\"arrows\": \"to\", \"from\": \"hiphopwired\", \"to\": \"nike\", \"width\": 1}, {\"arrows\": \"to\", \"from\": \"hiphopwired\", \"to\": \"xbox\", \"width\": 1}, {\"arrows\": \"to\", \"from\": \"hiphopwired\", \"to\": \"adidas\", \"width\": 1}, {\"arrows\": \"to\", \"from\": \"hiphopwired\", \"to\": \"jumpman23\", \"width\": 1}, {\"arrows\": \"to\", \"from\": \"xboxwire\", \"to\": \"adidas\", \"width\": 1}, {\"arrows\": \"to\", \"from\": \"aarongreenberg\", \"to\": \"adidas\", \"width\": 1}, {\"arrows\": \"to\", \"from\": \"aarongreenberg\", \"to\": \"xbox\", \"width\": 1}, {\"arrows\": \"to\", \"from\": \"aarongreenberg\", \"to\": \"stockx\", \"width\": 1}, {\"arrows\": \"to\", \"from\": \"xbox\", \"to\": \"adidas\", \"width\": 1}, {\"arrows\": \"to\", \"from\": \"xbox\", \"to\": \"adidasoriginals\", \"width\": 1}, {\"arrows\": \"to\", \"from\": \"xbox\", \"to\": \"stockx\", \"width\": 1}, {\"arrows\": \"to\", \"from\": \"xboxp3\", \"to\": \"aarongreenberg\", \"width\": 1}, {\"arrows\": \"to\", \"from\": \"xboxp3\", \"to\": \"adidas\", \"width\": 1}, {\"arrows\": \"to\", \"from\": \"xboxp3\", \"to\": \"xbox\", \"width\": 1}, {\"arrows\": \"to\", \"from\": \"predsnhl\", \"to\": \"lululemon\", \"width\": 1}, {\"arrows\": \"to\", \"from\": \"predsnhl\", \"to\": \"adidas\", \"width\": 1}, {\"arrows\": \"to\", \"from\": \"lakings\", \"to\": \"adidas\", \"width\": 1}, {\"arrows\": \"to\", \"from\": \"dashiexp\", \"to\": \"xbox\", \"width\": 1}, {\"arrows\": \"to\", \"from\": \"dashiexp\", \"to\": \"adidas\", \"width\": 1}, {\"arrows\": \"to\", \"from\": \"fastcompany\", \"to\": \"nike\", \"width\": 1}, {\"arrows\": \"to\", \"from\": \"fastcompany\", \"to\": \"lifeatpurdue\", \"width\": 1}, {\"arrows\": \"to\", \"from\": \"reignofapril\", \"to\": \"nike\", \"width\": 1}, {\"arrows\": \"to\", \"from\": \"nrarmour\", \"to\": \"nike\", \"width\": 1}, {\"arrows\": \"to\", \"from\": \"nrarmour\", \"to\": \"nwsl\", \"width\": 1}, {\"arrows\": \"to\", \"from\": \"sbjsbd\", \"to\": \"nike\", \"width\": 1}, {\"arrows\": \"to\", \"from\": \"sbjsbd\", \"to\": \"adidas\", \"width\": 1}, {\"arrows\": \"to\", \"from\": \"sbjsbd\", \"to\": \"nwsl\", \"width\": 1}, {\"arrows\": \"to\", \"from\": \"sbjsbd\", \"to\": \"predsnhl\", \"width\": 1}, {\"arrows\": \"to\", \"from\": \"sbjsbd\", \"to\": \"mpinoe\", \"width\": 1}, {\"arrows\": \"to\", \"from\": \"sbjsbd\", \"to\": \"wwd\", \"width\": 1}, {\"arrows\": \"to\", \"from\": \"sbjsbd\", \"to\": \"adidasoriginals\", \"width\": 1}, {\"arrows\": \"to\", \"from\": \"barcaacademy\", \"to\": \"nike\", \"width\": 1}, {\"arrows\": \"to\", \"from\": \"khou\", \"to\": \"lululemon\", \"width\": 1}, {\"arrows\": \"to\", \"from\": \"khou\", \"to\": \"nike\", \"width\": 1}, {\"arrows\": \"to\", \"from\": \"oakley\", \"to\": \"lululemon\", \"width\": 1}, {\"arrows\": \"to\", \"from\": \"marshablackburn\", \"to\": \"nike\", \"width\": 1}, {\"arrows\": \"to\", \"from\": \"senrickscott\", \"to\": \"nike\", \"width\": 1}, {\"arrows\": \"to\", \"from\": \"schuh\", \"to\": \"nike\", \"width\": 1}, {\"arrows\": \"to\", \"from\": \"schuh\", \"to\": \"adidas\", \"width\": 1}, {\"arrows\": \"to\", \"from\": \"dezeen\", \"to\": \"nike\", \"width\": 1}, {\"arrows\": \"to\", \"from\": \"dezeen\", \"to\": \"adidas\", \"width\": 1}, {\"arrows\": \"to\", \"from\": \"lebatardshow\", \"to\": \"nike\", \"width\": 1}, {\"arrows\": \"to\", \"from\": \"billiejeanking\", \"to\": \"adidas\", \"width\": 1}, {\"arrows\": \"to\", \"from\": \"barrysanders\", \"to\": \"nike\", \"width\": 1}, {\"arrows\": \"to\", \"from\": \"complex\", \"to\": \"adidas\", \"width\": 1}, {\"arrows\": \"to\", \"from\": \"complex\", \"to\": \"complexstyle\", \"width\": 1}, {\"arrows\": \"to\", \"from\": \"complex\", \"to\": \"tinashe\", \"width\": 1}, {\"arrows\": \"to\", \"from\": \"brooksrunning\", \"to\": \"nike\", \"width\": 1}, {\"arrows\": \"to\", \"from\": \"brooksrunning\", \"to\": \"adidasrunning\", \"width\": 1}, {\"arrows\": \"to\", \"from\": \"brooksrunning\", \"to\": \"lululemon\", \"width\": 1}, {\"arrows\": \"to\", \"from\": \"adidasrunning\", \"to\": \"adidas\", \"width\": 1}, {\"arrows\": \"to\", \"from\": \"wiedenkennedy\", \"to\": \"nike\", \"width\": 1}, {\"arrows\": \"to\", \"from\": \"bottom2thatop\", \"to\": \"adidas\", \"width\": 1}, {\"arrows\": \"to\", \"from\": \"bottom2thatop\", \"to\": \"candace_parker\", \"width\": 1}, {\"arrows\": \"to\", \"from\": \"candace_parker\", \"to\": \"adidas\", \"width\": 1}, {\"arrows\": \"to\", \"from\": \"snkr_twitr\", \"to\": \"nike\", \"width\": 1}, {\"arrows\": \"to\", \"from\": \"snkr_twitr\", \"to\": \"adidas\", \"width\": 1}, {\"arrows\": \"to\", \"from\": \"snkr_twitr\", \"to\": \"solefed\", \"width\": 1}, {\"arrows\": \"to\", \"from\": \"snkr_twitr\", \"to\": \"adidasoriginals\", \"width\": 1}, {\"arrows\": \"to\", \"from\": \"snkr_twitr\", \"to\": \"nikestore\", \"width\": 1}, {\"arrows\": \"to\", \"from\": \"snkr_twitr\", \"to\": \"nicekicks\", \"width\": 1}, {\"arrows\": \"to\", \"from\": \"snkr_twitr\", \"to\": \"jumpman23\", \"width\": 1}, {\"arrows\": \"to\", \"from\": \"katgraham\", \"to\": \"adidas\", \"width\": 1}, {\"arrows\": \"to\", \"from\": \"joshog\", \"to\": \"lululemon\", \"width\": 1}, {\"arrows\": \"to\", \"from\": \"adweek\", \"to\": \"lululemon\", \"width\": 1}, {\"arrows\": \"to\", \"from\": \"adweek\", \"to\": \"adidas\", \"width\": 1}, {\"arrows\": \"to\", \"from\": \"kingjames\", \"to\": \"nike\", \"width\": 1}, {\"arrows\": \"to\", \"from\": \"kingjames\", \"to\": \"uninterrupted\", \"width\": 1}, {\"arrows\": \"to\", \"from\": \"jamesgunn\", \"to\": \"adidasoriginals\", \"width\": 1}, {\"arrows\": \"to\", \"from\": \"jamesgunn\", \"to\": \"adidas\", \"width\": 1}, {\"arrows\": \"to\", \"from\": \"jamesgunn\", \"to\": \"pomklementieff\", \"width\": 1}, {\"arrows\": \"to\", \"from\": \"pomklementieff\", \"to\": \"jamesgunn\", \"width\": 1}, {\"arrows\": \"to\", \"from\": \"pomklementieff\", \"to\": \"adidasoriginals\", \"width\": 1}, {\"arrows\": \"to\", \"from\": \"pomklementieff\", \"to\": \"adidas\", \"width\": 1}, {\"arrows\": \"to\", \"from\": \"loyalty360\", \"to\": \"adidas\", \"width\": 1}, {\"arrows\": \"to\", \"from\": \"jasonlacanfora\", \"to\": \"nike\", \"width\": 1}, {\"arrows\": \"to\", \"from\": \"jasonlacanfora\", \"to\": \"orioles\", \"width\": 1}, {\"arrows\": \"to\", \"from\": \"kohls\", \"to\": \"adidas\", \"width\": 1}, {\"arrows\": \"to\", \"from\": \"7newsdc\", \"to\": \"nike\", \"width\": 1}, {\"arrows\": \"to\", \"from\": \"realrclark25\", \"to\": \"lululemon\", \"width\": 1}, {\"arrows\": \"to\", \"from\": \"realrclark25\", \"to\": \"nike\", \"width\": 1}, {\"arrows\": \"to\", \"from\": \"realrclark25\", \"to\": \"jumpman23\", \"width\": 1}, {\"arrows\": \"to\", \"from\": \"adidashoops\", \"to\": \"candace_parker\", \"width\": 1}, {\"arrows\": \"to\", \"from\": \"adidashoops\", \"to\": \"wnba\", \"width\": 1}, {\"arrows\": \"to\", \"from\": \"adidashoops\", \"to\": \"adidas\", \"width\": 1}, {\"arrows\": \"to\", \"from\": \"wnba\", \"to\": \"nike\", \"width\": 1}, {\"arrows\": \"to\", \"from\": \"wnba\", \"to\": \"candace_parker\", \"width\": 1}, {\"arrows\": \"to\", \"from\": \"wnba\", \"to\": \"adidashoops\", \"width\": 1}, {\"arrows\": \"to\", \"from\": \"wnba\", \"to\": \"adidas\", \"width\": 1}, {\"arrows\": \"to\", \"from\": \"barondavis\", \"to\": \"nike\", \"width\": 1}, {\"arrows\": \"to\", \"from\": \"metropolismag\", \"to\": \"adidas\", \"width\": 1}, {\"arrows\": \"to\", \"from\": \"legiqn\", \"to\": \"xbox\", \"width\": 1}, {\"arrows\": \"to\", \"from\": \"legiqn\", \"to\": \"adidas\", \"width\": 1}, {\"arrows\": \"to\", \"from\": \"legiqn\", \"to\": \"fatkiddeals\", \"width\": 1}, {\"arrows\": \"to\", \"from\": \"fatkiddeals\", \"to\": \"legiqn\", \"width\": 1}, {\"arrows\": \"to\", \"from\": \"fatkiddeals\", \"to\": \"xbox\", \"width\": 1}, {\"arrows\": \"to\", \"from\": \"fatkiddeals\", \"to\": \"adidas\", \"width\": 1}, {\"arrows\": \"to\", \"from\": \"jack_p\", \"to\": \"xbox\", \"width\": 1}, {\"arrows\": \"to\", \"from\": \"jack_p\", \"to\": \"adidas\", \"width\": 1}, {\"arrows\": \"to\", \"from\": \"nyctsubway\", \"to\": \"adidas\", \"width\": 1}, {\"arrows\": \"to\", \"from\": \"nikebasketball\", \"to\": \"nike\", \"width\": 1}, {\"arrows\": \"to\", \"from\": \"nikebasketball\", \"to\": \"giannis_an34\", \"width\": 1}, {\"arrows\": \"to\", \"from\": \"nikebasketball\", \"to\": \"wnba\", \"width\": 1}, {\"arrows\": \"to\", \"from\": \"nikebasketball\", \"to\": \"nikestore\", \"width\": 1}, {\"arrows\": \"to\", \"from\": \"slamonline\", \"to\": \"nike\", \"width\": 1}, {\"arrows\": \"to\", \"from\": \"slamonline\", \"to\": \"nikebasketball\", \"width\": 1}, {\"arrows\": \"to\", \"from\": \"slamonline\", \"to\": \"adidas\", \"width\": 1}, {\"arrows\": \"to\", \"from\": \"slamonline\", \"to\": \"adidashoops\", \"width\": 1}, {\"arrows\": \"to\", \"from\": \"rga\", \"to\": \"nike\", \"width\": 1}, {\"arrows\": \"to\", \"from\": \"stockx\", \"to\": \"adidas\", \"width\": 1}, {\"arrows\": \"to\", \"from\": \"stockx\", \"to\": \"xbox\", \"width\": 1}, {\"arrows\": \"to\", \"from\": \"gladstein\", \"to\": \"msmelchen\", \"width\": 1}, {\"arrows\": \"to\", \"from\": \"gladstein\", \"to\": \"nike\", \"width\": 1}, {\"arrows\": \"to\", \"from\": \"msmelchen\", \"to\": \"nike\", \"width\": 1}, {\"arrows\": \"to\", \"from\": \"sproutsocial\", \"to\": \"nike\", \"width\": 1}, {\"arrows\": \"to\", \"from\": \"orioles\", \"to\": \"nike\", \"width\": 1}, {\"arrows\": \"to\", \"from\": \"natbrunell\", \"to\": \"nike\", \"width\": 1}, {\"arrows\": \"to\", \"from\": \"fousey\", \"to\": \"nike\", \"width\": 1}, {\"arrows\": \"to\", \"from\": \"okayplayer\", \"to\": \"nike\", \"width\": 1}, {\"arrows\": \"to\", \"from\": \"sacramentokings\", \"to\": \"nike\", \"width\": 1}, {\"arrows\": \"to\", \"from\": \"yahoofinance\", \"to\": \"lululemon\", \"width\": 1}, {\"arrows\": \"to\", \"from\": \"enesfreedom\", \"to\": \"nike\", \"width\": 1}, {\"arrows\": \"to\", \"from\": \"enesfreedom\", \"to\": \"kingjames\", \"width\": 1}, {\"arrows\": \"to\", \"from\": \"enesfreedom\", \"to\": \"jumpman23\", \"width\": 1}, {\"arrows\": \"to\", \"from\": \"redsteeze\", \"to\": \"nike\", \"width\": 1}, {\"arrows\": \"to\", \"from\": \"sethamandel\", \"to\": \"nike\", \"width\": 1}, {\"arrows\": \"to\", \"from\": \"slimjim\", \"to\": \"adweek\", \"width\": 1}, {\"arrows\": \"to\", \"from\": \"slimjim\", \"to\": \"nike\", \"width\": 1}, {\"arrows\": \"to\", \"from\": \"slimjim\", \"to\": \"burgerking\", \"width\": 1}, {\"arrows\": \"to\", \"from\": \"slimjim\", \"to\": \"adidasoriginals\", \"width\": 1}, {\"arrows\": \"to\", \"from\": \"tengbiao\", \"to\": \"nike\", \"width\": 1}, {\"arrows\": \"to\", \"from\": \"hughhewitt\", \"to\": \"nike\", \"width\": 1}, {\"arrows\": \"to\", \"from\": \"muslimmatters\", \"to\": \"nike\", \"width\": 1}, {\"arrows\": \"to\", \"from\": \"muslimmatters\", \"to\": \"enesfreedom\", \"width\": 1}, {\"arrows\": \"to\", \"from\": \"nedryun\", \"to\": \"nike\", \"width\": 1}, {\"arrows\": \"to\", \"from\": \"ericmmatheny\", \"to\": \"nike\", \"width\": 1}, {\"arrows\": \"to\", \"from\": \"lifeatpurdue\", \"to\": \"nike\", \"width\": 1}, {\"arrows\": \"to\", \"from\": \"lifeatpurdue\", \"to\": \"fastcompany\", \"width\": 1}, {\"arrows\": \"to\", \"from\": \"epochtimes\", \"to\": \"nike\", \"width\": 1}, {\"arrows\": \"to\", \"from\": \"suns\", \"to\": \"nike\", \"width\": 1}, {\"arrows\": \"to\", \"from\": \"suns\", \"to\": \"wnba\", \"width\": 1}, {\"arrows\": \"to\", \"from\": \"donaldjtrumpjr\", \"to\": \"nike\", \"width\": 1}, {\"arrows\": \"to\", \"from\": \"joshrogin\", \"to\": \"nike\", \"width\": 1}, {\"arrows\": \"to\", \"from\": \"yesnicksearcy\", \"to\": \"kingjames\", \"width\": 1}, {\"arrows\": \"to\", \"from\": \"yesnicksearcy\", \"to\": \"nike\", \"width\": 1}, {\"arrows\": \"to\", \"from\": \"highsnobiety\", \"to\": \"nike\", \"width\": 1}, {\"arrows\": \"to\", \"from\": \"highsnobiety\", \"to\": \"adidas\", \"width\": 1}, {\"arrows\": \"to\", \"from\": \"lasparks\", \"to\": \"nike\", \"width\": 1}, {\"arrows\": \"to\", \"from\": \"realunogame\", \"to\": \"nike\", \"width\": 1}, {\"arrows\": \"to\", \"from\": \"realunogame\", \"to\": \"giannis_an34\", \"width\": 1}, {\"arrows\": \"to\", \"from\": \"giannis_an34\", \"to\": \"realunogame\", \"width\": 1}, {\"arrows\": \"to\", \"from\": \"giannis_an34\", \"to\": \"nike\", \"width\": 1}, {\"arrows\": \"to\", \"from\": \"giannis_an34\", \"to\": \"nikebasketball\", \"width\": 1}, {\"arrows\": \"to\", \"from\": \"deezefi\", \"to\": \"lululemon\", \"width\": 1}, {\"arrows\": \"to\", \"from\": \"deezefi\", \"to\": \"nike\", \"width\": 1}, {\"arrows\": \"to\", \"from\": \"deezefi\", \"to\": \"tropofarmer\", \"width\": 1}, {\"arrows\": \"to\", \"from\": \"deezefi\", \"to\": \"adidas\", \"width\": 1}, {\"arrows\": \"to\", \"from\": \"mrleonardkim\", \"to\": \"nike\", \"width\": 1}, {\"arrows\": \"to\", \"from\": \"mrleonardkim\", \"to\": \"lululemon\", \"width\": 1}, {\"arrows\": \"to\", \"from\": \"mrleonardkim\", \"to\": \"fastcompany\", \"width\": 1}, {\"arrows\": \"to\", \"from\": \"evankirstel\", \"to\": \"nike\", \"width\": 1}, {\"arrows\": \"to\", \"from\": \"evankirstel\", \"to\": \"xbox\", \"width\": 1}, {\"arrows\": \"to\", \"from\": \"evankirstel\", \"to\": \"lululemon\", \"width\": 1}, {\"arrows\": \"to\", \"from\": \"mattel\", \"to\": \"realunogame\", \"width\": 1}, {\"arrows\": \"to\", \"from\": \"mattel\", \"to\": \"nike\", \"width\": 1}, {\"arrows\": \"to\", \"from\": \"mattel\", \"to\": \"giannis_an34\", \"width\": 1}, {\"arrows\": \"to\", \"from\": \"reebok\", \"to\": \"nike\", \"width\": 1}, {\"arrows\": \"to\", \"from\": \"reebok\", \"to\": \"jumpman23\", \"width\": 1}, {\"arrows\": \"to\", \"from\": \"reebok\", \"to\": \"adidas\", \"width\": 1}, {\"arrows\": \"to\", \"from\": \"pennstatefball\", \"to\": \"nike\", \"width\": 1}, {\"arrows\": \"to\", \"from\": \"stevedeaceshow\", \"to\": \"nike\", \"width\": 1}, {\"arrows\": \"to\", \"from\": \"girlsintech\", \"to\": \"nike\", \"width\": 1}, {\"arrows\": \"to\", \"from\": \"uoregon\", \"to\": \"nike\", \"width\": 1}, {\"arrows\": \"to\", \"from\": \"mystic7\", \"to\": \"deezefi\", \"width\": 1}, {\"arrows\": \"to\", \"from\": \"mystic7\", \"to\": \"lululemon\", \"width\": 1}, {\"arrows\": \"to\", \"from\": \"ericpmusselman\", \"to\": \"nike\", \"width\": 1}, {\"arrows\": \"to\", \"from\": \"ericpmusselman\", \"to\": \"nicekicks\", \"width\": 1}, {\"arrows\": \"to\", \"from\": \"qrich\", \"to\": \"nike\", \"width\": 1}, {\"arrows\": \"to\", \"from\": \"cointelegraph\", \"to\": \"nike\", \"width\": 1}, {\"arrows\": \"to\", \"from\": \"cointelegraph\", \"to\": \"adidas\", \"width\": 1}, {\"arrows\": \"to\", \"from\": \"houstondynamo\", \"to\": \"adidas\", \"width\": 1}, {\"arrows\": \"to\", \"from\": \"threadreaderapp\", \"to\": \"nike\", \"width\": 1}, {\"arrows\": \"to\", \"from\": \"prestonpysh\", \"to\": \"nike\", \"width\": 1}, {\"arrows\": \"to\", \"from\": \"rwang0\", \"to\": \"nike\", \"width\": 1}, {\"arrows\": \"to\", \"from\": \"tandfn\", \"to\": \"nike\", \"width\": 1}, {\"arrows\": \"to\", \"from\": \"thebussypleaser\", \"to\": \"nike\", \"width\": 1}, {\"arrows\": \"to\", \"from\": \"thebussypleaser\", \"to\": \"adidas\", \"width\": 1}, {\"arrows\": \"to\", \"from\": \"techinsider\", \"to\": \"nike\", \"width\": 1}, {\"arrows\": \"to\", \"from\": \"techinsider\", \"to\": \"adidas\", \"width\": 1}, {\"arrows\": \"to\", \"from\": \"jdofficial\", \"to\": \"nike\", \"width\": 1}, {\"arrows\": \"to\", \"from\": \"jdofficial\", \"to\": \"adidas\", \"width\": 1}, {\"arrows\": \"to\", \"from\": \"jdofficial\", \"to\": \"adidasoriginals\", \"width\": 1}, {\"arrows\": \"to\", \"from\": \"xlr8r\", \"to\": \"nike\", \"width\": 1}, {\"arrows\": \"to\", \"from\": \"onsoranje\", \"to\": \"liekemartens1\", \"width\": 1}, {\"arrows\": \"to\", \"from\": \"onsoranje\", \"to\": \"nike\", \"width\": 1}, {\"arrows\": \"to\", \"from\": \"onsoranje\", \"to\": \"knvb\", \"width\": 1}, {\"arrows\": \"to\", \"from\": \"liekemartens1\", \"to\": \"knvb\", \"width\": 1}, {\"arrows\": \"to\", \"from\": \"liekemartens1\", \"to\": \"nike\", \"width\": 1}, {\"arrows\": \"to\", \"from\": \"knvb\", \"to\": \"liekemartens1\", \"width\": 1}, {\"arrows\": \"to\", \"from\": \"knvb\", \"to\": \"nike\", \"width\": 1}, {\"arrows\": \"to\", \"from\": \"realshellyannfp\", \"to\": \"nike\", \"width\": 1}, {\"arrows\": \"to\", \"from\": \"kicksdeals\", \"to\": \"adidas\", \"width\": 1}, {\"arrows\": \"to\", \"from\": \"kicksdeals\", \"to\": \"nike\", \"width\": 1}, {\"arrows\": \"to\", \"from\": \"lafc\", \"to\": \"adidas\", \"width\": 1}, {\"arrows\": \"to\", \"from\": \"thegrovela\", \"to\": \"nike\", \"width\": 1}, {\"arrows\": \"to\", \"from\": \"thegrovela\", \"to\": \"lululemon\", \"width\": 1}, {\"arrows\": \"to\", \"from\": \"lagalaxy\", \"to\": \"adidas\", \"width\": 1}, {\"arrows\": \"to\", \"from\": \"adamsconsulting\", \"to\": \"nike\", \"width\": 1}, {\"arrows\": \"to\", \"from\": \"coindesk\", \"to\": \"nike\", \"width\": 1}, {\"arrows\": \"to\", \"from\": \"coindesk\", \"to\": \"adidas\", \"width\": 1}, {\"arrows\": \"to\", \"from\": \"adidasfootball\", \"to\": \"lafc\", \"width\": 1}, {\"arrows\": \"to\", \"from\": \"adidasfootball\", \"to\": \"lagalaxy\", \"width\": 1}, {\"arrows\": \"to\", \"from\": \"adidasfootball\", \"to\": \"adidas\", \"width\": 1}, {\"arrows\": \"to\", \"from\": \"spicer\", \"to\": \"adidas\", \"width\": 1}, {\"arrows\": \"to\", \"from\": \"kieraplease\", \"to\": \"nike\", \"width\": 1}, {\"arrows\": \"to\", \"from\": \"jkylebass\", \"to\": \"nike\", \"width\": 1}, {\"arrows\": \"to\", \"from\": \"jkylebass\", \"to\": \"kingjames\", \"width\": 1}, {\"arrows\": \"to\", \"from\": \"kfile\", \"to\": \"adidas\", \"width\": 1}, {\"arrows\": \"to\", \"from\": \"sportsiren\", \"to\": \"adidas\", \"width\": 1}, {\"arrows\": \"to\", \"from\": \"sportsiren\", \"to\": \"candace_parker\", \"width\": 1}, {\"arrows\": \"to\", \"from\": \"nicekicks\", \"to\": \"adidas\", \"width\": 1}, {\"arrows\": \"to\", \"from\": \"nicekicks\", \"to\": \"nike\", \"width\": 1}, {\"arrows\": \"to\", \"from\": \"scottwarner18\", \"to\": \"nike\", \"width\": 1}, {\"arrows\": \"to\", \"from\": \"complexstyle\", \"to\": \"tinashe\", \"width\": 1}, {\"arrows\": \"to\", \"from\": \"complexstyle\", \"to\": \"nike\", \"width\": 1}, {\"arrows\": \"to\", \"from\": \"complexstyle\", \"to\": \"adidas\", \"width\": 1}, {\"arrows\": \"to\", \"from\": \"tinashe\", \"to\": \"nike\", \"width\": 1}, {\"arrows\": \"to\", \"from\": \"rosgo21\", \"to\": \"nike\", \"width\": 1}, {\"arrows\": \"to\", \"from\": \"roblox\", \"to\": \"nike\", \"width\": 1}, {\"arrows\": \"to\", \"from\": \"bloxy_news\", \"to\": \"nike\", \"width\": 1}, {\"arrows\": \"to\", \"from\": \"bloxy_news\", \"to\": \"roblox\", \"width\": 1}, {\"arrows\": \"to\", \"from\": \"insideroblox\", \"to\": \"nike\", \"width\": 1}, {\"arrows\": \"to\", \"from\": \"insideroblox\", \"to\": \"roblox\", \"width\": 1}, {\"arrows\": \"to\", \"from\": \"atmos_usa\", \"to\": \"nikestore\", \"width\": 1}, {\"arrows\": \"to\", \"from\": \"nwsl\", \"to\": \"nike\", \"width\": 1}, {\"arrows\": \"to\", \"from\": \"adamjacksonsf\", \"to\": \"nike\", \"width\": 1}, {\"arrows\": \"to\", \"from\": \"novambb\", \"to\": \"nike\", \"width\": 1}, {\"arrows\": \"to\", \"from\": \"solomonyue\", \"to\": \"nike\", \"width\": 1}, {\"arrows\": \"to\", \"from\": \"angelaruggiero\", \"to\": \"nwsl\", \"width\": 1}, {\"arrows\": \"to\", \"from\": \"angelaruggiero\", \"to\": \"nike\", \"width\": 1}, {\"arrows\": \"to\", \"from\": \"bauerhockey\", \"to\": \"lululemon\", \"width\": 1}, {\"arrows\": \"to\", \"from\": \"jenniferwalcott\", \"to\": \"adidas\", \"width\": 1}, {\"arrows\": \"to\", \"from\": \"road_2_ft_worth\", \"to\": \"lululemon\", \"width\": 1}, {\"arrows\": \"to\", \"from\": \"vampybitme\", \"to\": \"xbox\", \"width\": 1}, {\"arrows\": \"to\", \"from\": \"vampybitme\", \"to\": \"adidas\", \"width\": 1}, {\"arrows\": \"to\", \"from\": \"iamwellandgood\", \"to\": \"lululemon\", \"width\": 1}, {\"arrows\": \"to\", \"from\": \"iamwellandgood\", \"to\": \"adidas\", \"width\": 1}, {\"arrows\": \"to\", \"from\": \"tropofarmer\", \"to\": \"adidas\", \"width\": 1}, {\"arrows\": \"to\", \"from\": \"tropofarmer\", \"to\": \"nike\", \"width\": 1}, {\"arrows\": \"to\", \"from\": \"tropofarmer\", \"to\": \"deezefi\", \"width\": 1}, {\"arrows\": \"to\", \"from\": \"boredelonmusk\", \"to\": \"nike\", \"width\": 1}, {\"arrows\": \"to\", \"from\": \"boredelonmusk\", \"to\": \"adidas\", \"width\": 1}, {\"arrows\": \"to\", \"from\": \"mattsteffanina\", \"to\": \"adidas\", \"width\": 1}, {\"arrows\": \"to\", \"from\": \"mattsteffanina\", \"to\": \"nike\", \"width\": 1}, {\"arrows\": \"to\", \"from\": \"mediapost\", \"to\": \"lululemon\", \"width\": 1}, {\"arrows\": \"to\", \"from\": \"mediapost\", \"to\": \"nike\", \"width\": 1}, {\"arrows\": \"to\", \"from\": \"brooklynnets\", \"to\": \"adidas\", \"width\": 1}, {\"arrows\": \"to\", \"from\": \"vidcon\", \"to\": \"nike\", \"width\": 1}, {\"arrows\": \"to\", \"from\": \"uninterrupted\", \"to\": \"nike\", \"width\": 1}, {\"arrows\": \"to\", \"from\": \"hunterheather\", \"to\": \"adidas\", \"width\": 1}, {\"arrows\": \"to\", \"from\": \"hunterheather\", \"to\": \"misstabstevens\", \"width\": 1}, {\"arrows\": \"to\", \"from\": \"misstabstevens\", \"to\": \"hunterheather\", \"width\": 1}, {\"arrows\": \"to\", \"from\": \"misstabstevens\", \"to\": \"adidas\", \"width\": 1}, {\"arrows\": \"to\", \"from\": \"chainlinkgod\", \"to\": \"adidas\", \"width\": 1}, {\"arrows\": \"to\", \"from\": \"1djfirstclass\", \"to\": \"nike\", \"width\": 1}, {\"arrows\": \"to\", \"from\": \"chsommers\", \"to\": \"nike\", \"width\": 1}, {\"arrows\": \"to\", \"from\": \"tonipayne\", \"to\": \"nike\", \"width\": 1}, {\"arrows\": \"to\", \"from\": \"tonipayne\", \"to\": \"adidas\", \"width\": 1}, {\"arrows\": \"to\", \"from\": \"cowhercbs\", \"to\": \"nike\", \"width\": 1}, {\"arrows\": \"to\", \"from\": \"detroitpistons\", \"to\": \"nike\", \"width\": 1}, {\"arrows\": \"to\", \"from\": \"cory_shoff\", \"to\": \"nike\", \"width\": 1}, {\"arrows\": \"to\", \"from\": \"usa_lacrosse\", \"to\": \"nike\", \"width\": 1}, {\"arrows\": \"to\", \"from\": \"xxxcrypt0\", \"to\": \"adidas\", \"width\": 1}, {\"arrows\": \"to\", \"from\": \"xxxcrypt0\", \"to\": \"nike\", \"width\": 1}, {\"arrows\": \"to\", \"from\": \"ijustine\", \"to\": \"lululemon\", \"width\": 1}, {\"arrows\": \"to\", \"from\": \"ijustine\", \"to\": \"nike\", \"width\": 1}, {\"arrows\": \"to\", \"from\": \"hackapreneur\", \"to\": \"nike\", \"width\": 1}, {\"arrows\": \"to\", \"from\": \"burgerking\", \"to\": \"xbox\", \"width\": 1}, {\"arrows\": \"to\", \"from\": \"burgerking\", \"to\": \"nike\", \"width\": 1}, {\"arrows\": \"to\", \"from\": \"burgerking\", \"to\": \"adidas\", \"width\": 1}, {\"arrows\": \"to\", \"from\": \"burgerking\", \"to\": \"adidasoriginals\", \"width\": 1}, {\"arrows\": \"to\", \"from\": \"burgerking\", \"to\": \"slimjim\", \"width\": 1}, {\"arrows\": \"to\", \"from\": \"namecheap\", \"to\": \"nike\", \"width\": 1}, {\"arrows\": \"to\", \"from\": \"namecheap\", \"to\": \"adidas\", \"width\": 1}, {\"arrows\": \"to\", \"from\": \"campaignbrands\", \"to\": \"nike\", \"width\": 1}, {\"arrows\": \"to\", \"from\": \"elmaaelmoo\", \"to\": \"nike\", \"width\": 1}, {\"arrows\": \"to\", \"from\": \"colethereum\", \"to\": \"nike\", \"width\": 1}, {\"arrows\": \"to\", \"from\": \"nebraskancrypto\", \"to\": \"nike\", \"width\": 1}, {\"arrows\": \"to\", \"from\": \"vaynermedia\", \"to\": \"nike\", \"width\": 1}, {\"arrows\": \"to\", \"from\": \"schmittnyc\", \"to\": \"nike\", \"width\": 1}, {\"arrows\": \"to\", \"from\": \"mpinoe\", \"to\": \"nike\", \"width\": 1}, {\"arrows\": \"to\", \"from\": \"seanmdav\", \"to\": \"nike\", \"width\": 1}, {\"arrows\": \"to\", \"from\": \"hunterw\", \"to\": \"adidas\", \"width\": 1}, {\"arrows\": \"to\", \"from\": \"realvision\", \"to\": \"nike\", \"width\": 1}, {\"arrows\": \"to\", \"from\": \"reallisariley\", \"to\": \"lululemon\", \"width\": 1}, {\"arrows\": \"to\", \"from\": \"rexchapman\", \"to\": \"nike\", \"width\": 1}, {\"arrows\": \"to\", \"from\": \"qiasomar\", \"to\": \"nike\", \"width\": 1}, {\"arrows\": \"to\", \"from\": \"kingofthecrane\", \"to\": \"nike\", \"width\": 1}, {\"arrows\": \"to\", \"from\": \"cnbc\", \"to\": \"lululemon\", \"width\": 1}, {\"arrows\": \"to\", \"from\": \"ericvdunn\", \"to\": \"adidas\", \"width\": 1}, {\"arrows\": \"to\", \"from\": \"trustlessstate\", \"to\": \"lopp\", \"width\": 1}, {\"arrows\": \"to\", \"from\": \"trustlessstate\", \"to\": \"nike\", \"width\": 1}, {\"arrows\": \"to\", \"from\": \"trustlessstate\", \"to\": \"adidasoriginals\", \"width\": 1}, {\"arrows\": \"to\", \"from\": \"lopp\", \"to\": \"trustlessstate\", \"width\": 1}, {\"arrows\": \"to\", \"from\": \"lopp\", \"to\": \"nike\", \"width\": 1}, {\"arrows\": \"to\", \"from\": \"lopp\", \"to\": \"adidasoriginals\", \"width\": 1}]);\n",
              "\n",
              "                  nodeColors = {};\n",
              "                  allNodes = nodes.get({ returnType: \"Object\" });\n",
              "                  for (nodeId in allNodes) {\n",
              "                    nodeColors[nodeId] = allNodes[nodeId].color;\n",
              "                  }\n",
              "                  allEdges = edges.get({ returnType: \"Object\" });\n",
              "                  // adding nodes and edges to the graph\n",
              "                  data = {nodes: nodes, edges: edges};\n",
              "\n",
              "                  var options = {\n",
              "    \"configure\": {\n",
              "        \"enabled\": true,\n",
              "        \"filter\": [\n",
              "            \"physics\"\n",
              "        ]\n",
              "    },\n",
              "    \"edges\": {\n",
              "        \"color\": {\n",
              "            \"inherit\": true\n",
              "        },\n",
              "        \"smooth\": {\n",
              "            \"enabled\": true,\n",
              "            \"type\": \"dynamic\"\n",
              "        }\n",
              "    },\n",
              "    \"interaction\": {\n",
              "        \"dragNodes\": true,\n",
              "        \"hideEdgesOnDrag\": false,\n",
              "        \"hideNodesOnDrag\": false\n",
              "    },\n",
              "    \"layout\": {\n",
              "        \"hierarchical\": {\n",
              "            \"blockShifting\": true,\n",
              "            \"edgeMinimization\": true,\n",
              "            \"enabled\": true,\n",
              "            \"levelSeparation\": 150,\n",
              "            \"parentCentralization\": true,\n",
              "            \"sortMethod\": \"hubsize\",\n",
              "            \"treeSpacing\": 200\n",
              "        },\n",
              "        \"improvedLayout\": true,\n",
              "        \"randomSeed\": 0\n",
              "    },\n",
              "    \"physics\": {\n",
              "        \"enabled\": true,\n",
              "        \"stabilization\": {\n",
              "            \"enabled\": true,\n",
              "            \"fit\": true,\n",
              "            \"iterations\": 1000,\n",
              "            \"onlyDynamicEdges\": false,\n",
              "            \"updateInterval\": 50\n",
              "        }\n",
              "    }\n",
              "};\n",
              "\n",
              "                  \n",
              "\n",
              "\n",
              "                  \n",
              "                  // if this network requires displaying the configure window,\n",
              "                  // put it in its div\n",
              "                  options.configure[\"container\"] = document.getElementById(\"config\");\n",
              "                  \n",
              "\n",
              "                  network = new vis.Network(container, data, options);\n",
              "\n",
              "                  \n",
              "\n",
              "                  \n",
              "\n",
              "                  \n",
              "\n",
              "\n",
              "                  \n",
              "                      network.on(\"stabilizationProgress\", function(params) {\n",
              "                          document.getElementById('loadingBar').removeAttribute(\"style\");\n",
              "                          var maxWidth = 496;\n",
              "                          var minWidth = 20;\n",
              "                          var widthFactor = params.iterations/params.total;\n",
              "                          var width = Math.max(minWidth,maxWidth * widthFactor);\n",
              "                          document.getElementById('bar').style.width = width + 'px';\n",
              "                          document.getElementById('text').innerHTML = Math.round(widthFactor*100) + '%';\n",
              "                      });\n",
              "                      network.once(\"stabilizationIterationsDone\", function() {\n",
              "                          document.getElementById('text').innerHTML = '100%';\n",
              "                          document.getElementById('bar').style.width = '496px';\n",
              "                          document.getElementById('loadingBar').style.opacity = 0;\n",
              "                          // really clean the dom element\n",
              "                          setTimeout(function () {document.getElementById('loadingBar').style.display = 'none';}, 500);\n",
              "                      });\n",
              "                  \n",
              "\n",
              "                  return network;\n",
              "\n",
              "              }\n",
              "              drawGraph();\n",
              "        </script>\n",
              "    </body>\n",
              "</html>"
            ]
          },
          "metadata": {}
        }
      ]
    }
  ],
  "metadata": {
    "kernelspec": {
      "display_name": "marketing-network",
      "language": "python",
      "name": "marketing-network"
    },
    "language_info": {
      "codemirror_mode": {
        "name": "ipython",
        "version": 3
      },
      "file_extension": ".py",
      "mimetype": "text/x-python",
      "name": "python",
      "nbconvert_exporter": "python",
      "pygments_lexer": "ipython3",
      "version": "3.11.7"
    },
    "colab": {
      "provenance": []
    }
  },
  "nbformat": 4,
  "nbformat_minor": 5
}