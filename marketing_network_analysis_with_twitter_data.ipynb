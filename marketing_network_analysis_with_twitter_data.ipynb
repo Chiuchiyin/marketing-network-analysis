{
 "cells": [
  {
   "cell_type": "markdown",
   "id": "7a340ae9-70ee-4371-8685-7dd62733b0d8",
   "metadata": {},
   "source": [
    "# Introduction\n",
    "## Importing Libraries"
   ]
  },
  {
   "cell_type": "code",
   "execution_count": 1,
   "id": "cb90b70a-48f5-4dcb-9fab-20c7694393e5",
   "metadata": {},
   "outputs": [
    {
     "name": "stdout",
     "output_type": "stream",
     "text": [
      "[-] Importing packages...\n"
     ]
    }
   ],
   "source": [
    "print('[-] Importing packages...')\n",
    "# File Connection and File Manipulation\n",
    "import os\n",
    "import pickle\n",
    "import gzip\n",
    "import json\n",
    "# Basic Data Science Toolkits\n",
    "import pandas as pd\n",
    "import numpy as np\n",
    "import math\n",
    "import random\n",
    "import time\n",
    "import re\n",
    "import itertools\n",
    "import datetime\n",
    "# Basic Data Vizualization\n",
    "import seaborn as sns\n",
    "import matplotlib.pyplot as plt\n",
    "import networkx as nx\n",
    "# Text Preprocessing(other)\n",
    "import string\n",
    "import nltk"
   ]
  },
  {
   "cell_type": "code",
   "execution_count": 2,
   "id": "5e78440d-533e-41bd-ab86-c5df377758c2",
   "metadata": {},
   "outputs": [
    {
     "name": "stdout",
     "output_type": "stream",
     "text": [
      "[-] Importing packages...\n"
     ]
    }
   ],
   "source": [
    "print('[-] Importing packages...')\n",
    "try:\n",
    "  import pyvis\n",
    "  from pyvis.network import Network\n",
    "except:\n",
    "  !pip install pyvis\n",
    "  import pyvis\n",
    "  from pyvis.network import Network"
   ]
  },
  {
   "cell_type": "code",
   "execution_count": 3,
   "id": "2b8df8c0-d45c-4d97-aba8-1701bbfdc7eb",
   "metadata": {},
   "outputs": [
    {
     "name": "stderr",
     "output_type": "stream",
     "text": [
      "[nltk_data] Downloading package punkt to\n",
      "[nltk_data]     C:\\Users\\silve\\AppData\\Roaming\\nltk_data...\n",
      "[nltk_data]   Package punkt is already up-to-date!\n",
      "[nltk_data] Downloading package stopwords to\n",
      "[nltk_data]     C:\\Users\\silve\\AppData\\Roaming\\nltk_data...\n",
      "[nltk_data]   Package stopwords is already up-to-date!\n",
      "[nltk_data] Downloading package wordnet to\n",
      "[nltk_data]     C:\\Users\\silve\\AppData\\Roaming\\nltk_data...\n",
      "[nltk_data]   Package wordnet is already up-to-date!\n",
      "[nltk_data] Downloading package averaged_perceptron_tagger to\n",
      "[nltk_data]     C:\\Users\\silve\\AppData\\Roaming\\nltk_data...\n",
      "[nltk_data]   Package averaged_perceptron_tagger is already up-to-\n",
      "[nltk_data]       date!\n"
     ]
    },
    {
     "data": {
      "text/plain": [
       "True"
      ]
     },
     "execution_count": 3,
     "metadata": {},
     "output_type": "execute_result"
    }
   ],
   "source": [
    "#Download required corpus based data to nltk package\n",
    "nltk.download(\"punkt\")\n",
    "nltk.download(\"stopwords\")\n",
    "nltk.download(\"wordnet\")\n",
    "nltk.download(\"averaged_perceptron_tagger\")"
   ]
  },
  {
   "cell_type": "markdown",
   "id": "406836ac-7f17-47e9-b5b5-a2ac34b4082b",
   "metadata": {},
   "source": [
    "## Set Global Variables"
   ]
  },
  {
   "cell_type": "code",
   "execution_count": 4,
   "id": "f1a6dd73-d579-4169-8b7f-dcad3144a79a",
   "metadata": {},
   "outputs": [],
   "source": [
    "gDEBUG = True"
   ]
  },
  {
   "cell_type": "markdown",
   "id": "a8d361fd-e1df-404f-970c-177d3f859a9f",
   "metadata": {},
   "source": [
    "## Verify GPU runtime"
   ]
  },
  {
   "cell_type": "code",
   "execution_count": 5,
   "id": "62b42d7b-7005-45fd-8bf4-e0791cd5e9b0",
   "metadata": {},
   "outputs": [
    {
     "name": "stdout",
     "output_type": "stream",
     "text": [
      "Mon Apr  1 16:43:54 2024       \n",
      "+-----------------------------------------------------------------------------------------+\n",
      "| NVIDIA-SMI 551.52                 Driver Version: 551.52         CUDA Version: 12.4     |\n",
      "|-----------------------------------------+------------------------+----------------------+\n",
      "| GPU  Name                     TCC/WDDM  | Bus-Id          Disp.A | Volatile Uncorr. ECC |\n",
      "| Fan  Temp   Perf          Pwr:Usage/Cap |           Memory-Usage | GPU-Util  Compute M. |\n",
      "|                                         |                        |               MIG M. |\n",
      "|=========================================+========================+======================|\n",
      "|   0  NVIDIA GeForce RTX 3070 ...  WDDM  |   00000000:01:00.0  On |                  N/A |\n",
      "| N/A   58C    P5             18W /  115W |    2664MiB /   8192MiB |     27%      Default |\n",
      "|                                         |                        |                  N/A |\n",
      "+-----------------------------------------+------------------------+----------------------+\n",
      "                                                                                         \n",
      "+-----------------------------------------------------------------------------------------+\n",
      "| Processes:                                                                              |\n",
      "|  GPU   GI   CI        PID   Type   Process name                              GPU Memory |\n",
      "|        ID   ID                                                               Usage      |\n",
      "|=========================================================================================|\n",
      "|    0   N/A  N/A      4032    C+G   ...a09mmv6hy\\Build\\Plugins\\Mpv\\mpv.exe      N/A      |\n",
      "|    0   N/A  N/A     10440    C+G   ...ta\\Plugins\\x86_64\\ZFGameBrowser.exe      N/A      |\n",
      "|    0   N/A  N/A     11664    C+G   C:\\Windows\\explorer.exe                     N/A      |\n",
      "|    0   N/A  N/A     11856    C+G   C:\\Windows\\System32\\dwm.exe                 N/A      |\n",
      "|    0   N/A  N/A     13592    C+G   ... Files\\Star Rail\\Games\\StarRail.exe      N/A      |\n",
      "|    0   N/A  N/A     15740    C+G   ...Brave-Browser\\Application\\brave.exe      N/A      |\n",
      "|    0   N/A  N/A     27960    C+G   ...x86__97hta09mmv6hy\\Build\\Lively.exe      N/A      |\n",
      "+-----------------------------------------------------------------------------------------+\n"
     ]
    }
   ],
   "source": [
    "#see the GPU assigned\n",
    "gpu_info = !nvidia-smi\n",
    "gpu_info = '\\n'.join(gpu_info)\n",
    "if gpu_info.find('failed') >= 0:\n",
    "  print('Not connected to a GPU')\n",
    "else:\n",
    "  print(gpu_info)"
   ]
  },
  {
   "cell_type": "markdown",
   "id": "b520847f-de9c-4601-bc87-215e96f30a77",
   "metadata": {},
   "source": [
    "## Set Up Directories"
   ]
  },
  {
   "cell_type": "code",
   "execution_count": 23,
   "id": "529bccc8-7afb-4f00-8320-e14ce382f752",
   "metadata": {},
   "outputs": [],
   "source": [
    "## Mount Google Drive\n",
    "#from google.colab import drive\n",
    "#drive.mount('/content/drive')"
   ]
  },
  {
   "cell_type": "code",
   "execution_count": 6,
   "id": "0c2860ce-3615-4732-8b15-d40434ac3d2a",
   "metadata": {},
   "outputs": [
    {
     "name": "stdout",
     "output_type": "stream",
     "text": [
      "The data directory is created!\n",
      "The evaluation directory is created!\n",
      "The model directory is created!\n"
     ]
    }
   ],
   "source": [
    "ROOT_DIR = \"./\"\n",
    "DATA_DIR = \"%s/data\" % ROOT_DIR\n",
    "EVAL_DIR = \"%s/evaluation\" % ROOT_DIR\n",
    "MODEL_DIR = \"%s/models\" % ROOT_DIR\n",
    "\n",
    "#Create missing directories, if they don't exist\n",
    "if not os.path.exists(DATA_DIR):\n",
    "    # Create a new directory because it does not exist\n",
    "    os.makedirs(DATA_DIR)\n",
    "    print(\"The data directory is created!\")\n",
    "if not os.path.exists(EVAL_DIR):\n",
    "    # Create a new directory because it does not exist\n",
    "    os.makedirs(EVAL_DIR)\n",
    "    print(\"The evaluation directory is created!\")\n",
    "if not os.path.exists(MODEL_DIR):\n",
    "    # Create a new directory because it does not exist\n",
    "    os.makedirs(MODEL_DIR)\n",
    "    print(\"The model directory is created!\")"
   ]
  },
  {
   "cell_type": "markdown",
   "id": "b00cb6b5-6c1c-4411-831e-09fdeeb98bad",
   "metadata": {},
   "source": [
    "# Loading the Data\n",
    "## Downloading the Data"
   ]
  },
  {
   "cell_type": "code",
   "execution_count": 7,
   "id": "1d94465f-9fcb-4cc3-bef3-ef5545750655",
   "metadata": {},
   "outputs": [],
   "source": [
    "#link would be expired by the time of the grading. It's just here to show how it could be done.\n",
    "#import urllib.request\n",
    "#url = 'https://d3c33hcgiwev3.cloudfront.net/Rylguh2DR_CpYLodg0fwQQ_1199ff1bd63f4163bc4de1e7806c70f1_nikelululemonadidas_tweets.jsonl.gz?Expires=1712102400&Signature=i9uv4cAI6bDpP2tP3nODY~qmBSPEt~ywYmy6H0i9CIjG2siek56an3vNbEzUC8BESaVtb-sjqQAALUtjHeyTEANAs8dnUXs~vISoeH7FydUKZYO5rJAjO2Xj~NxYRBt1e78rUILA4ZPP2LWWbrvxpOBW-yNBWu19KAH8nk74DrM_&Key-Pair-Id=APKAJLTNE6QMUY6HBC5A'\n",
    "#filename = './data/nikelululemonadidas_tweets.jsonl.gz'\n",
    "#urllib.request.urlretrieve(url, filename)"
   ]
  },
  {
   "cell_type": "markdown",
   "id": "3570c649-1f0e-4594-9125-b483e40584a5",
   "metadata": {},
   "source": [
    "## Basic Inspection and Sanity Check"
   ]
  },
  {
   "cell_type": "code",
   "execution_count": 13,
   "id": "5438f523-0f45-407b-8266-fe916056150e",
   "metadata": {},
   "outputs": [
    {
     "name": "stdout",
     "output_type": "stream",
     "text": [
      "tweet 0 : #ad The Nike Women's Air More Uptempo 96 'White/Opti Yellow' is now available via @footlocker! |$160| #SneakerScouts @Nike https://t.co/5lAq7b2ffU https://t.co/wmjxIcsheP \n",
      "\n",
      "tweet 2 : Proof @LaserShip is stealing. I work from home and have a ring doorbell. @wsoctv @Nike @wcnc @wbtv @bbb_us https://t.co/9o3stezjgs \n",
      "\n",
      "tweet 3 : RT @pyleaks: *LEAK ALERT*: The next Supreme x @Nike collab for Spring 2022 will feature the Nike Shox Ride 2.\n",
      "The duo will be dropping 3 co… \n",
      "\n",
      "tweet 4 : RT @SneakerScouts: #ad The Space Jam x Nike LeBron 18 Low 'Sylvester vs. Tweety' is now available via @snipes_usa! |$160| #SneakerScouts @K… \n",
      "\n"
     ]
    }
   ],
   "source": [
    "LIMIT = 5\n",
    "tweet_file_path = '%s/nikelululemonadidas_tweets.jsonl.gz' % DATA_DIR\n",
    "with gzip.open(tweet_file_path) as f:\n",
    "    for i, line in enumerate(f):\n",
    "        if i >= LIMIT:\n",
    "            break\n",
    "        tweet = json.loads(line)\n",
    "        text = tweet.get(\"full_text\") or tweet.get(\"text\")\n",
    "        if \"nike\" in text.lower():\n",
    "            print('tweet', i,':', text, '\\n')"
   ]
  },
  {
   "cell_type": "code",
   "execution_count": 14,
   "id": "92c20b69-8fbb-4278-a64b-f04d792f1621",
   "metadata": {},
   "outputs": [
    {
     "data": {
      "text/plain": [
       "{'created_at': 'Fri Oct 01 06:22:08 +0000 2021',\n",
       " 'id': 1443823529296867300,\n",
       " 'id_str': '1443823529296867350',\n",
       " 'full_text': \"RT @SneakerScouts: #ad The Space Jam x Nike LeBron 18 Low 'Sylvester vs. Tweety' is now available via @snipes_usa! |$160| #SneakerScouts @K…\",\n",
       " 'truncated': False,\n",
       " 'display_text_range': [0, 140],\n",
       " 'entities': {'hashtags': [{'text': 'ad', 'indices': [19, 22]},\n",
       "   {'text': 'SneakerScouts', 'indices': [122, 136]}],\n",
       "  'symbols': [],\n",
       "  'user_mentions': [{'screen_name': 'SneakerScouts',\n",
       "    'name': '#SneakerScouts',\n",
       "    'id': 792182745942233100,\n",
       "    'id_str': '792182745942233089',\n",
       "    'indices': [3, 17]},\n",
       "   {'screen_name': 'snipes_usa',\n",
       "    'name': 'SNIPES_USA',\n",
       "    'id': 83606701,\n",
       "    'id_str': '83606701',\n",
       "    'indices': [102, 113]}],\n",
       "  'urls': []},\n",
       " 'source': '<a href=\"https://mobile.twitter.com\" rel=\"nofollow\">Twitter Web App</a>',\n",
       " 'in_reply_to_status_id': None,\n",
       " 'in_reply_to_status_id_str': None,\n",
       " 'in_reply_to_user_id': None,\n",
       " 'in_reply_to_user_id_str': None,\n",
       " 'in_reply_to_screen_name': None,\n",
       " 'user': {'id': 792182745942233100,\n",
       "  'id_str': '792182745942233089',\n",
       "  'name': '#SneakerScouts',\n",
       "  'screen_name': 'SneakerScouts',\n",
       "  'location': '',\n",
       "  'description': 'The #1 source for sneaker news, release dates, sales, and general information! info@SneakerScouts.com  #SneakerScouts',\n",
       "  'url': 'https://t.co/YBERhCCwh7',\n",
       "  'entities': {'url': {'urls': [{'url': 'https://t.co/YBERhCCwh7',\n",
       "      'expanded_url': 'http://www.SneakerScouts.com',\n",
       "      'display_url': 'SneakerScouts.com',\n",
       "      'indices': [0, 23]}]},\n",
       "   'description': {'urls': []}},\n",
       "  'protected': False,\n",
       "  'followers_count': 18262,\n",
       "  'friends_count': 6397,\n",
       "  'listed_count': 82,\n",
       "  'created_at': 'Sat Oct 29 01:54:19 +0000 2016',\n",
       "  'favourites_count': 169294,\n",
       "  'utc_offset': None,\n",
       "  'time_zone': None,\n",
       "  'geo_enabled': False,\n",
       "  'verified': False,\n",
       "  'statuses_count': 301804,\n",
       "  'lang': None,\n",
       "  'contributors_enabled': False,\n",
       "  'is_translator': False,\n",
       "  'is_translation_enabled': False,\n",
       "  'profile_background_color': '000000',\n",
       "  'profile_background_image_url': 'http://abs.twimg.com/images/themes/theme1/bg.png',\n",
       "  'profile_background_image_url_https': 'https://abs.twimg.com/images/themes/theme1/bg.png',\n",
       "  'profile_background_tile': False,\n",
       "  'profile_image_url': 'http://pbs.twimg.com/profile_images/971422898886868992/K3R78VcP_normal.jpg',\n",
       "  'profile_image_url_https': 'https://pbs.twimg.com/profile_images/971422898886868992/K3R78VcP_normal.jpg',\n",
       "  'profile_banner_url': 'https://pbs.twimg.com/profile_banners/792182745942233089/1540175194',\n",
       "  'profile_link_color': '000000',\n",
       "  'profile_sidebar_border_color': '000000',\n",
       "  'profile_sidebar_fill_color': '000000',\n",
       "  'profile_text_color': '000000',\n",
       "  'profile_use_background_image': False,\n",
       "  'has_extended_profile': False,\n",
       "  'default_profile': False,\n",
       "  'default_profile_image': False,\n",
       "  'following': False,\n",
       "  'follow_request_sent': False,\n",
       "  'notifications': False,\n",
       "  'translator_type': 'none',\n",
       "  'withheld_in_countries': []},\n",
       " 'geo': None,\n",
       " 'coordinates': None,\n",
       " 'place': None,\n",
       " 'contributors': None,\n",
       " 'retweeted_status': {'created_at': 'Thu Sep 30 16:10:08 +0000 2021',\n",
       "  'id': 1443609113901080600,\n",
       "  'id_str': '1443609113901080576',\n",
       "  'full_text': \"#ad The Space Jam x Nike LeBron 18 Low 'Sylvester vs. Tweety' is now available via @snipes_usa! |$160| #SneakerScouts @KingJames @Nike https://t.co/JmXLCWSQB0 https://t.co/qt9BezGxQA\",\n",
       "  'truncated': False,\n",
       "  'display_text_range': [0, 158],\n",
       "  'entities': {'hashtags': [{'text': 'ad', 'indices': [0, 3]},\n",
       "    {'text': 'SneakerScouts', 'indices': [103, 117]}],\n",
       "   'symbols': [],\n",
       "   'user_mentions': [{'screen_name': 'snipes_usa',\n",
       "     'name': 'SNIPES_USA',\n",
       "     'id': 83606701,\n",
       "     'id_str': '83606701',\n",
       "     'indices': [83, 94]},\n",
       "    {'screen_name': 'KingJames',\n",
       "     'name': 'LeBron James',\n",
       "     'id': 23083404,\n",
       "     'id_str': '23083404',\n",
       "     'indices': [118, 128]},\n",
       "    {'screen_name': 'Nike',\n",
       "     'name': 'Nike',\n",
       "     'id': 415859364,\n",
       "     'id_str': '415859364',\n",
       "     'indices': [129, 134]}],\n",
       "   'urls': [{'url': 'https://t.co/JmXLCWSQB0',\n",
       "     'expanded_url': 'https://www.snipesusa.com/lebron-18-low--sylvester-vs-tweety--nike-usa-multi-cv7562-103-1000093902.html?ranMID=39800&ranEAID=zAJE4hSbGa4&ranSiteID=zAJE4hSbGa4-7XC2P.2wCMbckrmfYXeCMQ&utm_source=linkshare&utm_medium=affiliate&utm_campaign=zAJE4hSbGa4&utm_term=10&utm_content=1&siteID=zAJE4hSbGa4-7XC2P.2wCMbckrmfYXeCMQ&utm_campaign=%23SneakerScouts',\n",
       "     'display_url': 'snipesusa.com/lebron-18-low-…',\n",
       "     'indices': [135, 158]}],\n",
       "   'media': [{'id': 1443609112017784800,\n",
       "     'id_str': '1443609112017784836',\n",
       "     'indices': [159, 182],\n",
       "     'media_url': 'http://pbs.twimg.com/media/FAi61rxWUAQ_mE6.png',\n",
       "     'media_url_https': 'https://pbs.twimg.com/media/FAi61rxWUAQ_mE6.png',\n",
       "     'url': 'https://t.co/qt9BezGxQA',\n",
       "     'display_url': 'pic.twitter.com/qt9BezGxQA',\n",
       "     'expanded_url': 'https://twitter.com/SneakerScouts/status/1443609113901080576/photo/1',\n",
       "     'type': 'photo',\n",
       "     'sizes': {'small': {'w': 604, 'h': 680, 'resize': 'fit'},\n",
       "      'large': {'w': 640, 'h': 720, 'resize': 'fit'},\n",
       "      'medium': {'w': 640, 'h': 720, 'resize': 'fit'},\n",
       "      'thumb': {'w': 150, 'h': 150, 'resize': 'crop'}}}]},\n",
       "  'extended_entities': {'media': [{'id': 1443609112017784800,\n",
       "     'id_str': '1443609112017784836',\n",
       "     'indices': [159, 182],\n",
       "     'media_url': 'http://pbs.twimg.com/media/FAi61rxWUAQ_mE6.png',\n",
       "     'media_url_https': 'https://pbs.twimg.com/media/FAi61rxWUAQ_mE6.png',\n",
       "     'url': 'https://t.co/qt9BezGxQA',\n",
       "     'display_url': 'pic.twitter.com/qt9BezGxQA',\n",
       "     'expanded_url': 'https://twitter.com/SneakerScouts/status/1443609113901080576/photo/1',\n",
       "     'type': 'photo',\n",
       "     'sizes': {'small': {'w': 604, 'h': 680, 'resize': 'fit'},\n",
       "      'large': {'w': 640, 'h': 720, 'resize': 'fit'},\n",
       "      'medium': {'w': 640, 'h': 720, 'resize': 'fit'},\n",
       "      'thumb': {'w': 150, 'h': 150, 'resize': 'crop'}}},\n",
       "    {'id': 1443609112055632000,\n",
       "     'id_str': '1443609112055631874',\n",
       "     'indices': [159, 182],\n",
       "     'media_url': 'http://pbs.twimg.com/media/FAi61r6X0AIFRSV.png',\n",
       "     'media_url_https': 'https://pbs.twimg.com/media/FAi61r6X0AIFRSV.png',\n",
       "     'url': 'https://t.co/qt9BezGxQA',\n",
       "     'display_url': 'pic.twitter.com/qt9BezGxQA',\n",
       "     'expanded_url': 'https://twitter.com/SneakerScouts/status/1443609113901080576/photo/1',\n",
       "     'type': 'photo',\n",
       "     'sizes': {'medium': {'w': 640, 'h': 720, 'resize': 'fit'},\n",
       "      'thumb': {'w': 150, 'h': 150, 'resize': 'crop'},\n",
       "      'small': {'w': 604, 'h': 680, 'resize': 'fit'},\n",
       "      'large': {'w': 640, 'h': 720, 'resize': 'fit'}}},\n",
       "    {'id': 1443609112084992000,\n",
       "     'id_str': '1443609112084992009',\n",
       "     'indices': [159, 182],\n",
       "     'media_url': 'http://pbs.twimg.com/media/FAi61sBX0Aksqg1.png',\n",
       "     'media_url_https': 'https://pbs.twimg.com/media/FAi61sBX0Aksqg1.png',\n",
       "     'url': 'https://t.co/qt9BezGxQA',\n",
       "     'display_url': 'pic.twitter.com/qt9BezGxQA',\n",
       "     'expanded_url': 'https://twitter.com/SneakerScouts/status/1443609113901080576/photo/1',\n",
       "     'type': 'photo',\n",
       "     'sizes': {'medium': {'w': 640, 'h': 720, 'resize': 'fit'},\n",
       "      'small': {'w': 604, 'h': 680, 'resize': 'fit'},\n",
       "      'thumb': {'w': 150, 'h': 150, 'resize': 'crop'},\n",
       "      'large': {'w': 640, 'h': 720, 'resize': 'fit'}}},\n",
       "    {'id': 1443609111485206500,\n",
       "     'id_str': '1443609111485206535',\n",
       "     'indices': [159, 182],\n",
       "     'media_url': 'http://pbs.twimg.com/media/FAi61pyX0AcihlU.png',\n",
       "     'media_url_https': 'https://pbs.twimg.com/media/FAi61pyX0AcihlU.png',\n",
       "     'url': 'https://t.co/qt9BezGxQA',\n",
       "     'display_url': 'pic.twitter.com/qt9BezGxQA',\n",
       "     'expanded_url': 'https://twitter.com/SneakerScouts/status/1443609113901080576/photo/1',\n",
       "     'type': 'photo',\n",
       "     'sizes': {'small': {'w': 604, 'h': 680, 'resize': 'fit'},\n",
       "      'large': {'w': 640, 'h': 720, 'resize': 'fit'},\n",
       "      'medium': {'w': 640, 'h': 720, 'resize': 'fit'},\n",
       "      'thumb': {'w': 150, 'h': 150, 'resize': 'crop'}}}]},\n",
       "  'source': '<a href=\"https://www.hootsuite.com\" rel=\"nofollow\">Hootsuite Inc.</a>',\n",
       "  'in_reply_to_status_id': None,\n",
       "  'in_reply_to_status_id_str': None,\n",
       "  'in_reply_to_user_id': None,\n",
       "  'in_reply_to_user_id_str': None,\n",
       "  'in_reply_to_screen_name': None,\n",
       "  'user': {'id': 792182745942233100,\n",
       "   'id_str': '792182745942233089',\n",
       "   'name': '#SneakerScouts',\n",
       "   'screen_name': 'SneakerScouts',\n",
       "   'location': '',\n",
       "   'description': 'The #1 source for sneaker news, release dates, sales, and general information! info@SneakerScouts.com  #SneakerScouts',\n",
       "   'url': 'https://t.co/YBERhCCwh7',\n",
       "   'entities': {'url': {'urls': [{'url': 'https://t.co/YBERhCCwh7',\n",
       "       'expanded_url': 'http://www.SneakerScouts.com',\n",
       "       'display_url': 'SneakerScouts.com',\n",
       "       'indices': [0, 23]}]},\n",
       "    'description': {'urls': []}},\n",
       "   'protected': False,\n",
       "   'followers_count': 18262,\n",
       "   'friends_count': 6397,\n",
       "   'listed_count': 82,\n",
       "   'created_at': 'Sat Oct 29 01:54:19 +0000 2016',\n",
       "   'favourites_count': 169294,\n",
       "   'utc_offset': None,\n",
       "   'time_zone': None,\n",
       "   'geo_enabled': False,\n",
       "   'verified': False,\n",
       "   'statuses_count': 301804,\n",
       "   'lang': None,\n",
       "   'contributors_enabled': False,\n",
       "   'is_translator': False,\n",
       "   'is_translation_enabled': False,\n",
       "   'profile_background_color': '000000',\n",
       "   'profile_background_image_url': 'http://abs.twimg.com/images/themes/theme1/bg.png',\n",
       "   'profile_background_image_url_https': 'https://abs.twimg.com/images/themes/theme1/bg.png',\n",
       "   'profile_background_tile': False,\n",
       "   'profile_image_url': 'http://pbs.twimg.com/profile_images/971422898886868992/K3R78VcP_normal.jpg',\n",
       "   'profile_image_url_https': 'https://pbs.twimg.com/profile_images/971422898886868992/K3R78VcP_normal.jpg',\n",
       "   'profile_banner_url': 'https://pbs.twimg.com/profile_banners/792182745942233089/1540175194',\n",
       "   'profile_link_color': '000000',\n",
       "   'profile_sidebar_border_color': '000000',\n",
       "   'profile_sidebar_fill_color': '000000',\n",
       "   'profile_text_color': '000000',\n",
       "   'profile_use_background_image': False,\n",
       "   'has_extended_profile': False,\n",
       "   'default_profile': False,\n",
       "   'default_profile_image': False,\n",
       "   'following': False,\n",
       "   'follow_request_sent': False,\n",
       "   'notifications': False,\n",
       "   'translator_type': 'none',\n",
       "   'withheld_in_countries': []},\n",
       "  'geo': None,\n",
       "  'coordinates': None,\n",
       "  'place': None,\n",
       "  'contributors': None,\n",
       "  'is_quote_status': False,\n",
       "  'retweet_count': 3,\n",
       "  'favorite_count': 6,\n",
       "  'favorited': False,\n",
       "  'retweeted': False,\n",
       "  'possibly_sensitive': False,\n",
       "  'lang': 'en'},\n",
       " 'is_quote_status': False,\n",
       " 'retweet_count': 3,\n",
       " 'favorite_count': 0,\n",
       " 'favorited': False,\n",
       " 'retweeted': False,\n",
       " 'lang': 'en'}"
      ]
     },
     "execution_count": 14,
     "metadata": {},
     "output_type": "execute_result"
    }
   ],
   "source": [
    "tweet"
   ]
  },
  {
   "cell_type": "markdown",
   "id": "502b978e-7c10-470f-beed-3b620826c630",
   "metadata": {},
   "source": [
    "# Create a Mention Network\n",
    "## Load the Corpus of Tweets"
   ]
  },
  {
   "cell_type": "code",
   "execution_count": 24,
   "id": "ced64b97-90ff-4c28-9f6b-e6a6e67fe888",
   "metadata": {},
   "outputs": [],
   "source": [
    "## Load the Product Data\n",
    "##this assigns the filename we're trying to load in to a string variable\n",
    "tweet_file_path = '%s/nikelululemonadidas_tweets.jsonl.gz' % DATA_DIR\n",
    "json_file = gzip.open(tweet_file_path, 'r')"
   ]
  },
  {
   "cell_type": "markdown",
   "id": "5d254a86-50ac-43c9-957b-ce2542de8257",
   "metadata": {},
   "source": [
    "## Create a List of Unique Users"
   ]
  },
  {
   "cell_type": "code",
   "execution_count": 17,
   "id": "51a72203-020a-4862-bbdf-3e6fc7ee7698",
   "metadata": {},
   "outputs": [
    {
     "name": "stdout",
     "output_type": "stream",
     "text": [
      "0 tweets iterated\n",
      "10000 tweets iterated\n",
      "20000 tweets iterated\n",
      "30000 tweets iterated\n",
      "40000 tweets iterated\n",
      "50000 tweets iterated\n",
      "60000 tweets iterated\n",
      "70000 tweets iterated\n",
      "80000 tweets iterated\n",
      "90000 tweets iterated\n",
      "100000 tweets iterated\n",
      "110000 tweets iterated\n",
      "120000 tweets iterated\n",
      "130000 tweets iterated\n",
      "140000 tweets iterated\n",
      "150000 tweets iterated\n",
      "160000 tweets iterated\n",
      "170000 tweets iterated\n",
      "175077 total Tweets processed\n"
     ]
    }
   ],
   "source": [
    "# Identify unique users in the mention network\n",
    "unique_users = {}\n",
    "\n",
    "#iterate through each row in the twitter corpus and extract twitter users\n",
    "for i, atweet in enumerate(json_file):\n",
    "    if i % 10000 == 0: # Show a periodic status\n",
    "      print(\"%s tweets iterated\" % i)\n",
    "    tweet_json = json.loads(atweet)\n",
    "    user_who_tweeted = tweet_json['user']['screen_name']\n",
    "    id_who_tweeted = tweet_json['user']['id']\n",
    "    follower_count = tweet_json['user']['followers_count']\n",
    "    if id_who_tweeted in unique_users:\n",
    "      unique_users[id_who_tweeted]['tweet_count'] += 1\n",
    "      if unique_users[id_who_tweeted]['followers_count'] == 0:\n",
    "        unique_users[id_who_tweeted]['followers_count'] = follower_count\n",
    "    if id_who_tweeted not in unique_users:\n",
    "      unique_users[id_who_tweeted] = {}\n",
    "      unique_users[id_who_tweeted]['tweet_count'] = 1\n",
    "      unique_users[id_who_tweeted]['mention_count'] = 0\n",
    "      unique_users[id_who_tweeted]['id'] = id_who_tweeted\n",
    "      unique_users[id_who_tweeted]['followers_count'] = follower_count\n",
    "      unique_users[id_who_tweeted]['screen_name'] = user_who_tweeted.lower()\n",
    "    #add in the mentioned users as well\n",
    "    users_mentioned = tweet_json['entities']['user_mentions']\n",
    "    #if the tweet netions other users in the tweet\n",
    "    if len(users_mentioned) > 0:\n",
    "      # iterate through each mention in the tweet\n",
    "      for user_mentioned in users_mentioned:\n",
    "        #extract details about user\n",
    "        screen_name_mentioned = user_mentioned['screen_name']\n",
    "        id_mentioned = user_mentioned['id']\n",
    "        #if in the list, increase the mention count\n",
    "        if id_mentioned in unique_users:\n",
    "          unique_users[id_mentioned]['mention_count'] += 1\n",
    "        #extract details about the metioned users in the tweet\n",
    "        if id_mentioned not in unique_users:\n",
    "          unique_users[id_mentioned] = {}\n",
    "          unique_users[id_mentioned]['tweet_count'] = 0\n",
    "          unique_users[id_mentioned]['mention_count'] = 1\n",
    "          unique_users[id_mentioned]['id'] = id_mentioned\n",
    "          unique_users[id_mentioned]['followers_count'] = 0\n",
    "          unique_users[id_mentioned]['screen_name'] = screen_name_mentioned.lower()\n",
    "\n",
    "print(f\"{i} total Tweets processed\")"
   ]
  },
  {
   "cell_type": "code",
   "execution_count": 18,
   "id": "517ea4f5-9da7-4995-9690-8642aabbce89",
   "metadata": {},
   "outputs": [
    {
     "name": "stdout",
     "output_type": "stream",
     "text": [
      "there are 131663 total users in the mention network.\n"
     ]
    }
   ],
   "source": [
    "#print the number of unique users in the corpus\n",
    "print('there are', len(unique_users), 'total users in the mention network.')"
   ]
  },
  {
   "cell_type": "markdown",
   "id": "41deef96-3779-468f-a054-7131ca07511e",
   "metadata": {},
   "source": [
    "## Create User Filter List"
   ]
  },
  {
   "cell_type": "code",
   "execution_count": 19,
   "id": "b33432e6-7b8a-49fa-ab80-ce4877355385",
   "metadata": {},
   "outputs": [
    {
     "name": "stdout",
     "output_type": "stream",
     "text": [
      "id: 415859364 \tscreen_name: nike\n",
      "id: 300114634 \tscreen_name: adidas\n",
      "id: 16252784 \tscreen_name: lululemon\n",
      "198\n"
     ]
    }
   ],
   "source": [
    "users_to_include = set()\n",
    "# if any user has more than 2 tweets\n",
    "min_tweet_count = 2\n",
    "# if any user has more than 2500 followers\n",
    "min_followers_count = 100000\n",
    "# create a list of brand users\n",
    "brand_users = ['nike', 'lululemon', 'adidas']\n",
    "\n",
    "# a set is a unique list\n",
    "user_count = 0\n",
    "\n",
    "#iterate through the list of unique users and filter down the list\n",
    "for auser in unique_users:\n",
    "  if unique_users[auser]['screen_name'] in brand_users:\n",
    "      print('id:', auser, '\\tscreen_name:', unique_users[auser]['screen_name'])\n",
    "      user_count += 1\n",
    "      users_to_include.add(auser)\n",
    "  elif unique_users[auser]['tweet_count'] >= min_tweet_count:\n",
    "    if unique_users[auser]['followers_count'] >= min_followers_count:\n",
    "      user_count += 1\n",
    "      users_to_include.add(auser)\n",
    "print(len(users_to_include))"
   ]
  },
  {
   "cell_type": "code",
   "execution_count": 20,
   "id": "a2646272-6f74-48c3-800a-085af72175e6",
   "metadata": {},
   "outputs": [
    {
     "name": "stdout",
     "output_type": "stream",
     "text": [
      "there are 198 users to include in the final mention network.\n",
      "0.15% of the total users are included in the mention network.\n"
     ]
    }
   ],
   "source": [
    "#print the number of unique users to include in the graph\n",
    "print('there are', len(users_to_include), 'users to include in the final mention network.')\n",
    "pct_of_total = round(len(users_to_include) / len(unique_users),4) * 100\n",
    "print(f\"{pct_of_total}% of the total users are included in the mention network.\")"
   ]
  },
  {
   "cell_type": "code",
   "execution_count": 21,
   "id": "d08a5cd6-1939-4560-aaf0-d01ad0c52042",
   "metadata": {},
   "outputs": [
    {
     "name": "stdout",
     "output_type": "stream",
     "text": [
      "Nike: {'tweet_count': 0, 'mention_count': 120125, 'id': 415859364, 'followers_count': 0, 'screen_name': 'nike'}\n",
      "Adidas: {'tweet_count': 3, 'mention_count': 36654, 'id': 300114634, 'followers_count': 4082910, 'screen_name': 'adidas'}\n",
      "Lululemon: {'tweet_count': 0, 'mention_count': 6294, 'id': 16252784, 'followers_count': 0, 'screen_name': 'lululemon'}\n"
     ]
    }
   ],
   "source": [
    "#print the word counts for the major brands\n",
    "print(\"Nike:\", unique_users[415859364])\n",
    "print(\"Adidas:\", unique_users[300114634])\n",
    "print(\"Lululemon:\", unique_users[16252784])"
   ]
  },
  {
   "cell_type": "markdown",
   "id": "bb7de950-1afd-412e-890c-1fce7c1f0455",
   "metadata": {},
   "source": [
    "## Setting Up Helper Functions for Analysis"
   ]
  },
  {
   "cell_type": "code",
   "execution_count": 25,
   "id": "3f36892f-4998-4158-9e33-77bc48ed322d",
   "metadata": {},
   "outputs": [],
   "source": [
    "def graph_summary_stats(G, title='Graph Summary'):\n",
    "  #display a summary of the graph object created\n",
    "  #nx.info(G)\n",
    "  # https://networkx.org/documentation/stable/reference/functions.html\n",
    "  print('----------------------------------------')\n",
    "  print('#####', title, '#####')\n",
    "  print('number of nodes:', nx.number_of_nodes(G))\n",
    "  print('number of edges:', nx.number_of_edges(G))\n",
    "  print()\n",
    "  print('nodes:', nx.nodes(G))\n",
    "  print()\n",
    "  if G.has_node('adidas'):\n",
    "    print('neighbors of adidas:', list(nx.all_neighbors(G, 'adidas')))\n",
    "  if G.has_node('nike'):\n",
    "    print('neighbors of nike:', list(nx.all_neighbors(G, 'nike')))\n",
    "  if G.has_node('lululemon'):\n",
    "   print('neighbors of lululemon:', list(nx.all_neighbors(G, 'lululemon')))\n",
    "  print('----------------------------------------\\n')"
   ]
  },
  {
   "cell_type": "code",
   "execution_count": 26,
   "id": "0e13b6d6-bd49-430f-beae-ef0d4b602f14",
   "metadata": {},
   "outputs": [],
   "source": [
    "#function to plot the graph object and write to png\n",
    "def plot_graph(G, file_path='temp_file', use_edge_weight=True, plot_size='large'):\n",
    "  #define node colors\n",
    "  default_color = 'blue'\n",
    "  highlight_color = 'red'\n",
    "  brand_users = ['nike', 'lululemon', 'adidas']\n",
    "  node_colors = [highlight_color if node in brand_users else default_color for node in G.nodes()]\n",
    "\n",
    "  #set plot size for drawing\n",
    "  if plot_size == 'medium-large':\n",
    "    p_figsize = (150, 150)\n",
    "    p_font_size = 20\n",
    "    p_edge_width_scale = 2\n",
    "    p_node_size = 5000\n",
    "    p_arrow_size = 50\n",
    "    p_k = None\n",
    "  if plot_size == 'medium':\n",
    "    p_figsize = (25, 25)\n",
    "    p_font_size = 12\n",
    "    p_edge_width_scale = 2\n",
    "    p_node_size = 3000\n",
    "    p_arrow_size = 50\n",
    "    p_k = None\n",
    "  elif plot_size == 'small':\n",
    "    p_figsize = (50, 50)\n",
    "    p_font_size = 20\n",
    "    p_edge_width_scale = 2\n",
    "    p_node_size = 30000\n",
    "    p_arrow_size = 100\n",
    "    p_k = None\n",
    "  elif plot_size == 'x-small':\n",
    "    p_figsize = (12, 12)\n",
    "    p_font_size = 20\n",
    "    p_edge_width_scale = 2\n",
    "    p_node_size = 5000\n",
    "    p_arrow_size = 100\n",
    "    p_k = None\n",
    "  else: #plot_size == 'large'\n",
    "    p_figsize = (300, 300)\n",
    "    p_font_size = 20\n",
    "    p_edge_width_scale = 2\n",
    "    p_node_size = 3000\n",
    "    p_arrow_size = 100\n",
    "    p_k = None\n",
    "\n",
    "  #generate a spring layout for the graph\n",
    "  positions = nx.spring_layout(G, k=p_k)\n",
    "\n",
    "  #extract edge weights for drawing\n",
    "  if use_edge_weight == True:\n",
    "    p_edge_weights = p_edge_width_scale*[G[u][v]['weight'] for u, v in G.edges()]\n",
    "  else:\n",
    "    p_edge_weights = p_edge_width_scale\n",
    "\n",
    "  #create a figure and adjust the size of the figure\n",
    "  fig, ax = plt.subplots(1, 1, figsize=p_figsize)\n",
    "  #draw the graph of the network\n",
    "  nx.draw_networkx(G, pos=positions, ax=ax, node_color=node_colors,\n",
    "                   font_color=\"#FFFFFF\", font_size=p_font_size,\n",
    "                   node_size=p_node_size, width=p_edge_weights,\n",
    "                   arrows=True, arrowsize=p_arrow_size)\n",
    "  #save the graph to a file\n",
    "  print_file_path = '%s/%s.png' % (MODEL_DIR,file_path)\n",
    "  plt.savefig(print_file_path, format='PNG')\n",
    "  plt.close('all')"
   ]
  },
  {
   "cell_type": "code",
   "execution_count": 27,
   "id": "64eb5296-26bf-46e0-9135-237648995ef7",
   "metadata": {},
   "outputs": [],
   "source": [
    "def focus_edges(G, brand_nodes = None, weight_min = None, weight_max = None):\n",
    "  # Filter based on a list of brand nodes to focus\n",
    "  if brand_nodes != None:\n",
    "    # Filter edges based on the weight threshold\n",
    "    filtered_edges = [(u, v) for u, v in G.edges() if u in brand_nodes or v in brand_nodes]\n",
    "    # Create a subgraph based on the filtered edges\n",
    "    G = G.edge_subgraph(filtered_edges)\n",
    "  # Filter based on weight threshold\n",
    "  if weight_min != None:\n",
    "    # Filter edges based on the weight threshold\n",
    "    filtered_edges = [(u, v) for u, v, d in G.edges(data=True) if d['weight'] >= weight_min]\n",
    "    # Create a subgraph based on the filtered edges\n",
    "    G = G.edge_subgraph(filtered_edges)\n",
    "  if weight_max != None:\n",
    "    # Filter edges based on the weight threshold\n",
    "    filtered_edges = [(u, v) for u, v, d in G.edges(data=True) if d['weight'] <= weight_max]\n",
    "    # Create a subgraph based on the filtered edges\n",
    "    G = G.edge_subgraph(filtered_edges)\n",
    "  # Return the filtered subgraph\n",
    "  return G"
   ]
  },
  {
   "cell_type": "markdown",
   "id": "6947bce0-d6fa-48f3-a258-edd0dcf1bae9",
   "metadata": {},
   "source": [
    "## Create a Graph Object"
   ]
  },
  {
   "cell_type": "code",
   "execution_count": 28,
   "id": "e71a4340-3071-4c17-b626-585383e43ea0",
   "metadata": {},
   "outputs": [],
   "source": [
    "## Load the Product Data\n",
    "##this assigns the filename we're trying to load in to a string variable\n",
    "tweet_file_path = '%s/nikelululemonadidas_tweets.jsonl.gz' % DATA_DIR\n",
    "json_file = gzip.open(tweet_file_path, 'r')"
   ]
  },
  {
   "cell_type": "code",
   "execution_count": 29,
   "id": "4910d8f6-3fda-46a4-ac85-f986a719cf0e",
   "metadata": {},
   "outputs": [],
   "source": [
    "#create a blank graph object\n",
    "MEN_Graph = nx.DiGraph()"
   ]
  },
  {
   "cell_type": "code",
   "execution_count": 30,
   "id": "d98e143b-2c6b-4577-8bac-3d9059f577a2",
   "metadata": {},
   "outputs": [
    {
     "name": "stdout",
     "output_type": "stream",
     "text": [
      "0 tweets iterated\n",
      "10000 tweets iterated\n",
      "20000 tweets iterated\n",
      "30000 tweets iterated\n",
      "40000 tweets iterated\n",
      "50000 tweets iterated\n",
      "60000 tweets iterated\n",
      "70000 tweets iterated\n",
      "80000 tweets iterated\n",
      "90000 tweets iterated\n",
      "100000 tweets iterated\n",
      "110000 tweets iterated\n",
      "120000 tweets iterated\n",
      "130000 tweets iterated\n",
      "140000 tweets iterated\n",
      "150000 tweets iterated\n",
      "160000 tweets iterated\n",
      "170000 tweets iterated\n",
      "175077 total tweets processed\n"
     ]
    }
   ],
   "source": [
    "# Identify unique users in the mention network\n",
    "for i, atweet in enumerate(json_file):\n",
    "    #provide an update on processing progress\n",
    "    if i % 10000 == 0:\n",
    "      print(\"%s tweets iterated\" % i)\n",
    "    #load a line of the twitter corpus\n",
    "    tweet_json = json.loads(atweet)\n",
    "    #extract details from the tweet\n",
    "    user_who_tweeted = tweet_json['user']['screen_name'].lower()\n",
    "    id_who_tweeted = tweet_json['user']['id']\n",
    "    follower_count = tweet_json['user']['followers_count']\n",
    "    #check if the user id is in the list to include\n",
    "    if id_who_tweeted in users_to_include:\n",
    "      users = tweet_json['entities']['user_mentions']\n",
    "      #if the tweet netions other users in the tweet\n",
    "      if len(users) > 0:\n",
    "          # iterate through each mention in the tweet\n",
    "          for auser in users:\n",
    "              #extract details about the metioned users in the tweet\n",
    "              screen_name = auser['screen_name'].lower()\n",
    "              mention_id = auser['id']\n",
    "              #if the mentioned user is on the list to included\n",
    "              if mention_id in users_to_include:\n",
    "                if user_who_tweeted != screen_name:\n",
    "                  #add an edge to the graph\n",
    "                  if MEN_Graph.has_edge(user_who_tweeted, screen_name):\n",
    "                    # If the edge exists, increment its weight\n",
    "                    MEN_Graph[user_who_tweeted][screen_name]['weight'] += 1\n",
    "                  else:\n",
    "                    # If the edge doesn't exist, add it with weight=1\n",
    "                    MEN_Graph.add_edge(user_who_tweeted, screen_name, weight=1)\n",
    "print(f\"{i} total tweets processed\")"
   ]
  },
  {
   "cell_type": "code",
   "execution_count": 31,
   "id": "c2a9041b-b031-405a-b913-f95a2ceba434",
   "metadata": {},
   "outputs": [
    {
     "name": "stdout",
     "output_type": "stream",
     "text": [
      "----------------------------------------\n",
      "##### Graph Summary #####\n",
      "number of nodes: 194\n",
      "number of edges: 339\n",
      "\n",
      "nodes: ['kiganyi_', 'adidas', 'undefeatedinc', 'uniwatch', 'nike', 'atari_jones', 'adidasoriginals', 'solefed', 'jumpman23', 'bajabiri', 'golfdigest', 'lululemon', 'jonahlupton', 'nikestore', 'jermainedupri', 'finishline', 'wwd', 'hiphopwired', 'xboxwire', 'aarongreenberg', 'xbox', 'xboxp3', 'predsnhl', 'lakings', 'dashiexp', 'fastcompany', 'reignofapril', 'nrarmour', 'sbjsbd', 'barcaacademy', 'khou', 'oakley', 'marshablackburn', 'senrickscott', 'schuh', 'dezeen', 'lebatardshow', 'billiejeanking', 'barrysanders', 'complex', 'brooksrunning', 'adidasrunning', 'wiedenkennedy', 'bottom2thatop', 'candace_parker', 'snkr_twitr', 'katgraham', 'joshog', 'adweek', 'kingjames', 'jamesgunn', 'pomklementieff', 'loyalty360', 'jasonlacanfora', 'kohls', '7newsdc', 'realrclark25', 'adidashoops', 'wnba', 'barondavis', 'metropolismag', 'legiqn', 'fatkiddeals', 'jack_p', 'nyctsubway', 'nikebasketball', 'slamonline', 'rga', 'stockx', 'gladstein', 'msmelchen', 'sproutsocial', 'orioles', 'natbrunell', 'fousey', 'okayplayer', 'sacramentokings', 'yahoofinance', 'enesfreedom', 'redsteeze', 'sethamandel', 'slimjim', 'tengbiao', 'hughhewitt', 'muslimmatters', 'nedryun', 'ericmmatheny', 'lifeatpurdue', 'epochtimes', 'suns', 'donaldjtrumpjr', 'joshrogin', 'yesnicksearcy', 'highsnobiety', 'lasparks', 'realunogame', 'giannis_an34', 'deezefi', 'mrleonardkim', 'evankirstel', 'mattel', 'reebok', 'pennstatefball', 'stevedeaceshow', 'girlsintech', 'uoregon', 'mystic7', 'ericpmusselman', 'qrich', 'cointelegraph', 'houstondynamo', 'threadreaderapp', 'prestonpysh', 'rwang0', 'tandfn', 'thebussypleaser', 'techinsider', 'jdofficial', 'xlr8r', 'onsoranje', 'liekemartens1', 'knvb', 'realshellyannfp', 'kicksdeals', 'lafc', 'thegrovela', 'lagalaxy', 'adamsconsulting', 'coindesk', 'adidasfootball', 'spicer', 'kieraplease', 'jkylebass', 'kfile', 'sportsiren', 'nicekicks', 'scottwarner18', 'complexstyle', 'tinashe', 'rosgo21', 'roblox', 'bloxy_news', 'insideroblox', 'atmos_usa', 'nwsl', 'adamjacksonsf', 'novambb', 'solomonyue', 'angelaruggiero', 'bauerhockey', 'jenniferwalcott', 'road_2_ft_worth', 'vampybitme', 'iamwellandgood', 'tropofarmer', 'boredelonmusk', 'mattsteffanina', 'mediapost', 'brooklynnets', 'vidcon', 'uninterrupted', 'hunterheather', 'misstabstevens', 'chainlinkgod', '1djfirstclass', 'chsommers', 'tonipayne', 'cowhercbs', 'detroitpistons', 'cory_shoff', 'usa_lacrosse', 'xxxcrypt0', 'ijustine', 'hackapreneur', 'burgerking', 'namecheap', 'campaignbrands', 'elmaaelmoo', 'colethereum', 'nebraskancrypto', 'vaynermedia', 'schmittnyc', 'mpinoe', 'seanmdav', 'hunterw', 'realvision', 'reallisariley', 'rexchapman', 'qiasomar', 'kingofthecrane', 'cnbc', 'ericvdunn', 'trustlessstate', 'lopp']\n",
      "\n",
      "neighbors of adidas: ['kiganyi_', 'undefeatedinc', 'atari_jones', 'bajabiri', 'jermainedupri', 'xboxwire', 'aarongreenberg', 'xboxp3', 'lakings', 'dashiexp', 'xbox', 'wwd', 'hiphopwired', 'billiejeanking', 'complex', 'bottom2thatop', 'katgraham', 'jamesgunn', 'pomklementieff', 'loyalty360', 'kohls', 'uniwatch', 'adidashoops', 'metropolismag', 'adidasrunning', 'legiqn', 'fatkiddeals', 'jack_p', 'nyctsubway', 'snkr_twitr', 'stockx', 'adweek', 'houstondynamo', 'reebok', 'finishline', 'sbjsbd', 'techinsider', 'kicksdeals', 'lafc', 'lagalaxy', 'adidasfootball', 'spicer', 'kfile', 'sportsiren', 'highsnobiety', 'nicekicks', 'adidasoriginals', 'coindesk', 'jenniferwalcott', 'thebussypleaser', 'vampybitme', 'tropofarmer', 'boredelonmusk', 'mattsteffanina', 'brooklynnets', 'hunterheather', 'jdofficial', 'misstabstevens', 'complexstyle', 'chainlinkgod', 'wnba', 'tonipayne', 'predsnhl', 'slamonline', 'schuh', 'xxxcrypt0', 'candace_parker', 'burgerking', 'namecheap', 'iamwellandgood', 'deezefi', 'dezeen', 'hunterw', 'cointelegraph', 'ericvdunn', 'burgerking', 'xbox', 'nike']\n",
      "neighbors of nike: ['uniwatch', 'solefed', 'nikestore', 'undefeatedinc', 'finishline', 'wwd', 'hiphopwired', 'fastcompany', 'reignofapril', 'nrarmour', 'sbjsbd', 'barcaacademy', 'marshablackburn', 'senrickscott', 'schuh', 'dezeen', 'lebatardshow', 'barrysanders', 'brooksrunning', 'wiedenkennedy', 'snkr_twitr', 'jumpman23', 'kingjames', 'jasonlacanfora', '7newsdc', 'barondavis', 'nikebasketball', 'slamonline', 'rga', 'msmelchen', 'sproutsocial', 'orioles', 'natbrunell', 'fousey', 'okayplayer', 'sacramentokings', 'realrclark25', 'enesfreedom', 'redsteeze', 'sethamandel', 'slimjim', 'tengbiao', 'gladstein', 'hughhewitt', 'muslimmatters', 'nedryun', 'ericmmatheny', 'lifeatpurdue', 'epochtimes', 'suns', 'donaldjtrumpjr', 'joshrogin', 'yesnicksearcy', 'highsnobiety', 'lasparks', 'realunogame', 'mrleonardkim', 'evankirstel', 'mattel', 'reebok', 'pennstatefball', 'stevedeaceshow', 'girlsintech', 'uoregon', 'ericpmusselman', 'qrich', 'wnba', 'cointelegraph', 'threadreaderapp', 'prestonpysh', 'rwang0', 'tandfn', 'thebussypleaser', 'techinsider', 'jdofficial', 'xlr8r', 'onsoranje', 'knvb', 'liekemartens1', 'realshellyannfp', 'thegrovela', 'adamsconsulting', 'coindesk', 'giannis_an34', 'kieraplease', 'jkylebass', 'khou', 'scottwarner18', 'kicksdeals', 'nicekicks', 'complexstyle', 'rosgo21', 'roblox', 'bloxy_news', 'insideroblox', 'nwsl', 'adamjacksonsf', 'novambb', 'solomonyue', 'angelaruggiero', 'boredelonmusk', 'vidcon', 'uninterrupted', '1djfirstclass', 'chsommers', 'tonipayne', 'cowhercbs', 'detroitpistons', 'cory_shoff', 'usa_lacrosse', 'hackapreneur', 'tropofarmer', 'burgerking', 'deezefi', 'namecheap', 'mattsteffanina', 'campaignbrands', 'elmaaelmoo', 'mediapost', 'adidas', 'colethereum', 'nebraskancrypto', 'vaynermedia', 'tinashe', 'schmittnyc', 'mpinoe', 'seanmdav', 'realvision', 'xxxcrypt0', 'ijustine', 'bajabiri', 'rexchapman', 'qiasomar', 'kingofthecrane', 'trustlessstate', 'lopp']\n",
      "neighbors of lululemon: ['golfdigest', 'jonahlupton', 'predsnhl', 'khou', 'oakley', 'brooksrunning', 'joshog', 'adweek', 'realrclark25', 'yahoofinance', 'uniwatch', 'deezefi', 'mrleonardkim', 'mystic7', 'evankirstel', 'bauerhockey', 'thegrovela', 'road_2_ft_worth', 'iamwellandgood', 'mediapost', 'ijustine', 'reallisariley', 'wwd', 'cnbc']\n",
      "----------------------------------------\n",
      "\n"
     ]
    }
   ],
   "source": [
    "graph_summary_stats(G = MEN_Graph)"
   ]
  },
  {
   "cell_type": "markdown",
   "id": "0764154a-6746-4379-875d-df49eaafe507",
   "metadata": {},
   "source": [
    "## Create Subgraphs for Analysis"
   ]
  },
  {
   "cell_type": "code",
   "execution_count": 33,
   "id": "3e169e10-7f74-4683-84cc-f2df6f5ea142",
   "metadata": {},
   "outputs": [],
   "source": [
    "##### Shared Sets of Node Intersetions #####\n",
    "\n",
    "# Define key nodes\n",
    "key_nodes_all = ['nike', 'lululemon', 'adidas']\n",
    "key_nodes_nl = ['nike', 'lululemon']\n",
    "key_nodes_na = ['nike', 'adidas']\n",
    "key_nodes_al = ['adidas', 'lululemon']\n",
    "\n",
    "# Find neighbors of the key nodes by themselves\n",
    "neighbors_sets_n = set(nx.all_neighbors(MEN_Graph, 'nike'))\n",
    "neighbors_sets_a = set(nx.all_neighbors(MEN_Graph, 'adidas'))\n",
    "neighbors_sets_l = set(nx.all_neighbors(MEN_Graph, 'lululemon'))\n",
    "\n",
    "# Find neighbors of the key nodes\n",
    "neighbors_sets_all = [set(nx.all_neighbors(MEN_Graph, node)) for node in key_nodes_all]\n",
    "neighbors_sets_nl = [set(nx.all_neighbors(MEN_Graph, node)) for node in key_nodes_nl]\n",
    "neighbors_sets_na = [set(nx.all_neighbors(MEN_Graph, node)) for node in key_nodes_na]\n",
    "neighbors_sets_al = [set(nx.all_neighbors(MEN_Graph, node)) for node in key_nodes_al]\n",
    "\n",
    "# Intersect the sets to get nodes connected to all key nodes\n",
    "common_neighbors_all = set.intersection(*neighbors_sets_all)\n",
    "\n",
    "# Intersect the sets to get nodes connected to only 2 key nodes\n",
    "\n",
    "common_neighbors_nl = set.intersection(*neighbors_sets_nl) - common_neighbors_all - set(key_nodes_al)\n",
    "common_neighbors_na = set.intersection(*neighbors_sets_na) - common_neighbors_all - set(key_nodes_nl)\n",
    "common_neighbors_al = set.intersection(*neighbors_sets_al) - common_neighbors_all - set(key_nodes_na)\n",
    "\n",
    "# Get nodes connected to any one of the key nodes but not all of them\n",
    "union_neighbors = set.union(*neighbors_sets_all)\n",
    "\n",
    "# Get nodes connected to only 1 brand\n",
    "exclusive_neighbors = (union_neighbors - common_neighbors_all\n",
    "                       - common_neighbors_nl - common_neighbors_na - common_neighbors_al)\n",
    "\n",
    "# Get nodes connected to each specific brand\n",
    "exclusive_neighbors_n = neighbors_sets_n - common_neighbors_all - common_neighbors_nl - common_neighbors_na - set(key_nodes_al)\n",
    "exclusive_neighbors_a = neighbors_sets_a - common_neighbors_all - common_neighbors_na - common_neighbors_nl - set(key_nodes_nl)\n",
    "exclusive_neighbors_l = neighbors_sets_l - common_neighbors_all - common_neighbors_nl - common_neighbors_al - set(key_nodes_na)"
   ]
  },
  {
   "cell_type": "code",
   "execution_count": 34,
   "id": "195fb91e-93f3-49ef-8eca-4e23e3f1889d",
   "metadata": {},
   "outputs": [
    {
     "name": "stdout",
     "output_type": "stream",
     "text": [
      "----------------------------------------\n",
      "##### Bridging to All Brands Nodes #####\n",
      "number of nodes: 6\n",
      "number of edges: 10\n",
      "\n",
      "nodes: ['adidas', 'lululemon', 'nike', 'deezefi', 'wwd', 'uniwatch']\n",
      "\n",
      "neighbors of adidas: ['wwd', 'uniwatch', 'deezefi', 'nike']\n",
      "neighbors of nike: ['uniwatch', 'wwd', 'deezefi', 'adidas']\n",
      "neighbors of lululemon: ['uniwatch', 'deezefi', 'wwd']\n",
      "----------------------------------------\n",
      "\n",
      "----------------------------------------\n",
      "##### Nike to Adidas Bridges #####\n",
      "number of nodes: 29\n",
      "number of edges: 57\n",
      "\n",
      "nodes: ['hiphopwired', 'coindesk', 'burgerking', 'sbjsbd', 'schuh', 'kicksdeals', 'thebussypleaser', 'mattsteffanina', 'reebok', 'bajabiri', 'tonipayne', 'techinsider', 'wnba', 'tropofarmer', 'nicekicks', 'highsnobiety', 'finishline', 'cointelegraph', 'adidas', 'boredelonmusk', 'undefeatedinc', 'slamonline', 'complexstyle', 'snkr_twitr', 'xxxcrypt0', 'nike', 'dezeen', 'namecheap', 'jdofficial']\n",
      "\n",
      "neighbors of adidas: ['undefeatedinc', 'bajabiri', 'hiphopwired', 'snkr_twitr', 'reebok', 'finishline', 'sbjsbd', 'techinsider', 'kicksdeals', 'highsnobiety', 'nicekicks', 'coindesk', 'thebussypleaser', 'tropofarmer', 'boredelonmusk', 'mattsteffanina', 'jdofficial', 'complexstyle', 'wnba', 'tonipayne', 'slamonline', 'schuh', 'xxxcrypt0', 'burgerking', 'namecheap', 'dezeen', 'cointelegraph', 'burgerking', 'nike']\n",
      "neighbors of nike: ['undefeatedinc', 'finishline', 'hiphopwired', 'sbjsbd', 'schuh', 'dezeen', 'snkr_twitr', 'slamonline', 'highsnobiety', 'reebok', 'wnba', 'cointelegraph', 'thebussypleaser', 'techinsider', 'jdofficial', 'coindesk', 'kicksdeals', 'nicekicks', 'complexstyle', 'boredelonmusk', 'tonipayne', 'tropofarmer', 'burgerking', 'namecheap', 'mattsteffanina', 'adidas', 'xxxcrypt0', 'bajabiri']\n",
      "----------------------------------------\n",
      "\n",
      "----------------------------------------\n",
      "##### Nike to Lululemon Bridges #####\n",
      "number of nodes: 10\n",
      "number of edges: 16\n",
      "\n",
      "nodes: ['mrleonardkim', 'khou', 'evankirstel', 'lululemon', 'nike', 'thegrovela', 'ijustine', 'brooksrunning', 'realrclark25', 'mediapost']\n",
      "\n",
      "neighbors of nike: ['brooksrunning', 'realrclark25', 'mrleonardkim', 'evankirstel', 'thegrovela', 'khou', 'mediapost', 'ijustine']\n",
      "neighbors of lululemon: ['khou', 'brooksrunning', 'realrclark25', 'mrleonardkim', 'evankirstel', 'thegrovela', 'mediapost', 'ijustine']\n",
      "----------------------------------------\n",
      "\n",
      "----------------------------------------\n",
      "##### Adidas to Lululemon Bridges #####\n",
      "number of nodes: 5\n",
      "number of edges: 6\n",
      "\n",
      "nodes: ['predsnhl', 'adidas', 'lululemon', 'iamwellandgood', 'adweek']\n",
      "\n",
      "neighbors of adidas: ['adweek', 'predsnhl', 'iamwellandgood']\n",
      "neighbors of lululemon: ['predsnhl', 'adweek', 'iamwellandgood']\n",
      "----------------------------------------\n",
      "\n"
     ]
    }
   ],
   "source": [
    "##### Bridging to All Brands Nodes #####\n",
    "# Create a subgraph\n",
    "nodes_to_keep = list(common_neighbors_all) + key_nodes_all\n",
    "MEN_Graph_bridge_3 = MEN_Graph.subgraph(nodes_to_keep)\n",
    "#display a summary of the subgraph\n",
    "graph_summary_stats(G = MEN_Graph_bridge_3, title='Bridging to All Brands Nodes')\n",
    "\n",
    "##### Nike to Adidas Bridges #####\n",
    "# Create a subgraph\n",
    "nodes_to_keep = list(common_neighbors_na) + key_nodes_na\n",
    "MEN_Graph_bridge_na = MEN_Graph.subgraph(nodes_to_keep)\n",
    "#display a summary of the subgraph\n",
    "graph_summary_stats(G = MEN_Graph_bridge_na, title='Nike to Adidas Bridges')\n",
    "\n",
    "##### Nike to Lululemon Bridges #####\n",
    "# Create a subgraph\n",
    "nodes_to_keep = list(common_neighbors_nl) + key_nodes_nl\n",
    "MEN_Graph_bridge_nl = MEN_Graph.subgraph(nodes_to_keep)\n",
    "#display a summary of the subgraph\n",
    "graph_summary_stats(G = MEN_Graph_bridge_nl, title='Nike to Lululemon Bridges')\n",
    "\n",
    "##### Adidas to Lululemon Bridges #####\n",
    "# Create a subgraph\n",
    "nodes_to_keep = list(common_neighbors_al) + key_nodes_al\n",
    "MEN_Graph_bridge_al = MEN_Graph.subgraph(nodes_to_keep)\n",
    "#display a summary of the subgraph\n",
    "graph_summary_stats(G = MEN_Graph_bridge_al, title='Adidas to Lululemon Bridges')"
   ]
  },
  {
   "cell_type": "code",
   "execution_count": 35,
   "id": "b4b5293e-64e7-43a7-b8dc-3546fdebdfbd",
   "metadata": {},
   "outputs": [
    {
     "name": "stdout",
     "output_type": "stream",
     "text": [
      "----------------------------------------\n",
      "##### Exclusive Nodes: Unique to Only 1 Brand #####\n",
      "number of nodes: 152\n",
      "number of edges: 212\n",
      "\n",
      "nodes: ['kiganyi_', 'adidas', 'nike', 'atari_jones', 'adidasoriginals', 'solefed', 'jumpman23', 'golfdigest', 'lululemon', 'jonahlupton', 'nikestore', 'jermainedupri', 'xboxwire', 'aarongreenberg', 'xbox', 'xboxp3', 'lakings', 'dashiexp', 'fastcompany', 'reignofapril', 'nrarmour', 'barcaacademy', 'oakley', 'marshablackburn', 'senrickscott', 'lebatardshow', 'billiejeanking', 'barrysanders', 'complex', 'adidasrunning', 'wiedenkennedy', 'bottom2thatop', 'candace_parker', 'katgraham', 'joshog', 'kingjames', 'jamesgunn', 'pomklementieff', 'loyalty360', 'jasonlacanfora', 'kohls', '7newsdc', 'adidashoops', 'barondavis', 'metropolismag', 'legiqn', 'fatkiddeals', 'jack_p', 'nyctsubway', 'nikebasketball', 'rga', 'stockx', 'gladstein', 'msmelchen', 'sproutsocial', 'orioles', 'natbrunell', 'fousey', 'okayplayer', 'sacramentokings', 'yahoofinance', 'enesfreedom', 'redsteeze', 'sethamandel', 'slimjim', 'tengbiao', 'hughhewitt', 'muslimmatters', 'nedryun', 'ericmmatheny', 'lifeatpurdue', 'epochtimes', 'suns', 'donaldjtrumpjr', 'joshrogin', 'yesnicksearcy', 'lasparks', 'realunogame', 'giannis_an34', 'mattel', 'pennstatefball', 'stevedeaceshow', 'girlsintech', 'uoregon', 'mystic7', 'ericpmusselman', 'qrich', 'houstondynamo', 'threadreaderapp', 'prestonpysh', 'rwang0', 'tandfn', 'xlr8r', 'onsoranje', 'liekemartens1', 'knvb', 'realshellyannfp', 'lafc', 'lagalaxy', 'adamsconsulting', 'adidasfootball', 'spicer', 'kieraplease', 'jkylebass', 'kfile', 'sportsiren', 'scottwarner18', 'tinashe', 'rosgo21', 'roblox', 'bloxy_news', 'insideroblox', 'nwsl', 'adamjacksonsf', 'novambb', 'solomonyue', 'angelaruggiero', 'bauerhockey', 'jenniferwalcott', 'road_2_ft_worth', 'vampybitme', 'brooklynnets', 'vidcon', 'uninterrupted', 'hunterheather', 'misstabstevens', 'chainlinkgod', '1djfirstclass', 'chsommers', 'cowhercbs', 'detroitpistons', 'cory_shoff', 'usa_lacrosse', 'hackapreneur', 'campaignbrands', 'elmaaelmoo', 'colethereum', 'nebraskancrypto', 'vaynermedia', 'schmittnyc', 'mpinoe', 'seanmdav', 'hunterw', 'realvision', 'reallisariley', 'rexchapman', 'qiasomar', 'kingofthecrane', 'cnbc', 'ericvdunn', 'trustlessstate', 'lopp']\n",
      "\n",
      "neighbors of adidas: ['kiganyi_', 'atari_jones', 'jermainedupri', 'xboxwire', 'aarongreenberg', 'xboxp3', 'lakings', 'dashiexp', 'xbox', 'billiejeanking', 'complex', 'bottom2thatop', 'katgraham', 'jamesgunn', 'pomklementieff', 'loyalty360', 'kohls', 'adidashoops', 'metropolismag', 'adidasrunning', 'legiqn', 'fatkiddeals', 'jack_p', 'nyctsubway', 'stockx', 'houstondynamo', 'lafc', 'lagalaxy', 'adidasfootball', 'spicer', 'kfile', 'sportsiren', 'adidasoriginals', 'jenniferwalcott', 'vampybitme', 'brooklynnets', 'hunterheather', 'misstabstevens', 'chainlinkgod', 'candace_parker', 'hunterw', 'ericvdunn', 'xbox', 'nike']\n",
      "neighbors of nike: ['solefed', 'nikestore', 'fastcompany', 'reignofapril', 'nrarmour', 'barcaacademy', 'marshablackburn', 'senrickscott', 'lebatardshow', 'barrysanders', 'wiedenkennedy', 'jumpman23', 'kingjames', 'jasonlacanfora', '7newsdc', 'barondavis', 'nikebasketball', 'rga', 'msmelchen', 'sproutsocial', 'orioles', 'natbrunell', 'fousey', 'okayplayer', 'sacramentokings', 'enesfreedom', 'redsteeze', 'sethamandel', 'slimjim', 'tengbiao', 'gladstein', 'hughhewitt', 'muslimmatters', 'nedryun', 'ericmmatheny', 'lifeatpurdue', 'epochtimes', 'suns', 'donaldjtrumpjr', 'joshrogin', 'yesnicksearcy', 'lasparks', 'realunogame', 'mattel', 'pennstatefball', 'stevedeaceshow', 'girlsintech', 'uoregon', 'ericpmusselman', 'qrich', 'threadreaderapp', 'prestonpysh', 'rwang0', 'tandfn', 'xlr8r', 'onsoranje', 'knvb', 'liekemartens1', 'realshellyannfp', 'adamsconsulting', 'giannis_an34', 'kieraplease', 'jkylebass', 'scottwarner18', 'rosgo21', 'roblox', 'bloxy_news', 'insideroblox', 'nwsl', 'adamjacksonsf', 'novambb', 'solomonyue', 'angelaruggiero', 'vidcon', 'uninterrupted', '1djfirstclass', 'chsommers', 'cowhercbs', 'detroitpistons', 'cory_shoff', 'usa_lacrosse', 'hackapreneur', 'campaignbrands', 'elmaaelmoo', 'adidas', 'colethereum', 'nebraskancrypto', 'vaynermedia', 'tinashe', 'schmittnyc', 'mpinoe', 'seanmdav', 'realvision', 'rexchapman', 'qiasomar', 'kingofthecrane', 'trustlessstate', 'lopp']\n",
      "neighbors of lululemon: ['golfdigest', 'jonahlupton', 'oakley', 'joshog', 'yahoofinance', 'mystic7', 'bauerhockey', 'road_2_ft_worth', 'reallisariley', 'cnbc']\n",
      "----------------------------------------\n",
      "\n",
      "----------------------------------------\n",
      "##### Exclusive Nodes for Nike #####\n",
      "number of nodes: 98\n",
      "number of edges: 128\n",
      "\n",
      "nodes: ['nike', 'solefed', 'jumpman23', 'nikestore', 'fastcompany', 'reignofapril', 'nrarmour', 'barcaacademy', 'marshablackburn', 'senrickscott', 'lebatardshow', 'barrysanders', 'wiedenkennedy', 'kingjames', 'jasonlacanfora', '7newsdc', 'barondavis', 'nikebasketball', 'rga', 'gladstein', 'msmelchen', 'sproutsocial', 'orioles', 'natbrunell', 'fousey', 'okayplayer', 'sacramentokings', 'enesfreedom', 'redsteeze', 'sethamandel', 'slimjim', 'tengbiao', 'hughhewitt', 'muslimmatters', 'nedryun', 'ericmmatheny', 'lifeatpurdue', 'epochtimes', 'suns', 'donaldjtrumpjr', 'joshrogin', 'yesnicksearcy', 'lasparks', 'realunogame', 'giannis_an34', 'mattel', 'pennstatefball', 'stevedeaceshow', 'girlsintech', 'uoregon', 'ericpmusselman', 'qrich', 'threadreaderapp', 'prestonpysh', 'rwang0', 'tandfn', 'xlr8r', 'onsoranje', 'liekemartens1', 'knvb', 'realshellyannfp', 'adamsconsulting', 'kieraplease', 'jkylebass', 'scottwarner18', 'tinashe', 'rosgo21', 'roblox', 'bloxy_news', 'insideroblox', 'nwsl', 'adamjacksonsf', 'novambb', 'solomonyue', 'angelaruggiero', 'vidcon', 'uninterrupted', '1djfirstclass', 'chsommers', 'cowhercbs', 'detroitpistons', 'cory_shoff', 'usa_lacrosse', 'hackapreneur', 'campaignbrands', 'elmaaelmoo', 'colethereum', 'nebraskancrypto', 'vaynermedia', 'schmittnyc', 'mpinoe', 'seanmdav', 'realvision', 'rexchapman', 'qiasomar', 'kingofthecrane', 'trustlessstate', 'lopp']\n",
      "\n",
      "neighbors of nike: ['solefed', 'nikestore', 'fastcompany', 'reignofapril', 'nrarmour', 'barcaacademy', 'marshablackburn', 'senrickscott', 'lebatardshow', 'barrysanders', 'wiedenkennedy', 'jumpman23', 'kingjames', 'jasonlacanfora', '7newsdc', 'barondavis', 'nikebasketball', 'rga', 'msmelchen', 'sproutsocial', 'orioles', 'natbrunell', 'fousey', 'okayplayer', 'sacramentokings', 'enesfreedom', 'redsteeze', 'sethamandel', 'slimjim', 'tengbiao', 'gladstein', 'hughhewitt', 'muslimmatters', 'nedryun', 'ericmmatheny', 'lifeatpurdue', 'epochtimes', 'suns', 'donaldjtrumpjr', 'joshrogin', 'yesnicksearcy', 'lasparks', 'realunogame', 'mattel', 'pennstatefball', 'stevedeaceshow', 'girlsintech', 'uoregon', 'ericpmusselman', 'qrich', 'threadreaderapp', 'prestonpysh', 'rwang0', 'tandfn', 'xlr8r', 'onsoranje', 'knvb', 'liekemartens1', 'realshellyannfp', 'adamsconsulting', 'giannis_an34', 'kieraplease', 'jkylebass', 'scottwarner18', 'rosgo21', 'roblox', 'bloxy_news', 'insideroblox', 'nwsl', 'adamjacksonsf', 'novambb', 'solomonyue', 'angelaruggiero', 'vidcon', 'uninterrupted', '1djfirstclass', 'chsommers', 'cowhercbs', 'detroitpistons', 'cory_shoff', 'usa_lacrosse', 'hackapreneur', 'campaignbrands', 'elmaaelmoo', 'colethereum', 'nebraskancrypto', 'vaynermedia', 'tinashe', 'schmittnyc', 'mpinoe', 'seanmdav', 'realvision', 'rexchapman', 'qiasomar', 'kingofthecrane', 'trustlessstate', 'lopp']\n",
      "----------------------------------------\n",
      "\n",
      "----------------------------------------\n",
      "##### Exclusive Nodes for Adidas #####\n",
      "number of nodes: 46\n",
      "number of edges: 72\n",
      "\n",
      "nodes: ['chainlinkgod', 'jack_p', 'sportsiren', 'adidasoriginals', 'kfile', 'houstondynamo', 'loyalty360', 'adidasrunning', 'metropolismag', 'nyctsubway', 'ericvdunn', 'spicer', 'jermainedupri', 'dashiexp', 'misstabstevens', 'adidashoops', 'jamesgunn', 'complex', 'billiejeanking', 'lakings', 'kohls', 'fatkiddeals', 'hunterheather', 'lagalaxy', 'adidas', 'aarongreenberg', 'jenniferwalcott', 'xboxwire', 'stockx', 'candace_parker', 'pomklementieff', 'katgraham', 'iamwellandgood', 'legiqn', 'adweek', 'xbox', 'xboxp3', 'predsnhl', 'bottom2thatop', 'vampybitme', 'adidasfootball', 'lafc', 'kiganyi_', 'atari_jones', 'hunterw', 'brooklynnets']\n",
      "\n",
      "neighbors of adidas: ['kiganyi_', 'atari_jones', 'jermainedupri', 'xboxwire', 'aarongreenberg', 'xboxp3', 'lakings', 'dashiexp', 'xbox', 'billiejeanking', 'complex', 'bottom2thatop', 'katgraham', 'jamesgunn', 'pomklementieff', 'loyalty360', 'kohls', 'adidashoops', 'metropolismag', 'adidasrunning', 'legiqn', 'fatkiddeals', 'jack_p', 'nyctsubway', 'stockx', 'adweek', 'houstondynamo', 'lafc', 'lagalaxy', 'adidasfootball', 'spicer', 'kfile', 'sportsiren', 'adidasoriginals', 'jenniferwalcott', 'vampybitme', 'brooklynnets', 'hunterheather', 'misstabstevens', 'chainlinkgod', 'predsnhl', 'candace_parker', 'iamwellandgood', 'hunterw', 'ericvdunn', 'xbox']\n",
      "----------------------------------------\n",
      "\n",
      "----------------------------------------\n",
      "##### Exclusive Nodes for Lululemon #####\n",
      "number of nodes: 11\n",
      "number of edges: 10\n",
      "\n",
      "nodes: ['bauerhockey', 'jonahlupton', 'yahoofinance', 'mystic7', 'lululemon', 'oakley', 'golfdigest', 'joshog', 'reallisariley', 'road_2_ft_worth', 'cnbc']\n",
      "\n",
      "neighbors of lululemon: ['golfdigest', 'jonahlupton', 'oakley', 'joshog', 'yahoofinance', 'mystic7', 'bauerhockey', 'road_2_ft_worth', 'reallisariley', 'cnbc']\n",
      "----------------------------------------\n",
      "\n"
     ]
    }
   ],
   "source": [
    "##### Exclusive Nodes: Unique to Only 1 Brand #####\n",
    "\n",
    "# Create a subgraph\n",
    "nodes_to_keep_exc = list(exclusive_neighbors) + key_nodes_all\n",
    "MEN_Graph_exc = MEN_Graph.subgraph(nodes_to_keep_exc)\n",
    "\n",
    "#filter the graph edges to focus on influential to brands\n",
    "#MEN_Graph_exc = focus_edges(G = MEN_Graph_exc, brand_nodes = key_nodes_all, weight_min = 3)\n",
    "\n",
    "#display a summary of the subgraph\n",
    "graph_summary_stats(G = MEN_Graph_exc, title='Exclusive Nodes: Unique to Only 1 Brand')\n",
    "\n",
    "# Create a subgraph\n",
    "MEN_Graph_exc_n = MEN_Graph.subgraph(list(exclusive_neighbors_n) + ['nike'])\n",
    "MEN_Graph_exc_a = MEN_Graph.subgraph(list(exclusive_neighbors_a) + ['adidas'])\n",
    "MEN_Graph_exc_l = MEN_Graph.subgraph(list(exclusive_neighbors_l) + ['lululemon'])\n",
    "\n",
    "#filter the graph edges to focus on influential to brands\n",
    "#MEN_Graph_exc_n = focus_edges(G = MEN_Graph_exc_n, brand_nodes = key_nodes_all, weight_min = 3)\n",
    "#MEN_Graph_exc_a = focus_edges(G = MEN_Graph_exc_a, brand_nodes = key_nodes_all, weight_min = 3)\n",
    "\n",
    "#display a summary of the subgraph\n",
    "graph_summary_stats(G = MEN_Graph_exc_n, title='Exclusive Nodes for Nike')\n",
    "graph_summary_stats(G = MEN_Graph_exc_a, title='Exclusive Nodes for Adidas')\n",
    "graph_summary_stats(G = MEN_Graph_exc_l, title='Exclusive Nodes for Lululemon')"
   ]
  },
  {
   "cell_type": "markdown",
   "id": "3d81b15f-a2a9-4518-abf4-f55a8a259882",
   "metadata": {},
   "source": [
    "## Ploting All the Graphs"
   ]
  },
  {
   "cell_type": "code",
   "execution_count": 44,
   "id": "616e5099-d029-4dd0-b679-b1371709ec59",
   "metadata": {},
   "outputs": [
    {
     "ename": "MemoryError",
     "evalue": "In RendererAgg: Out of memory",
     "output_type": "error",
     "traceback": [
      "\u001b[1;31m---------------------------------------------------------------------------\u001b[0m",
      "\u001b[1;31mMemoryError\u001b[0m                               Traceback (most recent call last)",
      "Cell \u001b[1;32mIn[44], line 2\u001b[0m\n\u001b[0;32m      1\u001b[0m \u001b[38;5;66;03m#plot the baseline graph\u001b[39;00m\n\u001b[1;32m----> 2\u001b[0m plot_graph(G \u001b[38;5;241m=\u001b[39m MEN_Graph, file_path\u001b[38;5;241m=\u001b[39m\u001b[38;5;124m'\u001b[39m\u001b[38;5;124m01_00_mention_network\u001b[39m\u001b[38;5;124m'\u001b[39m, plot_size\u001b[38;5;241m=\u001b[39m\u001b[38;5;124m'\u001b[39m\u001b[38;5;124mlarge\u001b[39m\u001b[38;5;124m'\u001b[39m)\n",
      "Cell \u001b[1;32mIn[26], line 64\u001b[0m, in \u001b[0;36mplot_graph\u001b[1;34m(G, file_path, use_edge_weight, plot_size)\u001b[0m\n\u001b[0;32m     62\u001b[0m \u001b[38;5;66;03m#save the graph to a file\u001b[39;00m\n\u001b[0;32m     63\u001b[0m print_file_path \u001b[38;5;241m=\u001b[39m \u001b[38;5;124m'\u001b[39m\u001b[38;5;132;01m%s\u001b[39;00m\u001b[38;5;124m/\u001b[39m\u001b[38;5;132;01m%s\u001b[39;00m\u001b[38;5;124m.png\u001b[39m\u001b[38;5;124m'\u001b[39m \u001b[38;5;241m%\u001b[39m (MODEL_DIR,file_path)\n\u001b[1;32m---> 64\u001b[0m plt\u001b[38;5;241m.\u001b[39msavefig(print_file_path, \u001b[38;5;28mformat\u001b[39m\u001b[38;5;241m=\u001b[39m\u001b[38;5;124m'\u001b[39m\u001b[38;5;124mPNG\u001b[39m\u001b[38;5;124m'\u001b[39m)\n\u001b[0;32m     65\u001b[0m plt\u001b[38;5;241m.\u001b[39mclose(\u001b[38;5;124m'\u001b[39m\u001b[38;5;124mall\u001b[39m\u001b[38;5;124m'\u001b[39m)\n",
      "File \u001b[1;32m~\\anaconda3\\Lib\\site-packages\\matplotlib\\pyplot.py:1134\u001b[0m, in \u001b[0;36msavefig\u001b[1;34m(*args, **kwargs)\u001b[0m\n\u001b[0;32m   1131\u001b[0m fig \u001b[38;5;241m=\u001b[39m gcf()\n\u001b[0;32m   1132\u001b[0m \u001b[38;5;66;03m# savefig default implementation has no return, so mypy is unhappy\u001b[39;00m\n\u001b[0;32m   1133\u001b[0m \u001b[38;5;66;03m# presumably this is here because subclasses can return?\u001b[39;00m\n\u001b[1;32m-> 1134\u001b[0m res \u001b[38;5;241m=\u001b[39m fig\u001b[38;5;241m.\u001b[39msavefig(\u001b[38;5;241m*\u001b[39margs, \u001b[38;5;241m*\u001b[39m\u001b[38;5;241m*\u001b[39mkwargs)  \u001b[38;5;66;03m# type: ignore[func-returns-value]\u001b[39;00m\n\u001b[0;32m   1135\u001b[0m fig\u001b[38;5;241m.\u001b[39mcanvas\u001b[38;5;241m.\u001b[39mdraw_idle()  \u001b[38;5;66;03m# Need this if 'transparent=True', to reset colors.\u001b[39;00m\n\u001b[0;32m   1136\u001b[0m \u001b[38;5;28;01mreturn\u001b[39;00m res\n",
      "File \u001b[1;32m~\\anaconda3\\Lib\\site-packages\\matplotlib\\figure.py:3390\u001b[0m, in \u001b[0;36mFigure.savefig\u001b[1;34m(self, fname, transparent, **kwargs)\u001b[0m\n\u001b[0;32m   3388\u001b[0m     \u001b[38;5;28;01mfor\u001b[39;00m ax \u001b[38;5;129;01min\u001b[39;00m \u001b[38;5;28mself\u001b[39m\u001b[38;5;241m.\u001b[39maxes:\n\u001b[0;32m   3389\u001b[0m         _recursively_make_axes_transparent(stack, ax)\n\u001b[1;32m-> 3390\u001b[0m \u001b[38;5;28mself\u001b[39m\u001b[38;5;241m.\u001b[39mcanvas\u001b[38;5;241m.\u001b[39mprint_figure(fname, \u001b[38;5;241m*\u001b[39m\u001b[38;5;241m*\u001b[39mkwargs)\n",
      "File \u001b[1;32m~\\anaconda3\\Lib\\site-packages\\matplotlib\\backend_bases.py:2193\u001b[0m, in \u001b[0;36mFigureCanvasBase.print_figure\u001b[1;34m(self, filename, dpi, facecolor, edgecolor, orientation, format, bbox_inches, pad_inches, bbox_extra_artists, backend, **kwargs)\u001b[0m\n\u001b[0;32m   2189\u001b[0m \u001b[38;5;28;01mtry\u001b[39;00m:\n\u001b[0;32m   2190\u001b[0m     \u001b[38;5;66;03m# _get_renderer may change the figure dpi (as vector formats\u001b[39;00m\n\u001b[0;32m   2191\u001b[0m     \u001b[38;5;66;03m# force the figure dpi to 72), so we need to set it again here.\u001b[39;00m\n\u001b[0;32m   2192\u001b[0m     \u001b[38;5;28;01mwith\u001b[39;00m cbook\u001b[38;5;241m.\u001b[39m_setattr_cm(\u001b[38;5;28mself\u001b[39m\u001b[38;5;241m.\u001b[39mfigure, dpi\u001b[38;5;241m=\u001b[39mdpi):\n\u001b[1;32m-> 2193\u001b[0m         result \u001b[38;5;241m=\u001b[39m print_method(\n\u001b[0;32m   2194\u001b[0m             filename,\n\u001b[0;32m   2195\u001b[0m             facecolor\u001b[38;5;241m=\u001b[39mfacecolor,\n\u001b[0;32m   2196\u001b[0m             edgecolor\u001b[38;5;241m=\u001b[39medgecolor,\n\u001b[0;32m   2197\u001b[0m             orientation\u001b[38;5;241m=\u001b[39morientation,\n\u001b[0;32m   2198\u001b[0m             bbox_inches_restore\u001b[38;5;241m=\u001b[39m_bbox_inches_restore,\n\u001b[0;32m   2199\u001b[0m             \u001b[38;5;241m*\u001b[39m\u001b[38;5;241m*\u001b[39mkwargs)\n\u001b[0;32m   2200\u001b[0m \u001b[38;5;28;01mfinally\u001b[39;00m:\n\u001b[0;32m   2201\u001b[0m     \u001b[38;5;28;01mif\u001b[39;00m bbox_inches \u001b[38;5;129;01mand\u001b[39;00m restore_bbox:\n",
      "File \u001b[1;32m~\\anaconda3\\Lib\\site-packages\\matplotlib\\backend_bases.py:2043\u001b[0m, in \u001b[0;36mFigureCanvasBase._switch_canvas_and_return_print_method.<locals>.<lambda>\u001b[1;34m(*args, **kwargs)\u001b[0m\n\u001b[0;32m   2039\u001b[0m     optional_kws \u001b[38;5;241m=\u001b[39m {  \u001b[38;5;66;03m# Passed by print_figure for other renderers.\u001b[39;00m\n\u001b[0;32m   2040\u001b[0m         \u001b[38;5;124m\"\u001b[39m\u001b[38;5;124mdpi\u001b[39m\u001b[38;5;124m\"\u001b[39m, \u001b[38;5;124m\"\u001b[39m\u001b[38;5;124mfacecolor\u001b[39m\u001b[38;5;124m\"\u001b[39m, \u001b[38;5;124m\"\u001b[39m\u001b[38;5;124medgecolor\u001b[39m\u001b[38;5;124m\"\u001b[39m, \u001b[38;5;124m\"\u001b[39m\u001b[38;5;124morientation\u001b[39m\u001b[38;5;124m\"\u001b[39m,\n\u001b[0;32m   2041\u001b[0m         \u001b[38;5;124m\"\u001b[39m\u001b[38;5;124mbbox_inches_restore\u001b[39m\u001b[38;5;124m\"\u001b[39m}\n\u001b[0;32m   2042\u001b[0m     skip \u001b[38;5;241m=\u001b[39m optional_kws \u001b[38;5;241m-\u001b[39m {\u001b[38;5;241m*\u001b[39minspect\u001b[38;5;241m.\u001b[39msignature(meth)\u001b[38;5;241m.\u001b[39mparameters}\n\u001b[1;32m-> 2043\u001b[0m     print_method \u001b[38;5;241m=\u001b[39m functools\u001b[38;5;241m.\u001b[39mwraps(meth)(\u001b[38;5;28;01mlambda\u001b[39;00m \u001b[38;5;241m*\u001b[39margs, \u001b[38;5;241m*\u001b[39m\u001b[38;5;241m*\u001b[39mkwargs: meth(\n\u001b[0;32m   2044\u001b[0m         \u001b[38;5;241m*\u001b[39margs, \u001b[38;5;241m*\u001b[39m\u001b[38;5;241m*\u001b[39m{k: v \u001b[38;5;28;01mfor\u001b[39;00m k, v \u001b[38;5;129;01min\u001b[39;00m kwargs\u001b[38;5;241m.\u001b[39mitems() \u001b[38;5;28;01mif\u001b[39;00m k \u001b[38;5;129;01mnot\u001b[39;00m \u001b[38;5;129;01min\u001b[39;00m skip}))\n\u001b[0;32m   2045\u001b[0m \u001b[38;5;28;01melse\u001b[39;00m:  \u001b[38;5;66;03m# Let third-parties do as they see fit.\u001b[39;00m\n\u001b[0;32m   2046\u001b[0m     print_method \u001b[38;5;241m=\u001b[39m meth\n",
      "File \u001b[1;32m~\\anaconda3\\Lib\\site-packages\\matplotlib\\backends\\backend_agg.py:497\u001b[0m, in \u001b[0;36mFigureCanvasAgg.print_png\u001b[1;34m(self, filename_or_obj, metadata, pil_kwargs)\u001b[0m\n\u001b[0;32m    450\u001b[0m \u001b[38;5;28;01mdef\u001b[39;00m \u001b[38;5;21mprint_png\u001b[39m(\u001b[38;5;28mself\u001b[39m, filename_or_obj, \u001b[38;5;241m*\u001b[39m, metadata\u001b[38;5;241m=\u001b[39m\u001b[38;5;28;01mNone\u001b[39;00m, pil_kwargs\u001b[38;5;241m=\u001b[39m\u001b[38;5;28;01mNone\u001b[39;00m):\n\u001b[0;32m    451\u001b[0m \u001b[38;5;250m    \u001b[39m\u001b[38;5;124;03m\"\"\"\u001b[39;00m\n\u001b[0;32m    452\u001b[0m \u001b[38;5;124;03m    Write the figure to a PNG file.\u001b[39;00m\n\u001b[0;32m    453\u001b[0m \n\u001b[1;32m   (...)\u001b[0m\n\u001b[0;32m    495\u001b[0m \u001b[38;5;124;03m        *metadata*, including the default 'Software' key.\u001b[39;00m\n\u001b[0;32m    496\u001b[0m \u001b[38;5;124;03m    \"\"\"\u001b[39;00m\n\u001b[1;32m--> 497\u001b[0m     \u001b[38;5;28mself\u001b[39m\u001b[38;5;241m.\u001b[39m_print_pil(filename_or_obj, \u001b[38;5;124m\"\u001b[39m\u001b[38;5;124mpng\u001b[39m\u001b[38;5;124m\"\u001b[39m, pil_kwargs, metadata)\n",
      "File \u001b[1;32m~\\anaconda3\\Lib\\site-packages\\matplotlib\\backends\\backend_agg.py:445\u001b[0m, in \u001b[0;36mFigureCanvasAgg._print_pil\u001b[1;34m(self, filename_or_obj, fmt, pil_kwargs, metadata)\u001b[0m\n\u001b[0;32m    440\u001b[0m \u001b[38;5;28;01mdef\u001b[39;00m \u001b[38;5;21m_print_pil\u001b[39m(\u001b[38;5;28mself\u001b[39m, filename_or_obj, fmt, pil_kwargs, metadata\u001b[38;5;241m=\u001b[39m\u001b[38;5;28;01mNone\u001b[39;00m):\n\u001b[0;32m    441\u001b[0m \u001b[38;5;250m    \u001b[39m\u001b[38;5;124;03m\"\"\"\u001b[39;00m\n\u001b[0;32m    442\u001b[0m \u001b[38;5;124;03m    Draw the canvas, then save it using `.image.imsave` (to which\u001b[39;00m\n\u001b[0;32m    443\u001b[0m \u001b[38;5;124;03m    *pil_kwargs* and *metadata* are forwarded).\u001b[39;00m\n\u001b[0;32m    444\u001b[0m \u001b[38;5;124;03m    \"\"\"\u001b[39;00m\n\u001b[1;32m--> 445\u001b[0m     FigureCanvasAgg\u001b[38;5;241m.\u001b[39mdraw(\u001b[38;5;28mself\u001b[39m)\n\u001b[0;32m    446\u001b[0m     mpl\u001b[38;5;241m.\u001b[39mimage\u001b[38;5;241m.\u001b[39mimsave(\n\u001b[0;32m    447\u001b[0m         filename_or_obj, \u001b[38;5;28mself\u001b[39m\u001b[38;5;241m.\u001b[39mbuffer_rgba(), \u001b[38;5;28mformat\u001b[39m\u001b[38;5;241m=\u001b[39mfmt, origin\u001b[38;5;241m=\u001b[39m\u001b[38;5;124m\"\u001b[39m\u001b[38;5;124mupper\u001b[39m\u001b[38;5;124m\"\u001b[39m,\n\u001b[0;32m    448\u001b[0m         dpi\u001b[38;5;241m=\u001b[39m\u001b[38;5;28mself\u001b[39m\u001b[38;5;241m.\u001b[39mfigure\u001b[38;5;241m.\u001b[39mdpi, metadata\u001b[38;5;241m=\u001b[39mmetadata, pil_kwargs\u001b[38;5;241m=\u001b[39mpil_kwargs)\n",
      "File \u001b[1;32m~\\anaconda3\\Lib\\site-packages\\matplotlib\\backends\\backend_agg.py:383\u001b[0m, in \u001b[0;36mFigureCanvasAgg.draw\u001b[1;34m(self)\u001b[0m\n\u001b[0;32m    381\u001b[0m \u001b[38;5;28;01mdef\u001b[39;00m \u001b[38;5;21mdraw\u001b[39m(\u001b[38;5;28mself\u001b[39m):\n\u001b[0;32m    382\u001b[0m     \u001b[38;5;66;03m# docstring inherited\u001b[39;00m\n\u001b[1;32m--> 383\u001b[0m     \u001b[38;5;28mself\u001b[39m\u001b[38;5;241m.\u001b[39mrenderer \u001b[38;5;241m=\u001b[39m \u001b[38;5;28mself\u001b[39m\u001b[38;5;241m.\u001b[39mget_renderer()\n\u001b[0;32m    384\u001b[0m     \u001b[38;5;28mself\u001b[39m\u001b[38;5;241m.\u001b[39mrenderer\u001b[38;5;241m.\u001b[39mclear()\n\u001b[0;32m    385\u001b[0m     \u001b[38;5;66;03m# Acquire a lock on the shared font cache.\u001b[39;00m\n",
      "File \u001b[1;32m~\\anaconda3\\Lib\\site-packages\\matplotlib\\backends\\backend_agg.py:398\u001b[0m, in \u001b[0;36mFigureCanvasAgg.get_renderer\u001b[1;34m(self)\u001b[0m\n\u001b[0;32m    396\u001b[0m reuse_renderer \u001b[38;5;241m=\u001b[39m (\u001b[38;5;28mself\u001b[39m\u001b[38;5;241m.\u001b[39m_lastKey \u001b[38;5;241m==\u001b[39m key)\n\u001b[0;32m    397\u001b[0m \u001b[38;5;28;01mif\u001b[39;00m \u001b[38;5;129;01mnot\u001b[39;00m reuse_renderer:\n\u001b[1;32m--> 398\u001b[0m     \u001b[38;5;28mself\u001b[39m\u001b[38;5;241m.\u001b[39mrenderer \u001b[38;5;241m=\u001b[39m RendererAgg(w, h, \u001b[38;5;28mself\u001b[39m\u001b[38;5;241m.\u001b[39mfigure\u001b[38;5;241m.\u001b[39mdpi)\n\u001b[0;32m    399\u001b[0m     \u001b[38;5;28mself\u001b[39m\u001b[38;5;241m.\u001b[39m_lastKey \u001b[38;5;241m=\u001b[39m key\n\u001b[0;32m    400\u001b[0m \u001b[38;5;28;01mreturn\u001b[39;00m \u001b[38;5;28mself\u001b[39m\u001b[38;5;241m.\u001b[39mrenderer\n",
      "File \u001b[1;32m~\\anaconda3\\Lib\\site-packages\\matplotlib\\backends\\backend_agg.py:70\u001b[0m, in \u001b[0;36mRendererAgg.__init__\u001b[1;34m(self, width, height, dpi)\u001b[0m\n\u001b[0;32m     68\u001b[0m \u001b[38;5;28mself\u001b[39m\u001b[38;5;241m.\u001b[39mwidth \u001b[38;5;241m=\u001b[39m width\n\u001b[0;32m     69\u001b[0m \u001b[38;5;28mself\u001b[39m\u001b[38;5;241m.\u001b[39mheight \u001b[38;5;241m=\u001b[39m height\n\u001b[1;32m---> 70\u001b[0m \u001b[38;5;28mself\u001b[39m\u001b[38;5;241m.\u001b[39m_renderer \u001b[38;5;241m=\u001b[39m _RendererAgg(\u001b[38;5;28mint\u001b[39m(width), \u001b[38;5;28mint\u001b[39m(height), dpi)\n\u001b[0;32m     71\u001b[0m \u001b[38;5;28mself\u001b[39m\u001b[38;5;241m.\u001b[39m_filter_renderers \u001b[38;5;241m=\u001b[39m []\n\u001b[0;32m     73\u001b[0m \u001b[38;5;28mself\u001b[39m\u001b[38;5;241m.\u001b[39m_update_methods()\n",
      "\u001b[1;31mMemoryError\u001b[0m: In RendererAgg: Out of memory"
     ]
    },
    {
     "name": "stdout",
     "output_type": "stream",
     "text": [
      "Error in callback <function _draw_all_if_interactive at 0x000002100C67B6A0> (for post_execute), with arguments args (),kwargs {}:\n"
     ]
    },
    {
     "ename": "MemoryError",
     "evalue": "In RendererAgg: Out of memory",
     "output_type": "error",
     "traceback": [
      "\u001b[1;31m---------------------------------------------------------------------------\u001b[0m",
      "\u001b[1;31mMemoryError\u001b[0m                               Traceback (most recent call last)",
      "File \u001b[1;32m~\\anaconda3\\Lib\\site-packages\\matplotlib\\pyplot.py:197\u001b[0m, in \u001b[0;36m_draw_all_if_interactive\u001b[1;34m()\u001b[0m\n\u001b[0;32m    195\u001b[0m \u001b[38;5;28;01mdef\u001b[39;00m \u001b[38;5;21m_draw_all_if_interactive\u001b[39m() \u001b[38;5;241m-\u001b[39m\u001b[38;5;241m>\u001b[39m \u001b[38;5;28;01mNone\u001b[39;00m:\n\u001b[0;32m    196\u001b[0m     \u001b[38;5;28;01mif\u001b[39;00m matplotlib\u001b[38;5;241m.\u001b[39mis_interactive():\n\u001b[1;32m--> 197\u001b[0m         draw_all()\n",
      "File \u001b[1;32m~\\anaconda3\\Lib\\site-packages\\matplotlib\\_pylab_helpers.py:132\u001b[0m, in \u001b[0;36mGcf.draw_all\u001b[1;34m(cls, force)\u001b[0m\n\u001b[0;32m    130\u001b[0m \u001b[38;5;28;01mfor\u001b[39;00m manager \u001b[38;5;129;01min\u001b[39;00m \u001b[38;5;28mcls\u001b[39m\u001b[38;5;241m.\u001b[39mget_all_fig_managers():\n\u001b[0;32m    131\u001b[0m     \u001b[38;5;28;01mif\u001b[39;00m force \u001b[38;5;129;01mor\u001b[39;00m manager\u001b[38;5;241m.\u001b[39mcanvas\u001b[38;5;241m.\u001b[39mfigure\u001b[38;5;241m.\u001b[39mstale:\n\u001b[1;32m--> 132\u001b[0m         manager\u001b[38;5;241m.\u001b[39mcanvas\u001b[38;5;241m.\u001b[39mdraw_idle()\n",
      "File \u001b[1;32m~\\anaconda3\\Lib\\site-packages\\matplotlib\\backend_bases.py:1893\u001b[0m, in \u001b[0;36mFigureCanvasBase.draw_idle\u001b[1;34m(self, *args, **kwargs)\u001b[0m\n\u001b[0;32m   1891\u001b[0m \u001b[38;5;28;01mif\u001b[39;00m \u001b[38;5;129;01mnot\u001b[39;00m \u001b[38;5;28mself\u001b[39m\u001b[38;5;241m.\u001b[39m_is_idle_drawing:\n\u001b[0;32m   1892\u001b[0m     \u001b[38;5;28;01mwith\u001b[39;00m \u001b[38;5;28mself\u001b[39m\u001b[38;5;241m.\u001b[39m_idle_draw_cntx():\n\u001b[1;32m-> 1893\u001b[0m         \u001b[38;5;28mself\u001b[39m\u001b[38;5;241m.\u001b[39mdraw(\u001b[38;5;241m*\u001b[39margs, \u001b[38;5;241m*\u001b[39m\u001b[38;5;241m*\u001b[39mkwargs)\n",
      "File \u001b[1;32m~\\anaconda3\\Lib\\site-packages\\matplotlib\\backends\\backend_agg.py:383\u001b[0m, in \u001b[0;36mFigureCanvasAgg.draw\u001b[1;34m(self)\u001b[0m\n\u001b[0;32m    381\u001b[0m \u001b[38;5;28;01mdef\u001b[39;00m \u001b[38;5;21mdraw\u001b[39m(\u001b[38;5;28mself\u001b[39m):\n\u001b[0;32m    382\u001b[0m     \u001b[38;5;66;03m# docstring inherited\u001b[39;00m\n\u001b[1;32m--> 383\u001b[0m     \u001b[38;5;28mself\u001b[39m\u001b[38;5;241m.\u001b[39mrenderer \u001b[38;5;241m=\u001b[39m \u001b[38;5;28mself\u001b[39m\u001b[38;5;241m.\u001b[39mget_renderer()\n\u001b[0;32m    384\u001b[0m     \u001b[38;5;28mself\u001b[39m\u001b[38;5;241m.\u001b[39mrenderer\u001b[38;5;241m.\u001b[39mclear()\n\u001b[0;32m    385\u001b[0m     \u001b[38;5;66;03m# Acquire a lock on the shared font cache.\u001b[39;00m\n",
      "File \u001b[1;32m~\\anaconda3\\Lib\\site-packages\\matplotlib\\backends\\backend_agg.py:398\u001b[0m, in \u001b[0;36mFigureCanvasAgg.get_renderer\u001b[1;34m(self)\u001b[0m\n\u001b[0;32m    396\u001b[0m reuse_renderer \u001b[38;5;241m=\u001b[39m (\u001b[38;5;28mself\u001b[39m\u001b[38;5;241m.\u001b[39m_lastKey \u001b[38;5;241m==\u001b[39m key)\n\u001b[0;32m    397\u001b[0m \u001b[38;5;28;01mif\u001b[39;00m \u001b[38;5;129;01mnot\u001b[39;00m reuse_renderer:\n\u001b[1;32m--> 398\u001b[0m     \u001b[38;5;28mself\u001b[39m\u001b[38;5;241m.\u001b[39mrenderer \u001b[38;5;241m=\u001b[39m RendererAgg(w, h, \u001b[38;5;28mself\u001b[39m\u001b[38;5;241m.\u001b[39mfigure\u001b[38;5;241m.\u001b[39mdpi)\n\u001b[0;32m    399\u001b[0m     \u001b[38;5;28mself\u001b[39m\u001b[38;5;241m.\u001b[39m_lastKey \u001b[38;5;241m=\u001b[39m key\n\u001b[0;32m    400\u001b[0m \u001b[38;5;28;01mreturn\u001b[39;00m \u001b[38;5;28mself\u001b[39m\u001b[38;5;241m.\u001b[39mrenderer\n",
      "File \u001b[1;32m~\\anaconda3\\Lib\\site-packages\\matplotlib\\backends\\backend_agg.py:70\u001b[0m, in \u001b[0;36mRendererAgg.__init__\u001b[1;34m(self, width, height, dpi)\u001b[0m\n\u001b[0;32m     68\u001b[0m \u001b[38;5;28mself\u001b[39m\u001b[38;5;241m.\u001b[39mwidth \u001b[38;5;241m=\u001b[39m width\n\u001b[0;32m     69\u001b[0m \u001b[38;5;28mself\u001b[39m\u001b[38;5;241m.\u001b[39mheight \u001b[38;5;241m=\u001b[39m height\n\u001b[1;32m---> 70\u001b[0m \u001b[38;5;28mself\u001b[39m\u001b[38;5;241m.\u001b[39m_renderer \u001b[38;5;241m=\u001b[39m _RendererAgg(\u001b[38;5;28mint\u001b[39m(width), \u001b[38;5;28mint\u001b[39m(height), dpi)\n\u001b[0;32m     71\u001b[0m \u001b[38;5;28mself\u001b[39m\u001b[38;5;241m.\u001b[39m_filter_renderers \u001b[38;5;241m=\u001b[39m []\n\u001b[0;32m     73\u001b[0m \u001b[38;5;28mself\u001b[39m\u001b[38;5;241m.\u001b[39m_update_methods()\n",
      "\u001b[1;31mMemoryError\u001b[0m: In RendererAgg: Out of memory"
     ]
    },
    {
     "ename": "MemoryError",
     "evalue": "In RendererAgg: Out of memory",
     "output_type": "error",
     "traceback": [
      "\u001b[1;31m---------------------------------------------------------------------------\u001b[0m",
      "\u001b[1;31mMemoryError\u001b[0m                               Traceback (most recent call last)",
      "File \u001b[1;32m~\\anaconda3\\Lib\\site-packages\\IPython\\core\\formatters.py:340\u001b[0m, in \u001b[0;36mBaseFormatter.__call__\u001b[1;34m(self, obj)\u001b[0m\n\u001b[0;32m    338\u001b[0m     \u001b[38;5;28;01mpass\u001b[39;00m\n\u001b[0;32m    339\u001b[0m \u001b[38;5;28;01melse\u001b[39;00m:\n\u001b[1;32m--> 340\u001b[0m     \u001b[38;5;28;01mreturn\u001b[39;00m printer(obj)\n\u001b[0;32m    341\u001b[0m \u001b[38;5;66;03m# Finally look for special method names\u001b[39;00m\n\u001b[0;32m    342\u001b[0m method \u001b[38;5;241m=\u001b[39m get_real_method(obj, \u001b[38;5;28mself\u001b[39m\u001b[38;5;241m.\u001b[39mprint_method)\n",
      "File \u001b[1;32m~\\anaconda3\\Lib\\site-packages\\IPython\\core\\pylabtools.py:152\u001b[0m, in \u001b[0;36mprint_figure\u001b[1;34m(fig, fmt, bbox_inches, base64, **kwargs)\u001b[0m\n\u001b[0;32m    149\u001b[0m     \u001b[38;5;28;01mfrom\u001b[39;00m \u001b[38;5;21;01mmatplotlib\u001b[39;00m\u001b[38;5;21;01m.\u001b[39;00m\u001b[38;5;21;01mbackend_bases\u001b[39;00m \u001b[38;5;28;01mimport\u001b[39;00m FigureCanvasBase\n\u001b[0;32m    150\u001b[0m     FigureCanvasBase(fig)\n\u001b[1;32m--> 152\u001b[0m fig\u001b[38;5;241m.\u001b[39mcanvas\u001b[38;5;241m.\u001b[39mprint_figure(bytes_io, \u001b[38;5;241m*\u001b[39m\u001b[38;5;241m*\u001b[39mkw)\n\u001b[0;32m    153\u001b[0m data \u001b[38;5;241m=\u001b[39m bytes_io\u001b[38;5;241m.\u001b[39mgetvalue()\n\u001b[0;32m    154\u001b[0m \u001b[38;5;28;01mif\u001b[39;00m fmt \u001b[38;5;241m==\u001b[39m \u001b[38;5;124m'\u001b[39m\u001b[38;5;124msvg\u001b[39m\u001b[38;5;124m'\u001b[39m:\n",
      "File \u001b[1;32m~\\anaconda3\\Lib\\site-packages\\matplotlib\\backend_bases.py:2156\u001b[0m, in \u001b[0;36mFigureCanvasBase.print_figure\u001b[1;34m(self, filename, dpi, facecolor, edgecolor, orientation, format, bbox_inches, pad_inches, bbox_extra_artists, backend, **kwargs)\u001b[0m\n\u001b[0;32m   2151\u001b[0m layout_engine \u001b[38;5;241m=\u001b[39m \u001b[38;5;28mself\u001b[39m\u001b[38;5;241m.\u001b[39mfigure\u001b[38;5;241m.\u001b[39mget_layout_engine()\n\u001b[0;32m   2152\u001b[0m \u001b[38;5;28;01mif\u001b[39;00m layout_engine \u001b[38;5;129;01mis\u001b[39;00m \u001b[38;5;129;01mnot\u001b[39;00m \u001b[38;5;28;01mNone\u001b[39;00m \u001b[38;5;129;01mor\u001b[39;00m bbox_inches \u001b[38;5;241m==\u001b[39m \u001b[38;5;124m\"\u001b[39m\u001b[38;5;124mtight\u001b[39m\u001b[38;5;124m\"\u001b[39m:\n\u001b[0;32m   2153\u001b[0m     \u001b[38;5;66;03m# we need to trigger a draw before printing to make sure\u001b[39;00m\n\u001b[0;32m   2154\u001b[0m     \u001b[38;5;66;03m# CL works.  \"tight\" also needs a draw to get the right\u001b[39;00m\n\u001b[0;32m   2155\u001b[0m     \u001b[38;5;66;03m# locations:\u001b[39;00m\n\u001b[1;32m-> 2156\u001b[0m     renderer \u001b[38;5;241m=\u001b[39m _get_renderer(\n\u001b[0;32m   2157\u001b[0m         \u001b[38;5;28mself\u001b[39m\u001b[38;5;241m.\u001b[39mfigure,\n\u001b[0;32m   2158\u001b[0m         functools\u001b[38;5;241m.\u001b[39mpartial(\n\u001b[0;32m   2159\u001b[0m             print_method, orientation\u001b[38;5;241m=\u001b[39morientation)\n\u001b[0;32m   2160\u001b[0m     )\n\u001b[0;32m   2161\u001b[0m     \u001b[38;5;66;03m# we do this instead of `self.figure.draw_without_rendering`\u001b[39;00m\n\u001b[0;32m   2162\u001b[0m     \u001b[38;5;66;03m# so that we can inject the orientation\u001b[39;00m\n\u001b[0;32m   2163\u001b[0m     \u001b[38;5;28;01mwith\u001b[39;00m \u001b[38;5;28mgetattr\u001b[39m(renderer, \u001b[38;5;124m\"\u001b[39m\u001b[38;5;124m_draw_disabled\u001b[39m\u001b[38;5;124m\"\u001b[39m, nullcontext)():\n",
      "File \u001b[1;32m~\\anaconda3\\Lib\\site-packages\\matplotlib\\backend_bases.py:1642\u001b[0m, in \u001b[0;36m_get_renderer\u001b[1;34m(figure, print_method)\u001b[0m\n\u001b[0;32m   1639\u001b[0m     print_method \u001b[38;5;241m=\u001b[39m stack\u001b[38;5;241m.\u001b[39menter_context(\n\u001b[0;32m   1640\u001b[0m         figure\u001b[38;5;241m.\u001b[39mcanvas\u001b[38;5;241m.\u001b[39m_switch_canvas_and_return_print_method(fmt))\n\u001b[0;32m   1641\u001b[0m \u001b[38;5;28;01mtry\u001b[39;00m:\n\u001b[1;32m-> 1642\u001b[0m     print_method(io\u001b[38;5;241m.\u001b[39mBytesIO())\n\u001b[0;32m   1643\u001b[0m \u001b[38;5;28;01mexcept\u001b[39;00m Done \u001b[38;5;28;01mas\u001b[39;00m exc:\n\u001b[0;32m   1644\u001b[0m     renderer, \u001b[38;5;241m=\u001b[39m exc\u001b[38;5;241m.\u001b[39margs\n",
      "File \u001b[1;32m~\\anaconda3\\Lib\\site-packages\\matplotlib\\backend_bases.py:2043\u001b[0m, in \u001b[0;36mFigureCanvasBase._switch_canvas_and_return_print_method.<locals>.<lambda>\u001b[1;34m(*args, **kwargs)\u001b[0m\n\u001b[0;32m   2039\u001b[0m     optional_kws \u001b[38;5;241m=\u001b[39m {  \u001b[38;5;66;03m# Passed by print_figure for other renderers.\u001b[39;00m\n\u001b[0;32m   2040\u001b[0m         \u001b[38;5;124m\"\u001b[39m\u001b[38;5;124mdpi\u001b[39m\u001b[38;5;124m\"\u001b[39m, \u001b[38;5;124m\"\u001b[39m\u001b[38;5;124mfacecolor\u001b[39m\u001b[38;5;124m\"\u001b[39m, \u001b[38;5;124m\"\u001b[39m\u001b[38;5;124medgecolor\u001b[39m\u001b[38;5;124m\"\u001b[39m, \u001b[38;5;124m\"\u001b[39m\u001b[38;5;124morientation\u001b[39m\u001b[38;5;124m\"\u001b[39m,\n\u001b[0;32m   2041\u001b[0m         \u001b[38;5;124m\"\u001b[39m\u001b[38;5;124mbbox_inches_restore\u001b[39m\u001b[38;5;124m\"\u001b[39m}\n\u001b[0;32m   2042\u001b[0m     skip \u001b[38;5;241m=\u001b[39m optional_kws \u001b[38;5;241m-\u001b[39m {\u001b[38;5;241m*\u001b[39minspect\u001b[38;5;241m.\u001b[39msignature(meth)\u001b[38;5;241m.\u001b[39mparameters}\n\u001b[1;32m-> 2043\u001b[0m     print_method \u001b[38;5;241m=\u001b[39m functools\u001b[38;5;241m.\u001b[39mwraps(meth)(\u001b[38;5;28;01mlambda\u001b[39;00m \u001b[38;5;241m*\u001b[39margs, \u001b[38;5;241m*\u001b[39m\u001b[38;5;241m*\u001b[39mkwargs: meth(\n\u001b[0;32m   2044\u001b[0m         \u001b[38;5;241m*\u001b[39margs, \u001b[38;5;241m*\u001b[39m\u001b[38;5;241m*\u001b[39m{k: v \u001b[38;5;28;01mfor\u001b[39;00m k, v \u001b[38;5;129;01min\u001b[39;00m kwargs\u001b[38;5;241m.\u001b[39mitems() \u001b[38;5;28;01mif\u001b[39;00m k \u001b[38;5;129;01mnot\u001b[39;00m \u001b[38;5;129;01min\u001b[39;00m skip}))\n\u001b[0;32m   2045\u001b[0m \u001b[38;5;28;01melse\u001b[39;00m:  \u001b[38;5;66;03m# Let third-parties do as they see fit.\u001b[39;00m\n\u001b[0;32m   2046\u001b[0m     print_method \u001b[38;5;241m=\u001b[39m meth\n",
      "File \u001b[1;32m~\\anaconda3\\Lib\\site-packages\\matplotlib\\backends\\backend_agg.py:497\u001b[0m, in \u001b[0;36mFigureCanvasAgg.print_png\u001b[1;34m(self, filename_or_obj, metadata, pil_kwargs)\u001b[0m\n\u001b[0;32m    450\u001b[0m \u001b[38;5;28;01mdef\u001b[39;00m \u001b[38;5;21mprint_png\u001b[39m(\u001b[38;5;28mself\u001b[39m, filename_or_obj, \u001b[38;5;241m*\u001b[39m, metadata\u001b[38;5;241m=\u001b[39m\u001b[38;5;28;01mNone\u001b[39;00m, pil_kwargs\u001b[38;5;241m=\u001b[39m\u001b[38;5;28;01mNone\u001b[39;00m):\n\u001b[0;32m    451\u001b[0m \u001b[38;5;250m    \u001b[39m\u001b[38;5;124;03m\"\"\"\u001b[39;00m\n\u001b[0;32m    452\u001b[0m \u001b[38;5;124;03m    Write the figure to a PNG file.\u001b[39;00m\n\u001b[0;32m    453\u001b[0m \n\u001b[1;32m   (...)\u001b[0m\n\u001b[0;32m    495\u001b[0m \u001b[38;5;124;03m        *metadata*, including the default 'Software' key.\u001b[39;00m\n\u001b[0;32m    496\u001b[0m \u001b[38;5;124;03m    \"\"\"\u001b[39;00m\n\u001b[1;32m--> 497\u001b[0m     \u001b[38;5;28mself\u001b[39m\u001b[38;5;241m.\u001b[39m_print_pil(filename_or_obj, \u001b[38;5;124m\"\u001b[39m\u001b[38;5;124mpng\u001b[39m\u001b[38;5;124m\"\u001b[39m, pil_kwargs, metadata)\n",
      "File \u001b[1;32m~\\anaconda3\\Lib\\site-packages\\matplotlib\\backends\\backend_agg.py:445\u001b[0m, in \u001b[0;36mFigureCanvasAgg._print_pil\u001b[1;34m(self, filename_or_obj, fmt, pil_kwargs, metadata)\u001b[0m\n\u001b[0;32m    440\u001b[0m \u001b[38;5;28;01mdef\u001b[39;00m \u001b[38;5;21m_print_pil\u001b[39m(\u001b[38;5;28mself\u001b[39m, filename_or_obj, fmt, pil_kwargs, metadata\u001b[38;5;241m=\u001b[39m\u001b[38;5;28;01mNone\u001b[39;00m):\n\u001b[0;32m    441\u001b[0m \u001b[38;5;250m    \u001b[39m\u001b[38;5;124;03m\"\"\"\u001b[39;00m\n\u001b[0;32m    442\u001b[0m \u001b[38;5;124;03m    Draw the canvas, then save it using `.image.imsave` (to which\u001b[39;00m\n\u001b[0;32m    443\u001b[0m \u001b[38;5;124;03m    *pil_kwargs* and *metadata* are forwarded).\u001b[39;00m\n\u001b[0;32m    444\u001b[0m \u001b[38;5;124;03m    \"\"\"\u001b[39;00m\n\u001b[1;32m--> 445\u001b[0m     FigureCanvasAgg\u001b[38;5;241m.\u001b[39mdraw(\u001b[38;5;28mself\u001b[39m)\n\u001b[0;32m    446\u001b[0m     mpl\u001b[38;5;241m.\u001b[39mimage\u001b[38;5;241m.\u001b[39mimsave(\n\u001b[0;32m    447\u001b[0m         filename_or_obj, \u001b[38;5;28mself\u001b[39m\u001b[38;5;241m.\u001b[39mbuffer_rgba(), \u001b[38;5;28mformat\u001b[39m\u001b[38;5;241m=\u001b[39mfmt, origin\u001b[38;5;241m=\u001b[39m\u001b[38;5;124m\"\u001b[39m\u001b[38;5;124mupper\u001b[39m\u001b[38;5;124m\"\u001b[39m,\n\u001b[0;32m    448\u001b[0m         dpi\u001b[38;5;241m=\u001b[39m\u001b[38;5;28mself\u001b[39m\u001b[38;5;241m.\u001b[39mfigure\u001b[38;5;241m.\u001b[39mdpi, metadata\u001b[38;5;241m=\u001b[39mmetadata, pil_kwargs\u001b[38;5;241m=\u001b[39mpil_kwargs)\n",
      "File \u001b[1;32m~\\anaconda3\\Lib\\site-packages\\matplotlib\\backends\\backend_agg.py:383\u001b[0m, in \u001b[0;36mFigureCanvasAgg.draw\u001b[1;34m(self)\u001b[0m\n\u001b[0;32m    381\u001b[0m \u001b[38;5;28;01mdef\u001b[39;00m \u001b[38;5;21mdraw\u001b[39m(\u001b[38;5;28mself\u001b[39m):\n\u001b[0;32m    382\u001b[0m     \u001b[38;5;66;03m# docstring inherited\u001b[39;00m\n\u001b[1;32m--> 383\u001b[0m     \u001b[38;5;28mself\u001b[39m\u001b[38;5;241m.\u001b[39mrenderer \u001b[38;5;241m=\u001b[39m \u001b[38;5;28mself\u001b[39m\u001b[38;5;241m.\u001b[39mget_renderer()\n\u001b[0;32m    384\u001b[0m     \u001b[38;5;28mself\u001b[39m\u001b[38;5;241m.\u001b[39mrenderer\u001b[38;5;241m.\u001b[39mclear()\n\u001b[0;32m    385\u001b[0m     \u001b[38;5;66;03m# Acquire a lock on the shared font cache.\u001b[39;00m\n",
      "File \u001b[1;32m~\\anaconda3\\Lib\\site-packages\\matplotlib\\backends\\backend_agg.py:398\u001b[0m, in \u001b[0;36mFigureCanvasAgg.get_renderer\u001b[1;34m(self)\u001b[0m\n\u001b[0;32m    396\u001b[0m reuse_renderer \u001b[38;5;241m=\u001b[39m (\u001b[38;5;28mself\u001b[39m\u001b[38;5;241m.\u001b[39m_lastKey \u001b[38;5;241m==\u001b[39m key)\n\u001b[0;32m    397\u001b[0m \u001b[38;5;28;01mif\u001b[39;00m \u001b[38;5;129;01mnot\u001b[39;00m reuse_renderer:\n\u001b[1;32m--> 398\u001b[0m     \u001b[38;5;28mself\u001b[39m\u001b[38;5;241m.\u001b[39mrenderer \u001b[38;5;241m=\u001b[39m RendererAgg(w, h, \u001b[38;5;28mself\u001b[39m\u001b[38;5;241m.\u001b[39mfigure\u001b[38;5;241m.\u001b[39mdpi)\n\u001b[0;32m    399\u001b[0m     \u001b[38;5;28mself\u001b[39m\u001b[38;5;241m.\u001b[39m_lastKey \u001b[38;5;241m=\u001b[39m key\n\u001b[0;32m    400\u001b[0m \u001b[38;5;28;01mreturn\u001b[39;00m \u001b[38;5;28mself\u001b[39m\u001b[38;5;241m.\u001b[39mrenderer\n",
      "File \u001b[1;32m~\\anaconda3\\Lib\\site-packages\\matplotlib\\backends\\backend_agg.py:70\u001b[0m, in \u001b[0;36mRendererAgg.__init__\u001b[1;34m(self, width, height, dpi)\u001b[0m\n\u001b[0;32m     68\u001b[0m \u001b[38;5;28mself\u001b[39m\u001b[38;5;241m.\u001b[39mwidth \u001b[38;5;241m=\u001b[39m width\n\u001b[0;32m     69\u001b[0m \u001b[38;5;28mself\u001b[39m\u001b[38;5;241m.\u001b[39mheight \u001b[38;5;241m=\u001b[39m height\n\u001b[1;32m---> 70\u001b[0m \u001b[38;5;28mself\u001b[39m\u001b[38;5;241m.\u001b[39m_renderer \u001b[38;5;241m=\u001b[39m _RendererAgg(\u001b[38;5;28mint\u001b[39m(width), \u001b[38;5;28mint\u001b[39m(height), dpi)\n\u001b[0;32m     71\u001b[0m \u001b[38;5;28mself\u001b[39m\u001b[38;5;241m.\u001b[39m_filter_renderers \u001b[38;5;241m=\u001b[39m []\n\u001b[0;32m     73\u001b[0m \u001b[38;5;28mself\u001b[39m\u001b[38;5;241m.\u001b[39m_update_methods()\n",
      "\u001b[1;31mMemoryError\u001b[0m: In RendererAgg: Out of memory"
     ]
    },
    {
     "data": {
      "text/plain": [
       "<Figure size 30000x30000 with 1 Axes>"
      ]
     },
     "metadata": {},
     "output_type": "display_data"
    }
   ],
   "source": [
    "#plot the baseline graph\n",
    "plot_graph(G = MEN_Graph, file_path='01_00_mention_network', plot_size='large')"
   ]
  },
  {
   "cell_type": "code",
   "execution_count": 39,
   "id": "d99aa0c1-9b5c-4c88-ad4f-3719f696bf29",
   "metadata": {},
   "outputs": [],
   "source": [
    "#plot the graph\n",
    "plot_graph(G = MEN_Graph_bridge_3, file_path='02_01_mention_network_bridge_all_3', plot_size='small')\n",
    "\n",
    "#plot the graph\n",
    "plot_graph(G = MEN_Graph_bridge_na, file_path='02_02_mention_network_bridge_nike_adidas', plot_size='small')\n",
    "\n",
    "#plot the graph\n",
    "plot_graph(G = MEN_Graph_bridge_nl, file_path='02_03_mention_network_bridge_nike_lululemon', plot_size='small')\n",
    "\n",
    "#plot the graph\n",
    "plot_graph(G = MEN_Graph_bridge_al, file_path='02_04_mention_network_bridge_adidas_lululemon', plot_size='small')\n",
    "     "
   ]
  },
  {
   "cell_type": "code",
   "execution_count": 40,
   "id": "bfc24e94-7380-4ad8-aac4-7b71edc0c470",
   "metadata": {},
   "outputs": [],
   "source": [
    "#plot the exclusive node graph\n",
    "plot_graph(G = MEN_Graph_exc, file_path='03_01_mention_network_exclusive', plot_size='medium')\n",
    "\n",
    "#plot the graph\n",
    "plot_graph(G = MEN_Graph_exc_n, file_path='03_02_mention_network_exclusive_to_nike', plot_size='small')\n",
    "\n",
    "#plot the graph\n",
    "plot_graph(G = MEN_Graph_exc_a, file_path='03_03_mention_network_exclusive_to_adidas', plot_size='small')\n",
    "\n",
    "#plot the graph\n",
    "plot_graph(G = MEN_Graph_exc_l, file_path='03_04_mention_network_exclusive_to_lulu', plot_size='small')"
   ]
  },
  {
   "cell_type": "markdown",
   "id": "2fa9a8d5-199d-49bf-b7ba-b7761d37a10b",
   "metadata": {},
   "source": [
    "# Create a Semantic Network"
   ]
  },
  {
   "cell_type": "code",
   "execution_count": null,
   "id": "b8c4c1e1-bb2f-4148-b91b-616c08749bb5",
   "metadata": {},
   "outputs": [],
   "source": []
  }
 ],
 "metadata": {
  "kernelspec": {
   "display_name": "marketing-network",
   "language": "python",
   "name": "marketing-network"
  },
  "language_info": {
   "codemirror_mode": {
    "name": "ipython",
    "version": 3
   },
   "file_extension": ".py",
   "mimetype": "text/x-python",
   "name": "python",
   "nbconvert_exporter": "python",
   "pygments_lexer": "ipython3",
   "version": "3.11.7"
  }
 },
 "nbformat": 4,
 "nbformat_minor": 5
}
